{
 "cells": [
  {
   "cell_type": "markdown",
   "metadata": {},
   "source": [
    "# <center> <ins> Amazon Reviews"
   ]
  },
  {
   "cell_type": "markdown",
   "metadata": {},
   "source": [
    "- Google Colab - https://colab.research.google.com/drive/1pfooETyM4ZQ8d6tdPM7nHG1Pm0lb5x1W?usp=sharing\n",
    "- Github Link (For models and training scripts) - https://github.com/xzodia1000/text-analysis"
   ]
  },
  {
   "cell_type": "markdown",
   "metadata": {},
   "source": [
    "## Importing necessary libraries"
   ]
  },
  {
   "cell_type": "code",
   "execution_count": 1,
   "metadata": {},
   "outputs": [
    {
     "name": "stderr",
     "output_type": "stream",
     "text": [
      "2024-04-02 00:10:52.878620: I tensorflow/core/util/port.cc:113] oneDNN custom operations are on. You may see slightly different numerical results due to floating-point round-off errors from different computation orders. To turn them off, set the environment variable `TF_ENABLE_ONEDNN_OPTS=0`.\n",
      "2024-04-02 00:10:53.258221: E external/local_xla/xla/stream_executor/cuda/cuda_dnn.cc:9261] Unable to register cuDNN factory: Attempting to register factory for plugin cuDNN when one has already been registered\n",
      "2024-04-02 00:10:53.258273: E external/local_xla/xla/stream_executor/cuda/cuda_fft.cc:607] Unable to register cuFFT factory: Attempting to register factory for plugin cuFFT when one has already been registered\n",
      "2024-04-02 00:10:53.345946: E external/local_xla/xla/stream_executor/cuda/cuda_blas.cc:1515] Unable to register cuBLAS factory: Attempting to register factory for plugin cuBLAS when one has already been registered\n",
      "2024-04-02 00:10:53.495092: I tensorflow/core/platform/cpu_feature_guard.cc:182] This TensorFlow binary is optimized to use available CPU instructions in performance-critical operations.\n",
      "To enable the following instructions: AVX2 AVX_VNNI FMA, in other operations, rebuild TensorFlow with the appropriate compiler flags.\n",
      "2024-04-02 00:10:55.008215: W tensorflow/compiler/tf2tensorrt/utils/py_utils.cc:38] TF-TRT Warning: Could not find TensorRT\n",
      "/home/xzodia/anaconda3/envs/tf-text/lib/python3.11/site-packages/tqdm/auto.py:21: TqdmWarning: IProgress not found. Please update jupyter and ipywidgets. See https://ipywidgets.readthedocs.io/en/stable/user_install.html\n",
      "  from .autonotebook import tqdm as notebook_tqdm\n"
     ]
    }
   ],
   "source": [
    "import re\n",
    "import string\n",
    "import contractions\n",
    "import gensim\n",
    "import warnings\n",
    "import pickle\n",
    "import pandas as pd\n",
    "import numpy as np\n",
    "from tqdm import tqdm\n",
    "from gensim.models import Word2Vec\n",
    "\n",
    "import matplotlib.pyplot as plt\n",
    "import seaborn as sns\n",
    "\n",
    "import nltk\n",
    "from nltk.tokenize import word_tokenize\n",
    "from nltk.corpus import stopwords\n",
    "from nltk import pos_tag\n",
    "from nltk.corpus import wordnet\n",
    "from nltk.stem import WordNetLemmatizer\n",
    "\n",
    "from scipy.stats import expon, reciprocal\n",
    "from scipy.sparse import save_npz, load_npz\n",
    "\n",
    "from sklearn.svm import SVC\n",
    "from sklearn.ensemble import RandomForestClassifier\n",
    "from sklearn.model_selection import train_test_split\n",
    "from sklearn.model_selection import RandomizedSearchCV\n",
    "from sklearn.metrics import classification_report, confusion_matrix, accuracy_score\n",
    "from sklearn.feature_extraction.text import TfidfVectorizer\n",
    "from sklearn.feature_extraction.text import CountVectorizer\n",
    "from sklearn.utils.class_weight import compute_class_weight\n",
    "from sklearn.exceptions import ConvergenceWarning\n",
    "\n",
    "import tensorflow as tf\n",
    "from tensorflow.keras.models import Sequential\n",
    "from tensorflow.keras.layers import (\n",
    "    Dense,\n",
    "    Embedding,\n",
    "    LSTM,\n",
    "    SpatialDropout1D,\n",
    "    BatchNormalization,\n",
    "    Dropout,\n",
    ")\n",
    "from tensorflow.keras.optimizers import Adam\n",
    "from tensorflow.keras.utils import to_categorical\n",
    "from tensorflow.keras.preprocessing.text import Tokenizer\n",
    "from tensorflow.keras.preprocessing.sequence import pad_sequences\n",
    "from tensorflow.keras.regularizers import l2\n",
    "\n",
    "import torch\n",
    "from torch.utils.data import DataLoader, TensorDataset\n",
    "from torch.optim import AdamW\n",
    "from torch.nn import CrossEntropyLoss\n",
    "from torch.utils.data import Dataset\n",
    "\n",
    "\n",
    "from transformers import (\n",
    "    RobertaTokenizer,\n",
    "    RobertaForSequenceClassification,\n",
    "    DistilBertTokenizer,\n",
    "    DistilBertForSequenceClassification,\n",
    "    BertTokenizer,\n",
    "    BertForSequenceClassification,\n",
    "    Trainer,\n",
    "    TrainingArguments,\n",
    ")\n",
    "\n",
    "# from spellchecker import SpellChecker"
   ]
  },
  {
   "cell_type": "code",
   "execution_count": 2,
   "metadata": {},
   "outputs": [
    {
     "name": "stderr",
     "output_type": "stream",
     "text": [
      "[nltk_data] Downloading package wordnet to /home/xzodia/nltk_data...\n",
      "[nltk_data]   Package wordnet is already up-to-date!\n",
      "[nltk_data] Downloading package stopwords to /home/xzodia/nltk_data...\n",
      "[nltk_data]   Package stopwords is already up-to-date!\n",
      "[nltk_data] Downloading package punkt to /home/xzodia/nltk_data...\n",
      "[nltk_data]   Package punkt is already up-to-date!\n"
     ]
    },
    {
     "data": {
      "text/plain": [
       "True"
      ]
     },
     "execution_count": 2,
     "metadata": {},
     "output_type": "execute_result"
    }
   ],
   "source": [
    "# pandas with tqdm\n",
    "tqdm.pandas()\n",
    "\n",
    "nltk.download(\"wordnet\")\n",
    "\n",
    "nltk.download(\"stopwords\")\n",
    "\n",
    "nltk.download('punkt')\n",
    "\n",
    "#! warnings.filterwarnings(\"ignore\", category=ConvergenceWarning)"
   ]
  },
  {
   "cell_type": "markdown",
   "metadata": {},
   "source": [
    "## Loading the data "
   ]
  },
  {
   "cell_type": "code",
   "execution_count": 3,
   "metadata": {},
   "outputs": [],
   "source": [
    "train = pd.read_csv('data/train.csv')\n",
    "test = pd.read_csv('data/test.csv')"
   ]
  },
  {
   "cell_type": "code",
   "execution_count": 6,
   "metadata": {},
   "outputs": [
    {
     "name": "stdout",
     "output_type": "stream",
     "text": [
      "shape of testing data: (123622, 2)\n"
     ]
    }
   ],
   "source": [
    "print(f\"shape of testing data: {test.shape}\")"
   ]
  },
  {
   "cell_type": "code",
   "execution_count": 4,
   "metadata": {},
   "outputs": [
    {
     "name": "stdout",
     "output_type": "stream",
     "text": [
      "shape of training data: (370863, 2)\n"
     ]
    },
    {
     "data": {
      "text/html": [
       "<div>\n",
       "<style scoped>\n",
       "    .dataframe tbody tr th:only-of-type {\n",
       "        vertical-align: middle;\n",
       "    }\n",
       "\n",
       "    .dataframe tbody tr th {\n",
       "        vertical-align: top;\n",
       "    }\n",
       "\n",
       "    .dataframe thead th {\n",
       "        text-align: right;\n",
       "    }\n",
       "</style>\n",
       "<table border=\"1\" class=\"dataframe\">\n",
       "  <thead>\n",
       "    <tr style=\"text-align: right;\">\n",
       "      <th></th>\n",
       "      <th>Review</th>\n",
       "      <th>overall</th>\n",
       "    </tr>\n",
       "  </thead>\n",
       "  <tbody>\n",
       "    <tr>\n",
       "      <th>0</th>\n",
       "      <td>I love these glitter pens. They sparkle deligh...</td>\n",
       "      <td>5</td>\n",
       "    </tr>\n",
       "    <tr>\n",
       "      <th>1</th>\n",
       "      <td>It works well with my machine.  I use mostly c...</td>\n",
       "      <td>5</td>\n",
       "    </tr>\n",
       "    <tr>\n",
       "      <th>2</th>\n",
       "      <td>This is a great assortment of colors, though t...</td>\n",
       "      <td>5</td>\n",
       "    </tr>\n",
       "    <tr>\n",
       "      <th>3</th>\n",
       "      <td>Just what I was looking for.</td>\n",
       "      <td>5</td>\n",
       "    </tr>\n",
       "    <tr>\n",
       "      <th>4</th>\n",
       "      <td>I make 400 birds for the hospital each month.</td>\n",
       "      <td>5</td>\n",
       "    </tr>\n",
       "  </tbody>\n",
       "</table>\n",
       "</div>"
      ],
      "text/plain": [
       "                                              Review  overall\n",
       "0  I love these glitter pens. They sparkle deligh...        5\n",
       "1  It works well with my machine.  I use mostly c...        5\n",
       "2  This is a great assortment of colors, though t...        5\n",
       "3                       Just what I was looking for.        5\n",
       "4      I make 400 birds for the hospital each month.        5"
      ]
     },
     "execution_count": 4,
     "metadata": {},
     "output_type": "execute_result"
    }
   ],
   "source": [
    "train = train[['Review', 'overall']]\n",
    "print(f\"shape of training data: {train.shape}\")\n",
    "train.head()"
   ]
  },
  {
   "cell_type": "markdown",
   "metadata": {},
   "source": [
    "---"
   ]
  },
  {
   "cell_type": "markdown",
   "metadata": {},
   "source": [
    "## <ins>Exploratory Data Analysis"
   ]
  },
  {
   "cell_type": "markdown",
   "metadata": {},
   "source": [
    "### 1) <ins> Missing Values"
   ]
  },
  {
   "cell_type": "code",
   "execution_count": 18,
   "metadata": {},
   "outputs": [
    {
     "name": "stdout",
     "output_type": "stream",
     "text": [
      "missing values in Review column of training data: 8\n",
      "missing values in overall column of training data: 0\n"
     ]
    }
   ],
   "source": [
    "# check for missing values\n",
    "print(f\"missing values in Review column of training data: {train['Review'].isnull().sum()}\")\n",
    "print(f\"missing values in overall column of training data: {train['overall'].isnull().sum()}\")"
   ]
  },
  {
   "cell_type": "markdown",
   "metadata": {},
   "source": [
    "#### We have 8 rows in the training dataset with empty reviews, we will remove them."
   ]
  },
  {
   "cell_type": "code",
   "execution_count": 5,
   "metadata": {},
   "outputs": [
    {
     "name": "stdout",
     "output_type": "stream",
     "text": [
      "shape of training data after removing missing reviews: (370855, 2)\n"
     ]
    }
   ],
   "source": [
    "# remove the rows with missing reviews\n",
    "train = train.dropna(subset=['Review'])\n",
    "print(f\"shape of training data after removing missing reviews: {train.shape}\")"
   ]
  },
  {
   "cell_type": "markdown",
   "metadata": {},
   "source": [
    "### 2) <ins> Distribution of Ratings"
   ]
  },
  {
   "cell_type": "code",
   "execution_count": 22,
   "metadata": {},
   "outputs": [
    {
     "data": {
      "text/html": [
       "<div>\n",
       "<style scoped>\n",
       "    .dataframe tbody tr th:only-of-type {\n",
       "        vertical-align: middle;\n",
       "    }\n",
       "\n",
       "    .dataframe tbody tr th {\n",
       "        vertical-align: top;\n",
       "    }\n",
       "\n",
       "    .dataframe thead th {\n",
       "        text-align: right;\n",
       "    }\n",
       "</style>\n",
       "<table border=\"1\" class=\"dataframe\">\n",
       "  <thead>\n",
       "    <tr style=\"text-align: right;\">\n",
       "      <th></th>\n",
       "      <th>Rating</th>\n",
       "      <th>Number of Reviews</th>\n",
       "    </tr>\n",
       "  </thead>\n",
       "  <tbody>\n",
       "    <tr>\n",
       "      <th>0</th>\n",
       "      <td>1</td>\n",
       "      <td>10772</td>\n",
       "    </tr>\n",
       "    <tr>\n",
       "      <th>1</th>\n",
       "      <td>2</td>\n",
       "      <td>9624</td>\n",
       "    </tr>\n",
       "    <tr>\n",
       "      <th>2</th>\n",
       "      <td>3</td>\n",
       "      <td>21470</td>\n",
       "    </tr>\n",
       "    <tr>\n",
       "      <th>3</th>\n",
       "      <td>4</td>\n",
       "      <td>45831</td>\n",
       "    </tr>\n",
       "    <tr>\n",
       "      <th>4</th>\n",
       "      <td>5</td>\n",
       "      <td>283158</td>\n",
       "    </tr>\n",
       "  </tbody>\n",
       "</table>\n",
       "</div>"
      ],
      "text/plain": [
       "   Rating  Number of Reviews\n",
       "0       1              10772\n",
       "1       2               9624\n",
       "2       3              21470\n",
       "3       4              45831\n",
       "4       5             283158"
      ]
     },
     "execution_count": 22,
     "metadata": {},
     "output_type": "execute_result"
    }
   ],
   "source": [
    "# Table for the number of reviews for each rating\n",
    "rating_counts = train['overall'].value_counts().sort_index()\n",
    "rating_counts = pd.DataFrame(rating_counts).reset_index()\n",
    "rating_counts.columns = ['Rating', 'Number of Reviews']\n",
    "rating_counts"
   ]
  },
  {
   "cell_type": "markdown",
   "metadata": {},
   "source": [
    "- ### Bar plot of the distribution of ratings"
   ]
  },
  {
   "cell_type": "code",
   "execution_count": 10,
   "metadata": {},
   "outputs": [
    {
     "name": "stderr",
     "output_type": "stream",
     "text": [
      "c:\\Users\\dhruv\\anaconda3\\envs\\TF\\lib\\site-packages\\seaborn\\_oldcore.py:1498: FutureWarning: is_categorical_dtype is deprecated and will be removed in a future version. Use isinstance(dtype, CategoricalDtype) instead\n",
      "  if pd.api.types.is_categorical_dtype(vector):\n",
      "c:\\Users\\dhruv\\anaconda3\\envs\\TF\\lib\\site-packages\\seaborn\\_oldcore.py:1498: FutureWarning: is_categorical_dtype is deprecated and will be removed in a future version. Use isinstance(dtype, CategoricalDtype) instead\n",
      "  if pd.api.types.is_categorical_dtype(vector):\n",
      "c:\\Users\\dhruv\\anaconda3\\envs\\TF\\lib\\site-packages\\seaborn\\_oldcore.py:1498: FutureWarning: is_categorical_dtype is deprecated and will be removed in a future version. Use isinstance(dtype, CategoricalDtype) instead\n",
      "  if pd.api.types.is_categorical_dtype(vector):\n"
     ]
    },
    {
     "data": {
      "image/png": "[encoded data removed]",
      "text/plain": [
       "<Figure size 1000x600 with 1 Axes>"
      ]
     },
     "metadata": {},
     "output_type": "display_data"
    }
   ],
   "source": [
    "# plot the number of ratings for each rating\n",
    "number = train['overall'].value_counts()\n",
    "\n",
    "plt.figure(figsize=(10, 6))\n",
    "sns.barplot(x=number.index, y=number.values, alpha=0.8)\n",
    "plt.title('Distribution of Ratings in the training data', fontsize=15)  \n",
    "plt.ylabel('Number of ratings', fontsize=12)\n",
    "plt.xlabel('Rating', fontsize=12)\n",
    "plt.show()"
   ]
  },
  {
   "cell_type": "markdown",
   "metadata": {},
   "source": [
    "- ### Pie chart of the percentage distribution of ratings"
   ]
  },
  {
   "cell_type": "code",
   "execution_count": 11,
   "metadata": {},
   "outputs": [
    {
     "data": {
      "image/png": "[encoded data removed]",
      "text/plain": [
       "<Figure size 700x700 with 1 Axes>"
      ]
     },
     "metadata": {},
     "output_type": "display_data"
    }
   ],
   "source": [
    "# pie chart\n",
    "colors = ['gold', 'yellowgreen', 'lightcoral', 'lightskyblue', 'lightgreen']\n",
    "explode = (0.1, 0.1, 0.1, 0.1, 0.1)\n",
    "\n",
    "plt.figure(figsize=(7, 7))\n",
    "plt.pie(number.values, explode=explode, labels=number.index, colors=colors, autopct='%1.1f%%', shadow=True, startangle=140)\n",
    "plt.title('Distribution of Ratings in the training data', fontsize=15)\n",
    "plt.axis('equal')\n",
    "plt.show()"
   ]
  },
  {
   "cell_type": "markdown",
   "metadata": {},
   "source": [
    "#### Based on the above plot, we can see that the data is heavily imbalanced. The 5 star reviews comprise of 76.4% of the entire training data. To deal with this, we will use a <ins>weighted loss function proportional to the class imbalance</ins>, so that the model can learn from the minority classes as well."
   ]
  },
  {
   "cell_type": "code",
   "execution_count": 15,
   "metadata": {},
   "outputs": [
    {
     "data": {
      "image/png": "[encoded data removed]",
      "text/plain": [
       "<Figure size 700x700 with 1 Axes>"
      ]
     },
     "metadata": {},
     "output_type": "display_data"
    }
   ],
   "source": [
    "# Pie chart for rating distribution Without 5 star rating\n",
    "colors = ['gold', 'yellowgreen', 'lightcoral', 'lightskyblue']\n",
    "explode = (0.1, 0.1, 0.1, 0.1)\n",
    "\n",
    "plt.figure(figsize=(7, 7))\n",
    "plt.pie(number.values[1:], explode=explode, labels=number.index[1:], colors=colors, autopct='%1.1f%%', shadow=True, startangle=140)\n",
    "plt.title('Distribution of Minority Classes in the training data', fontsize=15)\n",
    "plt.axis('equal')\n",
    "plt.show()"
   ]
  },
  {
   "cell_type": "markdown",
   "metadata": {},
   "source": [
    "### 3) <ins> Checking if data is shuffled"
   ]
  },
  {
   "cell_type": "code",
   "execution_count": 52,
   "metadata": {},
   "outputs": [
    {
     "data": {
      "text/plain": [
       "overall\n",
       "5    7691\n",
       "4    1208\n",
       "3     570\n",
       "1     270\n",
       "2     261\n",
       "Name: count, dtype: int64"
      ]
     },
     "execution_count": 52,
     "metadata": {},
     "output_type": "execute_result"
    }
   ],
   "source": [
    "# number of unique ratings in first 10,000 reviews\n",
    "train['overall'][:10000].value_counts()"
   ]
  },
  {
   "cell_type": "markdown",
   "metadata": {},
   "source": [
    "#### As we have different labels in the first 10,000 rows, we can conclude that the data is shuffled."
   ]
  },
  {
   "cell_type": "markdown",
   "metadata": {},
   "source": [
    "---"
   ]
  },
  {
   "cell_type": "markdown",
   "metadata": {},
   "source": [
    "## <ins>Text Processing and Normalization"
   ]
  },
  {
   "cell_type": "markdown",
   "metadata": {},
   "source": [
    "### 1) <ins> Text Processing Class"
   ]
  },
  {
   "cell_type": "code",
   "execution_count": 6,
   "metadata": {},
   "outputs": [],
   "source": [
    "class TextPreprocessor:\n",
    "    def __init__(self):\n",
    "        self.lemmatizer = WordNetLemmatizer()\n",
    "        self.punctuations = str.maketrans(string.punctuation, ' ' * len(string.punctuation))\n",
    "        # self.spell = SpellChecker()\n",
    "\n",
    "    def lowercase(self, text):\n",
    "        return text.lower()\n",
    "    \n",
    "    def remove_punctuation(self, text):\n",
    "        return text.translate(self.punctuations)\n",
    "    \n",
    "    def tokenize(self, text):\n",
    "        return word_tokenize(text)\n",
    "\n",
    "    def remove_stop_words(self, tokens):\n",
    "        stop_words = set(stopwords.words(\"english\"))\n",
    "        return [word for word in tokens if word not in stop_words]\n",
    "    \n",
    "    def remove_numbers(self, tokens):\n",
    "        return [word for word in tokens if not word.isdigit()]\n",
    "    \n",
    "    def POS_tagging(self, tokens):\n",
    "        return pos_tag(tokens)\n",
    "    \n",
    "    #Function to convert nltk pos tags to wordnet pos tags\n",
    "    def get_wordnet_pos(self, treebank_tag):\n",
    "        try:\n",
    "            if treebank_tag.startswith(\"J\"):\n",
    "                return wordnet.ADJ\n",
    "            elif treebank_tag.startswith(\"V\"):\n",
    "                return wordnet.VERB\n",
    "            elif treebank_tag.startswith(\"N\"):\n",
    "                return wordnet.NOUN\n",
    "            elif treebank_tag.startswith(\"R\"):\n",
    "                return wordnet.ADV\n",
    "            elif treebank_tag.startswith(\"P\"):\n",
    "                return wordnet.NOUN\n",
    "            else:\n",
    "                return \"\"\n",
    "        except:\n",
    "            print(treebank_tag, f\" is not a valid treebank tag\")\n",
    "            return \"\"\n",
    "    \n",
    "    def lemmatize(self, pos_tags):\n",
    "        lemmatized_tokens = []\n",
    "        for token, pos_tag in pos_tags:\n",
    "            wordnet_pos = self.get_wordnet_pos(pos_tag)\n",
    "            lemma = (\n",
    "                self.lemmatizer.lemmatize(token, pos=wordnet_pos)\n",
    "                if wordnet_pos\n",
    "                else self.lemmatizer.lemmatize(token)\n",
    "            )\n",
    "            lemmatized_tokens.append(lemma)\n",
    "        return lemmatized_tokens\n",
    "    \n",
    "    #! function to correct spelling mistakes in the text\n",
    "    # def correct_spelling(self, text):\n",
    "    #     words = text.split()\n",
    "    #     corrected_words = [(self.spell.correction(word) if self.spell.correction(word) else word) for word in words]\n",
    "    #     corrected_sentence = ' '.join(corrected_words)\n",
    "    #     return corrected_sentence\n",
    "\n",
    "    \n",
    "    #* function to expand contractions like \"I'm\" to \"I am\"\n",
    "    def expand_contractions(self, text):\n",
    "        return contractions.fix(text)\n",
    "    \n",
    "    #* function to remove words starting with a backslash like \"\\n\" using regex\n",
    "    def rem_backslash_words(self, text):\n",
    "        # Replace HTML line breaks with space\n",
    "        text = re.sub(r'<br\\s*/?>', ' ', text)\n",
    "        # Replace tabs and newlines with a space\n",
    "        text = re.sub(r'\\s+', ' ', text)\n",
    "        # Optionally, strip leading/trailing whitespace\n",
    "        text = text.strip()\n",
    "        return text\n",
    "\n",
    "\n",
    "    def preprocess(self, text):\n",
    "        lower_text = self.lowercase(text)\n",
    "        expanded_text = self.expand_contractions(lower_text)\n",
    "        no_punc_text = self.remove_punctuation(expanded_text)\n",
    "        no_backslash = self.rem_backslash_words(no_punc_text)\n",
    "        # spell_checked = self.correct_spelling(no_backslash)\n",
    "        tokens = self.tokenize(no_backslash)\n",
    "        no_stop = self.remove_stop_words(tokens)\n",
    "        no_numbers = self.remove_numbers(no_stop)\n",
    "        pos_tags = self.POS_tagging(no_numbers)\n",
    "        lemmatized = self.lemmatize(pos_tags)\n",
    "        return lemmatized\n",
    "    \n",
    "\n",
    "pre_processor = TextPreprocessor()\n",
    "\n",
    "# text = \"helo, my naem is john \\n\\n \\n \\r \\t\"\n",
    "# cleaned = PreProcessor.rem_backslash_words(text)\n",
    "# print(cleaned)"
   ]
  },
  {
   "cell_type": "code",
   "execution_count": 7,
   "metadata": {},
   "outputs": [
    {
     "name": "stderr",
     "output_type": "stream",
     "text": [
      "100%|██████████| 370855/370855 [03:55<00:00, 1574.48it/s]\n",
      "100%|██████████| 370855/370855 [00:00<00:00, 1545480.89it/s]\n"
     ]
    },
    {
     "data": {
      "text/html": [
       "<div>\n",
       "<style scoped>\n",
       "    .dataframe tbody tr th:only-of-type {\n",
       "        vertical-align: middle;\n",
       "    }\n",
       "\n",
       "    .dataframe tbody tr th {\n",
       "        vertical-align: top;\n",
       "    }\n",
       "\n",
       "    .dataframe thead th {\n",
       "        text-align: right;\n",
       "    }\n",
       "</style>\n",
       "<table border=\"1\" class=\"dataframe\">\n",
       "  <thead>\n",
       "    <tr style=\"text-align: right;\">\n",
       "      <th></th>\n",
       "      <th>tokenized</th>\n",
       "      <th>overall</th>\n",
       "      <th>tokenized_joined</th>\n",
       "    </tr>\n",
       "  </thead>\n",
       "  <tbody>\n",
       "    <tr>\n",
       "      <th>0</th>\n",
       "      <td>[love, glitter, pen, sparkle, delightfully, pa...</td>\n",
       "      <td>5</td>\n",
       "      <td>love glitter pen sparkle delightfully page bri...</td>\n",
       "    </tr>\n",
       "    <tr>\n",
       "      <th>1</th>\n",
       "      <td>[work, well, machine, use, mostly, cone]</td>\n",
       "      <td>5</td>\n",
       "      <td>work well machine use mostly cone</td>\n",
       "    </tr>\n",
       "    <tr>\n",
       "      <th>2</th>\n",
       "      <td>[great, assortment, color, though, lot, pink, ...</td>\n",
       "      <td>5</td>\n",
       "      <td>great assortment color though lot pink mix sti...</td>\n",
       "    </tr>\n",
       "    <tr>\n",
       "      <th>3</th>\n",
       "      <td>[look]</td>\n",
       "      <td>5</td>\n",
       "      <td>look</td>\n",
       "    </tr>\n",
       "    <tr>\n",
       "      <th>4</th>\n",
       "      <td>[make, bird, hospital, month]</td>\n",
       "      <td>5</td>\n",
       "      <td>make bird hospital month</td>\n",
       "    </tr>\n",
       "  </tbody>\n",
       "</table>\n",
       "</div>"
      ],
      "text/plain": [
       "                                           tokenized  overall  \\\n",
       "0  [love, glitter, pen, sparkle, delightfully, pa...        5   \n",
       "1           [work, well, machine, use, mostly, cone]        5   \n",
       "2  [great, assortment, color, though, lot, pink, ...        5   \n",
       "3                                             [look]        5   \n",
       "4                      [make, bird, hospital, month]        5   \n",
       "\n",
       "                                    tokenized_joined  \n",
       "0  love glitter pen sparkle delightfully page bri...  \n",
       "1                  work well machine use mostly cone  \n",
       "2  great assortment color though lot pink mix sti...  \n",
       "3                                               look  \n",
       "4                           make bird hospital month  "
      ]
     },
     "execution_count": 7,
     "metadata": {},
     "output_type": "execute_result"
    }
   ],
   "source": [
    "# carrying out the preprocessing, and storing the tokens in another dataframe with columns 'pre_processed tokens' and 'overall'\n",
    "train[\"tokenized\"] = train[\"Review\"].progress_apply(lambda x: pre_processor.preprocess(x))\n",
    "\n",
    "processed_train = train[[\"tokenized\", \"overall\"]]\n",
    "processed_train.loc[:, \"tokenized_joined\"] = processed_train[\"tokenized\"].progress_apply(lambda x: \" \".join(x))\n",
    "\n",
    "processed_train.head()"
   ]
  },
  {
   "cell_type": "code",
   "execution_count": 8,
   "metadata": {},
   "outputs": [
    {
     "name": "stdout",
     "output_type": "stream",
     "text": [
      "(370855, 3)\n"
     ]
    },
    {
     "data": {
      "text/html": [
       "<div>\n",
       "<style scoped>\n",
       "    .dataframe tbody tr th:only-of-type {\n",
       "        vertical-align: middle;\n",
       "    }\n",
       "\n",
       "    .dataframe tbody tr th {\n",
       "        vertical-align: top;\n",
       "    }\n",
       "\n",
       "    .dataframe thead th {\n",
       "        text-align: right;\n",
       "    }\n",
       "</style>\n",
       "<table border=\"1\" class=\"dataframe\">\n",
       "  <thead>\n",
       "    <tr style=\"text-align: right;\">\n",
       "      <th></th>\n",
       "      <th>tokenized</th>\n",
       "      <th>tokenized_joined</th>\n",
       "      <th>overall</th>\n",
       "    </tr>\n",
       "  </thead>\n",
       "  <tbody>\n",
       "    <tr>\n",
       "      <th>0</th>\n",
       "      <td>[love, glitter, pen, sparkle, delightfully, pa...</td>\n",
       "      <td>love glitter pen sparkle delightfully page bri...</td>\n",
       "      <td>5</td>\n",
       "    </tr>\n",
       "    <tr>\n",
       "      <th>1</th>\n",
       "      <td>[work, well, machine, use, mostly, cone]</td>\n",
       "      <td>work well machine use mostly cone</td>\n",
       "      <td>5</td>\n",
       "    </tr>\n",
       "    <tr>\n",
       "      <th>2</th>\n",
       "      <td>[great, assortment, color, though, lot, pink, ...</td>\n",
       "      <td>great assortment color though lot pink mix sti...</td>\n",
       "      <td>5</td>\n",
       "    </tr>\n",
       "    <tr>\n",
       "      <th>3</th>\n",
       "      <td>[look]</td>\n",
       "      <td>look</td>\n",
       "      <td>5</td>\n",
       "    </tr>\n",
       "    <tr>\n",
       "      <th>4</th>\n",
       "      <td>[make, bird, hospital, month]</td>\n",
       "      <td>make bird hospital month</td>\n",
       "      <td>5</td>\n",
       "    </tr>\n",
       "  </tbody>\n",
       "</table>\n",
       "</div>"
      ],
      "text/plain": [
       "                                           tokenized  \\\n",
       "0  [love, glitter, pen, sparkle, delightfully, pa...   \n",
       "1           [work, well, machine, use, mostly, cone]   \n",
       "2  [great, assortment, color, though, lot, pink, ...   \n",
       "3                                             [look]   \n",
       "4                      [make, bird, hospital, month]   \n",
       "\n",
       "                                    tokenized_joined  overall  \n",
       "0  love glitter pen sparkle delightfully page bri...        5  \n",
       "1                  work well machine use mostly cone        5  \n",
       "2  great assortment color though lot pink mix sti...        5  \n",
       "3                                               look        5  \n",
       "4                           make bird hospital month        5  "
      ]
     },
     "execution_count": 8,
     "metadata": {},
     "output_type": "execute_result"
    }
   ],
   "source": [
    "processed_train = processed_train[[\"tokenized\", \"tokenized_joined\", \"overall\"]]\n",
    "print(processed_train.shape)\n",
    "processed_train.head()"
   ]
  },
  {
   "cell_type": "markdown",
   "metadata": {},
   "source": [
    "### 2) <ins>Discussion on the text processing and normalization techniques used"
   ]
  },
  {
   "cell_type": "markdown",
   "metadata": {},
   "source": [
    "- lowercasing: lowercasing all the text in the reviews, so that the model does not treat the same word in different cases as different words.\n",
    "- punctuation removal: removing all the punctuations from the reviews.\n",
    "- removing stopwords: removing all the stopwords from the reviews, so that the model can focus on the important words.\n",
    "- lemmatization: converting all the words to their base form, so that the model can treat the same word in different forms as the same word.\n",
    "- POS tagging: tagging all the words with their parts of speech, so that the model can understand the context of the words.\n",
    "- removing non-alphabetic characters: removing all the non-alphabetic characters from the reviews.\n",
    "- expanding contractions: expanding all the contractions in the reviews, so that the model can understand the full form of the words, and does not treat them as different words."
   ]
  },
  {
   "cell_type": "markdown",
   "metadata": {},
   "source": [
    "---"
   ]
  },
  {
   "cell_type": "markdown",
   "metadata": {},
   "source": [
    "## <ins>Feature Representation"
   ]
  },
  {
   "cell_type": "code",
   "execution_count": 93,
   "metadata": {},
   "outputs": [],
   "source": [
    "def document_vector(model, doc):\n",
    "    doc = [word for word in doc if word in model.wv]\n",
    "    if not doc:\n",
    "        return np.zeros(model.vector_size)\n",
    "\n",
    "    return np.mean(model.wv[doc], axis=0)\n",
    "\n",
    "\n",
    "# function for creating representations of the text\n",
    "def create_representations(representation):\n",
    "    vectorizer = None\n",
    "    if representation == \"one_hot\":\n",
    "        vectorizer = CountVectorizer(binary=True)\n",
    "    elif representation == \"frequency\":\n",
    "        vectorizer = CountVectorizer()\n",
    "    elif representation == \"tf_idf\":\n",
    "        vectorizer = TfidfVectorizer()\n",
    "    elif representation == \"OneGram\":\n",
    "        vectorizer = CountVectorizer(ngram_range=(1, 1))\n",
    "    elif representation == \"TwoGram\":\n",
    "        vectorizer = CountVectorizer(ngram_range=(2, 2))\n",
    "    elif representation == \"ThreeGram\":\n",
    "        vectorizer = CountVectorizer(ngram_range=(3, 3))\n",
    "    elif representation == \"cbow\":\n",
    "        model = gensim.models.Word2Vec(\n",
    "            processed_train[\"tokenized\"].to_list(),\n",
    "            min_count=1,\n",
    "            vector_size=100,\n",
    "            window=5,\n",
    "        )\n",
    "    elif representation == \"skipgram\":\n",
    "        model = gensim.models.Word2Vec(\n",
    "            processed_train[\"tokenized\"].to_list(),\n",
    "            min_count=1,\n",
    "            vector_size=100,\n",
    "            window=5,\n",
    "            sg=1,\n",
    "        )\n",
    "    else:\n",
    "        raise ValueError(\"Invalid representation type\")\n",
    "\n",
    "    if vectorizer == None and model:\n",
    "        X_representation = np.array(\n",
    "            [document_vector(model, doc) for doc in processed_train[\"tokenized\"]]\n",
    "        )\n",
    "        np.savez_compressed(\n",
    "            f\"./representations/X_{representation}.npz\", features=X_representation\n",
    "        )\n",
    "    else:\n",
    "        X_representation = vectorizer.fit_transform(processed_train[\"tokenized_joined\"])\n",
    "        save_npz(f\"./representations/X_{representation}.npz\", X_representation)"
   ]
  },
  {
   "cell_type": "code",
   "execution_count": 94,
   "metadata": {},
   "outputs": [
    {
     "name": "stderr",
     "output_type": "stream",
     "text": [
      "100%|██████████| 8/8 [02:40<00:00, 20.03s/it]\n"
     ]
    }
   ],
   "source": [
    "representations = [\n",
    "    #\"one_hot\",\n",
    "    #\"frequency\",\n",
    "    \"tf_idf\",\n",
    "    \"OneGram\",\n",
    "    \"TwoGram\",\n",
    "    #\"ThreeGram\",\n",
    "    \"cbow\",\n",
    "    \"skipgram\",\n",
    "]\n",
    "\n",
    "for representation in tqdm(representations):\n",
    "    create_representations(representation)"
   ]
  },
  {
   "cell_type": "markdown",
   "metadata": {},
   "source": [
    "We decided to create 5 different representation of the reviews:\n",
    "\n",
    "1) <ins> Unigram:</ins> It is the simplest form of text representation, where each word in the review is treated as a separate feature.\n",
    "\n",
    "2) <ins> Bigram:</ins> It is a more complex form of text representation, where each pair of adjacent words in the review is treated as a separate feature.\n",
    "\n",
    "3) <ins> tf-idf:</ins> It is a more advanced form of text representation, where each word in the review is assigned a weight based on its frequency in the review and its frequency in the entire dataset.\n",
    "\n",
    "4) <ins> cbow (Continuous Bag of Words):</ins> It is a neural network model that predicts the current word based on its context. It is a type of word2vec model.\n",
    "\n",
    "5) <ins> skip-gram:</ins> It is a neural network model that predicts the context words based on the current word. It is a type of word2vec model."
   ]
  },
  {
   "cell_type": "markdown",
   "metadata": {},
   "source": [
    "--- "
   ]
  },
  {
   "cell_type": "markdown",
   "metadata": {},
   "source": [
    "## Modelling"
   ]
  },
  {
   "cell_type": "markdown",
   "metadata": {},
   "source": [
    "### SVM"
   ]
  },
  {
   "cell_type": "code",
   "execution_count": 27,
   "metadata": {},
   "outputs": [],
   "source": [
    "def train_model(model, hparams, representation):\n",
    "    if representation == \"cbow\" or representation == \"skipgram\":\n",
    "        X = np.load(f\"./representations/X_{representation}.npz\")[\"features\"]\n",
    "    else:\n",
    "        X = load_npz(f\"./representations/X_{representation}.npz\")\n",
    "    y = train[\"overall\"]\n",
    "\n",
    "    X_train, X_test, y_train, y_test = train_test_split(\n",
    "        X, y, test_size=0.2, random_state=42\n",
    "    )\n",
    "    \n",
    "    print(f\"Training {model} on {representation} representation\")\n",
    "\n",
    "    random_search = RandomizedSearchCV(\n",
    "        estimator=model,\n",
    "        param_distributions=hparams,\n",
    "        n_iter=10,\n",
    "        cv=5,\n",
    "        verbose=4,\n",
    "        n_jobs=-1,\n",
    "        random_state=42,\n",
    "    )\n",
    "\n",
    "    # Fit RandomizedSearchCV on the training set\n",
    "    random_search.fit(X_train, y_train)\n",
    "\n",
    "    print(f\"Training {model} on {representation} representation completed\")\n",
    "\n",
    "    best_model = random_search.best_estimator_\n",
    "    best_params = random_search.best_params_\n",
    "    \n",
    "    y_pred = best_model.predict(X_test)\n",
    "    accuracy = best_model.score(X_test, y_test)\n",
    "    class_report = classification_report(y_test, y_pred)\n",
    "    conf_matrix = confusion_matrix(y_test, y_pred)\n",
    "\n",
    "    return best_model, best_params, accuracy, class_report, conf_matrix"
   ]
  },
  {
   "cell_type": "code",
   "execution_count": 19,
   "metadata": {},
   "outputs": [],
   "source": [
    "hparams_SVC = {\n",
    "    'C': reciprocal(0.1, 100),  # Regularization parameter\n",
    "    'gamma': expon(scale=1.0),  # Kernel coefficient\n",
    "    'kernel': ['rbf'],  # Assuming we're only interested in the RBF kernel here\n",
    "    'max_iter': [100],\n",
    "}"
   ]
  },
  {
   "cell_type": "code",
   "execution_count": 32,
   "metadata": {},
   "outputs": [
    {
     "name": "stderr",
     "output_type": "stream",
     "text": [
      "  0%|          | 0/5 [00:00<?, ?it/s]"
     ]
    },
    {
     "name": "stdout",
     "output_type": "stream",
     "text": [
      "Training SVC() on tf_idf representation\n",
      "Fitting 5 folds for each of 10 candidates, totalling 50 fits\n",
      "Training SVC() on tf_idf representation completed\n"
     ]
    },
    {
     "name": "stderr",
     "output_type": "stream",
     "text": [
      " 20%|██        | 1/5 [03:31<14:05, 211.32s/it]"
     ]
    },
    {
     "name": "stdout",
     "output_type": "stream",
     "text": [
      "Training SVC() on OneGram representation\n",
      "Fitting 5 folds for each of 10 candidates, totalling 50 fits\n",
      "Training SVC() on OneGram representation completed\n"
     ]
    },
    {
     "name": "stderr",
     "output_type": "stream",
     "text": [
      " 40%|████      | 2/5 [07:15<10:57, 219.13s/it]"
     ]
    },
    {
     "name": "stdout",
     "output_type": "stream",
     "text": [
      "Training SVC() on TwoGram representation\n",
      "Fitting 5 folds for each of 10 candidates, totalling 50 fits\n",
      "Training SVC() on TwoGram representation completed\n"
     ]
    },
    {
     "name": "stderr",
     "output_type": "stream",
     "text": [
      "c:\\Users\\dhruv\\anaconda3\\envs\\text\\Lib\\site-packages\\sklearn\\metrics\\_classification.py:1509: UndefinedMetricWarning: Precision is ill-defined and being set to 0.0 in labels with no predicted samples. Use `zero_division` parameter to control this behavior.\n",
      "  _warn_prf(average, modifier, f\"{metric.capitalize()} is\", len(result))\n",
      "c:\\Users\\dhruv\\anaconda3\\envs\\text\\Lib\\site-packages\\sklearn\\metrics\\_classification.py:1509: UndefinedMetricWarning: Precision is ill-defined and being set to 0.0 in labels with no predicted samples. Use `zero_division` parameter to control this behavior.\n",
      "  _warn_prf(average, modifier, f\"{metric.capitalize()} is\", len(result))\n",
      "c:\\Users\\dhruv\\anaconda3\\envs\\text\\Lib\\site-packages\\sklearn\\metrics\\_classification.py:1509: UndefinedMetricWarning: Precision is ill-defined and being set to 0.0 in labels with no predicted samples. Use `zero_division` parameter to control this behavior.\n",
      "  _warn_prf(average, modifier, f\"{metric.capitalize()} is\", len(result))\n",
      " 60%|██████    | 3/5 [08:12<04:50, 145.08s/it]"
     ]
    },
    {
     "name": "stdout",
     "output_type": "stream",
     "text": [
      "Training SVC() on cbow representation\n",
      "Fitting 5 folds for each of 10 candidates, totalling 50 fits\n",
      "Training SVC() on cbow representation completed\n"
     ]
    },
    {
     "name": "stderr",
     "output_type": "stream",
     "text": [
      " 80%|████████  | 4/5 [19:57<06:05, 365.89s/it]"
     ]
    },
    {
     "name": "stdout",
     "output_type": "stream",
     "text": [
      "Training SVC() on skipgram representation\n",
      "Fitting 5 folds for each of 10 candidates, totalling 50 fits\n",
      "Training SVC() on skipgram representation completed\n"
     ]
    },
    {
     "name": "stderr",
     "output_type": "stream",
     "text": [
      "100%|██████████| 5/5 [30:48<00:00, 369.72s/it]\n"
     ]
    }
   ],
   "source": [
    "representations = [\n",
    "    \"tf_idf\",\n",
    "    \"OneGram\",\n",
    "    \"TwoGram\",\n",
    "    \"cbow\",\n",
    "    \"skipgram\",\n",
    "]\n",
    "\n",
    "svc_dict = {}\n",
    "\n",
    "for representation in tqdm(representations):\n",
    "    best_model, best_params, accuracy, class_report, conf_matrix = train_model(SVC(), hparams_SVC, representation)\n",
    "    svc_dict.update({\n",
    "        f\"{representation}_model\": best_model,\n",
    "        f\"{representation}_params\": best_params,\n",
    "        f\"{representation}_accuracy\": accuracy,\n",
    "        f\"{representation}_class_report\": class_report,\n",
    "        f\"{representation}_conf_matrix\": conf_matrix,\n",
    "    })    "
   ]
  },
  {
   "cell_type": "markdown",
   "metadata": {},
   "source": [
    "---"
   ]
  },
  {
   "cell_type": "code",
   "execution_count": null,
   "metadata": {},
   "outputs": [],
   "source": [
    "# storing results in a pickle file\n",
    "with open(\"./models/svc_dict.pkl\", \"wb\") as f:\n",
    "    pickle.dump(svc_dict, f)"
   ]
  },
  {
   "cell_type": "code",
   "execution_count": 13,
   "metadata": {},
   "outputs": [
    {
     "name": "stderr",
     "output_type": "stream",
     "text": [
      "/home/xzodia/anaconda3/envs/tf-text/lib/python3.11/site-packages/sklearn/base.py:318: UserWarning: Trying to unpickle estimator SVC from version 1.4.1.post1 when using version 1.2.2. This might lead to breaking code or invalid results. Use at your own risk. For more info please refer to:\n",
      "https://scikit-learn.org/stable/model_persistence.html#security-maintainability-limitations\n",
      "  warnings.warn(\n"
     ]
    }
   ],
   "source": [
    "# read from pickle and store in a dictionary\n",
    "with open(\"./models/svc_dict.pkl\", \"rb\") as f:\n",
    "    svc_dict = pickle.load(f)"
   ]
  },
  {
   "cell_type": "code",
   "execution_count": 5,
   "metadata": {},
   "outputs": [
    {
     "name": "stdout",
     "output_type": "stream",
     "text": [
      "Class report for tf_idf_class_report:\n",
      "              precision    recall  f1-score   support\n",
      "\n",
      "           1       0.24      0.40      0.30      2104\n",
      "           2       0.12      0.37      0.18      1987\n",
      "           3       0.32      0.02      0.04      4229\n",
      "           4       0.23      0.11      0.15      9251\n",
      "           5       0.84      0.88      0.86     56600\n",
      "\n",
      "    accuracy                           0.71     74171\n",
      "   macro avg       0.35      0.36      0.31     74171\n",
      "weighted avg       0.69      0.71      0.69     74171\n",
      "\n",
      "Class report for OneGram_class_report:\n",
      "              precision    recall  f1-score   support\n",
      "\n",
      "           1       0.05      0.71      0.09      2104\n",
      "           2       0.05      0.07      0.06      1987\n",
      "           3       0.05      0.11      0.07      4229\n",
      "           4       0.12      0.07      0.09      9251\n",
      "           5       0.84      0.38      0.52     56600\n",
      "\n",
      "    accuracy                           0.32     74171\n",
      "   macro avg       0.22      0.27      0.16     74171\n",
      "weighted avg       0.66      0.32      0.42     74171\n",
      "\n",
      "Class report for TwoGram_class_report:\n",
      "              precision    recall  f1-score   support\n",
      "\n",
      "           1       0.04      0.62      0.08      2104\n",
      "           2       0.03      0.11      0.05      1987\n",
      "           3       0.05      0.09      0.06      4229\n",
      "           4       0.11      0.00      0.00      9251\n",
      "           5       0.83      0.43      0.56     56600\n",
      "\n",
      "    accuracy                           0.35     74171\n",
      "   macro avg       0.21      0.25      0.15     74171\n",
      "weighted avg       0.65      0.35      0.44     74171\n",
      "\n",
      "Class report for cbow_class_report:\n",
      "              precision    recall  f1-score   support\n",
      "\n",
      "           1       0.27      0.06      0.10      2104\n",
      "           2       0.21      0.04      0.07      1987\n",
      "           3       0.27      0.02      0.05      4229\n",
      "           4       0.35      0.02      0.03      9251\n",
      "           5       0.77      0.99      0.87     56600\n",
      "\n",
      "    accuracy                           0.76     74171\n",
      "   macro avg       0.37      0.23      0.22     74171\n",
      "weighted avg       0.66      0.76      0.67     74171\n",
      "\n",
      "Class report for skipgram_class_report:\n",
      "              precision    recall  f1-score   support\n",
      "\n",
      "           1       0.03      0.04      0.03      2104\n",
      "           2       0.08      0.00      0.01      1987\n",
      "           3       0.10      0.01      0.02      4229\n",
      "           4       0.15      0.02      0.03      9251\n",
      "           5       0.76      0.95      0.84     56600\n",
      "\n",
      "    accuracy                           0.72     74171\n",
      "   macro avg       0.22      0.20      0.19     74171\n",
      "weighted avg       0.61      0.72      0.65     74171\n",
      "\n"
     ]
    }
   ],
   "source": [
    "# print the class report for each representation\n",
    "for key, value in svc_dict.items():\n",
    "    if \"class_report\" in key:\n",
    "        print(f\"Class report for {key}:\")\n",
    "        print(value)"
   ]
  },
  {
   "cell_type": "code",
   "execution_count": 14,
   "metadata": {},
   "outputs": [
    {
     "name": "stdout",
     "output_type": "stream",
     "text": [
      "Best parameters for tf_idf_params:\n",
      "{'C': 1.3292918943162166, 'gamma': 3.010121430917521, 'kernel': 'rbf', 'max_iter': 1000}\n",
      "Best parameters for OneGram_params:\n",
      "{'C': 0.2938027938703535, 'gamma': 0.16959629191460518, 'kernel': 'rbf', 'max_iter': 1000}\n",
      "Best parameters for TwoGram_params:\n",
      "{'C': 0.2938027938703535, 'gamma': 0.16959629191460518, 'kernel': 'rbf', 'max_iter': 1000}\n",
      "Best parameters for cbow_params:\n",
      "{'C': 0.115279871282324, 'gamma': 3.503557475158312, 'kernel': 'rbf', 'max_iter': 1000}\n",
      "Best parameters for skipgram_params:\n",
      "{'C': 0.2938027938703535, 'gamma': 0.16959629191460518, 'kernel': 'rbf', 'max_iter': 1000}\n"
     ]
    }
   ],
   "source": [
    "for key, value in svc_dict.items():\n",
    "    if \"params\" in key:\n",
    "        print(f\"Best parameters for {key}:\")\n",
    "        print(value)"
   ]
  },
  {
   "cell_type": "markdown",
   "metadata": {},
   "source": [
    "---"
   ]
  },
  {
   "cell_type": "markdown",
   "metadata": {},
   "source": [
    "### Random Forest"
   ]
  },
  {
   "cell_type": "code",
   "execution_count": 25,
   "metadata": {},
   "outputs": [],
   "source": [
    "hparams_RF = {\n",
    "    'n_estimators': [int(x) for x in np.linspace(start=200, stop=2000, num=20)],\n",
    "    'max_features': ['auto', 'sqrt', 'log2'],\n",
    "    'max_depth': [int(x) for x in np.linspace(5, 120, num=12)] + [None],\n",
    "    'min_samples_split': [2, 5, 10, 15],\n",
    "    'min_samples_leaf': [1, 2, 4, 6],\n",
    "    'bootstrap': [True],\n",
    "    'max_samples': [0.5, 0.75, 0.25],  # Consider smaller fractions for large datasets\n",
    "    'class_weight': ['balanced_subsample'],  # Important for imbalance\n",
    "    'criterion': ['gini', 'entropy'],\n",
    "}\n"
   ]
  },
  {
   "cell_type": "code",
   "execution_count": null,
   "metadata": {},
   "outputs": [],
   "source": [
    "representations = [\n",
    "    \"tf_idf\",\n",
    "    \"OneGram\",\n",
    "    \"TwoGram\",\n",
    "    \"cbow\",\n",
    "    \"skipgram\",\n",
    "]\n",
    "\n",
    "RF_dict = {}\n",
    "\n",
    "for representation in tqdm(representations):\n",
    "    best_model, best_params, y_pred, class_report, conf_matrix = train_model(RandomForestClassifier(), hparams_RF, representation)\n",
    "    RF_dict.update({\n",
    "        # f\"{representation}_model\": best_model,\n",
    "        f\"{representation}_params\": best_params,\n",
    "        f\"{representation}_y_pred\": y_pred,\n",
    "        f\"{representation}_class_report\": class_report,\n",
    "        f\"{representation}_conf_matrix\": conf_matrix,\n",
    "    })    "
   ]
  },
  {
   "cell_type": "code",
   "execution_count": null,
   "metadata": {},
   "outputs": [],
   "source": [
    "# storing results in a pickle file\n",
    "with open(\"./models/rfc_dict.pkl\", \"wb\") as f:\n",
    "    pickle.dump(svc_dict, f)"
   ]
  },
  {
   "cell_type": "code",
   "execution_count": 15,
   "metadata": {},
   "outputs": [],
   "source": [
    "with open(\"./models/rfc_dict.pkl\", \"rb\") as f:\n",
    "    rfc_dict = pickle.load(f)"
   ]
  },
  {
   "cell_type": "code",
   "execution_count": 4,
   "metadata": {},
   "outputs": [
    {
     "name": "stdout",
     "output_type": "stream",
     "text": [
      "Class report for tf_idf_class_report:\n",
      "              precision    recall  f1-score   support\n",
      "\n",
      "           1       0.22      0.58      0.32      2104\n",
      "           2       0.13      0.19      0.15      1987\n",
      "           3       0.24      0.30      0.27      4229\n",
      "           4       0.29      0.25      0.27      9251\n",
      "           5       0.87      0.80      0.83     56600\n",
      "\n",
      "    accuracy                           0.68     74171\n",
      "   macro avg       0.35      0.42      0.37     74171\n",
      "weighted avg       0.72      0.68      0.70     74171\n",
      "\n",
      "Class report for OneGram_class_report:\n",
      "              precision    recall  f1-score   support\n",
      "\n",
      "           1       0.26      0.58      0.36      2104\n",
      "           2       0.16      0.15      0.16      1987\n",
      "           3       0.28      0.29      0.28      4229\n",
      "           4       0.29      0.26      0.27      9251\n",
      "           5       0.86      0.83      0.85     56600\n",
      "\n",
      "    accuracy                           0.71     74171\n",
      "   macro avg       0.37      0.42      0.38     74171\n",
      "weighted avg       0.72      0.71      0.71     74171\n",
      "\n",
      "Class report for TwoGram_class_report:\n",
      "              precision    recall  f1-score   support\n",
      "\n",
      "           1       0.08      0.01      0.02      2104\n",
      "           2       0.06      0.01      0.02      1987\n",
      "           3       0.09      0.01      0.02      4229\n",
      "           4       0.15      0.01      0.02      9251\n",
      "           5       0.77      0.98      0.86     56600\n",
      "\n",
      "    accuracy                           0.75     74171\n",
      "   macro avg       0.23      0.20      0.19     74171\n",
      "weighted avg       0.61      0.75      0.66     74171\n",
      "\n",
      "Class report for cbow_class_report:\n",
      "              precision    recall  f1-score   support\n",
      "\n",
      "           1       0.47      0.51      0.49      2104\n",
      "           2       0.67      0.17      0.28      1987\n",
      "           3       0.41      0.34      0.37      4229\n",
      "           4       0.37      0.32      0.35      9251\n",
      "           5       0.86      0.91      0.88     56600\n",
      "\n",
      "    accuracy                           0.77     74171\n",
      "   macro avg       0.56      0.45      0.47     74171\n",
      "weighted avg       0.76      0.77      0.76     74171\n",
      "\n",
      "Class report for skipgram_class_report:\n",
      "              precision    recall  f1-score   support\n",
      "\n",
      "           1       0.49      0.56      0.52      2104\n",
      "           2       0.68      0.18      0.29      1987\n",
      "           3       0.41      0.33      0.37      4229\n",
      "           4       0.38      0.31      0.34      9251\n",
      "           5       0.86      0.91      0.89     56600\n",
      "\n",
      "    accuracy                           0.78     74171\n",
      "   macro avg       0.56      0.46      0.48     74171\n",
      "weighted avg       0.76      0.78      0.76     74171\n",
      "\n"
     ]
    }
   ],
   "source": [
    "# print the class report for each representation\n",
    "for key, value in rfc_dict.items():\n",
    "    if \"class_report\" in key:\n",
    "        print(f\"Class report for {key}:\")\n",
    "        print(value)"
   ]
  },
  {
   "cell_type": "code",
   "execution_count": 16,
   "metadata": {},
   "outputs": [
    {
     "name": "stdout",
     "output_type": "stream",
     "text": [
      "Best parameters for tf_idf_params:\n",
      "{'n_estimators': 284, 'min_samples_split': 5, 'min_samples_leaf': 2, 'max_samples': 0.25, 'max_features': 'sqrt', 'max_depth': 15, 'criterion': 'entropy', 'class_weight': 'balanced_subsample', 'bootstrap': True}\n",
      "Best parameters for OneGram_params:\n",
      "{'n_estimators': 284, 'min_samples_split': 5, 'min_samples_leaf': 2, 'max_samples': 0.25, 'max_features': 'sqrt', 'max_depth': 15, 'criterion': 'entropy', 'class_weight': 'balanced_subsample', 'bootstrap': True}\n",
      "Best parameters for TwoGram_params:\n",
      "{'n_estimators': 368, 'min_samples_split': 5, 'min_samples_leaf': 6, 'max_samples': 0.25, 'max_features': 'log2', 'max_depth': 67, 'criterion': 'gini', 'class_weight': 'balanced_subsample', 'bootstrap': True}\n",
      "Best parameters for cbow_params:\n",
      "{'n_estimators': 621, 'min_samples_split': 15, 'min_samples_leaf': 4, 'max_samples': 0.5, 'max_features': 'sqrt', 'max_depth': 109, 'criterion': 'gini', 'class_weight': 'balanced_subsample', 'bootstrap': True}\n",
      "Best parameters for skipgram_params:\n",
      "{'n_estimators': 621, 'min_samples_split': 15, 'min_samples_leaf': 4, 'max_samples': 0.5, 'max_features': 'sqrt', 'max_depth': 109, 'criterion': 'gini', 'class_weight': 'balanced_subsample', 'bootstrap': True}\n"
     ]
    }
   ],
   "source": [
    "for key, value in rfc_dict.items():\n",
    "    if \"params\" in key:\n",
    "        print(f\"Best parameters for {key}:\")\n",
    "        print(value)"
   ]
  },
  {
   "cell_type": "markdown",
   "metadata": {},
   "source": [
    "---"
   ]
  },
  {
   "cell_type": "markdown",
   "metadata": {},
   "source": [
    "### MLP"
   ]
  },
  {
   "cell_type": "code",
   "execution_count": 14,
   "metadata": {},
   "outputs": [],
   "source": [
    "# creating a train_test split for a given representation\n",
    "def create_train_test(representation):\n",
    "    if representation == \"cbow\" or representation == \"skipgram\":\n",
    "        X = np.load(f\"./representations/X_{representation}.npz\")[\"features\"]\n",
    "    else:\n",
    "        X = load_npz(f\"./representations/X_{representation}.npz\")\n",
    "    y = train[\"overall\"]\n",
    "\n",
    "    X_train, X_test, y_train, y_test = train_test_split(\n",
    "        X, y, test_size=0.2, random_state=42\n",
    "    )\n",
    "\n",
    "    return X_train, X_test, y_train, y_test\n"
   ]
  },
  {
   "cell_type": "code",
   "execution_count": 19,
   "metadata": {},
   "outputs": [],
   "source": [
    "def sparse_predict_generator(X, batch_size=32):\n",
    "    n_samples = X.shape[0]\n",
    "\n",
    "    for start in range(0, n_samples, batch_size):\n",
    "        end = min(start + batch_size, n_samples)\n",
    "\n",
    "        X_batch = X[start:end]\n",
    "\n",
    "        yield X_batch"
   ]
  },
  {
   "cell_type": "code",
   "execution_count": 20,
   "metadata": {},
   "outputs": [],
   "source": [
    "def sparse_generator(X, y, batch_size=32, epochs=3):\n",
    "    \"\"\"\n",
    "    A generator for batches of sparse data.\n",
    "\n",
    "    Parameters:\n",
    "    - X: Sparse feature matrix (scipy.sparse matrix).\n",
    "    - y: Labels (numpy array).\n",
    "    - batch_size: Size of batches to generate.\n",
    "    \"\"\"\n",
    "    n_samples = X.shape[0]\n",
    "\n",
    "    # Shuffle data indices for each epoch\n",
    "    indices = np.arange(n_samples)\n",
    "    np.random.shuffle(indices)\n",
    "\n",
    "    for _ in range(epochs):\n",
    "        indices = np.arange(n_samples)\n",
    "\n",
    "        for start_idx in range(0, n_samples, batch_size):\n",
    "            batch_indices = indices[start_idx : start_idx + batch_size]\n",
    "\n",
    "            # Convert the sparse batch to a dense format as TensorFlow expects dense arrays\n",
    "            X_batch = X[batch_indices]  # Convert sparse matrix part to dense\n",
    "            y_batch = y[batch_indices]\n",
    "\n",
    "            yield X_batch, y_batch"
   ]
  },
  {
   "cell_type": "code",
   "execution_count": 21,
   "metadata": {},
   "outputs": [],
   "source": [
    "def train_model():\n",
    "    X_train, X_test, y_train, y_test = create_train_test(\"cbow\")\n",
    "    input_dim = X_train.shape[1]\n",
    "    model = Sequential()\n",
    "    model.add(Dense(512, input_dim=input_dim, activation=\"relu\"))\n",
    "    model.add(BatchNormalization())\n",
    "    model.add(Dropout(0.5))\n",
    "\n",
    "    model.add(Dense(256, activation=\"relu\"))\n",
    "    model.add(BatchNormalization())\n",
    "    model.add(Dropout(0.5))\n",
    "\n",
    "    model.add(Dense(128, activation=\"relu\"))\n",
    "    model.add(BatchNormalization())\n",
    "    model.add(Dropout(0.5))\n",
    "\n",
    "    model.add(Dense(64, activation=\"relu\"))\n",
    "    model.add(BatchNormalization())\n",
    "    model.add(Dropout(0.5))\n",
    "\n",
    "    model.add(Dense(5, activation=\"softmax\"))\n",
    "\n",
    "    # Configure the model and start training\n",
    "    model.compile(\n",
    "        optimizer=Adam(learning_rate=0.001),\n",
    "        loss=\"categorical_crossentropy\",\n",
    "        metrics=[\"accuracy\"],\n",
    "    )\n",
    "\n",
    "    y_train_adjusted = y_train - 1\n",
    "    y_test_adjusted = y_test - 1\n",
    "\n",
    "    y_train_one_hot = to_categorical(y_train_adjusted)\n",
    "    y_test_one_hot = to_categorical(y_test_adjusted)\n",
    "\n",
    "    batch_size = 32\n",
    "    step_size = X_train.shape[0] // batch_size\n",
    "    step_size_test = X_test.shape[0] // batch_size\n",
    "    epochs = 3\n",
    "\n",
    "    # Training the model with class weights\n",
    "    history = model.fit(\n",
    "        sparse_generator(X_train, y_train_one_hot),\n",
    "        steps_per_epoch=step_size,\n",
    "        epochs=epochs,\n",
    "        validation_data=sparse_generator(X_test, y_test_one_hot),\n",
    "        validation_steps=step_size_test,\n",
    "        verbose=1,\n",
    "    )\n",
    "\n",
    "    return model, history"
   ]
  },
  {
   "cell_type": "code",
   "execution_count": 22,
   "metadata": {},
   "outputs": [
    {
     "name": "stdout",
     "output_type": "stream",
     "text": [
      "Epoch 1/3\n",
      "9271/9271 [==============================] - 130s 14ms/step - loss: 0.7165 - accuracy: 0.7565 - val_loss: 0.6362 - val_accuracy: 0.7761\n",
      "Epoch 2/3\n",
      "9271/9271 [==============================] - 125s 13ms/step - loss: 0.6587 - accuracy: 0.7713 - val_loss: 0.6258 - val_accuracy: 0.7793\n",
      "Epoch 3/3\n",
      "9269/9271 [============================>.] - ETA: 0s - loss: 0.6517 - accuracy: 0.7731WARNING:tensorflow:Your input ran out of data; interrupting training. Make sure that your dataset or generator can generate at least `steps_per_epoch * epochs` batches (in this case, 2317 batches). You may need to use the repeat() function when building your dataset.\n"
     ]
    },
    {
     "name": "stderr",
     "output_type": "stream",
     "text": [
      "2024-04-02 00:22:16.735174: I tensorflow/core/framework/local_rendezvous.cc:421] Local rendezvous recv item cancelled. Key hash: 11402567810379513936\n",
      "2024-04-02 00:22:16.735225: I tensorflow/core/framework/local_rendezvous.cc:421] Local rendezvous recv item cancelled. Key hash: 3905960243947630800\n"
     ]
    },
    {
     "name": "stdout",
     "output_type": "stream",
     "text": [
      "9271/9271 [==============================] - 133s 14ms/step - loss: 0.6517 - accuracy: 0.7731 - val_loss: 0.6218 - val_accuracy: 0.7806\n"
     ]
    }
   ],
   "source": [
    "model, history = train_model()"
   ]
  },
  {
   "cell_type": "code",
   "execution_count": 23,
   "metadata": {},
   "outputs": [],
   "source": [
    "with open(\"./models/mlp.pkl\", \"wb\") as f:\n",
    "    pickle.dump(model, f)"
   ]
  },
  {
   "cell_type": "markdown",
   "metadata": {},
   "source": [
    "---"
   ]
  },
  {
   "cell_type": "markdown",
   "metadata": {},
   "source": [
    "## Sequential Models"
   ]
  },
  {
   "cell_type": "markdown",
   "metadata": {},
   "source": [
    "### Simple LSTM"
   ]
  },
  {
   "cell_type": "code",
   "execution_count": 6,
   "metadata": {},
   "outputs": [],
   "source": [
    "processed_train = pd.read_pickle(\"processed_train.pkl\")\n",
    "tokenized_texts = processed_train['tokenized'].tolist()\n",
    "cbow = Word2Vec(sentences=tokenized_texts, vector_size=100, window=5, sg=0, min_count=5)"
   ]
  },
  {
   "cell_type": "code",
   "execution_count": 7,
   "metadata": {},
   "outputs": [],
   "source": [
    "vocab_size = len(cbow.wv.key_to_index) + 1  # Adding 1 to account for padding token\n",
    "embedding_dim = 100  # Or the vector_size you used for your CBOW model\n",
    "\n",
    "embedding_matrix = np.zeros((vocab_size, embedding_dim))\n",
    "for word, i in cbow.wv.key_to_index.items():\n",
    "    embedding_vector = cbow.wv[word]\n",
    "    if embedding_vector is not None:\n",
    "        embedding_matrix[i] = embedding_vector"
   ]
  },
  {
   "cell_type": "code",
   "execution_count": 11,
   "metadata": {},
   "outputs": [],
   "source": [
    "tokenizer = Tokenizer(num_words=vocab_size-1)\n",
    "tokenizer.fit_on_texts(processed_train['tokenized_joined'].tolist())\n",
    "sequences = tokenizer.texts_to_sequences(processed_train['tokenized_joined'].tolist())\n",
    "max_length = max(len(seq) for seq in sequences)\n",
    "padded_sequences = pad_sequences(sequences, maxlen=max_length, padding='post')"
   ]
  },
  {
   "cell_type": "code",
   "execution_count": 12,
   "metadata": {},
   "outputs": [
    {
     "name": "stderr",
     "output_type": "stream",
     "text": [
      "2024-04-01 23:51:44.408513: I external/local_tsl/tsl/platform/default/subprocess.cc:304] Start cannot spawn child process: No such file or directory\n"
     ]
    }
   ],
   "source": [
    "model = Sequential()\n",
    "model.add(Embedding(input_dim=vocab_size, output_dim=embedding_dim, embeddings_initializer=tf.keras.initializers.Constant(embedding_matrix), trainable=False, input_length=max_length))\n",
    "model.add(LSTM(512, return_sequences=True))\n",
    "model.add(SpatialDropout1D(0.2))\n",
    "model.add(LSTM(256, return_sequences=True))\n",
    "model.add(SpatialDropout1D(0.2))\n",
    "model.add(LSTM(128))\n",
    "\n",
    "model.add(Dense(64, activation='relu'))\n",
    "model.add(Dense(32, activation='relu'))\n",
    "model.add(Dense(5, activation='softmax'))  # For 5 classes\n",
    "\n",
    "model.compile(optimizer='adam', loss='sparse_categorical_crossentropy', metrics=['accuracy'])"
   ]
  },
  {
   "cell_type": "code",
   "execution_count": 13,
   "metadata": {},
   "outputs": [
    {
     "name": "stdout",
     "output_type": "stream",
     "text": [
      "Model: \"sequential_4\"\n",
      "_________________________________________________________________\n",
      " Layer (type)                Output Shape              Param #   \n",
      "=================================================================\n",
      " embedding (Embedding)       (None, 1724, 100)         1536400   \n",
      "                                                                 \n",
      " lstm (LSTM)                 (None, 1724, 512)         1255424   \n",
      "_________________________________________________________________\n",
      " Layer (type)                Output Shape              Param #   \n",
      "=================================================================\n",
      " embedding (Embedding)       (None, 1724, 100)         1536400   \n",
      "                                                                 \n",
      " lstm (LSTM)                 (None, 1724, 512)         1255424   \n",
      "                                                                 \n",
      " spatial_dropout1d (Spatial  (None, 1724, 512)         0         \n",
      " Dropout1D)                                                      \n",
      "                                                                 \n",
      " lstm_1 (LSTM)               (None, 1724, 256)         787456    \n",
      "                                                                 \n",
      " spatial_dropout1d_1 (Spati  (None, 1724, 256)         0         \n",
      " alDropout1D)                                                    \n",
      "                                                                 \n",
      " lstm_2 (LSTM)               (None, 128)               197120    \n",
      "                                                                 \n",
      " dense (Dense)               (None, 64)                8256      \n",
      "                                                                 \n",
      " dense_1 (Dense)             (None, 32)                2080      \n",
      "                                                                 \n",
      " dense_2 (Dense)             (None, 5)                 165       \n",
      "                                                                 \n",
      "=================================================================\n",
      "Total params: 3786901 (14.45 MB)\n",
      "Trainable params: 2250501 (8.58 MB)\n",
      "Non-trainable params: 1536400 (5.86 MB)\n",
      "_________________________________________________________________\n"
     ]
    }
   ],
   "source": [
    "model.summary()"
   ]
  },
  {
   "cell_type": "code",
   "execution_count": null,
   "metadata": {},
   "outputs": [],
   "source": [
    "y = processed_train['overall'] - 1\n",
    "\n",
    "classes = np.unique(y)\n",
    "class_weights = compute_class_weight(class_weight='balanced', classes=classes, y=y)\n",
    "class_weights_dict = {class_label: weight for class_label, weight in zip(classes, class_weights)}"
   ]
  },
  {
   "cell_type": "code",
   "execution_count": null,
   "metadata": {},
   "outputs": [],
   "source": [
    "history = model.fit(padded_sequences, y, epochs=20, batch_size=32, validation_split=0.2, verbose=1)"
   ]
  },
  {
   "cell_type": "markdown",
   "metadata": {},
   "source": [
    "The accuracy was noted to be 0.7641 for 10 epochs without improving much, so the model was stopped before it could be saved."
   ]
  },
  {
   "cell_type": "markdown",
   "metadata": {},
   "source": [
    "### Helper Functions for Transformers"
   ]
  },
  {
   "cell_type": "code",
   "execution_count": 19,
   "metadata": {},
   "outputs": [],
   "source": [
    "def preprocess_texts(texts, tokenizer, max_length=512):\n",
    "    input_ids = []\n",
    "    attention_masks = []\n",
    "\n",
    "    for text in tqdm(texts):\n",
    "        encoded = tokenizer.encode_plus(\n",
    "            text,\n",
    "            add_special_tokens=True,\n",
    "            max_length=max_length,\n",
    "            truncation=True,\n",
    "            padding=\"max_length\",\n",
    "            return_attention_mask=True,\n",
    "            return_tensors=\"pt\",\n",
    "        )\n",
    "        input_ids.append(encoded[\"input_ids\"])\n",
    "        attention_masks.append(encoded[\"attention_mask\"])\n",
    "\n",
    "    input_ids = torch.cat(input_ids, dim=0)\n",
    "    attention_masks = torch.cat(attention_masks, dim=0)\n",
    "\n",
    "    return input_ids, attention_masks"
   ]
  },
  {
   "cell_type": "code",
   "execution_count": null,
   "metadata": {},
   "outputs": [],
   "source": [
    "def get_data_loaders(tokenizer):\n",
    "    train = pd.read_csv(\"data/train.csv\")\n",
    "    train = train[[\"Review\", \"overall\"]]\n",
    "    train = train.dropna(subset=[\"Review\"])\n",
    "    texts = train[\"Review\"].tolist()\n",
    "    labels = train[\"overall\"].values - 1\n",
    "\n",
    "    input_ids, attention_masks = preprocess_texts(texts, tokenizer)\n",
    "    labels = torch.tensor(labels)\n",
    "\n",
    "    train_inputs, val_inputs, train_labels, val_labels = train_test_split(\n",
    "        input_ids, labels, random_state=42, test_size=0.2\n",
    "    )\n",
    "    train_masks, val_masks, _, _ = train_test_split(\n",
    "        attention_masks, labels, random_state=42, test_size=0.2\n",
    "    )\n",
    "\n",
    "    train_data = TensorDataset(train_inputs, train_masks, train_labels)\n",
    "    train_dataloader = DataLoader(train_data, batch_size=32, shuffle=True)\n",
    "\n",
    "    val_data = TensorDataset(val_inputs, val_masks, val_labels)\n",
    "    val_dataloader = DataLoader(val_data, batch_size=32, shuffle=False)\n",
    "\n",
    "    class_weights = compute_class_weight(\n",
    "        \"balanced\", classes=np.unique(labels.numpy()), y=labels.numpy()\n",
    "    )\n",
    "    class_weights = torch.tensor(class_weights, dtype=torch.float)\n",
    "\n",
    "    return train_dataloader, val_dataloader, class_weights"
   ]
  },
  {
   "cell_type": "code",
   "execution_count": null,
   "metadata": {},
   "outputs": [],
   "source": [
    "def train_model(model, train_dataloader, loss_fn, optimizer, device, epochs=3):\n",
    "    for epoch in tqdm(range(epochs)):\n",
    "        model.train()\n",
    "        total_loss = 0\n",
    "\n",
    "        for batch in train_dataloader:\n",
    "            batch_inputs, batch_masks, batch_labels = batch\n",
    "            batch_inputs = batch_inputs.to(device)\n",
    "            batch_masks = batch_masks.to(device)\n",
    "            batch_labels = batch_labels.to(device)\n",
    "            model.zero_grad()\n",
    "\n",
    "            outputs = model(batch_inputs, attention_mask=batch_masks)\n",
    "            logits = outputs.logits\n",
    "            loss = loss_fn(logits, batch_labels)\n",
    "\n",
    "            total_loss += loss.item()\n",
    "            loss.backward()\n",
    "            optimizer.step()\n",
    "\n",
    "        avg_loss = total_loss / len(train_dataloader)\n",
    "        print(f\"Epoch {epoch + 1}, Loss: {avg_loss}\")\n",
    "\n",
    "    return model"
   ]
  },
  {
   "cell_type": "code",
   "execution_count": 6,
   "metadata": {},
   "outputs": [],
   "source": [
    "def validate_model(model, dataloader, device):\n",
    "    model.eval()\n",
    "    all_preds = []\n",
    "    all_labels = []\n",
    "\n",
    "    with torch.no_grad():\n",
    "        for batch in dataloader:\n",
    "            batch_inputs, batch_masks, batch_labels = batch\n",
    "            batch_inputs = batch_inputs.to(device)\n",
    "            batch_masks = batch_masks.to(device)\n",
    "            batch_labels = batch_labels.to(device)\n",
    "\n",
    "            outputs = model(batch_inputs, attention_mask=batch_masks)\n",
    "            logits = outputs.logits\n",
    "            preds = torch.argmax(logits, dim=1)\n",
    "\n",
    "            all_preds.extend(preds.cpu().numpy())\n",
    "            all_labels.extend(batch_labels.cpu().numpy())\n",
    "\n",
    "    accuracy = accuracy_score(all_labels, all_preds)\n",
    "\n",
    "    return accuracy"
   ]
  },
  {
   "cell_type": "markdown",
   "metadata": {},
   "source": [
    "### Roberta with Class Weights"
   ]
  },
  {
   "cell_type": "code",
   "execution_count": 14,
   "metadata": {},
   "outputs": [
    {
     "name": "stderr",
     "output_type": "stream",
     "text": [
      "Some weights of RobertaForSequenceClassification were not initialized from the model checkpoint at roberta-base and are newly initialized: ['classifier.dense.bias', 'classifier.dense.weight', 'classifier.out_proj.bias', 'classifier.out_proj.weight']\n",
      "You should probably TRAIN this model on a down-stream task to be able to use it for predictions and inference.\n"
     ]
    },
    {
     "data": {
      "text/plain": [
       "RobertaForSequenceClassification(\n",
       "  (roberta): RobertaModel(\n",
       "    (embeddings): RobertaEmbeddings(\n",
       "      (word_embeddings): Embedding(50265, 768, padding_idx=1)\n",
       "      (position_embeddings): Embedding(514, 768, padding_idx=1)\n",
       "      (token_type_embeddings): Embedding(1, 768)\n",
       "      (LayerNorm): LayerNorm((768,), eps=1e-05, elementwise_affine=True)\n",
       "      (dropout): Dropout(p=0.1, inplace=False)\n",
       "    )\n",
       "    (encoder): RobertaEncoder(\n",
       "      (layer): ModuleList(\n",
       "        (0-11): 12 x RobertaLayer(\n",
       "          (attention): RobertaAttention(\n",
       "            (self): RobertaSelfAttention(\n",
       "              (query): Linear(in_features=768, out_features=768, bias=True)\n",
       "              (key): Linear(in_features=768, out_features=768, bias=True)\n",
       "              (value): Linear(in_features=768, out_features=768, bias=True)\n",
       "              (dropout): Dropout(p=0.1, inplace=False)\n",
       "            )\n",
       "            (output): RobertaSelfOutput(\n",
       "              (dense): Linear(in_features=768, out_features=768, bias=True)\n",
       "              (LayerNorm): LayerNorm((768,), eps=1e-05, elementwise_affine=True)\n",
       "              (dropout): Dropout(p=0.1, inplace=False)\n",
       "            )\n",
       "          )\n",
       "          (intermediate): RobertaIntermediate(\n",
       "            (dense): Linear(in_features=768, out_features=3072, bias=True)\n",
       "            (intermediate_act_fn): GELUActivation()\n",
       "          )\n",
       "          (output): RobertaOutput(\n",
       "            (dense): Linear(in_features=3072, out_features=768, bias=True)\n",
       "            (LayerNorm): LayerNorm((768,), eps=1e-05, elementwise_affine=True)\n",
       "            (dropout): Dropout(p=0.1, inplace=False)\n",
       "          )\n",
       "        )\n",
       "      )\n",
       "    )\n",
       "  )\n",
       "  (classifier): RobertaClassificationHead(\n",
       "    (dense): Linear(in_features=768, out_features=768, bias=True)\n",
       "    (dropout): Dropout(p=0.1, inplace=False)\n",
       "    (out_proj): Linear(in_features=768, out_features=5, bias=True)\n",
       "  )\n",
       ")"
      ]
     },
     "execution_count": 14,
     "metadata": {},
     "output_type": "execute_result"
    }
   ],
   "source": [
    "tokenizer = RobertaTokenizer.from_pretrained(\"roberta-base\")\n",
    "model = RobertaForSequenceClassification.from_pretrained(\"roberta-base\", num_labels=5)\n",
    "device = torch.device(\"cuda\" if torch.cuda.is_available() else \"cpu\")\n",
    "model.to(device)"
   ]
  },
  {
   "cell_type": "code",
   "execution_count": 20,
   "metadata": {},
   "outputs": [
    {
     "name": "stderr",
     "output_type": "stream",
     "text": [
      "100%|██████████| 370855/370855 [01:21<00:00, 4547.94it/s]\n"
     ]
    },
    {
     "ename": "",
     "evalue": "",
     "output_type": "error",
     "traceback": [
      "\u001b[1;31mThe Kernel crashed while executing code in the current cell or a previous cell. \n",
      "\u001b[1;31mPlease review the code in the cell(s) to identify a possible cause of the failure. \n",
      "\u001b[1;31mClick <a href='https://aka.ms/vscodeJupyterKernelCrash'>here</a> for more info. \n",
      "\u001b[1;31mView Jupyter <a href='command:jupyter.viewOutput'>log</a> for further details."
     ]
    }
   ],
   "source": [
    "train_dataloader, val_dataloader, class_weights = get_data_loaders(tokenizer)\n",
    "class_weights = class_weights.to(device)"
   ]
  },
  {
   "cell_type": "code",
   "execution_count": null,
   "metadata": {},
   "outputs": [],
   "source": [
    "optimizer = AdamW(model.parameters(), lr=1e-5)\n",
    "loss_fn = CrossEntropyLoss(weight=class_weights)"
   ]
  },
  {
   "cell_type": "code",
   "execution_count": null,
   "metadata": {},
   "outputs": [],
   "source": [
    "model = train_model(model, train_dataloader, loss_fn, optimizer, device, epochs=10)\n",
    "torch.save(model.state_dict(), \"./models/roberta_cw.pth\")"
   ]
  },
  {
   "cell_type": "code",
   "execution_count": null,
   "metadata": {},
   "outputs": [],
   "source": [
    "accuracy = validate_model(model, val_dataloader, device)"
   ]
  },
  {
   "cell_type": "markdown",
   "metadata": {},
   "source": [
    "The accuracy was found to be 0.7863"
   ]
  },
  {
   "cell_type": "markdown",
   "metadata": {},
   "source": [
    "### DistilBert with Class Weights"
   ]
  },
  {
   "cell_type": "code",
   "execution_count": 8,
   "metadata": {},
   "outputs": [
    {
     "name": "stderr",
     "output_type": "stream",
     "text": [
      "tokenizer_config.json: 100%|██████████| 28.0/28.0 [00:00<00:00, 183kB/s]\n",
      "vocab.txt: 100%|██████████| 232k/232k [00:00<00:00, 555kB/s]\n",
      "tokenizer.json: 100%|██████████| 466k/466k [00:00<00:00, 699kB/s]\n",
      "config.json: 100%|██████████| 483/483 [00:00<00:00, 3.66MB/s]\n",
      "model.safetensors: 100%|██████████| 268M/268M [00:42<00:00, 6.27MB/s] \n",
      "Some weights of DistilBertForSequenceClassification were not initialized from the model checkpoint at distilbert-base-uncased and are newly initialized: ['classifier.bias', 'classifier.weight', 'pre_classifier.bias', 'pre_classifier.weight']\n",
      "You should probably TRAIN this model on a down-stream task to be able to use it for predictions and inference.\n"
     ]
    },
    {
     "data": {
      "text/plain": [
       "DistilBertForSequenceClassification(\n",
       "  (distilbert): DistilBertModel(\n",
       "    (embeddings): Embeddings(\n",
       "      (word_embeddings): Embedding(30522, 768, padding_idx=0)\n",
       "      (position_embeddings): Embedding(512, 768)\n",
       "      (LayerNorm): LayerNorm((768,), eps=1e-12, elementwise_affine=True)\n",
       "      (dropout): Dropout(p=0.1, inplace=False)\n",
       "    )\n",
       "    (transformer): Transformer(\n",
       "      (layer): ModuleList(\n",
       "        (0-5): 6 x TransformerBlock(\n",
       "          (attention): MultiHeadSelfAttention(\n",
       "            (dropout): Dropout(p=0.1, inplace=False)\n",
       "            (q_lin): Linear(in_features=768, out_features=768, bias=True)\n",
       "            (k_lin): Linear(in_features=768, out_features=768, bias=True)\n",
       "            (v_lin): Linear(in_features=768, out_features=768, bias=True)\n",
       "            (out_lin): Linear(in_features=768, out_features=768, bias=True)\n",
       "          )\n",
       "          (sa_layer_norm): LayerNorm((768,), eps=1e-12, elementwise_affine=True)\n",
       "          (ffn): FFN(\n",
       "            (dropout): Dropout(p=0.1, inplace=False)\n",
       "            (lin1): Linear(in_features=768, out_features=3072, bias=True)\n",
       "            (lin2): Linear(in_features=3072, out_features=768, bias=True)\n",
       "            (activation): GELUActivation()\n",
       "          )\n",
       "          (output_layer_norm): LayerNorm((768,), eps=1e-12, elementwise_affine=True)\n",
       "        )\n",
       "      )\n",
       "    )\n",
       "  )\n",
       "  (pre_classifier): Linear(in_features=768, out_features=768, bias=True)\n",
       "  (classifier): Linear(in_features=768, out_features=5, bias=True)\n",
       "  (dropout): Dropout(p=0.2, inplace=False)\n",
       ")"
      ]
     },
     "execution_count": 8,
     "metadata": {},
     "output_type": "execute_result"
    }
   ],
   "source": [
    "tokenizer = DistilBertTokenizer.from_pretrained(\"distilbert-base-uncased\")\n",
    "model = DistilBertForSequenceClassification.from_pretrained(\n",
    "    \"distilbert-base-uncased\", num_labels=5\n",
    ")\n",
    "device = torch.device(\"cuda\" if torch.cuda.is_available() else \"cpu\")\n",
    "model.to(device)"
   ]
  },
  {
   "cell_type": "code",
   "execution_count": null,
   "metadata": {},
   "outputs": [],
   "source": [
    "train_dataloader, val_dataloader, class_weights = get_data_loaders(tokenizer)\n",
    "class_weights = class_weights.to(device)"
   ]
  },
  {
   "cell_type": "code",
   "execution_count": null,
   "metadata": {},
   "outputs": [],
   "source": [
    "optimizer = AdamW(model.parameters(), lr=1e-5)\n",
    "loss_fn = CrossEntropyLoss(weight=class_weights)"
   ]
  },
  {
   "cell_type": "code",
   "execution_count": null,
   "metadata": {},
   "outputs": [],
   "source": [
    "model = train_model(model, train_dataloader, loss_fn, optimizer, device, epochs=4)\n",
    "torch.save(model.state_dict(), \"./models/distilbert_cw.pth\")"
   ]
  },
  {
   "cell_type": "code",
   "execution_count": null,
   "metadata": {},
   "outputs": [],
   "source": [
    "accuracy = validate_model(model, val_dataloader, device)"
   ]
  },
  {
   "cell_type": "markdown",
   "metadata": {},
   "source": [
    "The accuracy was found to be 0.7827"
   ]
  },
  {
   "cell_type": "markdown",
   "metadata": {},
   "source": [
    "### DistilBert without Class Weights"
   ]
  },
  {
   "cell_type": "code",
   "execution_count": 10,
   "metadata": {},
   "outputs": [
    {
     "name": "stderr",
     "output_type": "stream",
     "text": [
      "Some weights of DistilBertForSequenceClassification were not initialized from the model checkpoint at distilbert-base-uncased and are newly initialized: ['classifier.bias', 'classifier.weight', 'pre_classifier.bias', 'pre_classifier.weight']\n",
      "You should probably TRAIN this model on a down-stream task to be able to use it for predictions and inference.\n"
     ]
    },
    {
     "data": {
      "text/plain": [
       "DistilBertForSequenceClassification(\n",
       "  (distilbert): DistilBertModel(\n",
       "    (embeddings): Embeddings(\n",
       "      (word_embeddings): Embedding(30522, 768, padding_idx=0)\n",
       "      (position_embeddings): Embedding(512, 768)\n",
       "      (LayerNorm): LayerNorm((768,), eps=1e-12, elementwise_affine=True)\n",
       "      (dropout): Dropout(p=0.1, inplace=False)\n",
       "    )\n",
       "    (transformer): Transformer(\n",
       "      (layer): ModuleList(\n",
       "        (0-5): 6 x TransformerBlock(\n",
       "          (attention): MultiHeadSelfAttention(\n",
       "            (dropout): Dropout(p=0.1, inplace=False)\n",
       "            (q_lin): Linear(in_features=768, out_features=768, bias=True)\n",
       "            (k_lin): Linear(in_features=768, out_features=768, bias=True)\n",
       "            (v_lin): Linear(in_features=768, out_features=768, bias=True)\n",
       "            (out_lin): Linear(in_features=768, out_features=768, bias=True)\n",
       "          )\n",
       "          (sa_layer_norm): LayerNorm((768,), eps=1e-12, elementwise_affine=True)\n",
       "          (ffn): FFN(\n",
       "            (dropout): Dropout(p=0.1, inplace=False)\n",
       "            (lin1): Linear(in_features=768, out_features=3072, bias=True)\n",
       "            (lin2): Linear(in_features=3072, out_features=768, bias=True)\n",
       "            (activation): GELUActivation()\n",
       "          )\n",
       "          (output_layer_norm): LayerNorm((768,), eps=1e-12, elementwise_affine=True)\n",
       "        )\n",
       "      )\n",
       "    )\n",
       "  )\n",
       "  (pre_classifier): Linear(in_features=768, out_features=768, bias=True)\n",
       "  (classifier): Linear(in_features=768, out_features=5, bias=True)\n",
       "  (dropout): Dropout(p=0.2, inplace=False)\n",
       ")"
      ]
     },
     "execution_count": 10,
     "metadata": {},
     "output_type": "execute_result"
    }
   ],
   "source": [
    "tokenizer = DistilBertTokenizer.from_pretrained(\"distilbert-base-uncased\")\n",
    "model = DistilBertForSequenceClassification.from_pretrained(\n",
    "    \"distilbert-base-uncased\", num_labels=5\n",
    ")\n",
    "device = torch.device(\"cuda\" if torch.cuda.is_available() else \"cpu\")\n",
    "model.to(device)"
   ]
  },
  {
   "cell_type": "code",
   "execution_count": null,
   "metadata": {},
   "outputs": [],
   "source": [
    "train_dataloader, val_dataloader, _ = get_data_loaders(tokenizer)\n",
    "optimizer = AdamW(model.parameters(), lr=1e-5)\n",
    "loss_fn = CrossEntropyLoss()"
   ]
  },
  {
   "cell_type": "code",
   "execution_count": null,
   "metadata": {},
   "outputs": [],
   "source": [
    "model = train_model(model, train_dataloader, loss_fn, optimizer, device, epochs=4)\n",
    "torch.save(model, \"./models/distilbert.pth\")"
   ]
  },
  {
   "cell_type": "code",
   "execution_count": null,
   "metadata": {},
   "outputs": [],
   "source": [
    "accuracy = validate_model(model, val_dataloader, device)"
   ]
  },
  {
   "cell_type": "markdown",
   "metadata": {},
   "source": [
    "The accuracy was found to be 0.8404"
   ]
  },
  {
   "cell_type": "markdown",
   "metadata": {},
   "source": [
    "### Bert with Huggingface Trainer"
   ]
  },
  {
   "cell_type": "code",
   "execution_count": null,
   "metadata": {},
   "outputs": [],
   "source": [
    "MAX_LEN = 128\n",
    "BATCH_SIZE = 32\n",
    "EPOCHS = 5"
   ]
  },
  {
   "cell_type": "code",
   "execution_count": null,
   "metadata": {},
   "outputs": [],
   "source": [
    "class AmazonReviewDataset(Dataset):\n",
    "    def __init__(self, reviews, labels, tokenizer, max_length):\n",
    "        self.reviews = reviews\n",
    "        self.labels = labels\n",
    "        self.tokenizer = tokenizer\n",
    "        self.max_length = max_length\n",
    "\n",
    "    def __len__(self):\n",
    "        return len(self.reviews)\n",
    "\n",
    "    def __getitem__(self, idx):\n",
    "        review = self.reviews[idx]\n",
    "        label = self.labels[idx]\n",
    "        encoding = self.tokenizer.encode_plus(\n",
    "            review,\n",
    "            add_special_tokens=True,\n",
    "            max_length=self.max_length,\n",
    "            return_token_type_ids=False,\n",
    "            padding=\"max_length\",\n",
    "            truncation=True,\n",
    "            return_attention_mask=True,\n",
    "            return_tensors=\"pt\",\n",
    "        )\n",
    "\n",
    "        return {\n",
    "            \"review_text\": review,\n",
    "            \"input_ids\": encoding[\"input_ids\"].flatten(),\n",
    "            \"attention_mask\": encoding[\"attention_mask\"].flatten(),\n",
    "            \"labels\": torch.tensor(label, dtype=torch.long),\n",
    "        }"
   ]
  },
  {
   "cell_type": "code",
   "execution_count": 12,
   "metadata": {},
   "outputs": [
    {
     "name": "stderr",
     "output_type": "stream",
     "text": [
      "tokenizer_config.json: 100%|██████████| 48.0/48.0 [00:00<00:00, 282kB/s]\n",
      "vocab.txt: 100%|██████████| 232k/232k [00:00<00:00, 589kB/s]\n",
      "tokenizer.json: 100%|██████████| 466k/466k [00:00<00:00, 784kB/s]\n",
      "config.json: 100%|██████████| 570/570 [00:00<00:00, 4.53MB/s]\n",
      "model.safetensors: 100%|██████████| 440M/440M [01:17<00:00, 5.69MB/s] \n",
      "Some weights of BertForSequenceClassification were not initialized from the model checkpoint at bert-base-uncased and are newly initialized: ['classifier.bias', 'classifier.weight']\n",
      "You should probably TRAIN this model on a down-stream task to be able to use it for predictions and inference.\n"
     ]
    }
   ],
   "source": [
    "tokenizer = BertTokenizer.from_pretrained(\"bert-base-uncased\")\n",
    "model = BertForSequenceClassification.from_pretrained(\"bert-base-uncased\", num_labels=5)"
   ]
  },
  {
   "cell_type": "code",
   "execution_count": null,
   "metadata": {},
   "outputs": [],
   "source": [
    "df = pd.read_csv(\"data/train.csv\")\n",
    "df = df[[\"Review\", \"overall\"]]\n",
    "df = df.dropna(subset=[\"Review\"])\n",
    "df[\"overall\"] = df[\"overall\"] - 1\n",
    "\n",
    "X_train, X_val, y_train, y_val = train_test_split(\n",
    "    df[\"Review\"], df[\"overall\"], test_size=0.2, random_state=42\n",
    ")\n",
    "\n",
    "train_dataset = AmazonReviewDataset(\n",
    "    X_train.to_numpy(), y_train.to_numpy(), tokenizer, MAX_LEN\n",
    ")\n",
    "val_dataset = AmazonReviewDataset(\n",
    "    X_val.to_numpy(), y_val.to_numpy(), tokenizer, MAX_LEN\n",
    ")"
   ]
  },
  {
   "cell_type": "code",
   "execution_count": null,
   "metadata": {},
   "outputs": [],
   "source": [
    "# Define the training arguments\n",
    "training_args = TrainingArguments(\n",
    "    output_dir=\"./results\",\n",
    "    num_train_epochs=EPOCHS,\n",
    "    per_device_train_batch_size=BATCH_SIZE,\n",
    "    per_device_eval_batch_size=BATCH_SIZE,\n",
    "    warmup_steps=500,\n",
    "    weight_decay=0.01,\n",
    "    logging_dir=\"./logs\",\n",
    "    logging_steps=10,\n",
    ")\n",
    "\n",
    "# Initialize the Trainer\n",
    "trainer = Trainer(\n",
    "    model=model,\n",
    "    args=training_args,\n",
    "    train_dataset=train_dataset,\n",
    "    eval_dataset=val_dataset,\n",
    ")"
   ]
  },
  {
   "cell_type": "code",
   "execution_count": null,
   "metadata": {},
   "outputs": [],
   "source": [
    "trainer.train()"
   ]
  },
  {
   "cell_type": "code",
   "execution_count": null,
   "metadata": {},
   "outputs": [],
   "source": [
    "val_loader = DataLoader(val_dataset, batch_size=BATCH_SIZE, shuffle=False)\n",
    "\n",
    "# Evaluate the model\n",
    "model.eval()\n",
    "all_preds = []\n",
    "all_labels = []\n",
    "with torch.no_grad():\n",
    "    for batch in tqdm(val_loader):\n",
    "        input_ids = batch[\"input_ids\"].to(device)\n",
    "        attention_mask = batch[\"attention_mask\"].to(device)\n",
    "        labels = batch[\"labels\"].to(device)\n",
    "\n",
    "        outputs = model(input_ids, attention_mask=attention_mask)\n",
    "        logits = outputs.logits\n",
    "        preds = torch.argmax(logits, dim=1)\n",
    "\n",
    "        all_preds.extend(preds.cpu().numpy())\n",
    "        all_labels.extend(labels.cpu().numpy())\n",
    "\n",
    "# Calculate the accuracy\n",
    "accuracy = accuracy_score(all_labels, all_preds)"
   ]
  },
  {
   "cell_type": "markdown",
   "metadata": {},
   "source": [
    "The accuracy was found to be 0.8411\n",
    "The trained model is saved under models/bert"
   ]
  },
  {
   "cell_type": "markdown",
   "metadata": {},
   "source": [
    "# Topic Modelling"
   ]
  },
  {
   "cell_type": "code",
   "execution_count": 29,
   "metadata": {},
   "outputs": [
    {
     "data": {
      "text/html": [
       "<div>\n",
       "<style scoped>\n",
       "    .dataframe tbody tr th:only-of-type {\n",
       "        vertical-align: middle;\n",
       "    }\n",
       "\n",
       "    .dataframe tbody tr th {\n",
       "        vertical-align: top;\n",
       "    }\n",
       "\n",
       "    .dataframe thead th {\n",
       "        text-align: right;\n",
       "    }\n",
       "</style>\n",
       "<table border=\"1\" class=\"dataframe\">\n",
       "  <thead>\n",
       "    <tr style=\"text-align: right;\">\n",
       "      <th></th>\n",
       "      <th>tokenized</th>\n",
       "      <th>overall</th>\n",
       "      <th>tokenized_joined</th>\n",
       "    </tr>\n",
       "  </thead>\n",
       "  <tbody>\n",
       "    <tr>\n",
       "      <th>0</th>\n",
       "      <td>[love, glitter, pen, sparkle, delightfully, pa...</td>\n",
       "      <td>5</td>\n",
       "      <td>love glitter pen sparkle delightfully page bri...</td>\n",
       "    </tr>\n",
       "    <tr>\n",
       "      <th>1</th>\n",
       "      <td>[work, well, machine, use, mostly, cone]</td>\n",
       "      <td>5</td>\n",
       "      <td>work well machine use mostly cone</td>\n",
       "    </tr>\n",
       "    <tr>\n",
       "      <th>2</th>\n",
       "      <td>[great, assortment, color, though, lot, pink, ...</td>\n",
       "      <td>5</td>\n",
       "      <td>great assortment color though lot pink mix sti...</td>\n",
       "    </tr>\n",
       "    <tr>\n",
       "      <th>3</th>\n",
       "      <td>[look]</td>\n",
       "      <td>5</td>\n",
       "      <td>look</td>\n",
       "    </tr>\n",
       "    <tr>\n",
       "      <th>4</th>\n",
       "      <td>[make, bird, hospital, month]</td>\n",
       "      <td>5</td>\n",
       "      <td>make bird hospital month</td>\n",
       "    </tr>\n",
       "  </tbody>\n",
       "</table>\n",
       "</div>"
      ],
      "text/plain": [
       "                                           tokenized  overall  \\\n",
       "0  [love, glitter, pen, sparkle, delightfully, pa...        5   \n",
       "1           [work, well, machine, use, mostly, cone]        5   \n",
       "2  [great, assortment, color, though, lot, pink, ...        5   \n",
       "3                                             [look]        5   \n",
       "4                      [make, bird, hospital, month]        5   \n",
       "\n",
       "                                    tokenized_joined  \n",
       "0  love glitter pen sparkle delightfully page bri...  \n",
       "1                  work well machine use mostly cone  \n",
       "2  great assortment color though lot pink mix sti...  \n",
       "3                                               look  \n",
       "4                           make bird hospital month  "
      ]
     },
     "execution_count": 29,
     "metadata": {},
     "output_type": "execute_result"
    }
   ],
   "source": [
    "processed_train = pd.read_pickle(\"processed_train.pkl\")\n",
    "processed_train.head()"
   ]
  },
  {
   "cell_type": "code",
   "execution_count": 35,
   "metadata": {},
   "outputs": [],
   "source": [
    "# Topic modelling on 5-star reviews\n",
    "from sklearn.decomposition import LatentDirichletAllocation\n",
    "from sklearn.feature_extraction.text import CountVectorizer\n",
    "import pyLDAvis\n",
    "import pyLDAvis.gensim_models as gensimvis\n",
    "from gensim.corpora import Dictionary\n",
    "from gensim.models.ldamodel import LdaModel\n",
    "from IPython.display import display as ipy_display"
   ]
  },
  {
   "cell_type": "code",
   "execution_count": 31,
   "metadata": {},
   "outputs": [],
   "source": [
    "def print_top_words(model, feature_names, n_top_words):\n",
    "    for topic_idx, topic in enumerate(model.components_):\n",
    "        print(f\"Topic #{topic_idx}:\")\n",
    "        print(\" \".join([feature_names[i] for i in topic.argsort()[:-n_top_words - 1:-1]]))\n",
    "    print()\n"
   ]
  },
  {
   "cell_type": "code",
   "execution_count": 42,
   "metadata": {},
   "outputs": [],
   "source": [
    "def topic_modelling():\n",
    "    for rating in [1,5]:\n",
    "        reviews_data = processed_train[processed_train[\"overall\"] == rating][\"tokenized_joined\"]\n",
    "        count_vectorizer = CountVectorizer()\n",
    "        count_data = count_vectorizer.fit_transform(reviews_data)\n",
    "        lda = LatentDirichletAllocation(n_components=10, random_state=42)\n",
    "        lda.fit(count_data)\n",
    "        print(f\"Topics in LDA model for {rating}-star reviews:\")\n",
    "        print_top_words(lda, count_vectorizer.get_feature_names_out(), 10)\n",
    "\n",
    "def display_topic_modelling():\n",
    "    for rating in [1,5]:\n",
    "        print(f\"Visualizing LDA model for {rating}-star reviews\")\n",
    "        reviews_data = processed_train[processed_train[\"overall\"] == rating][\"tokenized\"]\n",
    "        dictionary = Dictionary(reviews_data)\n",
    "        corpus = [dictionary.doc2bow(doc) for doc in reviews_data]\n",
    "        lda = LdaModel(corpus=corpus, id2word=dictionary, num_topics=10, random_state=42)\n",
    "        vis_data = gensimvis.prepare(lda, corpus, dictionary)\n",
    "        ipy_display(pyLDAvis.display(vis_data))\n"
   ]
  },
  {
   "cell_type": "code",
   "execution_count": 33,
   "metadata": {},
   "outputs": [
    {
     "name": "stdout",
     "output_type": "stream",
     "text": [
      "Topics in LDA model for 1-star reviews:\n",
      "Topic #0:\n",
      "yarn one price skein would item return make pay box\n",
      "Topic #1:\n",
      "use make one glue get product like buy quality even\n",
      "Topic #2:\n",
      "cut paper use work small get punch would die well\n",
      "Topic #3:\n",
      "tape pencil use product fabric try get buy would back\n",
      "Topic #4:\n",
      "color bead picture look like order receive product show get\n",
      "Topic #5:\n",
      "brush needle would get use one buy hold size good\n",
      "Topic #6:\n",
      "paint color ink use hook like paper buy dry try\n",
      "Topic #7:\n",
      "blade cut money waste one like buy needle scissors size\n",
      "Topic #8:\n",
      "thread bobbin machine spool link work use fit make sew\n",
      "Topic #9:\n",
      "use get machine one would work time make buy break\n",
      "\n",
      "Topics in LDA model for 5-star reviews:\n",
      "Topic #0:\n",
      "color yarn make love beautiful use project soft nice work\n",
      "Topic #1:\n",
      "love tool use set easy case like buy scissors nice\n",
      "Topic #2:\n",
      "great work product price glue use love quality project easy\n",
      "Topic #3:\n",
      "get use one time buy would cut work find need\n",
      "Topic #4:\n",
      "nice work well paint perfect use make brush like clean\n",
      "Topic #5:\n",
      "color use paper pencil brush paint set pen watercolor marker\n",
      "Topic #6:\n",
      "machine use sew thread fabric quilt make easy one cut\n",
      "Topic #7:\n",
      "good quality bead product price exactly nice expect excellent order\n",
      "Topic #8:\n",
      "needle use hook size make one work knit small like\n",
      "Topic #9:\n",
      "use make card love stamp paper die cut great fun\n",
      "\n"
     ]
    }
   ],
   "source": [
    "topic_modelling()"
   ]
  },
  {
   "cell_type": "code",
   "execution_count": 43,
   "metadata": {},
   "outputs": [
    {
     "name": "stdout",
     "output_type": "stream",
     "text": [
      "Visualizing LDA model for 1-star reviews\n"
     ]
    },
    {
     "data": {
      "text/html": [
       "\n",
       "<link rel=\"stylesheet\" type=\"text/css\" href=\"https://cdn.jsdelivr.net/gh/bmabey/pyLDAvis@3.4.0/pyLDAvis/js/ldavis.v1.0.0.css\">\n",
       "\n",
       "\n",
       "<div id=\"ldavis_el767621051310329763062401544\" style=\"background-color:white;\"></div>\n",
       "<script type=\"text/javascript\">\n",
       "\n",
       "var ldavis_el767621051310329763062401544_data = {\"mdsDat\": {\"x\": [0.04441330068260113, 0.032130433836964706, -0.009990756477830796, 0.01305467707905107, 0.022214560673109514, 0.008473509436059373, 0.015953485830587647, 0.02632480593407463, 0.07826949858543314, -0.2308435155800505], \"y\": [-0.01855719774331033, -0.023320918322601757, -0.08698498303310566, -0.04911728059582359, -0.033692963501609205, -0.019121432682973706, 0.025266478107166566, -0.03426777488998692, 0.187991226506287, 0.05180484615595739], \"topics\": [1, 2, 3, 4, 5, 6, 7, 8, 9, 10], \"cluster\": [1, 1, 1, 1, 1, 1, 1, 1, 1, 1], \"Freq\": [22.19642312936039, 14.632692509249202, 13.682213951104169, 9.24115050668645, 8.796262205092473, 8.24444321297114, 7.595199689399316, 6.459015296386633, 5.963350202233266, 3.1892492975169553]}, \"tinfo\": {\"Term\": [\"cut\", \"blade\", \"color\", \"brush\", \"paper\", \"paint\", \"yarn\", \"quality\", \"machine\", \"stamp\", \"break\", \"cheap\", \"use\", \"would\", \"needle\", \"die\", \"size\", \"pen\", \"punch\", \"glue\", \"stick\", \"product\", \"bead\", \"cutter\", \"arrive\", \"box\", \"picture\", \"tip\", \"poor\", \"hook\", \"refuse\", \"dmc\", \"tag\", \"template\", \"torn\", \"chalkboard\", \"laugh\", \"soy\", \"gotten\", \"crackle\", \"fool\", \"stress\", \"sweater\", \"postage\", \"notch\", \"mom\", \"symbol\", \"feeling\", \"accessory\", \"sequin\", \"dissolve\", \"shank\", \"finished\", \"promptly\", \"binder\", \"expected\", \"practically\", \"wider\", \"camper\", \"hem\", \"stabilizer\", \"dress\", \"grommet\", \"machine\", \"foot\", \"additional\", \"comment\", \"sew\", \"brother\", \"thread\", \"threader\", \"bobbin\", \"suggestion\", \"waste\", \"money\", \"pin\", \"singer\", \"wind\", \"worth\", \"repair\", \"ship\", \"stitch\", \"would\", \"needle\", \"read\", \"pay\", \"bad\", \"get\", \"go\", \"buy\", \"make\", \"work\", \"spool\", \"great\", \"quilt\", \"review\", \"return\", \"one\", \"fabric\", \"think\", \"product\", \"even\", \"like\", \"give\", \"time\", \"good\", \"use\", \"look\", \"way\", \"try\", \"achieve\", \"usage\", \"polish\", \"throat\", \"underneath\", \"constant\", \"snip\", \"epoxy\", \"lower\", \"l\", \"loss\", \"approx\", \"connector\", \"resistant\", \"bump\", \"opened\", \"washer\", \"initially\", \"sulky\", \"dremel\", \"chunky\", \"heal\", \"velcro\", \"permanent\", \"misshapen\", \"queen\", \"elastic\", \"profile\", \"teeth\", \"deeply\", \"application\", \"flake\", \"making\", \"jewelry\", \"clay\", \"hammer\", \"hook\", \"crochet\", \"tarnish\", \"gingher\", \"polymer\", \"adhere\", \"cloth\", \"head\", \"magnet\", \"steel\", \"use\", \"cap\", \"wire\", \"complain\", \"cheaply\", \"metal\", \"try\", \"make\", \"stuff\", \"first\", \"work\", \"vinyl\", \"would\", \"well\", \"get\", \"time\", \"year\", \"even\", \"find\", \"much\", \"fold\", \"come\", \"marker\", \"good\", \"hand\", \"like\", \"one\", \"product\", \"brand\", \"go\", \"return\", \"small\", \"buy\", \"purchase\", \"want\", \"back\", \"yarn\", \"really\", \"review\", \"drip\", \"neon\", \"grey\", \"bobbins\", \"copper\", \"accord\", \"genuine\", \"tacky\", \"charcoal\", \"pumpkin\", \"shock\", \"alright\", \"rainbow\", \"orange\", \"swarovski\", \"fade\", \"gray\", \"yardage\", \"outfit\", \"english\", \"scream\", \"turquoise\", \"ann\", \"dyed\", \"bleeds\", \"brighter\", \"joanns\", \"tint\", \"relatively\", \"yarnspirations\", \"pen\", \"darker\", \"red\", \"tin\", \"green\", \"heart\", \"blue\", \"color\", \"dye\", \"bright\", \"yard\", \"skein\", \"yarn\", \"picture\", \"white\", \"black\", \"bead\", \"show\", \"purple\", \"yellow\", \"book\", \"pastel\", \"knot\", \"look\", \"receive\", \"pencil\", \"photo\", \"pink\", \"like\", \"order\", \"soft\", \"description\", \"buy\", \"see\", \"nothing\", \"ball\", \"get\", \"use\", \"one\", \"light\", \"would\", \"much\", \"work\", \"never\", \"want\", \"say\", \"make\", \"spindle\", \"scotch\", \"liner\", \"john\", \"ripper\", \"settle\", \"james\", \"15j\", \"acto\", \"clumsy\", \"dickblick\", \"minus\", \"gesso\", \"wonderfully\", \"miniature\", \"king\", \"folded\", \"fasten\", \"magnifier\", \"allergy\", \"crewel\", \"rit\", \"temperature\", \"starch\", \"juki\", \"ceramic\", \"towel\", \"coupon\", \"fiddle\", \"streaky\", \"brush\", \"bristle\", \"tray\", \"wick\", \"winsor\", \"delivery\", \"cr\", \"master\", \"link\", \"rvw\", \"leather\", \"hair\", \"dp\", \"href\", \"txt\", \"nbsp\", \"cm\", \"ref\", \"arp\", \"utf8\", \"candle\", \"newton\", \"ie\", \"clover\", \"data\", \"ring\", \"point\", \"class\", \"needle\", \"tweezer\", \"water\", \"use\", \"hold\", \"smell\", \"tip\", \"break\", \"one\", \"size\", \"work\", \"buy\", \"would\", \"well\", \"paint\", \"open\", \"fine\", \"product\", \"quality\", \"time\", \"make\", \"expect\", \"come\", \"finger\", \"try\", \"good\", \"get\", \"purchase\", \"even\", \"like\", \"go\", \"ounce\", \"janome\", \"budget\", \"jumbo\", \"address\", \"addi\", \"curl\", \"blending\", \"glob\", \"smash\", \"applicator\", \"fabulous\", \"november\", \"frayed\", \"bird\", \"spiral\", \"waited\", \"additionally\", \"burner\", \"sable\", \"pill\", \"finer\", \"clothing\", \"versafine\", \"sits\", \"zig\", \"significant\", \"stamp\", \"lightly\", \"podge\", \"cable\", \"shaft\", \"ranger\", \"power\", \"jean\", \"patch\", \"chipboard\", \"impression\", \"delicate\", \"paint\", \"blender\", \"smudge\", \"distress\", \"pad\", \"glue\", \"snap\", \"tip\", \"medium\", \"row\", \"acrylic\", \"ink\", \"bottle\", \"cute\", \"watercolor\", \"light\", \"use\", \"block\", \"paper\", \"thin\", \"unfortunately\", \"charm\", \"fray\", \"needle\", \"dry\", \"get\", \"small\", \"one\", \"old\", \"project\", \"much\", \"work\", \"well\", \"even\", \"try\", \"come\", \"go\", \"like\", \"money\", \"piece\", \"want\", \"way\", \"would\", \"product\", \"good\", \"expose\", \"wobbly\", \"creative\", \"dispenser\", \"exist\", \"rubbish\", \"silly\", \"woman\", \"clunky\", \"ruby\", \"precisely\", \"disconnect\", \"mi\", \"out\", \"interchangeable\", \"jag\", \"proof\", \"tandy\", \"yr\", \"visible\", \"action\", \"outline\", \"gloppy\", \"versamark\", \"manner\", \"extension\", \"scallop\", \"eat\", \"needed\", \"pride\", \"gun\", \"stencil\", \"answer\", \"cup\", \"buyer\", \"reality\", \"dried\", \"email\", \"stick\", \"tape\", \"peel\", \"adhesive\", \"cartridge\", \"beware\", \"ugh\", \"send\", \"hot\", \"back\", \"sent\", \"envelope\", \"iron\", \"product\", \"software\", \"glue\", \"roll\", \"floss\", \"sticky\", \"time\", \"design\", \"size\", \"use\", \"get\", \"really\", \"come\", \"need\", \"say\", \"make\", \"one\", \"return\", \"buy\", \"like\", \"work\", \"try\", \"well\", \"would\", \"take\", \"break\", \"even\", \"needle\", \"color\", \"spellbinder\", \"counter\", \"sign\", \"discard\", \"shim\", \"sculpey\", \"www\", \"sr\", \"premier\", \"till\", \"v\", \"assembly\", \"wife\", \"garage\", \"folder\", \"feedback\", \"de\", \"cuttlebug\", \"weld\", \"copic\", \"serger\", \"oppose\", \"unevenly\", \"inner\", \"die\", \"dent\", \"serve\", \"grand\", \"keywords\", \"qid\", \"crimp\", \"leaf\", \"band\", \"emboss\", \"martha\", \"foam\", \"stock\", \"poor\", \"sizzix\", \"dy\", \"quality\", \"rag\", \"core\", \"stewart\", \"mold\", \"late\", \"plate\", \"video\", \"crap\", \"label\", \"cut\", \"good\", \"ok\", \"think\", \"use\", \"one\", \"product\", \"card\", \"small\", \"get\", \"bag\", \"would\", \"try\", \"price\", \"break\", \"well\", \"buy\", \"like\", \"cheap\", \"paper\", \"return\", \"expect\", \"come\", \"work\", \"package\", \"could\", \"take\", \"money\", \"really\", \"laser\", \"zip\", \"graphite\", \"health\", \"rod\", \"bomb\", \"continuous\", \"bum\", \"flop\", \"chase\", \"warning\", \"boo\", \"fire\", \"stage\", \"lumpy\", \"chair\", \"dump\", \"twelve\", \"automatic\", \"satin\", \"labor\", \"mm\", \"wing\", \"worthy\", \"lion\", \"instal\", \"mother\", \"endocrine\", \"swallow\", \"stated\", \"wrist\", \"accurate\", \"matte\", \"attached\", \"toxic\", \"opaque\", \"bath\", \"boye\", \"hole\", \"measure\", \"silhouette\", \"load\", \"serious\", \"plier\", \"diameter\", \"inch\", \"fit\", \"hang\", \"size\", \"small\", \"hand\", \"tiny\", \"case\", \"punch\", \"burn\", \"even\", \"tool\", \"knit\", \"get\", \"close\", \"shape\", \"part\", \"make\", \"bag\", \"enough\", \"use\", \"put\", \"bead\", \"would\", \"could\", \"product\", \"big\", \"side\", \"large\", \"keep\", \"also\", \"one\", \"return\", \"well\", \"look\", \"work\", \"like\", \"series\", \"rotary\", \"bake\", \"glow\", \"rug\", \"display\", \"gouge\", \"wal\", \"mart\", \"presentation\", \"appeal\", \"animal\", \"keeper\", \"fraction\", \"blade\", \"resort\", \"nick\", \"scan\", \"hell\", \"mirror\", \"garden\", \"guillotine\", \"crinkle\", \"brass\", \"december\", \"nature\", \"substantial\", \"4x\", \"whenever\", \"discolored\", \"cutter\", \"olfa\", \"circle\", \"ruler\", \"cut\", \"tablet\", \"fiskars\", \"punch\", \"cardstock\", \"cleanly\", \"mat\", \"paper\", \"frequently\", \"print\", \"canvas\", \"pattern\", \"line\", \"dull\", \"straight\", \"sharp\", \"customer\", \"fabric\", \"tear\", \"buy\", \"purchase\", \"suck\", \"way\", \"one\", \"make\", \"well\", \"get\", \"product\", \"use\", \"would\", \"back\", \"try\", \"work\", \"go\", \"piece\", \"fluid\", \"chain\", \"explain\", \"deserve\", \"petal\", \"concept\", \"tab\", \"fastener\", \"steal\", \"arrival\", \"explore\", \"listen\", \"neck\", \"burlap\", \"field\", \"ek\", \"apparent\", \"primary\", \"allowed\", \"shine\", \"mar\", \"publish\", \"removable\", \"hinge\", \"flammable\", \"fish\", \"candy\", \"friends\", \"plaid\", \"instructed\", \"dissatisfy\", \"nickel\", \"snazaroo\", \"ribbon\", \"rhinestone\", \"million\", \"damage\", \"flower\", \"knock\", \"describe\", \"crayon\", \"screw\", \"arrive\", \"empty\", \"easily\", \"cheap\", \"break\", \"lead\", \"recommend\", \"miss\", \"kit\", \"box\", \"would\", \"return\", \"order\", \"plastic\", \"happy\", \"dry\", \"like\", \"one\", \"package\", \"come\", \"product\", \"part\", \"thin\", \"use\", \"useless\", \"nice\"], \"Freq\": [1711.0, 588.0, 1430.0, 705.0, 1262.0, 834.0, 1071.0, 983.0, 1346.0, 351.0, 800.0, 755.0, 4359.0, 2946.0, 1117.0, 269.0, 916.0, 407.0, 349.0, 530.0, 525.0, 2126.0, 567.0, 231.0, 371.0, 592.0, 613.0, 477.0, 333.0, 457.0, 36.75170046896776, 37.25662840919909, 30.08803393410073, 38.96962282049409, 29.959218988560103, 26.209977385499542, 25.726440137226792, 41.80344593398622, 24.243005738337956, 21.589024250971864, 36.50589807083501, 22.72591598888067, 23.924821197128427, 21.293758079526608, 42.88431481232242, 35.708450256261955, 18.99444925337065, 25.182623669205828, 34.00282200629421, 23.299213115604832, 18.572557167370494, 16.91690832200816, 15.97686763753368, 15.20346553567585, 15.216590113553712, 21.27070839992998, 14.290468271308901, 14.264579416922444, 14.17118930200823, 31.42696506516131, 38.77139301382003, 33.48742130626283, 18.126182202993736, 1113.6960545893126, 208.15392196773473, 29.062311982674945, 48.676465179131455, 413.0814908955634, 162.11946185845488, 697.5687136331493, 53.5435089528873, 302.19514148970285, 40.931779240022834, 663.4564945231089, 859.9686661042306, 205.4852834206668, 163.80823440969857, 144.20734030363113, 316.8370973581176, 66.72667984008935, 160.77715510389913, 211.04736294779502, 963.165434863068, 451.1473785988898, 194.02041058091538, 259.7855245320605, 314.6060344153192, 839.2094143053431, 456.47176811338176, 669.6229579791017, 617.4916478410504, 642.6522002490445, 103.03598787581532, 250.28450873430074, 138.6188450814476, 273.0724654162905, 413.69115283915283, 660.1736718499322, 277.7324656112103, 330.75545278060434, 503.3225526263054, 395.2464386042957, 437.6799347353537, 278.87054394162857, 368.85541698676644, 347.4833774297436, 548.030565646635, 299.24762648014286, 259.8989506057848, 270.00201878221515, 26.659132730158774, 29.276478399852298, 48.405795764193876, 23.176267161616686, 29.267156909608758, 20.02304031339925, 20.0020453192924, 18.165810973487897, 17.352790172181955, 17.574301717004385, 16.3027121561412, 16.245172275369484, 19.251356045894692, 15.1368101372635, 14.937946752314783, 18.209150096982597, 14.790280834391103, 22.305418283974305, 14.373447648647936, 16.074138236490995, 17.13983370741996, 13.666541932198216, 23.506159240679555, 20.00554589252542, 13.12524415498352, 12.282373471670072, 20.24825511844527, 14.452613809049227, 12.289588917402188, 12.995537148953732, 37.11614305721664, 31.192879673074046, 51.31890609091254, 135.99297144959127, 89.69034457514084, 53.37254756998038, 358.8464730554389, 127.96594167134758, 25.895539051694588, 31.413251103574503, 25.988386583959553, 45.72127413638515, 52.13249167107242, 101.3656050590375, 30.375789297035507, 41.7973637876791, 1151.8458449872915, 76.66999410476305, 94.93901709423177, 38.365476108588936, 62.45137503670045, 174.17639663683494, 429.2399689119155, 553.562426131306, 114.86281890119456, 254.7363341288005, 531.9340351789159, 53.01747796630727, 515.971421236342, 302.3639258606264, 479.9959329997398, 312.4295982806355, 142.6620490627437, 311.61006721541884, 177.71877406166118, 212.17203232731276, 63.826268456087064, 220.9972434744328, 127.20392303970597, 225.3067235962475, 128.99106490733544, 262.2424414506891, 291.6003345697444, 258.48930333683205, 142.86581705059973, 196.91661018543053, 189.593951480593, 179.41570332790315, 223.18420232154998, 161.28501420950047, 151.3716103911593, 162.3276698701729, 159.42221942263964, 151.37152593824658, 142.97155209734862, 67.75968129247377, 50.89597024418025, 66.71627972348782, 40.027709948744985, 37.29351787533319, 32.35601642469884, 32.82410045155718, 28.213679187533135, 25.842238761157297, 24.783458329106654, 23.892301581920766, 20.22859246758625, 27.826250289109684, 83.5802553119162, 27.62230563856276, 39.452252239829484, 51.16368091231246, 15.141622879477955, 16.2239602157031, 14.225629959405637, 14.603361685123858, 18.505946592889327, 14.590284716068595, 13.997646704737123, 22.029658698832414, 14.142108321449577, 12.732317678573146, 15.466189934806957, 12.922219985990532, 13.208469192455086, 372.6208418993381, 23.595548750175638, 252.30618810640556, 28.675248420025177, 147.84023645113697, 122.60975662277623, 220.09454939576443, 1137.4720409471324, 157.4038124398955, 78.29847066918431, 150.09315500036885, 227.24919922619947, 752.9388383236138, 447.4469113778443, 227.84830761284474, 177.09997050572525, 375.4503947688316, 261.5296839325228, 55.76119498677079, 71.53001784878349, 83.50071164688381, 47.76554837741016, 96.38853055735012, 491.71213576108636, 346.5256869758004, 156.98470189905072, 133.98332411106273, 96.94353576031567, 564.8430004684385, 359.9155556819348, 108.66987344099691, 144.46342506143347, 468.7188126279513, 223.6503320576107, 168.24919988456472, 107.43102014430154, 377.4302289316691, 431.6108913732134, 348.6103895861342, 143.16953162324344, 280.52502385238864, 178.37881279474902, 203.13719508808578, 158.21478983605323, 162.1004816846089, 162.22468130375208, 174.28306818238303, 35.41194469550816, 30.54922382827875, 27.096619102907464, 25.500066028697695, 28.897855186497527, 20.92580225207892, 19.76551629309664, 15.991817146843575, 23.189889201095255, 14.529301535892213, 13.92788102247936, 13.664410283625509, 13.831817106991997, 14.171553621043719, 11.905311917534673, 11.779126774330472, 11.281735834412082, 13.32806190767155, 10.964596908086394, 10.82173575184808, 11.111836909469556, 10.737354979222818, 15.18265883287295, 14.652694565292116, 12.405185625315335, 9.915068796837579, 11.513779959009264, 19.56752555648796, 9.256265277873247, 9.581495867341902, 635.8972786578704, 52.82638249388354, 47.17483480804545, 20.530018120238374, 43.07955588779468, 23.89730470144456, 48.75902204490038, 22.10989451472019, 140.52643174350254, 45.089704486489595, 120.84367749038626, 96.64332043677335, 55.805837267379474, 44.535767241789635, 44.28478101179425, 46.44212761016038, 51.49621627738627, 56.96311110359007, 43.91933678325025, 55.501931547095204, 51.27927410166562, 33.952061191839356, 48.965937145258884, 52.43604658410811, 42.399626841104286, 111.86797298127597, 128.98792410994662, 73.16872096445145, 301.2427637443149, 49.031550486272174, 96.47864172460247, 543.000393589434, 170.13216111571168, 93.74233819508758, 141.27577428609746, 186.91876532409862, 335.9384925807783, 192.11157431211905, 286.8233813553047, 275.2533737711697, 280.00921561543004, 196.81000581638045, 153.6307631987688, 116.1370856535163, 95.00355226781801, 185.10787551369714, 136.8039653521217, 158.73952609447193, 170.0553366510754, 102.39396549507339, 129.08123991342316, 73.43515849089583, 119.88156894228801, 115.54779230106337, 131.02983133643082, 103.67157490273105, 106.63093819064764, 105.50878045240741, 103.99779619924679, 38.97746681826617, 26.606299898286213, 20.29375245534307, 19.417691453999183, 18.813047934082125, 18.7221189529184, 24.786359697316637, 18.291394576781563, 16.64345957261072, 17.452852266896446, 19.58462748352731, 14.709498645529651, 15.429326743933549, 15.329897959762503, 12.548344088893794, 12.494371545533138, 12.571784862634603, 12.25215825511697, 13.265231461066847, 11.900837294799757, 12.139806521234034, 11.572770536468525, 12.751893873410003, 11.771739794024391, 11.238119191307073, 14.98821780930696, 11.67074736086051, 323.71254417868914, 11.217190155680566, 15.714960485399954, 62.83350867106138, 42.098441671402725, 53.981229735417486, 50.72443318315813, 18.787953398460093, 35.21020486801782, 21.941102360337215, 42.885018036188285, 29.17968792020126, 518.6054703458824, 20.177750514882703, 23.13550681243595, 23.30901854442502, 140.53088190384852, 260.3536088317755, 94.96462721789032, 230.15932340169545, 66.82073237427267, 41.72035083725687, 60.47089596427635, 184.5854129278113, 99.42011302663138, 36.342885799159106, 73.51633320620094, 142.53574390535067, 649.9056448739086, 54.05894512107439, 261.67479069507255, 134.7314499393303, 67.80106921782627, 32.60461227666754, 37.17418607888747, 180.73353624456428, 105.4835478318166, 281.8578439092183, 169.25538804848767, 257.5091485496398, 94.3808581581885, 118.92649206234515, 146.67452987165322, 199.1578092558466, 153.81453700840564, 158.77647248022228, 153.76211415288608, 138.48349677259318, 143.32990498310798, 166.81950721746693, 139.81695429584047, 110.8763498296785, 110.9514963634186, 112.33918407673562, 127.00451598419572, 122.67659956471431, 111.87282068784, 43.5241312720024, 30.580204592352953, 27.962709584322834, 24.968968746692944, 22.08833981080175, 20.84682825948396, 21.766969062993258, 27.154074756681467, 16.691854320453572, 17.06726268945111, 15.657644007556721, 22.58769710722882, 13.601866181877426, 13.490663547562862, 18.7488871474615, 12.755540868836643, 12.53002843104127, 13.088780003617421, 12.788996468236123, 10.790403878452569, 17.939947788692045, 10.741758599465124, 11.760911275567828, 11.634223947134965, 10.82397605617452, 10.228853236562419, 10.05926508546056, 19.990727021401757, 9.948186761704138, 15.931176008037301, 63.47863812235752, 52.24201525017931, 39.269802862859514, 33.487587063676315, 91.81673466333295, 21.384894317269982, 32.5048389427017, 33.01091019884328, 299.84292846787156, 199.07829841697875, 59.95119220786177, 81.23073778800979, 25.832921177921094, 76.89094557274913, 28.864925875964996, 177.02278373097536, 58.25165156500728, 322.0706745400026, 39.77361392703483, 49.809311158160924, 67.14185257869163, 421.271042385095, 39.302563750623044, 138.91690835625508, 76.0741217127416, 34.4696595062105, 69.22853793472211, 216.4704137394411, 97.48822722681338, 155.76506446777307, 317.673625714363, 255.36922155551088, 144.90051677622952, 137.55118141277066, 115.68114521696666, 116.72777112120657, 170.6935229640265, 185.42148577882688, 133.45829256790392, 151.99802392995744, 143.56478614886151, 142.97659379156278, 121.89667312417346, 115.31941933638801, 134.02322636029515, 87.71660368757644, 86.58298656327945, 94.07196848216084, 88.67852235521991, 85.06085433573006, 28.467962110410582, 25.793599535505724, 25.24869342933516, 22.424030823359637, 29.058133131004567, 28.81797176803163, 17.579967167761087, 17.153817899947423, 16.472048551291934, 15.398840268798496, 16.408374765270498, 14.969497558203752, 42.011350753188765, 14.16695601728799, 59.3718832509483, 21.00675373887873, 12.40251203104538, 22.04671142170819, 12.136405315346936, 14.218000690540313, 15.173225837697933, 11.560562047299237, 11.044970080096132, 25.398434553124304, 247.36022903369462, 16.308918858368784, 10.902715026189476, 9.231515404747283, 8.629429795987228, 8.61987576916311, 26.1962385329067, 39.525243493253, 27.902247119021347, 103.08399982077172, 48.918296253119415, 52.87177841609971, 57.28729059847069, 226.50477259182026, 37.49514320482705, 66.69101739151752, 413.52075997948873, 23.926630035899557, 26.14805195806655, 30.62513599672179, 73.32318215391984, 39.44816689144137, 60.17618370595591, 58.39393578305528, 60.03946402592957, 69.75087914052338, 261.011366233177, 218.54112849213365, 68.40382053674085, 160.0940504896754, 318.900098053189, 248.22875779841866, 219.4991525592854, 63.86527423146439, 149.92844320839177, 221.14085831471272, 75.31238358009801, 197.10430327140094, 145.70961816966442, 100.00830017366285, 108.9159934666699, 131.43885224816202, 145.28479603267022, 136.03604217392623, 93.6447966620045, 105.74141764197681, 104.01951855472089, 79.93164048041264, 92.3292297437941, 100.76040088036964, 80.85688408755486, 85.73080983043609, 81.42274373729931, 82.75390745635403, 80.25152832324959, 30.618965452626025, 26.274138167261384, 24.435966884199384, 27.909336281907738, 34.56605695808406, 26.582661260201725, 22.894795955619514, 22.34591509943073, 21.429087594043715, 20.0329760508586, 25.830548151054156, 18.97778248809421, 21.780117327317207, 15.51052674003693, 15.20426085128179, 18.614870280270235, 13.935210705372297, 13.405683837339588, 12.959872963339903, 11.976527831398663, 12.987066588822932, 80.83727025976218, 10.696149726417705, 11.808725855693668, 15.247259565855149, 9.803160794875938, 15.365072204115945, 10.319736231628012, 10.863565871184354, 9.454536447234982, 27.5008904316063, 33.27990536840975, 25.195420100763396, 17.152175873415715, 38.89054331093585, 17.698245941899064, 29.088562375885864, 29.58225449655067, 164.3886878264482, 65.24439936902856, 44.42671401844374, 44.81515071356095, 27.19243257578114, 43.06804857937146, 23.855954876647115, 104.76613227241593, 160.7851834313805, 26.658634540621772, 212.37192060569004, 212.9385664603009, 118.771027400305, 88.0244245998722, 83.67472689788005, 90.94950773109869, 40.1361435098148, 186.30364654300553, 79.04579943158056, 73.68447910409337, 228.59542936927252, 72.35029435847146, 54.656508771333066, 70.96324891037867, 158.24433572505367, 66.33492535337398, 84.37450120147818, 203.03728718027796, 94.01931287863859, 88.47122055431109, 161.04228476621907, 101.07058017174803, 112.03012475070152, 68.79897965554706, 66.22918903709163, 65.44003615786292, 69.62019191709237, 74.58621260494552, 94.88815196209983, 80.25158262318932, 76.35187935819741, 73.49506034429437, 76.00174616927825, 74.50630273060379, 60.02792452411949, 100.95729047364871, 18.323356992560203, 62.79253964428405, 18.750080280103006, 16.014424136430453, 18.366449560324426, 19.13657626585848, 19.131633897158395, 23.183278309491254, 13.284147465096503, 12.646126729901988, 13.667900367388212, 11.816662344998969, 546.0996916816971, 11.17610245067598, 14.050163847636075, 10.497645326717443, 10.509598562438471, 10.090999551578504, 9.978667358240475, 10.782315954823739, 10.98784673203186, 12.555088711457715, 9.132617987840563, 9.358567011784938, 9.304454785952815, 10.884566369948168, 10.4714475029341, 8.686212990401211, 203.94325121063608, 41.061495151755054, 79.84459963390165, 105.65531479804261, 1101.347418719335, 21.248757416480487, 89.63251341550072, 185.86944941982088, 52.9462467137359, 18.416365419138735, 127.06963468245411, 462.3432003381555, 25.442627436736746, 85.22533854052847, 73.82788525851487, 58.121464307997165, 130.36981533791322, 93.7943526876321, 76.59438646367083, 72.79178443070394, 58.622915108921774, 117.342681370504, 47.086290781813, 172.59285661997276, 112.71290028189374, 34.93596262094306, 102.84401563258002, 169.3460370260221, 139.56815547165385, 112.775340708744, 148.18247007616037, 122.86512445827285, 138.24782714245677, 120.18147332230106, 89.25418817020069, 90.42362970008595, 94.69323739055791, 87.26863628783326, 80.14347526981952, 37.5831043583105, 60.68959153359607, 24.994187945214932, 25.49878524992868, 23.792030920607562, 22.98927436205832, 25.790047466889185, 16.025757561576974, 14.854523080599549, 22.209012782865702, 14.009833936768974, 11.3528006392737, 17.12422158503257, 11.064331657823686, 12.808244762675596, 14.905344321090205, 10.001383600875418, 9.844484755210683, 11.621735378974092, 19.467384484244395, 12.068284924176309, 11.073930816431393, 8.75998414828396, 22.510906781248664, 7.8641231139694865, 8.43145915723824, 10.653127816008714, 7.704928477207253, 8.294520671293922, 8.001931322337992, 13.653449297572354, 19.90908383137733, 11.087769066558476, 81.26897641951295, 29.27453283807469, 17.19911895104361, 92.79252427833156, 45.12328670069975, 17.661868341865464, 53.169608839636545, 37.053926581104456, 61.01869818027363, 110.69179094869399, 27.887350420706696, 68.86737152669302, 123.58743499210038, 121.25795572569578, 37.654666407850364, 92.87049558391591, 54.7120123206806, 47.90229741776093, 85.56342093939764, 167.97141161518073, 94.59613531444798, 82.19052509677083, 68.79510633648428, 47.59656007457012, 56.357332034912396, 90.49912238655995, 95.60103008983758, 56.16544089687723, 64.78686583838196, 61.89414512666121, 41.61721748793534, 45.25609561572625, 56.92613602237859, 41.60998728754971, 40.19192190122292], \"Total\": [1711.0, 588.0, 1430.0, 705.0, 1262.0, 834.0, 1071.0, 983.0, 1346.0, 351.0, 800.0, 755.0, 4359.0, 2946.0, 1117.0, 269.0, 916.0, 407.0, 349.0, 530.0, 525.0, 2126.0, 567.0, 231.0, 371.0, 592.0, 613.0, 477.0, 333.0, 457.0, 37.64230583463461, 38.35658070644171, 30.97840528831503, 40.12942558523199, 30.86106616622207, 27.100237628310737, 26.69584212390706, 43.44671733958299, 25.235558354062164, 22.479176031708626, 38.026182269281755, 23.68079099091551, 24.931827450415497, 22.217250279031056, 44.796652864101794, 37.372017969796296, 19.886040335047618, 26.36608242459246, 35.629113174671936, 24.427735539797307, 19.473460098716313, 17.831949808642335, 16.909549014837914, 16.093935486749682, 16.11437561491229, 22.531991039723803, 15.180804307917295, 15.154852173970138, 15.062029722203757, 33.42052464482719, 41.331534686305474, 35.710777384336964, 19.293669978432685, 1346.8896233049977, 244.00560127110228, 31.494061127612998, 53.959349398816606, 505.8524196972514, 190.30893521668148, 918.1803609407765, 60.563137016001896, 417.6227544234303, 46.25674851694307, 1064.2209107185984, 1430.54717005591, 286.2488324458032, 221.91770386165902, 194.0059809749066, 490.9231541214017, 81.132664150865, 241.14862920503538, 351.38415322822556, 2946.9983108868214, 1117.1344251695914, 370.63058162269544, 553.3636560899553, 764.9082281758908, 2998.8741192607235, 1294.364066828267, 2290.9033247137136, 2154.6707124154545, 2313.2690965062243, 164.62232066708285, 615.748311080039, 256.6849521968775, 707.0303302534556, 1319.13502214501, 2687.317499791434, 731.1771114331583, 956.2057996091477, 2126.986220869344, 1538.6048714534345, 2051.4426324172387, 781.4649221057563, 1505.7864432075282, 1312.0865444424937, 4359.178314583148, 1221.0948761293664, 844.4403625541289, 1466.3482973441685, 27.55171471372229, 30.303776109419044, 50.19942034188238, 24.096941589488658, 30.508972003774687, 20.915570874336794, 20.963492328084786, 19.06658828970821, 18.276954574938895, 18.525992153005546, 17.1952490400805, 17.137721310224382, 20.380246833174898, 16.034809465606507, 15.830541784245987, 19.300698932065423, 15.68276813922446, 23.672223985388914, 15.265893581089648, 17.10758745355663, 18.264020062057025, 14.56337885162407, 25.092559732946704, 21.39211543275631, 14.048907792055893, 13.175357639151601, 21.727148563383743, 15.52063698373945, 13.225714012577793, 13.986555290662455, 40.95846517720749, 34.29620655887803, 57.77805080846891, 159.56690968001024, 105.11007519735807, 60.92058160142166, 457.00370808051224, 160.1082421324069, 29.101382230455762, 36.15677277987751, 29.279778178407664, 55.53969343247752, 64.7691514827543, 150.65098034544147, 35.910091287170104, 56.44950651536573, 4359.178314583148, 128.00440272573798, 170.37543570102704, 51.074783739042786, 98.71689571378255, 412.208210454696, 1466.3482973441685, 2154.6707124154545, 237.81084404830912, 774.4349551567378, 2313.2690965062243, 84.70846471808638, 2946.9983108868214, 1380.5192241961374, 2998.8741192607235, 1505.7864432075282, 419.70388652431205, 1538.6048714534345, 682.5292287857646, 958.7193847152125, 117.21439089609032, 1120.423112349915, 410.62639100873935, 1312.0865444424937, 439.79547622795894, 2051.4426324172387, 2687.317499791434, 2126.986220869344, 569.274176460947, 1294.364066828267, 1319.13502214501, 1128.4379855210666, 2290.9033247137136, 943.0752193279559, 792.3513492702498, 1127.9671497613035, 1071.6923134105623, 922.395601681612, 707.0303302534556, 68.82313395087162, 51.7909405372341, 68.18687085293033, 40.93750949842355, 38.24162924705958, 33.255383891023726, 33.813864350387014, 29.108890993213695, 26.753018918734327, 25.678294719855906, 24.787649783058452, 21.125345901667163, 29.12554895904286, 87.89774197429716, 29.05545530579491, 41.59561982189779, 54.07297035441669, 16.036476703707756, 17.20064723159135, 15.121286912640528, 15.538108959526083, 19.709149549768526, 15.5456548625698, 14.932662446899137, 23.530478782992148, 15.111964454995148, 13.627390193278552, 16.57355402910965, 13.84882420582407, 14.156963829653552, 407.9868555418405, 25.39366502633958, 283.9514859959341, 31.096795622213335, 166.07312994142592, 137.2431822201445, 256.1945710032381, 1430.8707707311562, 182.37004258912236, 90.51069796719588, 182.5142729556069, 284.6068156376861, 1071.6923134105623, 613.6164216213558, 300.8469272308403, 228.74119304515523, 567.880454765457, 390.83157381499956, 65.70597134057395, 90.40117441269159, 110.13084783733592, 55.884523237969674, 139.87320438971753, 1221.0948761293664, 791.4534377005598, 279.0907821392012, 230.53949561529427, 147.83751591849165, 2051.4426324172387, 1098.7611929213626, 177.41001400658777, 295.2093535421267, 2290.9033247137136, 738.8922156775479, 430.8963563463665, 181.68676172360966, 2998.8741192607235, 4359.178314583148, 2687.317499791434, 400.4061674815157, 2946.9983108868214, 958.7193847152125, 2313.2690965062243, 620.3583178377303, 792.3513492702498, 824.2641791746049, 2154.6707124154545, 36.3100773408258, 31.4471809478069, 27.995238373667302, 26.402464400729407, 30.03543337545688, 21.852140081946942, 20.663324137542475, 16.88951411623086, 24.54211565482631, 15.452386371635441, 14.825496362583449, 14.562547226998403, 14.754351070305479, 15.133306582942366, 12.803886589517283, 12.677646580190675, 12.18151420615602, 14.406101029931552, 11.867481328052039, 11.719612440555139, 12.048211015984027, 11.643935417041543, 16.472470614196087, 15.950793578158809, 13.516107913940626, 10.812934899263766, 12.580144558690739, 21.44810962655917, 10.154887639919211, 10.524697825318851, 705.8769703194192, 58.20379418458556, 52.99388516283752, 22.67708567813076, 48.43537169207936, 26.487459201729877, 55.76659877509343, 24.584408893611556, 172.03128145218582, 52.32793962919971, 147.90579032160855, 119.60932036375245, 66.33447887226207, 52.33440125694048, 52.3395265475863, 55.127817989957016, 62.115869670560066, 69.57661200342058, 52.34437998078748, 67.71943400163073, 62.531756352235504, 40.3290121036634, 63.64085377719166, 72.69486957861324, 57.13392925256545, 221.66228566394332, 288.5699718271624, 130.48090280620664, 1117.1344251695914, 74.92975877278718, 232.2894645983087, 4359.178314583148, 614.7016452407134, 223.02255876489338, 477.4787951898036, 800.5906277633682, 2687.317499791434, 916.4322939057117, 2313.2690965062243, 2290.9033247137136, 2946.9983108868214, 1380.5192241961374, 834.5773228476144, 456.82133253231115, 322.43616824249267, 2126.986220869344, 983.0874288425204, 1505.7864432075282, 2154.6707124154545, 479.306028837012, 1120.423112349915, 179.8777176605414, 1466.3482973441685, 1312.0865444424937, 2998.8741192607235, 943.0752193279559, 1538.6048714534345, 2051.4426324172387, 1294.364066828267, 39.87506376562436, 27.60064664947778, 21.19207866145394, 20.315339011718958, 19.71138197143685, 19.619683244057892, 25.997371873079256, 19.20077315503454, 17.561012146687823, 18.463904990237058, 20.81579355936789, 15.657303183780236, 16.45930162400942, 16.35365916464223, 13.445990505250128, 13.3919677637484, 13.47989731025792, 13.149975433715918, 14.247094607124877, 12.798539844458215, 13.065925366367287, 12.470496167554606, 13.75961769955502, 12.707248829659568, 12.138589141929915, 16.208235345029966, 12.627550226836593, 351.7803054389748, 12.22037997475133, 17.12105138743913, 68.54103304196231, 46.174102287618624, 60.64274948374542, 57.83330640788333, 20.59604512928687, 39.74078677129319, 24.25832953569175, 49.82240883265619, 33.667514419490985, 834.5773228476144, 22.681448700013885, 26.467171739938312, 26.84695317686084, 243.88994811760693, 530.295109250684, 154.69164063745384, 477.4787951898036, 102.84901727724333, 57.612846731608954, 95.2094775106608, 432.4083155076878, 193.16979228273345, 49.69753708399425, 133.49680166461656, 400.4061674815157, 4359.178314583148, 98.94749086773989, 1262.5576439959798, 494.14834849928195, 169.04443212961547, 48.151769084909596, 61.03603197385229, 1117.1344251695914, 433.2532077841846, 2998.8741192607235, 1128.4379855210666, 2687.317499791434, 350.8583071181466, 589.0479955741895, 958.7193847152125, 2313.2690965062243, 1380.5192241961374, 1538.6048714534345, 1466.3482973441685, 1120.423112349915, 1294.364066828267, 2051.4426324172387, 1430.54717005591, 695.2847553583995, 792.3513492702498, 844.4403625541289, 2946.9983108868214, 2126.986220869344, 1312.0865444424937, 44.419057278572645, 31.475070048406433, 28.872116658380936, 25.944263905418193, 22.991602867327128, 21.743426488565344, 22.73818820100717, 28.5883046412613, 17.586548772773952, 18.10314698823475, 16.610882372796212, 24.035990393889477, 14.50101770830168, 14.38538809033973, 20.006711765886834, 13.65025117167339, 13.425721989720333, 14.074962785218963, 13.811931309248118, 11.685082182925258, 19.437598864477874, 11.650774936179632, 12.771710179672732, 12.634942197478653, 11.762423704834797, 11.12353284246785, 10.954073525761482, 21.784750646158844, 10.853763060883425, 17.505065790504847, 74.34948778499508, 61.366063262320964, 47.07480804537619, 40.0581637909081, 121.98622136140898, 24.962247622456285, 40.284820326799135, 41.54289154793632, 525.5378796758242, 340.2428474527277, 89.847570103937, 132.32326948192784, 32.26584842556889, 126.93672300605793, 37.15069546482122, 454.5262644023151, 99.71240655893297, 1127.9671497613035, 59.6359670488628, 82.99380887468237, 133.5019872993266, 2126.986220869344, 61.72491149097982, 530.295109250684, 202.27155755752545, 50.921945612310715, 177.70715397467995, 1505.7864432075282, 352.29296282591207, 916.4322939057117, 4359.178314583148, 2998.8741192607235, 922.395601681612, 1120.423112349915, 763.5603724183549, 824.2641791746049, 2154.6707124154545, 2687.317499791434, 1319.13502214501, 2290.9033247137136, 2051.4426324172387, 2313.2690965062243, 1466.3482973441685, 1380.5192241961374, 2946.9983108868214, 692.5599590905255, 800.5906277633682, 1538.6048714534345, 1117.1344251695914, 1430.8707707311562, 29.365049194742507, 26.690824953217373, 26.19096939503877, 23.321547108471908, 30.274465378276084, 30.259345815207237, 18.495819838649705, 18.113807608765597, 17.402064843520066, 16.296072992200564, 17.386380329716587, 15.875149312406027, 44.612662686058385, 15.06420999753984, 63.35941469540319, 22.42951756035044, 13.300501171107033, 23.675153729302213, 13.033699773357656, 15.289070177570993, 16.376974064754016, 12.481394826818073, 11.942308945709541, 27.652324111076638, 269.7123181322278, 17.795746556081635, 11.973148611224202, 10.202352465518782, 9.545516075680764, 9.545887096391013, 29.28657946629491, 44.43101248262889, 31.47114415635664, 121.94805927609178, 58.755691576789474, 65.11142703341864, 72.18366091816107, 333.83218814425464, 46.207077248280626, 92.47522658584595, 983.0874288425204, 29.16938839286751, 32.95021916769102, 41.33385296706058, 140.55090823282742, 60.9587399600963, 113.76756047504061, 110.94244728969332, 118.4623935887225, 157.91742501507917, 1711.1942379575232, 1312.0865444424937, 188.77269078335203, 956.2057996091477, 4359.178314583148, 2687.317499791434, 2126.986220869344, 181.52784736222225, 1128.4379855210666, 2998.8741192607235, 263.98699109008294, 2946.9983108868214, 1466.3482973441685, 617.7181162884262, 800.5906277633682, 1380.5192241961374, 2290.9033247137136, 2051.4426324172387, 755.7412384049919, 1262.5576439959798, 1319.13502214501, 479.306028837012, 1120.423112349915, 2313.2690965062243, 549.5232859901064, 1026.1392702180792, 692.5599590905255, 1430.54717005591, 922.395601681612, 31.569153987078966, 27.17048921925471, 25.33508931997955, 28.951662606469295, 35.86001977251406, 27.57978434544521, 23.79268243138666, 23.242270245342173, 22.372249898713164, 20.92970016403262, 27.05070801146357, 19.87428223378716, 22.89992712950928, 16.40860019464416, 16.14004830350117, 19.83171503013974, 14.860249716940336, 14.344092264295936, 13.878106096337953, 12.87285125802884, 14.01369791547535, 87.6349026045118, 11.597286293204604, 12.817572526434313, 16.578397509988985, 10.69947694311501, 16.776355126277625, 11.272896190981632, 11.893059193707533, 10.350804633288103, 30.18372398186941, 36.94418276724871, 27.955371865655405, 18.899633628842786, 43.87902059363479, 19.90256323566559, 34.3973625703135, 37.32669353402136, 307.9670103244733, 100.78848449521102, 64.4175458325878, 66.23974491874372, 35.149790980984804, 65.02290970502334, 29.738599665128444, 228.90544037829372, 435.40894112255233, 35.27495799045719, 916.4322939057117, 1128.4379855210666, 439.79547622795894, 296.10654753226754, 294.20977894722563, 349.68181047224556, 73.32094761257858, 1538.6048714534345, 292.29583216987714, 253.74119968377568, 2998.8741192607235, 283.280259709215, 157.4473291803427, 302.61525470816326, 2154.6707124154545, 263.98699109008294, 484.7242686681762, 4359.178314583148, 636.5578173658847, 567.880454765457, 2946.9983108868214, 1026.1392702180792, 2126.986220869344, 414.0983648639931, 363.9393367536959, 353.25669610784854, 506.16392430035893, 726.9492831378138, 2687.317499791434, 1319.13502214501, 1380.5192241961374, 1221.0948761293664, 2313.2690965062243, 2051.4426324172387, 60.93910422759483, 104.16536289387027, 19.21524786519538, 66.16924518160147, 19.75921527761095, 16.906438951268317, 19.419575230700808, 20.236438825635535, 20.278150661665205, 24.703862794269412, 14.214699400595402, 13.538236761741622, 14.665242398510642, 12.709320841944562, 588.3254038506287, 12.068190216383716, 15.226535891451658, 11.389536219460728, 11.412561816534142, 10.982961098013087, 10.870702217377906, 11.770905703564358, 11.998317407500465, 13.715290585602364, 10.025240477432966, 10.275294608222795, 10.225381259205093, 11.963428070583515, 11.530273532192234, 9.578887321706329, 231.48208578896785, 47.96303122866457, 99.44819823422033, 134.16606480303804, 1711.1942379575232, 24.816513611358264, 121.28207480542093, 349.68181047224556, 79.27482119528459, 22.514330304582344, 248.7556322547059, 1262.5576439959798, 34.00302313199833, 170.90318534208348, 154.30297053551917, 114.98415662232603, 361.55023733313135, 231.95290277866692, 203.69307823303518, 240.94479913060613, 180.5880709034074, 731.1771114331583, 126.14459119961069, 2290.9033247137136, 943.0752193279559, 74.6855395988617, 844.4403625541289, 2687.317499791434, 2154.6707124154545, 1380.5192241961374, 2998.8741192607235, 2126.986220869344, 4359.178314583148, 2946.9983108868214, 1127.9671497613035, 1466.3482973441685, 2313.2690965062243, 1294.364066828267, 695.2847553583995, 38.47285732057336, 62.801522857026036, 25.883735096887648, 26.437015273585995, 24.68144246625026, 23.878849895008578, 26.85504147498844, 16.951229776216994, 15.744036896506783, 23.918440351780163, 15.097075719170547, 12.242295150872827, 18.480807986788456, 11.953856829401502, 13.890863636013822, 16.229283003480315, 10.894841054490389, 10.734330802728703, 12.712184831396872, 21.29912555922594, 13.231248296667179, 12.169305365231503, 9.64958356393359, 24.92582166112056, 8.753500007760023, 9.405612448766004, 11.885801149594407, 8.63054752856882, 9.301332272988695, 8.993194388713238, 15.364000371276683, 22.51221273073265, 12.495608010366487, 97.45406600206708, 34.33007823696656, 20.377929417287984, 155.23435221214723, 67.34979962979425, 22.149511953914004, 89.85003704099367, 71.10386107219296, 150.14393757305675, 371.74311907262944, 52.98981428714436, 258.1705599115809, 755.7412384049919, 800.5906277633682, 96.34779918143116, 581.7682104177981, 207.44264510804834, 171.67425382648273, 592.6318043553393, 2946.9983108868214, 1319.13502214501, 1098.7611929213626, 728.7471674993427, 255.28753491605295, 433.2532077841846, 2051.4426324172387, 2687.317499791434, 549.5232859901064, 1120.423112349915, 2126.986220869344, 302.61525470816326, 494.14834849928195, 4359.178314583148, 441.41093480676415, 361.7172110777027], \"Category\": [\"Default\", \"Default\", \"Default\", \"Default\", \"Default\", \"Default\", \"Default\", \"Default\", \"Default\", \"Default\", \"Default\", \"Default\", \"Default\", \"Default\", \"Default\", \"Default\", \"Default\", \"Default\", \"Default\", \"Default\", \"Default\", \"Default\", \"Default\", \"Default\", \"Default\", \"Default\", \"Default\", \"Default\", \"Default\", \"Default\", \"Topic1\", \"Topic1\", \"Topic1\", \"Topic1\", \"Topic1\", \"Topic1\", \"Topic1\", \"Topic1\", \"Topic1\", \"Topic1\", \"Topic1\", \"Topic1\", \"Topic1\", \"Topic1\", \"Topic1\", \"Topic1\", \"Topic1\", \"Topic1\", \"Topic1\", \"Topic1\", \"Topic1\", \"Topic1\", \"Topic1\", \"Topic1\", \"Topic1\", \"Topic1\", \"Topic1\", \"Topic1\", \"Topic1\", \"Topic1\", \"Topic1\", \"Topic1\", \"Topic1\", \"Topic1\", \"Topic1\", \"Topic1\", \"Topic1\", \"Topic1\", \"Topic1\", \"Topic1\", \"Topic1\", \"Topic1\", \"Topic1\", \"Topic1\", \"Topic1\", \"Topic1\", \"Topic1\", \"Topic1\", \"Topic1\", \"Topic1\", \"Topic1\", \"Topic1\", \"Topic1\", \"Topic1\", \"Topic1\", \"Topic1\", \"Topic1\", \"Topic1\", \"Topic1\", \"Topic1\", \"Topic1\", \"Topic1\", \"Topic1\", \"Topic1\", \"Topic1\", \"Topic1\", \"Topic1\", \"Topic1\", \"Topic1\", \"Topic1\", \"Topic1\", \"Topic1\", \"Topic1\", \"Topic1\", \"Topic1\", \"Topic1\", \"Topic1\", \"Topic1\", \"Topic1\", \"Topic1\", \"Topic2\", \"Topic2\", \"Topic2\", \"Topic2\", \"Topic2\", \"Topic2\", \"Topic2\", \"Topic2\", \"Topic2\", \"Topic2\", \"Topic2\", \"Topic2\", \"Topic2\", \"Topic2\", \"Topic2\", \"Topic2\", \"Topic2\", \"Topic2\", \"Topic2\", \"Topic2\", \"Topic2\", \"Topic2\", \"Topic2\", \"Topic2\", \"Topic2\", \"Topic2\", \"Topic2\", \"Topic2\", \"Topic2\", \"Topic2\", \"Topic2\", \"Topic2\", \"Topic2\", \"Topic2\", \"Topic2\", \"Topic2\", \"Topic2\", \"Topic2\", \"Topic2\", \"Topic2\", \"Topic2\", \"Topic2\", \"Topic2\", \"Topic2\", \"Topic2\", \"Topic2\", \"Topic2\", \"Topic2\", \"Topic2\", \"Topic2\", \"Topic2\", \"Topic2\", \"Topic2\", \"Topic2\", \"Topic2\", \"Topic2\", \"Topic2\", \"Topic2\", \"Topic2\", \"Topic2\", \"Topic2\", \"Topic2\", \"Topic2\", \"Topic2\", \"Topic2\", \"Topic2\", \"Topic2\", \"Topic2\", \"Topic2\", \"Topic2\", \"Topic2\", \"Topic2\", \"Topic2\", \"Topic2\", \"Topic2\", \"Topic2\", \"Topic2\", \"Topic2\", \"Topic2\", \"Topic2\", \"Topic2\", \"Topic2\", \"Topic2\", \"Topic2\", \"Topic2\", \"Topic3\", \"Topic3\", \"Topic3\", \"Topic3\", \"Topic3\", \"Topic3\", \"Topic3\", \"Topic3\", \"Topic3\", \"Topic3\", \"Topic3\", \"Topic3\", \"Topic3\", \"Topic3\", \"Topic3\", \"Topic3\", \"Topic3\", \"Topic3\", \"Topic3\", \"Topic3\", \"Topic3\", \"Topic3\", \"Topic3\", \"Topic3\", \"Topic3\", \"Topic3\", \"Topic3\", \"Topic3\", \"Topic3\", \"Topic3\", \"Topic3\", \"Topic3\", \"Topic3\", \"Topic3\", \"Topic3\", \"Topic3\", \"Topic3\", \"Topic3\", \"Topic3\", \"Topic3\", \"Topic3\", \"Topic3\", \"Topic3\", \"Topic3\", \"Topic3\", \"Topic3\", \"Topic3\", \"Topic3\", \"Topic3\", \"Topic3\", \"Topic3\", \"Topic3\", \"Topic3\", \"Topic3\", \"Topic3\", \"Topic3\", \"Topic3\", \"Topic3\", \"Topic3\", \"Topic3\", \"Topic3\", \"Topic3\", \"Topic3\", \"Topic3\", \"Topic3\", \"Topic3\", \"Topic3\", \"Topic3\", \"Topic3\", \"Topic3\", \"Topic3\", \"Topic3\", \"Topic3\", \"Topic3\", \"Topic3\", \"Topic3\", \"Topic3\", \"Topic4\", \"Topic4\", \"Topic4\", \"Topic4\", \"Topic4\", \"Topic4\", \"Topic4\", \"Topic4\", \"Topic4\", \"Topic4\", \"Topic4\", \"Topic4\", \"Topic4\", \"Topic4\", \"Topic4\", \"Topic4\", \"Topic4\", \"Topic4\", \"Topic4\", \"Topic4\", \"Topic4\", \"Topic4\", \"Topic4\", \"Topic4\", \"Topic4\", \"Topic4\", \"Topic4\", \"Topic4\", \"Topic4\", \"Topic4\", \"Topic4\", \"Topic4\", \"Topic4\", \"Topic4\", \"Topic4\", \"Topic4\", \"Topic4\", \"Topic4\", \"Topic4\", \"Topic4\", \"Topic4\", \"Topic4\", \"Topic4\", \"Topic4\", \"Topic4\", \"Topic4\", \"Topic4\", \"Topic4\", \"Topic4\", \"Topic4\", \"Topic4\", \"Topic4\", \"Topic4\", \"Topic4\", \"Topic4\", \"Topic4\", \"Topic4\", \"Topic4\", \"Topic4\", \"Topic4\", \"Topic4\", \"Topic4\", \"Topic4\", \"Topic4\", \"Topic4\", \"Topic4\", \"Topic4\", \"Topic4\", \"Topic4\", \"Topic4\", \"Topic4\", \"Topic4\", \"Topic4\", \"Topic4\", \"Topic4\", \"Topic4\", \"Topic4\", \"Topic4\", \"Topic4\", \"Topic4\", \"Topic4\", \"Topic4\", \"Topic4\", \"Topic4\", \"Topic4\", \"Topic4\", \"Topic4\", \"Topic4\", \"Topic4\", \"Topic5\", \"Topic5\", \"Topic5\", \"Topic5\", \"Topic5\", \"Topic5\", \"Topic5\", \"Topic5\", \"Topic5\", \"Topic5\", \"Topic5\", \"Topic5\", \"Topic5\", \"Topic5\", \"Topic5\", \"Topic5\", \"Topic5\", \"Topic5\", \"Topic5\", \"Topic5\", \"Topic5\", \"Topic5\", \"Topic5\", \"Topic5\", \"Topic5\", \"Topic5\", \"Topic5\", \"Topic5\", \"Topic5\", \"Topic5\", \"Topic5\", \"Topic5\", \"Topic5\", \"Topic5\", \"Topic5\", \"Topic5\", \"Topic5\", \"Topic5\", \"Topic5\", \"Topic5\", \"Topic5\", \"Topic5\", \"Topic5\", \"Topic5\", \"Topic5\", \"Topic5\", \"Topic5\", \"Topic5\", \"Topic5\", \"Topic5\", \"Topic5\", \"Topic5\", \"Topic5\", \"Topic5\", \"Topic5\", \"Topic5\", \"Topic5\", \"Topic5\", \"Topic5\", \"Topic5\", \"Topic5\", \"Topic5\", \"Topic5\", \"Topic5\", \"Topic5\", \"Topic5\", \"Topic5\", \"Topic5\", \"Topic5\", \"Topic5\", \"Topic5\", \"Topic5\", \"Topic5\", \"Topic5\", \"Topic5\", \"Topic5\", \"Topic5\", \"Topic5\", \"Topic5\", \"Topic5\", \"Topic5\", \"Topic5\", \"Topic5\", \"Topic5\", \"Topic6\", \"Topic6\", \"Topic6\", \"Topic6\", \"Topic6\", \"Topic6\", \"Topic6\", \"Topic6\", \"Topic6\", \"Topic6\", \"Topic6\", \"Topic6\", \"Topic6\", \"Topic6\", \"Topic6\", \"Topic6\", \"Topic6\", \"Topic6\", \"Topic6\", \"Topic6\", \"Topic6\", \"Topic6\", \"Topic6\", \"Topic6\", \"Topic6\", \"Topic6\", \"Topic6\", \"Topic6\", \"Topic6\", \"Topic6\", \"Topic6\", \"Topic6\", \"Topic6\", \"Topic6\", \"Topic6\", \"Topic6\", \"Topic6\", \"Topic6\", \"Topic6\", \"Topic6\", \"Topic6\", \"Topic6\", \"Topic6\", \"Topic6\", \"Topic6\", \"Topic6\", \"Topic6\", \"Topic6\", \"Topic6\", \"Topic6\", \"Topic6\", \"Topic6\", \"Topic6\", \"Topic6\", \"Topic6\", \"Topic6\", \"Topic6\", \"Topic6\", \"Topic6\", \"Topic6\", \"Topic6\", \"Topic6\", \"Topic6\", \"Topic6\", \"Topic6\", \"Topic6\", \"Topic6\", \"Topic6\", \"Topic6\", \"Topic6\", \"Topic6\", \"Topic6\", \"Topic6\", \"Topic6\", \"Topic6\", \"Topic6\", \"Topic6\", \"Topic6\", \"Topic6\", \"Topic6\", \"Topic7\", \"Topic7\", \"Topic7\", \"Topic7\", \"Topic7\", \"Topic7\", \"Topic7\", \"Topic7\", \"Topic7\", \"Topic7\", \"Topic7\", \"Topic7\", \"Topic7\", \"Topic7\", \"Topic7\", \"Topic7\", \"Topic7\", \"Topic7\", \"Topic7\", \"Topic7\", \"Topic7\", \"Topic7\", \"Topic7\", \"Topic7\", \"Topic7\", \"Topic7\", \"Topic7\", \"Topic7\", \"Topic7\", \"Topic7\", \"Topic7\", \"Topic7\", \"Topic7\", \"Topic7\", \"Topic7\", \"Topic7\", \"Topic7\", \"Topic7\", \"Topic7\", \"Topic7\", \"Topic7\", \"Topic7\", \"Topic7\", \"Topic7\", \"Topic7\", \"Topic7\", \"Topic7\", \"Topic7\", \"Topic7\", \"Topic7\", \"Topic7\", \"Topic7\", \"Topic7\", \"Topic7\", \"Topic7\", \"Topic7\", \"Topic7\", \"Topic7\", \"Topic7\", \"Topic7\", \"Topic7\", \"Topic7\", \"Topic7\", \"Topic7\", \"Topic7\", \"Topic7\", \"Topic7\", \"Topic7\", \"Topic7\", \"Topic7\", \"Topic7\", \"Topic7\", \"Topic7\", \"Topic7\", \"Topic7\", \"Topic7\", \"Topic7\", \"Topic7\", \"Topic7\", \"Topic8\", \"Topic8\", \"Topic8\", \"Topic8\", \"Topic8\", \"Topic8\", \"Topic8\", \"Topic8\", \"Topic8\", \"Topic8\", \"Topic8\", \"Topic8\", \"Topic8\", \"Topic8\", \"Topic8\", \"Topic8\", \"Topic8\", \"Topic8\", \"Topic8\", \"Topic8\", \"Topic8\", \"Topic8\", \"Topic8\", \"Topic8\", \"Topic8\", \"Topic8\", \"Topic8\", \"Topic8\", \"Topic8\", \"Topic8\", \"Topic8\", \"Topic8\", \"Topic8\", \"Topic8\", \"Topic8\", \"Topic8\", \"Topic8\", \"Topic8\", \"Topic8\", \"Topic8\", \"Topic8\", \"Topic8\", \"Topic8\", \"Topic8\", \"Topic8\", \"Topic8\", \"Topic8\", \"Topic8\", \"Topic8\", \"Topic8\", \"Topic8\", \"Topic8\", \"Topic8\", \"Topic8\", \"Topic8\", \"Topic8\", \"Topic8\", \"Topic8\", \"Topic8\", \"Topic8\", \"Topic8\", \"Topic8\", \"Topic8\", \"Topic8\", \"Topic8\", \"Topic8\", \"Topic8\", \"Topic8\", \"Topic8\", \"Topic8\", \"Topic8\", \"Topic8\", \"Topic8\", \"Topic8\", \"Topic8\", \"Topic8\", \"Topic8\", \"Topic8\", \"Topic8\", \"Topic8\", \"Topic8\", \"Topic8\", \"Topic9\", \"Topic9\", \"Topic9\", \"Topic9\", \"Topic9\", \"Topic9\", \"Topic9\", \"Topic9\", \"Topic9\", \"Topic9\", \"Topic9\", \"Topic9\", \"Topic9\", \"Topic9\", \"Topic9\", \"Topic9\", \"Topic9\", \"Topic9\", \"Topic9\", \"Topic9\", \"Topic9\", \"Topic9\", \"Topic9\", \"Topic9\", \"Topic9\", \"Topic9\", \"Topic9\", \"Topic9\", \"Topic9\", \"Topic9\", \"Topic9\", \"Topic9\", \"Topic9\", \"Topic9\", \"Topic9\", \"Topic9\", \"Topic9\", \"Topic9\", \"Topic9\", \"Topic9\", \"Topic9\", \"Topic9\", \"Topic9\", \"Topic9\", \"Topic9\", \"Topic9\", \"Topic9\", \"Topic9\", \"Topic9\", \"Topic9\", \"Topic9\", \"Topic9\", \"Topic9\", \"Topic9\", \"Topic9\", \"Topic9\", \"Topic9\", \"Topic9\", \"Topic9\", \"Topic9\", \"Topic9\", \"Topic9\", \"Topic9\", \"Topic9\", \"Topic9\", \"Topic9\", \"Topic9\", \"Topic9\", \"Topic9\", \"Topic10\", \"Topic10\", \"Topic10\", \"Topic10\", \"Topic10\", \"Topic10\", \"Topic10\", \"Topic10\", \"Topic10\", \"Topic10\", \"Topic10\", \"Topic10\", \"Topic10\", \"Topic10\", \"Topic10\", \"Topic10\", \"Topic10\", \"Topic10\", \"Topic10\", \"Topic10\", \"Topic10\", \"Topic10\", \"Topic10\", \"Topic10\", \"Topic10\", \"Topic10\", \"Topic10\", \"Topic10\", \"Topic10\", \"Topic10\", \"Topic10\", \"Topic10\", \"Topic10\", \"Topic10\", \"Topic10\", \"Topic10\", \"Topic10\", \"Topic10\", \"Topic10\", \"Topic10\", \"Topic10\", \"Topic10\", \"Topic10\", \"Topic10\", \"Topic10\", \"Topic10\", \"Topic10\", \"Topic10\", \"Topic10\", \"Topic10\", \"Topic10\", \"Topic10\", \"Topic10\", \"Topic10\", \"Topic10\", \"Topic10\", \"Topic10\", \"Topic10\", \"Topic10\", \"Topic10\", \"Topic10\", \"Topic10\", \"Topic10\", \"Topic10\", \"Topic10\", \"Topic10\", \"Topic10\", \"Topic10\"], \"logprob\": [30.0, 29.0, 28.0, 27.0, 26.0, 25.0, 24.0, 23.0, 22.0, 21.0, 20.0, 19.0, 18.0, 17.0, 16.0, 15.0, 14.0, 13.0, 12.0, 11.0, 10.0, 9.0, 8.0, 7.0, 6.0, 5.0, 4.0, 3.0, 2.0, 1.0, -7.3113, -7.2977, -7.5114, -7.2527, -7.5156, -7.6493, -7.668, -7.1825, -7.7274, -7.8433, -7.318, -7.792, -7.7406, -7.8571, -7.157, -7.3401, -7.9713, -7.6893, -7.389, -7.7671, -7.9938, -8.0872, -8.1443, -8.194, -8.1931, -7.8582, -8.2559, -8.2577, -8.2643, -7.4678, -7.2578, -7.4043, -8.0181, -3.9, -5.5772, -7.546, -7.0303, -4.8918, -5.8271, -4.3679, -6.935, -5.2044, -7.2036, -4.418, -4.1586, -5.5901, -5.8168, -5.9442, -5.1571, -6.7149, -5.8355, -5.5634, -4.0453, -4.8037, -5.6475, -5.3556, -5.1642, -4.183, -4.792, -4.4088, -4.4898, -4.4499, -6.2804, -5.3929, -5.9838, -5.3057, -4.8904, -4.423, -5.2888, -5.1141, -4.6942, -4.936, -4.834, -5.2847, -5.0051, -5.0648, -4.6092, -5.2142, -5.3552, -5.3171, -7.2157, -7.122, -6.6192, -7.3557, -7.1223, -7.5019, -7.503, -7.5993, -7.6451, -7.6324, -7.7075, -7.711, -7.5412, -7.7817, -7.7949, -7.5969, -7.8048, -7.394, -7.8334, -7.7216, -7.6574, -7.8839, -7.3415, -7.5028, -7.9243, -7.9906, -7.4907, -7.8279, -7.9901, -7.9342, -6.8848, -7.0586, -6.5607, -5.5862, -6.0024, -6.5215, -4.6159, -5.647, -7.2447, -7.0516, -7.2412, -6.6762, -6.545, -5.8801, -7.0852, -6.766, -3.4497, -6.1593, -5.9456, -6.8517, -6.3644, -5.3387, -4.4368, -4.1824, -5.7551, -4.9586, -4.2223, -6.5282, -4.2528, -4.7872, -4.325, -4.7544, -5.5383, -4.7571, -5.3186, -5.1414, -6.3426, -5.1007, -5.653, -5.0813, -5.6391, -4.9295, -4.8234, -4.944, -5.5369, -5.216, -5.2539, -5.3091, -5.0908, -5.4156, -5.4791, -5.4092, -5.4273, -5.4791, -5.5362, -6.2157, -6.5019, -6.2312, -6.7421, -6.8128, -6.9548, -6.9405, -7.0918, -7.1796, -7.2215, -7.2581, -7.4245, -7.1057, -6.0058, -7.113, -6.7566, -6.4966, -7.7142, -7.6452, -7.7766, -7.7504, -7.5136, -7.7513, -7.7928, -7.3393, -7.7825, -7.8875, -7.693, -7.8727, -7.8508, -4.5111, -7.2706, -4.901, -7.0756, -5.4355, -5.6226, -5.0376, -3.3951, -5.3728, -6.0711, -5.4204, -5.0056, -3.8077, -4.3281, -5.003, -5.2549, -4.5035, -4.8651, -6.4106, -6.1615, -6.0068, -6.5653, -5.8633, -4.2338, -4.5837, -5.3755, -5.5339, -5.8575, -4.0951, -4.5458, -5.7433, -5.4586, -4.2816, -5.0216, -5.3062, -5.7548, -4.4983, -4.3641, -4.5777, -5.4676, -4.795, -5.2477, -5.1178, -5.3677, -5.3434, -5.3427, -5.271, -6.4722, -6.6199, -6.7398, -6.8005, -6.6754, -6.9982, -7.0553, -7.2671, -6.8955, -7.363, -7.4053, -7.4244, -7.4122, -7.388, -7.5622, -7.5729, -7.616, -7.4493, -7.6445, -7.6577, -7.6312, -7.6655, -7.3191, -7.3546, -7.5211, -7.7452, -7.5957, -7.0653, -7.8139, -7.7794, -3.5842, -6.0722, -6.1854, -7.0173, -6.2762, -6.8655, -6.1523, -6.9432, -5.0938, -6.2306, -5.2447, -5.4682, -6.0173, -6.2429, -6.2486, -6.201, -6.0977, -5.9968, -6.2569, -6.0228, -6.1019, -6.5143, -6.1481, -6.0796, -6.2921, -5.3219, -5.1795, -5.7464, -4.3313, -6.1468, -5.4699, -3.7421, -4.9026, -5.4987, -5.0885, -4.8085, -4.2223, -4.7811, -4.3803, -4.4215, -4.4044, -4.757, -5.0047, -5.2844, -5.4853, -4.8183, -5.1207, -4.972, -4.9031, -5.4104, -5.1788, -5.7428, -5.2527, -5.2895, -5.1638, -5.398, -5.3698, -5.3804, -5.3948, -6.3269, -6.7087, -6.9796, -7.0237, -7.0553, -7.0602, -6.7796, -7.0834, -7.1779, -7.1304, -7.0151, -7.3014, -7.2536, -7.2601, -7.4603, -7.4646, -7.4584, -7.4842, -7.4047, -7.5133, -7.4934, -7.5412, -7.4442, -7.5242, -7.5706, -7.2826, -7.5328, -4.21, -7.5724, -7.2353, -5.8494, -6.2499, -6.0012, -6.0635, -7.0567, -6.4285, -6.9015, -6.2314, -6.6164, -3.7387, -6.9853, -6.8485, -6.841, -5.0444, -4.4278, -5.4364, -4.5511, -5.7879, -6.2589, -5.8877, -4.7718, -5.3905, -6.3969, -5.6924, -5.0303, -3.513, -5.9998, -4.4228, -5.0866, -5.7733, -6.5054, -6.3743, -4.7929, -5.3313, -4.3485, -4.8585, -4.4388, -5.4425, -5.2114, -5.0017, -4.6958, -4.9541, -4.9224, -4.9545, -5.0591, -5.0247, -4.873, -5.0495, -5.2815, -5.2808, -5.2684, -5.1457, -5.1803, -5.2725, -6.1518, -6.5047, -6.5942, -6.7075, -6.83, -6.8879, -6.8447, -6.6236, -7.1102, -7.0879, -7.1741, -6.8077, -7.3149, -7.3231, -6.994, -7.3791, -7.397, -7.3533, -7.3765, -7.5464, -7.0381, -7.551, -7.4603, -7.4711, -7.5433, -7.5999, -7.6166, -6.9298, -7.6277, -7.1568, -5.7744, -5.9692, -6.2546, -6.4139, -5.4053, -6.8624, -6.4437, -6.4283, -4.2218, -4.6314, -5.8316, -5.5278, -6.6734, -5.5827, -6.5625, -4.7488, -5.8603, -4.1503, -6.2419, -6.0169, -5.7183, -3.8818, -6.2538, -4.9912, -5.5934, -6.385, -5.6877, -4.5476, -5.3454, -4.8767, -4.1641, -4.3824, -4.949, -5.0011, -5.1743, -5.1652, -4.7852, -4.7025, -5.0313, -4.9012, -4.9583, -4.9624, -5.1219, -5.1774, -5.0271, -5.451, -5.464, -5.381, -5.4401, -5.4817, -6.4943, -6.5929, -6.6143, -6.7329, -6.4738, -6.4821, -6.9763, -7.0008, -7.0414, -7.1088, -7.0453, -7.1371, -6.1051, -7.1922, -5.7592, -6.7982, -7.3252, -6.7499, -7.3469, -7.1886, -7.1235, -7.3955, -7.4411, -6.6084, -4.3322, -7.0514, -7.4541, -7.6204, -7.6879, -7.689, -6.5775, -6.1661, -6.5144, -5.2075, -5.9529, -5.8752, -5.795, -4.4203, -6.2189, -5.643, -3.8184, -6.6681, -6.5793, -6.4212, -5.5482, -6.1681, -5.7458, -5.7759, -5.7481, -5.5981, -4.2785, -4.4561, -5.6176, -4.7673, -4.0782, -4.3287, -4.4517, -5.6863, -4.8329, -4.4443, -5.5214, -4.5593, -4.8615, -5.2378, -5.1525, -4.9645, -4.8644, -4.9301, -5.3036, -5.1821, -5.1985, -5.4619, -5.3177, -5.2303, -5.4504, -5.3919, -5.4434, -5.4272, -5.4579, -6.2594, -6.4124, -6.485, -6.3521, -6.1382, -6.4008, -6.5501, -6.5744, -6.6163, -6.6836, -6.4295, -6.7378, -6.6, -6.9395, -6.9595, -6.7571, -7.0466, -7.0853, -7.1192, -7.1981, -7.1171, -5.2886, -7.3111, -7.2122, -6.9566, -7.3983, -6.9489, -7.347, -7.2956, -7.4345, -6.3668, -6.1761, -6.4544, -6.8389, -6.0203, -6.8076, -6.3107, -6.2939, -4.5788, -5.5029, -5.8872, -5.8785, -6.3781, -5.9182, -6.509, -5.0293, -4.601, -6.3979, -4.3227, -4.32, -4.9038, -5.2034, -5.2541, -5.1707, -5.9887, -4.4536, -5.311, -5.3812, -4.2491, -5.3995, -5.68, -5.4189, -4.6169, -5.4863, -5.2458, -4.3676, -5.1375, -5.1983, -4.5994, -5.0652, -4.9623, -5.4498, -5.4879, -5.4999, -5.438, -5.3691, -5.1283, -5.2959, -5.3457, -5.3838, -5.3503, -5.3701, -5.5064, -4.9865, -6.693, -5.4613, -6.67, -6.8277, -6.6907, -6.6496, -6.6498, -6.4578, -7.0146, -7.0638, -6.9861, -7.1317, -3.2984, -7.1874, -6.9585, -7.25, -7.2489, -7.2895, -7.3007, -7.2233, -7.2044, -7.0711, -7.3893, -7.3649, -7.3707, -7.2138, -7.2525, -7.4394, -4.2833, -5.8861, -5.2211, -4.941, -2.5969, -6.5449, -5.1055, -4.3761, -5.6319, -6.6879, -4.7564, -3.4649, -6.3648, -5.1559, -5.2994, -5.5386, -4.7308, -5.0601, -5.2627, -5.3136, -5.5301, -4.8361, -5.7492, -4.4502, -4.8763, -6.0477, -4.968, -4.4692, -4.6626, -4.8758, -4.6027, -4.7901, -4.6721, -4.8122, -5.1097, -5.0967, -5.0505, -5.1322, -5.2174, -5.3488, -4.8696, -5.7567, -5.7367, -5.806, -5.8403, -5.7253, -6.2011, -6.277, -5.8748, -6.3356, -6.5459, -6.1348, -6.5716, -6.4252, -6.2736, -6.6726, -6.6884, -6.5225, -6.0066, -6.4848, -6.5707, -6.8051, -5.8613, -6.913, -6.8434, -6.6095, -6.9335, -6.8597, -6.8957, -6.3613, -5.9842, -6.5695, -4.5776, -5.5986, -6.1305, -4.445, -5.1659, -6.1039, -5.0018, -5.363, -4.8642, -4.2686, -5.6472, -4.7432, -4.1584, -4.1774, -5.3469, -4.4441, -4.9733, -5.1062, -4.5261, -3.8515, -4.4257, -4.5663, -4.7442, -5.1126, -4.9436, -4.47, -4.4152, -4.947, -4.8042, -4.8499, -5.2468, -5.163, -4.9336, -5.247, -5.2817], \"loglift\": [30.0, 29.0, 28.0, 27.0, 26.0, 25.0, 24.0, 23.0, 22.0, 21.0, 20.0, 19.0, 18.0, 17.0, 16.0, 15.0, 14.0, 13.0, 12.0, 11.0, 10.0, 9.0, 8.0, 7.0, 6.0, 5.0, 4.0, 3.0, 2.0, 1.0, 1.4813, 1.4761, 1.4761, 1.4759, 1.4756, 1.4718, 1.4683, 1.4667, 1.4651, 1.4648, 1.4644, 1.4641, 1.464, 1.4628, 1.4616, 1.4597, 1.4594, 1.4593, 1.4585, 1.4579, 1.4579, 1.4526, 1.4485, 1.4483, 1.4479, 1.4476, 1.4448, 1.4447, 1.4443, 1.4437, 1.4413, 1.441, 1.4428, 1.3151, 1.3463, 1.4249, 1.4022, 1.3026, 1.3449, 1.2304, 1.382, 1.1817, 1.3829, 1.0327, 0.9963, 1.1738, 1.2016, 1.2086, 1.0673, 1.3098, 1.0998, 0.9954, 0.3869, 0.5985, 0.858, 0.7491, 0.6168, 0.2317, 0.463, 0.2753, 0.2555, 0.2244, 1.0367, 0.605, 0.8891, 0.5539, 0.3456, 0.1014, 0.5372, 0.4436, 0.064, 0.1461, -0.0396, 0.4748, 0.0986, 0.1766, -0.5685, 0.099, 0.3269, -0.1869, 1.889, 1.8874, 1.8855, 1.883, 1.8804, 1.8783, 1.875, 1.8735, 1.87, 1.8692, 1.8686, 1.8684, 1.8649, 1.8643, 1.8639, 1.8637, 1.8633, 1.8624, 1.8617, 1.8596, 1.8584, 1.8584, 1.8566, 1.8549, 1.8539, 1.8517, 1.8514, 1.8506, 1.8485, 1.8484, 1.8234, 1.8271, 1.8034, 1.7621, 1.7633, 1.7896, 1.6801, 1.6978, 1.8052, 1.7813, 1.8027, 1.7274, 1.7049, 1.5257, 1.7545, 1.6214, 0.591, 1.4094, 1.3371, 1.6358, 1.464, 1.0605, 0.6934, 0.5629, 1.1942, 0.81, 0.452, 1.4533, 0.1794, 0.4033, 0.0897, 0.3492, 0.8428, 0.325, 0.5763, 0.4137, 1.3141, 0.2986, 0.75, 0.16, 0.6953, -0.1351, -0.299, -0.1857, 0.5395, 0.0389, -0.0179, 0.083, -0.4068, 0.1559, 0.2666, -0.0166, 0.0165, 0.1147, 0.3235, 1.9735, 1.9716, 1.9673, 1.9666, 1.964, 1.9617, 1.9594, 1.9578, 1.9544, 1.9536, 1.9523, 1.9457, 1.9434, 1.9387, 1.9385, 1.9362, 1.9338, 1.9317, 1.9306, 1.928, 1.927, 1.9261, 1.9256, 1.9244, 1.9232, 1.9227, 1.9211, 1.9199, 1.9198, 1.9197, 1.8984, 1.9156, 1.8709, 1.908, 1.8728, 1.8763, 1.8372, 1.7596, 1.8419, 1.8441, 1.7935, 1.764, 1.6361, 1.6733, 1.7112, 1.7332, 1.5753, 1.5873, 1.825, 1.7549, 1.7123, 1.8321, 1.6167, 1.0795, 1.1632, 1.4137, 1.4464, 1.5671, 0.6993, 0.873, 1.4989, 1.2744, 0.4024, 0.794, 1.0487, 1.4636, -0.0835, -0.3234, -0.0533, 0.9606, -0.3628, 0.3074, -0.4435, 0.6227, 0.4023, 0.3636, -0.5256, 2.3565, 2.3525, 2.3489, 2.3467, 2.3429, 2.3382, 2.3371, 2.3269, 2.3248, 2.3199, 2.319, 2.3178, 2.3169, 2.3158, 2.3087, 2.308, 2.3048, 2.3037, 2.3024, 2.3018, 2.3006, 2.3004, 2.3, 2.2966, 2.2957, 2.2948, 2.2929, 2.2897, 2.2888, 2.2876, 2.2771, 2.2846, 2.2652, 2.282, 2.2643, 2.2786, 2.2472, 2.2754, 2.1792, 2.2326, 2.1794, 2.1683, 2.2087, 2.2201, 2.2144, 2.2101, 2.194, 2.1815, 2.206, 2.1825, 2.1831, 2.2094, 2.1194, 2.0548, 2.0832, 1.6977, 1.5763, 1.803, 1.0709, 1.9574, 1.5028, 0.2986, 1.0969, 1.5148, 1.1637, 0.9268, 0.3021, 0.8191, 0.294, 0.2625, 0.0278, 0.4335, 0.6891, 1.012, 1.1595, -0.06, 0.4094, 0.1317, -0.1578, 0.838, 0.2205, 1.4856, -0.1225, -0.0482, -0.7491, 0.1736, -0.2878, -0.586, -0.1399, 2.4081, 2.3942, 2.3875, 2.3857, 2.3842, 2.384, 2.3831, 2.3823, 2.3772, 2.3745, 2.3699, 2.3684, 2.3662, 2.3662, 2.3618, 2.3615, 2.3611, 2.3601, 2.3594, 2.3581, 2.3573, 2.3561, 2.3548, 2.3544, 2.3538, 2.3526, 2.352, 2.3477, 2.3452, 2.3451, 2.3439, 2.3384, 2.3145, 2.2997, 2.339, 2.3098, 2.3304, 2.2809, 2.2878, 1.9551, 2.3139, 2.2963, 2.2895, 1.8796, 1.7195, 1.9429, 1.7011, 1.9996, 2.1081, 1.9769, 1.5796, 1.7666, 2.1179, 1.8343, 1.398, 0.5276, 1.8263, 0.8571, 1.1313, 1.5173, 2.0409, 1.935, 0.6093, 1.0181, 0.0663, 0.5337, 0.0856, 1.1178, 0.8308, 0.5535, -0.0215, 0.2364, 0.1597, 0.1757, 0.3401, 0.2302, -0.0785, 0.1054, 0.5949, 0.4649, 0.4137, -0.7135, -0.4221, -0.0312, 2.4753, 2.4668, 2.4636, 2.4573, 2.4556, 2.4535, 2.452, 2.4442, 2.4434, 2.4367, 2.4365, 2.4335, 2.4316, 2.4314, 2.4307, 2.4278, 2.4266, 2.423, 2.4187, 2.416, 2.4155, 2.4144, 2.4132, 2.4131, 2.4125, 2.4118, 2.4104, 2.4097, 2.4085, 2.4014, 2.3376, 2.3347, 2.3143, 2.3165, 2.2115, 2.341, 2.281, 2.2657, 1.9345, 1.9597, 2.091, 2.0077, 2.2733, 1.9943, 2.2433, 1.5527, 1.9581, 1.2422, 2.0906, 1.9851, 1.8083, 0.8764, 2.0442, 1.1561, 1.5177, 2.1054, 1.5529, 0.556, 1.2109, 0.7235, -0.1234, 0.0323, 0.6447, 0.3982, 0.6085, 0.541, -0.0399, -0.178, 0.2047, -0.2172, -0.1639, -0.2881, 0.0083, 0.0131, -0.5949, 0.4293, 0.2714, -0.2989, -0.0379, -0.327, 2.5466, 2.5435, 2.541, 2.5384, 2.5366, 2.5288, 2.5269, 2.5232, 2.5227, 2.521, 2.5198, 2.5189, 2.5176, 2.5162, 2.5127, 2.5121, 2.5078, 2.5064, 2.5063, 2.505, 2.5013, 2.501, 2.4995, 2.4926, 2.4911, 2.4904, 2.484, 2.4777, 2.4768, 2.4756, 2.4661, 2.4607, 2.4573, 2.4096, 2.3944, 2.3694, 2.3465, 2.1898, 2.3687, 2.2508, 1.7117, 2.3795, 2.3464, 2.2778, 1.927, 2.1424, 1.9408, 1.9359, 1.8981, 1.7605, 0.6973, 0.7853, 1.5625, 0.7904, -0.0375, 0.1957, 0.3065, 1.533, 0.5592, -0.0295, 1.3234, -0.1272, 0.2687, 0.7569, 0.5829, 0.226, -0.1804, -0.1357, 0.4895, 0.0978, 0.0375, 0.7865, 0.0816, -0.556, 0.6613, 0.0953, 0.4369, -0.2723, 0.1358, 2.7091, 2.7061, 2.7036, 2.703, 2.7029, 2.7029, 2.7012, 2.7004, 2.6966, 2.6959, 2.6935, 2.6935, 2.6896, 2.6834, 2.68, 2.6764, 2.6754, 2.672, 2.6712, 2.6675, 2.6636, 2.659, 2.6588, 2.6577, 2.656, 2.6522, 2.6518, 2.6514, 2.6492, 2.6491, 2.6466, 2.6352, 2.6357, 2.6427, 2.619, 2.6223, 2.5721, 2.5072, 2.1119, 2.3048, 2.3681, 2.349, 2.483, 2.3277, 2.5193, 1.9581, 1.7435, 2.4596, 1.2775, 1.0721, 1.4306, 1.5266, 1.4823, 1.393, 2.1371, 0.6284, 1.432, 1.5032, 0.1657, 1.3748, 1.6817, 1.2894, 0.1284, 1.3585, 0.9914, -0.327, 0.8271, 0.8805, -0.1672, 0.422, -0.204, 0.9448, 1.0358, 1.0536, 0.7559, 0.4628, -0.6039, -0.0599, -0.1552, -0.0706, -0.676, -0.5757, 2.8045, 2.7883, 2.772, 2.7672, 2.7671, 2.7653, 2.7638, 2.7637, 2.7613, 2.756, 2.7518, 2.7514, 2.7491, 2.7467, 2.7451, 2.7427, 2.7391, 2.738, 2.7371, 2.7348, 2.7339, 2.7318, 2.7316, 2.7312, 2.7263, 2.7261, 2.7252, 2.725, 2.7232, 2.7217, 2.6929, 2.6642, 2.6, 2.5806, 2.3789, 2.6643, 2.5171, 2.1876, 2.4159, 2.6186, 2.1478, 1.815, 2.5295, 2.1237, 2.0824, 2.1373, 1.7995, 1.9141, 1.8414, 1.6226, 1.6944, 0.99, 1.8341, 0.2338, 0.6952, 2.0598, 0.7141, 0.0552, 0.0827, 0.3147, -0.188, -0.0318, -0.6315, -0.38, 0.2829, 0.0335, -0.3762, 0.1228, 0.659, 3.422, 3.4112, 3.4104, 3.4093, 3.4087, 3.4074, 3.4049, 3.3892, 3.3872, 3.3712, 3.3706, 3.37, 3.3691, 3.3681, 3.3642, 3.3603, 3.3598, 3.3588, 3.3557, 3.3555, 3.3534, 3.3511, 3.3487, 3.3435, 3.3382, 3.336, 3.3359, 3.3319, 3.3308, 3.3286, 3.3273, 3.3225, 3.3259, 3.2638, 3.2861, 3.2758, 2.9308, 3.0449, 3.219, 2.9207, 2.7936, 2.545, 2.2339, 2.8035, 2.1239, 1.6346, 1.558, 2.5059, 1.6105, 2.1126, 2.1689, 1.5101, 0.5806, 0.8103, 0.8525, 1.0852, 1.7658, 1.4058, 0.3244, 0.1093, 1.1646, 0.595, -0.0917, 1.4614, 1.0549, -0.8929, 1.0837, 1.2482]}, \"token.table\": {\"Topic\": [4, 9, 1, 3, 1, 8, 2, 1, 2, 3, 4, 5, 6, 4, 5, 1, 5, 5, 1, 2, 6, 7, 1, 2, 3, 4, 5, 6, 7, 8, 10, 4, 10, 3, 1, 2, 3, 4, 5, 6, 7, 8, 9, 10, 9, 3, 1, 6, 10, 9, 1, 2, 3, 5, 2, 2, 4, 8, 3, 10, 1, 2, 3, 4, 5, 6, 7, 8, 9, 10, 7, 2, 8, 8, 1, 2, 3, 4, 5, 6, 7, 8, 9, 10, 1, 2, 3, 4, 5, 6, 7, 8, 9, 10, 1, 2, 3, 4, 5, 6, 7, 8, 9, 10, 9, 1, 2, 3, 4, 5, 6, 7, 10, 3, 6, 7, 4, 8, 1, 2, 3, 4, 5, 6, 7, 8, 9, 10, 1, 2, 3, 4, 5, 6, 7, 9, 1, 2, 3, 4, 5, 6, 7, 8, 9, 10, 1, 5, 1, 2, 3, 4, 5, 6, 7, 8, 9, 1, 2, 3, 4, 6, 7, 8, 9, 10, 2, 3, 1, 2, 5, 5, 1, 2, 3, 4, 5, 6, 7, 8, 9, 1, 2, 3, 4, 5, 7, 9, 1, 2, 3, 4, 5, 6, 7, 8, 9, 3, 8, 8, 1, 2, 3, 4, 5, 6, 9, 1, 2, 3, 4, 5, 6, 7, 8, 9, 10, 1, 2, 3, 4, 5, 6, 7, 8, 10, 2, 3, 4, 8, 1, 2, 3, 4, 5, 6, 7, 8, 9, 10, 9, 1, 2, 3, 4, 5, 6, 7, 8, 9, 10, 1, 2, 3, 4, 5, 6, 8, 9, 3, 1, 2, 4, 6, 10, 1, 2, 3, 4, 5, 6, 7, 8, 9, 1, 2, 3, 4, 5, 6, 7, 8, 9, 10, 5, 8, 2, 10, 1, 2, 4, 5, 7, 8, 5, 1, 2, 3, 4, 5, 6, 7, 8, 9, 10, 1, 2, 3, 4, 5, 6, 7, 2, 3, 4, 5, 1, 1, 2, 4, 10, 1, 2, 3, 4, 5, 7, 9, 1, 2, 3, 4, 5, 6, 7, 8, 9, 1, 2, 3, 4, 5, 6, 7, 8, 10, 1, 2, 3, 5, 7, 8, 9, 10, 1, 3, 5, 6, 7, 1, 2, 3, 4, 5, 6, 7, 8, 10, 4, 1, 4, 10, 8, 1, 3, 2, 3, 5, 8, 8, 1, 2, 3, 4, 5, 6, 7, 8, 9, 10, 1, 2, 3, 4, 6, 8, 9, 5, 8, 2, 1, 2, 3, 6, 7, 8, 9, 10, 1, 2, 3, 4, 5, 6, 7, 8, 10, 1, 2, 3, 4, 5, 7, 2, 7, 9, 1, 2, 3, 4, 5, 6, 7, 8, 9, 10, 1, 2, 5, 6, 7, 10, 5, 1, 3, 4, 6, 4, 6, 1, 2, 4, 8, 1, 2, 3, 4, 5, 6, 7, 8, 9, 10, 1, 2, 3, 4, 5, 6, 7, 8, 9, 10, 1, 3, 8, 1, 2, 10, 2, 2, 8, 7, 3, 1, 3, 5, 7, 1, 2, 3, 4, 5, 6, 7, 8, 9, 10, 7, 4, 5, 2, 4, 8, 1, 1, 2, 3, 4, 5, 7, 8, 9, 10, 1, 3, 6, 10, 6, 4, 2, 7, 9, 1, 2, 3, 4, 6, 7, 8, 9, 3, 6, 5, 1, 2, 3, 4, 5, 6, 7, 8, 9, 10, 1, 2, 3, 4, 5, 6, 7, 8, 9, 10, 1, 3, 5, 6, 7, 1, 2, 3, 4, 6, 7, 8, 9, 10, 5, 7, 1, 2, 4, 5, 6, 7, 8, 10, 3, 9, 2, 4, 8, 7, 9, 2, 2, 5, 6, 2, 3, 4, 7, 1, 2, 3, 5, 6, 8, 10, 1, 2, 3, 4, 5, 6, 7, 8, 9, 10, 1, 2, 3, 4, 5, 6, 7, 8, 9, 10, 1, 8, 9, 4, 1, 2, 3, 4, 5, 6, 7, 9, 10, 7, 9, 4, 6, 6, 9, 6, 10, 1, 3, 5, 1, 2, 4, 7, 8, 2, 1, 2, 4, 1, 3, 6, 3, 1, 2, 3, 4, 5, 6, 7, 8, 10, 1, 2, 3, 4, 5, 6, 7, 8, 9, 10, 8, 1, 2, 3, 5, 7, 9, 1, 2, 3, 4, 5, 10, 3, 1, 2, 3, 4, 5, 6, 7, 8, 9, 10, 5, 6, 2, 10, 2, 5, 1, 3, 6, 1, 2, 3, 6, 7, 8, 1, 2, 3, 4, 5, 6, 10, 8, 3, 1, 2, 3, 4, 5, 6, 7, 8, 9, 10, 1, 2, 3, 6, 2, 1, 2, 3, 4, 5, 6, 7, 8, 9, 10, 6, 1, 2, 3, 4, 5, 6, 7, 8, 9, 10, 1, 10, 10, 6, 6, 1, 2, 3, 4, 5, 6, 7, 8, 9, 10, 5, 3, 6, 4, 10, 7, 8, 1, 4, 10, 1, 2, 3, 4, 5, 6, 7, 8, 9, 10, 1, 2, 3, 4, 5, 6, 7, 8, 10, 5, 1, 2, 3, 4, 5, 6, 7, 8, 9, 10, 1, 8, 1, 2, 3, 4, 5, 6, 7, 8, 9, 10, 10, 1, 4, 6, 8, 9, 10, 1, 2, 3, 4, 5, 6, 7, 8, 9, 10, 2, 4, 10, 8, 1, 6, 1, 2, 3, 6, 7, 10, 10, 1, 3, 5, 6, 7, 8, 1, 2, 3, 4, 5, 6, 8, 9, 4, 1, 6, 7, 1, 7, 1, 2, 3, 5, 6, 7, 9, 9, 1, 3, 4, 5, 8, 10, 5, 7, 9, 10, 7, 9, 3, 4, 1, 2, 3, 4, 5, 6, 7, 8, 9, 10, 1, 2, 6, 1, 2, 3, 4, 5, 6, 7, 8, 9, 10, 5, 6, 1, 2, 8, 9, 1, 2, 3, 4, 5, 6, 7, 8, 10, 1, 2, 3, 4, 5, 6, 7, 8, 9, 10, 1, 2, 3, 4, 5, 6, 7, 8, 9, 10, 1, 9, 7, 8, 3, 4, 6, 8, 1, 2, 3, 4, 5, 6, 7, 8, 9, 10, 2, 3, 4, 5, 6, 8, 9, 3, 1, 9, 2, 4, 5, 6, 1, 2, 3, 4, 5, 6, 9, 10, 2, 5, 9, 1, 2, 3, 4, 5, 6, 7, 8, 9, 10, 3, 4, 6, 7, 8, 10, 1, 2, 3, 4, 5, 6, 7, 8, 9, 10, 1, 2, 4, 6, 8, 2, 8, 3, 6, 9, 9, 1, 2, 1, 10, 1, 2, 3, 4, 5, 6, 7, 8, 9, 10, 1, 2, 4, 5, 6, 7, 8, 9, 10, 1, 2, 3, 4, 5, 6, 7, 8, 9, 1, 2, 3, 4, 5, 6, 8, 9, 2, 4, 8, 1, 2, 3, 4, 5, 7, 8, 5, 6, 1, 2, 3, 4, 5, 6, 7, 8, 9, 10, 2, 1, 2, 3, 4, 5, 6, 7, 8, 10, 1, 7, 8, 8, 10, 6, 1, 2, 4, 5, 6, 7, 6, 4, 5, 1, 5, 1, 2, 3, 4, 6, 7, 8, 10, 3, 4, 4, 5, 1, 2, 3, 4, 5, 6, 7, 8, 9, 10, 9, 7, 4, 1, 2, 3, 4, 5, 6, 7, 8, 9, 10, 1, 2, 3, 4, 6, 7, 8, 1, 6, 8, 10, 1, 2, 3, 4, 5, 6, 7, 8, 9, 2, 1, 2, 3, 4, 6, 7, 8, 9, 8, 1, 2, 3, 4, 5, 6, 7, 8, 9, 10, 8, 1, 2, 7, 9, 1, 1, 2, 3, 4, 5, 6, 7, 8, 10, 4, 7, 9, 1, 2, 3, 4, 5, 6, 7, 8, 1, 2, 3, 4, 5, 6, 7, 8, 9, 10, 5, 1, 2, 3, 4, 5, 6, 7, 8, 9, 10, 1, 2, 3, 4, 5, 6, 7, 8, 9, 10, 4, 1, 2, 3, 4, 5, 7, 8, 10, 1, 8, 10, 1, 5, 7, 8, 1, 2, 3, 4, 5, 6, 7, 8, 9, 10, 2, 2, 8, 1, 2, 3, 4, 5, 6, 7, 8, 9, 10, 2, 3, 5, 7, 8, 4, 1, 2, 3, 4, 5, 6, 7, 8, 9, 10, 1, 2, 3, 4, 8, 9, 6, 10, 1, 2, 3, 4, 5, 6, 7, 8, 10, 9, 7, 8, 4, 6, 2, 3, 5, 6, 7, 8, 9, 2, 3, 8, 1, 2, 3, 4, 6, 7, 8, 1, 2, 3, 4, 5, 6, 7, 8, 1, 2, 3, 4, 5, 6, 7, 8, 10, 6, 6, 8, 10, 4, 4, 9, 1, 2, 3, 4, 6, 7, 8, 9, 10, 2, 1, 4, 7, 8, 9, 1, 2, 3, 4, 7, 8, 1, 5, 1, 2, 3, 4, 5, 6, 7, 8, 9, 10, 8, 1, 2, 3, 4, 5, 6, 7, 8, 9, 10, 9, 1, 2, 3, 4, 7, 8, 10, 1, 2, 3, 4, 5, 6, 7, 8, 9, 10, 6, 1, 2, 3, 4, 5, 6, 7, 8, 10, 3, 1, 2, 3, 4, 5, 6, 7, 8, 9, 10, 4, 9, 1, 2, 3, 4, 5, 6, 7, 8, 9, 10, 9, 3, 6, 10, 1, 4, 1, 2, 3, 4, 5, 6, 7, 8, 9, 10, 5, 1, 2, 3, 4, 5, 6, 7, 8, 1, 2, 3, 4, 5, 6, 7, 8, 9, 10, 9, 10, 1, 2, 3, 4, 5, 6, 7, 8, 9, 10, 2, 4, 8, 1, 2, 3, 4, 5, 6, 7, 8, 9, 10, 2, 7, 3, 6, 1, 2, 3, 4, 5, 6, 7, 8, 9, 10, 5, 6, 3, 6, 1, 2, 3, 4, 5, 6, 7, 8, 9, 10, 1, 2, 3, 4, 5, 6, 7, 8, 10, 1, 2, 3, 4, 5, 6, 7, 8, 10, 1, 2, 3, 4, 5, 6, 7, 8, 9, 10, 1, 2, 3, 4, 5, 6, 7, 8, 9, 10, 1, 3, 6, 10, 5, 6, 7, 1, 2, 3, 4, 5, 6, 9, 10, 1, 2, 3, 4, 5, 6, 7, 8, 9, 10, 1, 2, 4, 6, 7, 1, 2, 3, 4, 5, 6, 7, 8, 1, 2, 3, 4, 5, 6, 7, 8, 10, 2, 10, 1, 2, 3, 4, 5, 6, 7, 8, 9, 10, 1, 2, 3, 4, 5, 6, 7, 8, 9, 10, 1, 2, 3, 4, 5, 6, 7, 8, 9, 10, 5, 1, 2, 3, 5, 6, 7, 8, 2, 3, 4, 5, 6, 10, 10, 1, 2, 3, 4, 5, 6, 7, 8, 9, 10, 1, 2, 3, 4, 5, 7, 9, 10, 2, 3, 5, 7, 8, 5, 1, 2, 3, 4, 5, 6, 7, 8, 9, 10, 2, 2, 7, 1, 2, 3, 4, 5, 6, 7, 8, 9, 10, 1, 3, 5, 7, 8, 9, 1, 6, 7, 4, 9, 1, 2, 3, 4, 5, 6, 7, 8, 9, 10, 2, 6, 10, 1, 2, 3, 4, 5, 6, 7, 8, 9, 1, 2, 3, 4, 5, 6, 7, 8, 9, 10, 2, 1, 2, 3, 4, 5, 6, 7, 8, 9, 10, 1, 6, 10, 3, 1, 2, 3, 4, 5, 6, 7, 8, 9, 10, 1, 2, 3, 4, 5, 6, 7, 8, 9, 10, 1, 2, 3, 4, 5, 1, 2, 3, 4, 5, 6, 7, 8, 9, 10, 7, 1, 2, 3, 4, 5, 6, 7, 8, 9, 10, 2, 1, 2, 3, 4, 5, 6, 7, 9, 4, 7, 3, 5, 7, 1, 2, 3, 4, 5, 6, 7, 8, 9, 10, 1, 6, 1, 2, 3, 4, 5, 6, 7, 8, 9, 10, 1, 2, 3, 4, 5, 6, 7, 8, 9, 10, 1, 2, 3, 4, 5, 6, 7, 8, 9, 10, 1, 2, 3, 4, 5, 6, 7, 8, 9, 10, 2, 4, 7, 8, 1, 3, 10, 1, 2, 4, 5, 7, 8, 9, 2, 9, 1, 2, 3, 4, 5, 6, 7, 8, 9, 10, 1, 2, 3, 4, 5, 6, 7, 8, 9, 10, 3, 4, 9, 10, 2, 3, 4, 6, 10, 1, 2, 3, 4, 8, 9, 10, 4, 4, 8, 1, 2, 3, 4, 5, 6, 7, 8, 10, 2, 4, 9, 1, 2, 3, 5, 6, 6, 9, 1, 2, 3, 6, 7, 8, 9, 10, 2, 4, 8, 5, 8, 1, 2, 3, 4, 5, 6, 7, 8, 9, 10, 6, 9, 4, 3, 1, 2, 3, 4, 5, 6, 7, 8, 9, 10, 2, 7, 1, 2, 3, 4, 5, 6, 7, 8, 9, 10, 1, 2, 3, 4, 5, 6, 7, 8, 9, 10, 2, 3, 5, 6, 7, 8, 1, 7, 9, 1, 3, 4, 5, 8, 10, 7, 4, 1, 2, 3, 4, 5, 6, 7, 8, 9, 10, 5, 6, 1, 1, 2, 3, 4, 5, 6, 7, 8, 9, 10, 1, 2, 4, 5, 6, 8, 9, 10, 7, 1, 10, 1, 2, 3, 4, 5, 6, 7, 8, 9, 10, 3, 1, 2, 3, 4, 5, 6, 7, 8, 10, 1, 2, 3, 4, 5, 6, 7, 8, 9, 10, 7, 5, 1, 2, 3, 6, 8, 6, 1, 3, 4, 5, 6, 7, 8, 9, 5, 1, 2, 3, 4, 5, 6, 7, 8, 9, 10, 1, 2, 3, 4, 7, 10, 1, 2, 3, 5, 6, 7, 8, 9, 1, 2, 3, 4, 5, 6, 7, 8, 9, 10, 5, 1, 2, 3, 4, 5, 6, 7, 8, 9, 1, 5, 1, 2, 3, 4, 5, 6, 7, 8, 9, 10, 2, 1, 2, 3, 4, 5, 7, 9, 10, 1, 5, 6, 7, 8, 9, 1, 3, 7, 4, 5, 1, 2, 3, 4, 6, 7, 8, 9, 10, 7, 1, 2, 8, 1, 2, 3, 5, 6, 7, 8, 10, 4, 8, 10, 1, 2, 4, 5, 7, 3, 4, 5, 6, 7, 7, 8, 1, 2, 3, 4, 5, 6, 7, 8, 9, 10, 1, 2, 3, 4, 5, 6, 7, 8, 10, 1, 2, 3, 4, 5, 6, 7, 8, 9, 1, 3, 5, 7, 1, 2, 3, 4, 5, 6, 7, 8, 9, 4, 1, 1, 2, 3, 4, 5, 6, 7, 8, 9, 10, 9, 2, 3, 4, 7, 9, 1, 2, 3, 5, 8, 2, 8, 3, 1, 1, 10, 3, 9, 3, 1, 1, 2, 3, 4, 5, 6, 7, 8, 9, 10, 6, 1, 2, 3, 4, 5, 6, 7, 10, 1, 2, 6, 1, 2, 3, 4, 5, 6, 7, 8, 9, 10, 2, 4, 1, 1, 2, 3, 4, 5, 6, 7, 8, 9, 10, 1, 2, 3, 4, 5, 6, 7, 8, 9, 10, 1, 2, 3, 4, 5, 6, 7, 8, 9, 10, 1, 4, 5, 2, 7, 1, 2, 3, 4, 5, 6, 7, 8, 9, 10, 3, 5, 3, 1, 2, 3, 4, 5, 6, 7, 8, 9, 10, 1, 2, 3, 4, 5, 6, 7, 8, 9, 10, 1, 2, 3, 4, 5, 6, 7, 8, 9, 10, 1, 4, 1, 5, 8, 2, 4, 1, 2, 3, 4, 5, 6, 7, 8, 9, 10, 3, 4, 6, 7, 8, 8, 2, 4, 8, 3, 4, 6, 2, 7, 1, 2, 3, 4, 5, 6, 7, 8, 9, 10, 2, 1, 2, 3, 4, 5, 6, 7, 8, 9, 10, 1, 2, 3, 4, 5, 6, 7, 8, 9, 10, 4, 7, 8, 7, 1, 2, 5, 6, 1, 3, 4, 5, 6, 7, 8, 9, 1, 2, 3, 4, 5, 6, 7, 8, 6, 5, 9, 1, 2, 3, 4, 5, 6, 7, 8, 9, 10, 8, 2, 1, 2, 3, 4, 5, 6, 7, 8, 9, 10, 1, 2, 3, 4, 5, 6, 7, 8, 9, 10, 1, 2, 3, 4, 5, 10, 1, 2, 3, 4, 5, 6, 7, 8, 9, 10, 7, 1, 2, 3, 4, 5, 6, 7, 8, 9, 10, 9, 1, 2, 3, 4, 5, 6, 7, 8, 1, 4, 1, 4, 7, 1, 2, 3, 6, 8, 8, 4, 9, 1, 2, 3, 4, 5, 6, 8, 9, 10, 6, 6, 4, 1, 2, 3, 4, 5, 6, 7, 8, 9, 10, 1, 2, 3, 4, 5, 6, 7, 8, 9, 10, 8, 1, 2, 3, 4, 5, 6, 7, 8, 9, 10, 1, 3, 6, 8, 7, 1, 2, 3, 4, 6, 7, 8, 9, 10, 3, 1, 2, 3, 4, 5, 6, 7, 8, 9, 10, 3, 1, 2, 3, 4, 5, 6, 7, 8, 9, 10, 1, 2, 3, 4, 5, 6, 7, 8, 6, 5, 8], \"Freq\": [0.9473333507341082, 0.919468895963653, 0.9542757865825849, 0.9622502060076179, 0.05413572178873624, 0.8932394095141479, 0.9799753039164744, 0.010503156052799764, 0.07352209236959835, 0.21006312105599528, 0.06301893631679858, 0.6301893631679858, 0.9260403059811528, 0.9371645184744679, 0.9684152268744923, 0.9208085258516793, 0.9125492333037037, 0.9639100915162777, 0.01800514079566809, 0.8282364766007321, 0.09002570397834044, 0.05401542238700426, 0.0529007485033162, 0.17381674508232464, 0.015114499572376056, 0.015114499572376056, 0.030228999144752113, 0.6121372326812303, 0.07557249786188028, 0.007557249786188028, 0.015114499572376056, 0.9385975906451518, 0.9439762054404763, 0.9467300603310664, 0.23935645035502892, 0.13618556658130956, 0.1458148490668567, 0.05640008312963325, 0.12518067231211283, 0.05502447134598366, 0.06602936561518039, 0.10317088377371936, 0.05227324777868448, 0.020634176754743872, 0.9602432154782038, 0.964899847102382, 0.12745670665755027, 0.8284685932740767, 0.9178656163945069, 0.914546247770493, 0.02441497735995436, 0.9033541623183113, 0.07324493207986309, 0.9608089138162714, 0.9336130346835774, 0.019104247683648955, 0.8405868980805541, 0.11462548610189374, 0.04180874610938307, 0.9197924144064277, 0.14526159928584914, 0.02152023693123691, 0.09146100695775687, 0.06725074041011535, 0.09953109580697071, 0.09953109580697071, 0.10222112542337532, 0.06456071079371073, 0.010760118465618454, 0.2985932874209121, 0.9448730027551855, 0.05291107857635383, 0.8994883357980152, 0.9367272385552909, 0.22873006545855265, 0.14362120389257957, 0.05496613976135761, 0.01950411410886883, 0.0957474692617197, 0.2854693065025347, 0.0407813295003621, 0.04432753206561098, 0.07890300707678753, 0.007092405130497756, 0.4118141084077418, 0.10066567094411466, 0.07974812892975318, 0.08628486080924114, 0.05883058691539168, 0.07059670429847002, 0.10458771007180744, 0.02222488839025908, 0.05883058691539168, 0.007844078255385557, 0.05303291628951003, 0.07954937443426505, 0.2310719924042937, 0.015152261797002867, 0.01136419634775215, 0.026516458144755017, 0.2841049086938038, 0.2500123196505473, 0.0454567853910086, 0.007576130898501433, 0.9367560661345118, 0.16511935000326217, 0.19263924167047253, 0.5889256816783017, 0.02751989166721036, 0.005503978333442072, 0.005503978333442072, 0.005503978333442072, 0.011007956666884144, 0.06355027926736606, 0.03177513963368303, 0.8897039097431249, 0.11628798550538243, 0.8430878949140226, 0.08804669993555375, 0.019370273985821827, 0.6603502495166532, 0.0035218679974221502, 0.0017609339987110751, 0.014087471989688601, 0.049306151963910104, 0.15496219188657462, 0.0052828019961332255, 0.0035218679974221502, 0.05514558619624939, 0.10241323150732029, 0.1418029359332127, 0.0472676453110709, 0.02363382265553545, 0.6066014481587433, 0.01575588177035697, 0.01575588177035697, 0.2873713351635293, 0.0845209809304498, 0.0748614402526841, 0.12074425847207114, 0.06278701440547699, 0.053127473727711295, 0.05554235889715272, 0.16662707669145815, 0.07727632542212552, 0.01931908135553138, 0.9308458706969047, 0.9668309668167633, 0.034974024107764186, 0.08306330725593994, 0.7738002833842825, 0.034974024107764186, 0.03934577712123471, 0.008743506026941046, 0.004371753013470523, 0.017487012053882093, 0.004371753013470523, 0.01019843773654784, 0.00509921886827392, 0.0016997396227579733, 0.0254960943413696, 0.011898177359305814, 0.0016997396227579733, 0.0033994792455159465, 0.9280578340258534, 0.01019843773654784, 0.042498072785616285, 0.9349576012835583, 0.044088894551051666, 0.044088894551051666, 0.8817778910210333, 0.9374622498094723, 0.15159555708239278, 0.010106370472159518, 0.07074459330511663, 0.04042548188863807, 0.545744005496614, 0.04042548188863807, 0.1111700751937547, 0.020212740944319036, 0.010106370472159518, 0.003903283336895382, 0.007806566673790764, 0.8587223341169841, 0.05464596671653535, 0.027322983358267675, 0.0429361167058492, 0.003903283336895382, 0.7231406737330225, 0.06704615518054513, 0.002394505542162326, 0.026339560963785588, 0.002394505542162326, 0.002394505542162326, 0.01915604433729861, 0.15324835469838888, 0.004789011084324652, 0.9770990099322077, 0.9789779231707096, 0.9560093681118788, 0.07264086454520044, 0.05448064840890034, 0.7627290777246046, 0.01816021613630011, 0.0817209726133505, 0.009080108068150055, 0.009080108068150055, 0.056944721377035094, 0.06729830708195056, 0.010353585704915472, 0.16565737127864755, 0.5125024923933158, 0.06212151422949283, 0.09318227134423925, 0.010353585704915472, 0.010353585704915472, 0.005176792852457736, 0.3054172905838061, 0.05568381541030719, 0.19573704810895862, 0.04049732029840523, 0.025310825186503266, 0.1299289026240501, 0.030372990223803922, 0.07255769886797603, 0.14511539773595206, 0.16074287411852617, 0.02679047901975436, 0.02679047901975436, 0.8037143705926308, 0.2336308329087258, 0.25119706094697586, 0.1457996927174755, 0.13174671028687546, 0.0298625876650251, 0.05621192972240019, 0.057968552526225195, 0.0298625876650251, 0.057968552526225195, 0.005269868411475018, 0.9478472161316625, 0.1861125959171735, 0.04746495734800398, 0.029977867798739354, 0.23357755326517748, 0.06370296907232113, 0.10866977077043016, 0.13614948291927456, 0.013739856074422204, 0.02872878997379188, 0.15113841681864426, 0.011048417728061644, 0.03314525318418493, 0.8617765827888082, 0.011048417728061644, 0.011048417728061644, 0.022096835456123287, 0.03314525318418493, 0.011048417728061644, 0.9264182722036779, 0.017181010516747988, 0.017181010516747988, 0.9105935573876435, 0.017181010516747988, 0.05154303155024397, 0.8512474719883775, 0.005254614024619614, 0.005254614024619614, 0.015763842073858843, 0.005254614024619614, 0.015763842073858843, 0.005254614024619614, 0.02627307012309807, 0.06830998232005497, 0.0070833873468593685, 0.009916742285603115, 0.004250032408115621, 0.9010068705205116, 0.018416807101834357, 0.0014166774693718737, 0.0028333549387437474, 0.0014166774693718737, 0.043917001550528086, 0.008500064816231242, 0.9437488563298795, 0.9465512519978065, 0.9475354794822932, 0.9202050984034365, 0.027277334310623257, 0.08183200293186976, 0.1363866715531163, 0.16366400586373953, 0.04091600146593488, 0.5455466862124652, 0.9124667420611348, 0.29246105358187807, 0.09734151484889375, 0.20472273750731465, 0.12003998467912906, 0.048015993871651626, 0.06634937334991861, 0.06329381010354078, 0.016587343337479653, 0.0755160630890521, 0.015714325267085986, 0.04918588290577327, 0.0655811772076977, 0.0655811772076977, 0.04098823575481106, 0.008197647150962212, 0.7541835378885234, 0.008197647150962212, 0.014589800527047473, 0.014589800527047473, 0.029179601054094947, 0.9191574332039909, 0.9294896012163513, 0.14392687052165698, 0.015991874502406328, 0.8155855996227228, 0.9254740056269043, 0.045365296440541714, 0.032403783171815505, 0.012961513268726204, 0.3305185883525182, 0.051846053074904815, 0.045365296440541714, 0.4795759909428695, 0.007812231288189348, 0.6015418091905798, 0.007812231288189348, 0.24999140122205912, 0.06249785030551478, 0.015624462576378695, 0.007812231288189348, 0.015624462576378695, 0.03906115644094674, 0.3415453931775253, 0.02754398332076817, 0.06059676330568998, 0.005508796664153634, 0.16526389992460902, 0.011017593328307268, 0.35256298650583257, 0.011017593328307268, 0.02754398332076817, 0.06307172850864039, 0.012614345701728077, 0.025228691403456155, 0.03784303710518423, 0.163986494122465, 0.012614345701728077, 0.6685603221915881, 0.012614345701728077, 0.09297756440282125, 0.030992521467607084, 0.030992521467607084, 0.8058055581577841, 0.030992521467607084, 0.36708501120002773, 0.08497338222222864, 0.04418615875555889, 0.10536699395556351, 0.020393611733334874, 0.016994676444445727, 0.06797870577778291, 0.28551056426668825, 0.010196805866667437, 0.9248182933831297, 0.015923180752743852, 0.015923180752743852, 0.9713140259173749, 0.9580613664085168, 0.9594011815172663, 0.9718529366341153, 0.02076766895597596, 0.24921202747171153, 0.6853330755472067, 0.02076766895597596, 0.9555798622652848, 0.2606712324125288, 0.10982595071187763, 0.18392538733675892, 0.07806904930121422, 0.02117126760710894, 0.034403309861552024, 0.12438119719176502, 0.014555246479887396, 0.009262429578110161, 0.16407732395509428, 0.09116980365847796, 0.6280586474250704, 0.040519912737101316, 0.050649890921376645, 0.020259956368550658, 0.050649890921376645, 0.11142976002702862, 0.9069049856722811, 0.04122295389419459, 0.9307917940430327, 0.10055486351243897, 0.04022194540497559, 0.010055486351243897, 0.010055486351243897, 0.010055486351243897, 0.010055486351243897, 0.8044389080995118, 0.010055486351243897, 0.06131165425703554, 0.03065582712851777, 0.07663956782129443, 0.5594688450954493, 0.07663956782129443, 0.038319783910647214, 0.02299187034638833, 0.12262330851407108, 0.007663956782129442, 0.028541507504081822, 0.8562452251224547, 0.00951383583469394, 0.01902767166938788, 0.01902767166938788, 0.06659685084285759, 0.08883231137427791, 0.044416155687138956, 0.7994908023685012, 0.12355255546548577, 0.15885328559848172, 0.07766160629259106, 0.23298481887777317, 0.031770657119696344, 0.06707138725269228, 0.017650365066497968, 0.25416525695757075, 0.02118043807979756, 0.01059021903989878, 0.01543944882875707, 0.8028513390953675, 0.09263669297254241, 0.04631834648627121, 0.01543944882875707, 0.03087889765751414, 0.9447936915006304, 0.02751225790201291, 0.17882967636308392, 0.7153187054523357, 0.05502451580402582, 0.9707238506237557, 0.9666478750121799, 0.016098945491766204, 0.016098945491766204, 0.8210462200800763, 0.12879156393412963, 0.03075050584583301, 0.028653880447253484, 0.7946210260616393, 0.0237617545172346, 0.02585837991581412, 0.05940438629308649, 0.018170753454355867, 0.009784251860037774, 0.0034943756642992056, 0.004193250797159046, 0.10620987615153334, 0.19724691285284762, 0.1258453154400521, 0.11513507582813277, 0.12316775553707227, 0.12316775553707227, 0.08211183702471485, 0.025883079062138378, 0.04284095844767731, 0.05801379789789636, 0.9080910082484173, 0.05559740866827045, 0.01853246955609015, 0.21537046649482602, 0.7440070660730354, 0.9631954680031601, 0.9322752641578346, 0.956225393997723, 0.9666837720516551, 0.9156868166213238, 0.9675319992503968, 0.03034881179122897, 0.09104643537368691, 0.06069762358245794, 0.7890691065719533, 0.24460617314319963, 0.1344846688994484, 0.13545919548567628, 0.07308949396709152, 0.10135076496770025, 0.07114044079463575, 0.08380928641559827, 0.09842718520901658, 0.045802749552710686, 0.012668845620962531, 0.9741175121253006, 0.9324831114828891, 0.046624155574144455, 0.017931880766711233, 0.8786621575688504, 0.08965940383355617, 0.978683558906576, 0.042207487528565305, 0.08441497505713061, 0.042207487528565305, 0.14350545759712205, 0.1519469551028351, 0.5064898503427837, 0.008441497505713061, 0.008441497505713061, 0.016882995011426122, 0.014063933869704812, 0.3797262144820299, 0.08438360321822887, 0.5203655531790781, 0.9697938094148085, 0.9129986174218401, 0.06829066543266833, 0.8877786506246883, 0.9167952160628464, 0.006245774650208303, 0.7994591552266628, 0.06870352115229134, 0.006245774650208303, 0.043720422551458124, 0.01873732395062491, 0.03747464790124982, 0.012491549300416606, 0.1497822024823266, 0.8238021136527963, 0.9616356654069309, 0.32117293080240567, 0.02214985729671763, 0.06091210756597349, 0.011074928648358816, 0.016612392972538224, 0.15504900107702344, 0.055374643241794086, 0.016612392972538224, 0.3267103951265851, 0.011074928648358816, 0.05902310664659164, 0.06194504261919518, 0.012272131084934895, 0.013440905473976313, 0.00818142072328993, 0.012856518279455604, 0.15252505776990513, 0.02337548778082837, 0.6434103011673009, 0.012272131084934895, 0.02012172149114535, 0.060365164473436046, 0.7243819736812326, 0.060365164473436046, 0.12073032894687209, 0.012959966166604225, 0.03455990977761127, 0.004319988722201408, 0.008639977444402817, 0.008639977444402817, 0.03455990977761127, 0.008639977444402817, 0.8812776993290873, 0.004319988722201408, 0.04223837409606013, 0.9292442301133229, 0.12883746229486298, 0.0515349849179452, 0.0128837462294863, 0.12883746229486298, 0.045093111803202045, 0.032209365573715745, 0.00644187311474315, 0.5990941996711129, 0.9451176100458913, 0.039379900418578806, 0.017502734593649493, 0.7351148529332787, 0.22753554971744339, 0.9022216415474523, 0.8977340763305574, 0.9294640266913263, 0.02970222237199294, 0.8613644487877953, 0.05940444474398588, 0.03775371553699989, 0.03775371553699989, 0.9060891728879974, 0.8990912491126738, 0.04451862382844671, 0.15581518339956346, 0.055648279785558384, 0.06677793574267006, 0.011129655957111677, 0.06677793574267006, 0.5898717657269189, 0.20324559259413147, 0.03726169197559077, 0.48778942222591554, 0.14227191481589202, 0.013549706172942098, 0.03726169197559077, 0.01693713271617762, 0.013549706172942098, 0.05081139814853287, 0.945643815736576, 0.1901826237531418, 0.11921895817361126, 0.051093839217261974, 0.014192733115906103, 0.0965105851881615, 0.2753390224485784, 0.1248960514199737, 0.04825529259408075, 0.06528657233316808, 0.011354186492724882, 0.1008789934220678, 0.8070319473765424, 0.06725266228137854, 0.944319141673608, 0.029661233329647037, 0.014830616664823519, 0.0037076541662058797, 0.007415308332411759, 0.01112296249861764, 0.0037076541662058797, 0.9157905790528523, 0.007415308332411759, 0.0037076541662058797, 0.9433336432473712, 0.9395663293382169, 0.041604276903614665, 0.9568983687831374, 0.9636041358174362, 0.9463849865793106, 0.06508721529775023, 0.9112210141685033, 0.9756869043140657, 0.11174452386595864, 0.8567080163056828, 0.9646323868953761, 0.015075116545735803, 0.844206526561205, 0.030150233091471607, 0.09045069927441482, 0.9352575308141204, 0.9240907764296967, 0.028002750800899902, 0.028002750800899902, 0.14893947524965256, 0.02482324587494209, 0.819167113873089, 0.9880398653240754, 0.07847604908429516, 0.20080636089216702, 0.2723580527043185, 0.020773071816431073, 0.24235250452502916, 0.0023081190907145634, 0.030005548179289326, 0.020773071816431073, 0.12925466908001557, 0.13795904089432715, 0.13364782086637944, 0.13795904089432715, 0.030178540195634065, 0.03880098025152951, 0.034489760223581786, 0.008622440055895447, 0.004311220027947723, 0.405254682627086, 0.0732907404751113, 0.9421106823016795, 0.20546043196079175, 0.021627413890609657, 0.021627413890609657, 0.010813706945304829, 0.7245183653354235, 0.010813706945304829, 0.02193342691163348, 0.027416783639541847, 0.860887006281614, 0.049350210551175326, 0.027416783639541847, 0.00548335672790837, 0.9375421194836685, 0.08134157514780985, 0.13556929191301642, 0.05035430842483467, 0.05422771676520656, 0.11620225021115692, 0.06197453344595036, 0.13556929191301642, 0.03873408340371897, 0.06197453344595036, 0.2672651754856609, 0.04590366978454826, 0.9180733956909652, 0.061617016585732924, 0.9242552487859939, 0.9205073524330539, 0.04602536762165269, 0.1444290413217049, 0.04814301377390163, 0.794359727269377, 0.016400424999564588, 0.008200212499782294, 0.04100106249891147, 0.08200212499782294, 0.8446218874775763, 0.008200212499782294, 0.1698439619212527, 0.07548620529833454, 0.09435775662291818, 0.05661465397375091, 0.05661465397375091, 0.018871551324583635, 0.5284034370883418, 0.8870834815280252, 0.9258471240497925, 0.1361598836000949, 0.12378171236372264, 0.06189085618186132, 0.1650422831516302, 0.09902536989097811, 0.0825211415758151, 0.03507148516972142, 0.1732943973092117, 0.08664719865460585, 0.03507148516972142, 0.3253254714549734, 0.012049091535369386, 0.06024545767684693, 0.6024545767684693, 0.9440598247834441, 0.2567260817436939, 0.20278110760514553, 0.07864267314173913, 0.06954352087740567, 0.10334037214492993, 0.06109430806052461, 0.045495761321667265, 0.12088873722614445, 0.046795640216572044, 0.014298667843952569, 0.9568710858025357, 0.052158743049112055, 0.14604448053751376, 0.2315848191380575, 0.21280767164037717, 0.02086349721964482, 0.03129524582946723, 0.16690797775715857, 0.01877714749768034, 0.07093589054679239, 0.04798604360518309, 0.9320081817437745, 0.9658575126974657, 0.9273319058884059, 0.9905658223238611, 0.8989949633466823, 0.3802088381228189, 0.19420739213467728, 0.050603334570303235, 0.04239738842376758, 0.07932414608317805, 0.04923567687921396, 0.016411892293071318, 0.015044234601982042, 0.16001594985744536, 0.01230891921980349, 0.9580193871150715, 0.93759872234116, 0.024040992880542567, 0.9023954484971266, 0.9438843205611198, 0.936266236823682, 0.04458410651541343, 0.9481878876583397, 0.8862727308395507, 0.9358669367609264, 0.20072400451439448, 0.2607946919968045, 0.14065331703198444, 0.08497804570682393, 0.03662846797707928, 0.07765235211140809, 0.0717917972350754, 0.024907358224413912, 0.051279855167911, 0.05274499388699417, 0.1333597289484635, 0.16437361940159456, 0.04652083567969657, 0.29463195930474495, 0.1333597289484635, 0.08683889326876694, 0.05582500281563589, 0.03411527949844415, 0.04962222472500968, 0.9622712551904126, 0.022237329070122252, 0.10006798081555013, 0.044474658140244504, 0.4058312555297311, 0.011118664535061126, 0.027796661337652812, 0.12786464215320295, 0.20013596163110026, 0.027796661337652812, 0.033355993605183376, 0.9462109241328792, 0.9607017470221721, 0.1601167395328942, 0.329272327265226, 0.08522342588041143, 0.13041766687759931, 0.10071859422230442, 0.07489331365248278, 0.028407808626803813, 0.01162137625641974, 0.07231078559550061, 0.007747584170946494, 0.8505559891583225, 0.12367862294626202, 0.016490483059501602, 0.016490483059501602, 0.09069765682725882, 0.7420717376775721, 0.008245241529750801, 0.21818568942354546, 0.1148345733808134, 0.009186765870465073, 0.15387832833028997, 0.013780148805697608, 0.04134044641709283, 0.045933829352325366, 0.36976732628621917, 0.020670223208546414, 0.011483457338081341, 0.9038900540437536, 0.05831548735766152, 0.9139201454170285, 0.9386628566672637, 0.2945684776893845, 0.6676885494292716, 0.07423927060635377, 0.05939141648508302, 0.11878283297016604, 0.04454356236381226, 0.02969570824254151, 0.6681534354571839, 0.9877093266914568, 0.0153582872555803, 0.0153582872555803, 0.0153582872555803, 0.046074861766740895, 0.8139892245457558, 0.09214972353348179, 0.07678238082539227, 0.5460080414250117, 0.03412550258906323, 0.008531375647265808, 0.09384513211992389, 0.017062751294531615, 0.017062751294531615, 0.19622163988711358, 0.9030076075797758, 0.03156594816437126, 0.01578297408218563, 0.9311954708489523, 0.9730137971249687, 0.02629767019256672, 0.8524394477686671, 0.016393066303243598, 0.020491332879054497, 0.07786706494040709, 0.016393066303243598, 0.008196533151621799, 0.0040982665758108995, 0.9441889263190532, 0.18022141420845275, 0.13107011942432928, 0.01638376492804116, 0.606199302337523, 0.03276752985608232, 0.01638376492804116, 0.9172259155572389, 0.2352731981784187, 0.7352287443075585, 0.92694003173245, 0.92935507419814, 0.919903774386718, 0.9759310458587765, 0.9488726365049236, 0.27977166317565494, 0.1600600695164653, 0.1257138462660571, 0.04368306063886865, 0.09403529084092335, 0.08503191193062218, 0.07369432367320589, 0.07636199149848032, 0.049351854767576794, 0.012004505213734896, 0.0829720068841322, 0.8573774044693661, 0.027657335628044063, 0.3570217832019883, 0.15483740418437486, 0.10365148544573854, 0.05886380654943176, 0.12284620497272716, 0.09085500576107947, 0.060143454517897675, 0.026872607337784068, 0.01151683171619317, 0.01151683171619317, 0.9680535414472887, 0.9395765979014326, 0.015112761181656227, 0.015112761181656227, 0.015112761181656227, 0.9521039544443423, 0.011314454716503235, 0.13954494150353988, 0.01697168207475485, 0.03960059150776132, 0.49029303771514016, 0.2621182009323249, 0.003771484905501078, 0.013200197169253773, 0.02074316698025593, 0.35229655371798957, 0.1521982918474648, 0.10507090198606707, 0.08034833681287482, 0.11047896311770287, 0.0347661072748016, 0.05408061131635805, 0.03399352711313935, 0.06721447406461643, 0.008498381778284837, 0.2644642622620907, 0.17148259080394931, 0.08078735388986057, 0.0884088023700361, 0.08536022297796587, 0.04953941512114091, 0.166909721715844, 0.028961504224666996, 0.0464908357290707, 0.01829147635242126, 0.9510389928082065, 0.9268997795350038, 0.8821494876223488, 0.9473027585133997, 0.9431699362125815, 0.01849352816103101, 0.01849352816103101, 0.01849352816103101, 0.40601004582780476, 0.08607412971549461, 0.11855493338171898, 0.056841406415892665, 0.07957796898224972, 0.07957796898224972, 0.053593326049270223, 0.07145776806569364, 0.04060100458278047, 0.006496160733244875, 0.006021443687806092, 0.8911736657953017, 0.06021443687806092, 0.012042887375612184, 0.018064331063418277, 0.006021443687806092, 0.006021443687806092, 0.9825938507210539, 0.9329484758535412, 0.9345075287340957, 0.06724995892989973, 0.026899983571959888, 0.040349975357939834, 0.8473494825167365, 0.03344220992005735, 0.03344220992005735, 0.008360552480014338, 0.8109735905613908, 0.05016331488008603, 0.016721104960028675, 0.008360552480014338, 0.04180276240007169, 0.8699851282897663, 0.04924444122394904, 0.04924444122394904, 0.19099787182999656, 0.29331816031035185, 0.05457082052285616, 0.06593974146511786, 0.01819027350761872, 0.04092811539214212, 0.01591648931916638, 0.27058031842582847, 0.05002325214595148, 0.00227378418845234, 0.028348722634071642, 0.028348722634071642, 0.056697445268143284, 0.056697445268143284, 0.7654155111199343, 0.056697445268143284, 0.20760903981241452, 0.07834303389147718, 0.18802328133954524, 0.054840123724034025, 0.015668606778295437, 0.11751455083721576, 0.10184594405892033, 0.03133721355659087, 0.019585758472869294, 0.18802328133954524, 0.24560079141310134, 0.6704237819654929, 0.05310287381904894, 0.013275718454762235, 0.006637859227381118, 0.9613153748615664, 0.9671292588821256, 0.8962193823420842, 0.007286336441805562, 0.08743603730166674, 0.9638502009306591, 0.9275737089542717, 0.02992173254691199, 0.04011903854546973, 0.9227378865458038, 0.17244138001044562, 0.2114847113335654, 0.03741652585132311, 0.27655693020543165, 0.10736916113857935, 0.05205777509749302, 0.027655693020543166, 0.09110110642061278, 0.006507221887186628, 0.017894860189763225, 0.22404997186971998, 0.016235505207950723, 0.04221231354067188, 0.0649420208318029, 0.016235505207950723, 0.022729707291131013, 0.5325245708207837, 0.019482606249540867, 0.0584478187486226, 0.013128996316465238, 0.7855516129351701, 0.010940830263721031, 0.12253729895367556, 0.002188166052744206, 0.010940830263721031, 0.008752664210976825, 0.03719882289665151, 0.010940830263721031, 0.020057684585297227, 0.06017305375589169, 0.04011536917059445, 0.19054800356032367, 0.0702018960485403, 0.5816728529736196, 0.020057684585297227, 0.020057684585297227, 0.019107890335659128, 0.8598550651046608, 0.11464734201395478, 0.015713177002637753, 0.015713177002637753, 0.015713177002637753, 0.7699456731292499, 0.015713177002637753, 0.06285270801055101, 0.12570541602110202, 0.8630654560366333, 0.12042773805162325, 0.29706589711289444, 0.04368616134013154, 0.04368616134013154, 0.013105848402039462, 0.030580312938092078, 0.06989785814421046, 0.008737232268026307, 0.45870469407138115, 0.0043686161340131535, 0.03494892907210523, 0.9293592361063729, 0.03468943464324593, 0.07169149826270825, 0.3353312015513773, 0.01387577385729837, 0.4278363606000331, 0.002312628976216395, 0.07169149826270825, 0.01387577385729837, 0.030064176690813137, 0.036163325584609066, 0.9040831396152267, 0.036163325584609066, 0.9346251272997868, 0.8895615566856054, 0.9496812980730115, 0.07490525199133452, 0.26216838196967085, 0.014981050398266905, 0.14231997878353558, 0.5018651883419413, 0.007490525199133452, 0.9523634280794209, 0.9678984788155501, 0.9782379501065369, 0.04855301072233689, 0.922507203724401, 0.0062669635076931934, 0.8523070370462743, 0.043868744553852354, 0.01880089052307958, 0.0062669635076931934, 0.025067854030772774, 0.01880089052307958, 0.03133481753846597, 0.9539610898066161, 0.9847565592885228, 0.8878295494831837, 0.9352538980048425, 0.3022736166183377, 0.07902578212244123, 0.06124498114489195, 0.07902578212244123, 0.10470916131223462, 0.09483093854692948, 0.08297707122856329, 0.13829511871427216, 0.049391113826525765, 0.009878222765305153, 0.9546381586861324, 0.9428510652168317, 0.9465479199231248, 0.2096994697666575, 0.08154979379814459, 0.017474955813888124, 0.12232469069721688, 0.09319976434073667, 0.05242486744166437, 0.011649970542592083, 0.13397466123980895, 0.005824985271296042, 0.27959929302221, 0.23646140269997482, 0.2640485663483052, 0.15369991175498363, 0.015764093513331655, 0.023646140269997482, 0.015764093513331655, 0.2916357299966356, 0.045147721632904494, 0.045147721632904494, 0.045147721632904494, 0.8126589893922809, 0.07864265388066452, 0.05004532519678651, 0.6863358884130721, 0.021447996512908504, 0.021447996512908504, 0.05719465736775601, 0.014298664341939002, 0.028597328683878005, 0.05004532519678651, 0.9716078821225123, 0.10765119807631557, 0.06332423416253857, 0.2532969366501543, 0.006332423416253857, 0.088653927827554, 0.44326963913777, 0.006332423416253857, 0.031662117081269286, 0.927663781423751, 0.16984816044840698, 0.13587852835872558, 0.06510846150522268, 0.1924945818415279, 0.039631237437961625, 0.033969632089681394, 0.14720173905528605, 0.18400217381910755, 0.028308026741401163, 0.002830802674140116, 0.9819711992500048, 0.2624726168958484, 0.04921361566797157, 0.6397770036836304, 0.016404538555990524, 0.9739344381541758, 0.06227438562142438, 0.07265344989166178, 0.2594766067559349, 0.020758128540474794, 0.03113719281071219, 0.051895321351186983, 0.07265344989166178, 0.03113719281071219, 0.39440444226902105, 0.0675204059590788, 0.900272079454384, 0.022506801986359598, 0.013522121045100198, 0.013522121045100198, 0.006761060522550099, 0.818088323228562, 0.027044242090200395, 0.04056636313530059, 0.04056636313530059, 0.03380530261275049, 0.1823148740668935, 0.0049949280566272194, 0.35713735604884617, 0.019979712226508878, 0.35713735604884617, 0.034964496396390536, 0.0024974640283136097, 0.0049949280566272194, 0.012487320141568047, 0.024974640283136094, 0.9001356768551574, 0.2135082858660783, 0.12771500204774547, 0.27541593953044347, 0.05167095502695046, 0.08140612725944081, 0.07019450494227232, 0.06629481022325719, 0.036559637990766836, 0.03412232879138238, 0.0438715655889202, 0.13276163322159, 0.03595627566418062, 0.10510295963375875, 0.0331904083053975, 0.12722989850402375, 0.0331904083053975, 0.06084908189322875, 0.09127362283984312, 0.35956275664180626, 0.013829336793915625, 0.9644497267576961, 0.011625792606537537, 0.023251585213075073, 0.011625792606537537, 0.8196183787608964, 0.005812896303268768, 0.005812896303268768, 0.12207082236864414, 0.005812896303268768, 0.060319460876569635, 0.9047919131485445, 0.8985243260709772, 0.25664350037660766, 0.015096676492741627, 0.030193352985483254, 0.6793504421733731, 0.24486221819861526, 0.07042859787652479, 0.4029170948284907, 0.035214298938262396, 0.04340367078436993, 0.05323091699969897, 0.05077410544586671, 0.059782414476585, 0.0073704346614967805, 0.03193855019981938, 0.9304895766676895, 0.9301330771653918, 0.929365248352208, 0.8270907880828919, 0.028955602096259234, 0.008166964693816706, 0.013364124044427338, 0.006682062022213669, 0.015591478051831895, 0.051229142170304796, 0.026728248088854677, 0.020788637402442526, 0.0007424513358015187, 0.8354197643245298, 0.027847325477484326, 0.027847325477484326, 0.027847325477484326, 0.05569465095496865, 0.9269026591176083, 0.28635466034080137, 0.2571158538554359, 0.08075479886434268, 0.07889836670654171, 0.03202345472206693, 0.07936247474599195, 0.03202345472206693, 0.07332907023313877, 0.06497512552303435, 0.015315565301858096, 0.017307610520038923, 0.8826881365219851, 0.017307610520038923, 0.017307610520038923, 0.017307610520038923, 0.034615221040077845, 0.9351814112493319, 0.9069439051357446, 0.043835467943941546, 0.3092835793822542, 0.2532715925649956, 0.18751839064908327, 0.007305911323990257, 0.048706075493268386, 0.04627077171860496, 0.007305911323990257, 0.09254154343720992, 0.9369690716382001, 0.8339617607250953, 0.15317664992909913, 0.8948761019719642, 0.08135237290654221, 0.16482038870186977, 0.012060028441600227, 0.07236017064960136, 0.12060028441600228, 0.10452024649386864, 0.00804001896106682, 0.510541204027743, 0.035771300228295326, 0.035771300228295326, 0.8942825057073832, 0.039687073578232646, 0.1289829891292561, 0.1289829891292561, 0.009921768394558161, 0.009921768394558161, 0.029765305183674484, 0.6449149456462805, 0.01944598065150911, 0.01944598065150911, 0.13612186456056377, 0.01944598065150911, 0.6514403518255552, 0.10695289358330011, 0.01944598065150911, 0.009722990325754554, 0.16981709297537972, 0.42211677396737246, 0.05337108636369077, 0.09703833884307413, 0.12857579896707322, 0.012129792355384266, 0.06307492024799818, 0.03153746012399909, 0.021833626239691678, 0.9654494795896392, 0.049072699169898586, 0.049072699169898586, 0.8342358858882759, 0.9372154240904136, 0.961370272780612, 0.910501267441354, 0.24103047844360573, 0.12533584879067497, 0.0964121913774423, 0.08195036267082595, 0.024103047844360573, 0.12533584879067497, 0.024103047844360573, 0.014461828706616345, 0.2651335262879663, 0.925338837183556, 0.011410978620161279, 0.011410978620161279, 0.022821957240322557, 0.9242892682330636, 0.011410978620161279, 0.07114859751339818, 0.2632498107995732, 0.03557429875669909, 0.028459439005359268, 0.5193847618478067, 0.07826345726473799, 0.963287559935748, 0.026757987775993, 0.6011685724186142, 0.06780622270302974, 0.07619462138794064, 0.053126525004435675, 0.09786465132396045, 0.005592265789940597, 0.0580197575706337, 0.009786465132396045, 0.02866036217344556, 0.0013980664474851493, 0.89411555055274, 0.21174079009605207, 0.22112831280967013, 0.18566433811377964, 0.059454310519581124, 0.15332953765576185, 0.009387522713618071, 0.0677987751539083, 0.049023729726672155, 0.034420916616599594, 0.008344464634327175, 0.8758872950268266, 0.01813966226963992, 0.03627932453927984, 0.03627932453927984, 0.8344244644034362, 0.01813966226963992, 0.05441898680891975, 0.919873201006847, 0.2553825565651009, 0.12179783466950965, 0.1362040301680538, 0.0785792481738772, 0.09036613539995877, 0.15191987980282923, 0.028812390997088305, 0.08119855644633976, 0.03797996995070731, 0.01833515790723801, 0.9213394418051785, 0.40371148703213044, 0.03580589685429095, 0.021483538112574568, 0.2694393738285394, 0.16202168326566654, 0.07966812050079736, 0.01432235874171638, 0.012532063899001833, 0.0008951474213572737, 0.9847282067282507, 0.22889996944821095, 0.12573378603493277, 0.2546915153015305, 0.0564190065541365, 0.06609083624913133, 0.12573378603493277, 0.0338514039324819, 0.022567602621654602, 0.0789866091757911, 0.006447886463329886, 0.8430655309037811, 0.14877627015949077, 0.20181511347636266, 0.11334821441823109, 0.18799216049852963, 0.12440657680049753, 0.08846689905813158, 0.1161128050137977, 0.03870426833793257, 0.01658754357339967, 0.002764590595566612, 0.11058362382266448, 0.9194474764190949, 0.04442033361895366, 0.04442033361895366, 0.8884066723790731, 0.959893144928657, 0.022323096393689696, 0.20886693209272694, 0.06498082331773727, 0.38988493990642364, 0.08122602914717159, 0.046414873798383764, 0.07426379807741403, 0.046414873798383764, 0.05105636117822215, 0.023207436899191882, 0.01624520582943432, 0.9113387884039553, 0.1324344103813811, 0.1218396575508706, 0.15892129245765732, 0.09005539905933914, 0.037081634906786703, 0.047676387737297196, 0.36022159623735656, 0.052973764152552436, 0.1995107386083023, 0.06270337499118073, 0.059853221582490686, 0.1396575170258116, 0.2679144204168631, 0.09120490907808104, 0.04560245453904052, 0.037051994312970425, 0.08835475566939102, 0.005700306817380065, 0.8548250381534853, 0.12509634704685152, 0.24559807319054167, 0.10865854147217904, 0.12986928415681673, 0.12503174635154848, 0.09600651951993901, 0.06884188415189425, 0.09228533659280959, 0.03535123780772948, 0.06288799146848718, 0.03572335610044242, 0.050244784461128615, 0.050244784461128615, 0.9044061203003151, 0.18169028915507002, 0.10288486253359386, 0.10945198141871687, 0.25392859689142316, 0.06567118885123012, 0.15104373435782928, 0.06786022847960446, 0.02407943591211771, 0.013134237770246025, 0.03283559442561506, 0.9326087134645423, 0.9614310072313611, 0.9556559487564887, 0.03413056959844603, 0.22024804075631357, 0.047326025286480604, 0.3276417135217888, 0.05642718399541918, 0.08009019663865947, 0.05005637289916218, 0.04277544593201131, 0.04550579354469289, 0.05551706812452532, 0.07462950141329633, 0.9780548622876751, 0.9036947712748838, 0.9301975550439638, 0.9441432059460051, 0.2238303692233608, 0.08006940037258435, 0.1819759099376917, 0.0746101230744536, 0.047313736583799844, 0.058232291180061346, 0.14740048704953027, 0.047313736583799844, 0.038214941086915255, 0.10190650956510736, 0.06970356970924597, 0.03280167986317458, 0.11890608950400784, 0.012300629948690467, 0.5781296075884519, 0.06970356970924597, 0.04920251979476187, 0.008200419965793645, 0.061503149743452334, 0.021567803853791777, 0.0575141436101114, 0.06709983421179663, 0.18452454408244073, 0.6218716777843295, 0.009585690601685234, 0.004792845300842617, 0.017973169878159813, 0.01437853590252785, 0.12118258578337607, 0.020593119152730575, 0.11167806925134657, 0.016632903931051615, 0.20751527761597732, 0.03168172177343165, 0.08395656269959388, 0.03247376481776744, 0.36592388648313556, 0.007920430443357912, 0.19166251237378684, 0.15861725161968568, 0.03304526075410118, 0.006609052150820236, 0.09913578226230355, 0.03965431290492142, 0.07930862580984284, 0.23462135135411838, 0.023131682527870828, 0.13879009516722496, 0.03578808378633779, 0.858914010872107, 0.07157616757267558, 0.017894041893168896, 0.8807072744035933, 0.07548919494887943, 0.02516306498295981, 0.21742125814875826, 0.06957480260760265, 0.11305905423735431, 0.02609055097785099, 0.02609055097785099, 0.03478740130380133, 0.5044173189051192, 0.008696850325950332, 0.4698537700093086, 0.1102349229637224, 0.18432724823442106, 0.012649909192558309, 0.07589945515534985, 0.01807129884651187, 0.052406766654884425, 0.03072120803907018, 0.04337111723162849, 0.0036142597693023743, 0.04451984617249794, 0.24485915394873867, 0.02225992308624897, 0.6677976925874691, 0.011129961543124485, 0.002451059357468556, 0.026961652932154113, 0.9142451403357712, 0.029412712289622667, 0.004902118714937112, 0.002451059357468556, 0.007353178072405667, 0.009804237429874223, 0.014332254076399173, 0.03941369871009772, 0.5625409724986675, 0.1612378583594907, 0.03583063519099793, 0.010749190557299379, 0.08957658797749482, 0.0501628892673971, 0.03941369871009772, 0.9349239004841636, 0.9723904926876914, 0.12579189488812303, 0.06506477321799467, 0.5812453074140858, 0.07807772786159362, 0.05205181857439574, 0.034701212382930495, 0.02168825773933156, 0.030363560835064182, 0.004337651547866312, 0.008675303095732624, 0.09289190769925805, 0.014667143320935482, 0.728468118273129, 0.019556191094580642, 0.016296825912150537, 0.0700763514222473, 0.008148412956075268, 0.0211858736857957, 0.011407778138505376, 0.014667143320935482, 0.14238770408387327, 0.12512858843734317, 0.19847982993509605, 0.03307997165584935, 0.15964681973040334, 0.0316417120186385, 0.09923991496754803, 0.048900827665168595, 0.11506077097686729, 0.04746256802795775, 0.9184194508633072, 0.7161601263083356, 0.11528431301548817, 0.006986928061544737, 0.09781699286162632, 0.013973856123089474, 0.013973856123089474, 0.03144117627695132, 0.013528365838497144, 0.6561257431671115, 0.013528365838497144, 0.020292548757745714, 0.28409568260844, 0.006764182919248572, 0.8600918411690552, 0.33482119846485725, 0.08782195369570027, 0.10291635198714874, 0.10840522409313001, 0.038422104741868864, 0.07684420948373773, 0.08919417172219558, 0.06174981119228925, 0.0027444360529906334, 0.09468304382817684, 0.26369555499594, 0.04394925916599, 0.035159407332792, 0.008789851833198, 0.070318814665584, 0.52739110999188, 0.035159407332792, 0.008789851833198, 0.12303355903776113, 0.13841275391748128, 0.015379194879720141, 0.061516779518880564, 0.6613053798279661, 0.9345220476201834, 0.21831793377910277, 0.04158436833887672, 0.017326820141198632, 0.44703195964292475, 0.04851509639535617, 0.11435701293191099, 0.0519804604235959, 0.003465364028239727, 0.027722912225917815, 0.03118827625415754, 0.9561863398640211, 0.8879848693380358, 0.06830652841061813, 0.06290585733130545, 0.00898655104732935, 0.09286102748906995, 0.059910340315529, 0.04493275523664675, 0.020968619110435148, 0.6799823625812541, 0.011982068063105799, 0.01497758507888225, 0.0029955170157764496, 0.9452114792000199, 0.034582148665243485, 0.8818447909637089, 0.017291074332621743, 0.034582148665243485, 0.017291074332621743, 0.922217276241321, 0.9632239661273708, 0.9194311217589707, 0.04047949943407115, 0.9310284869836365, 0.3755758393391106, 0.12141460323462626, 0.09875054396416269, 0.04047153441154209, 0.048565841293850505, 0.003237722752923367, 0.16188613764616835, 0.043709257164465457, 0.10360712809354775, 0.0016188613764616835, 0.05712632057300939, 0.9140211291681503, 0.931590444134437, 0.05266139412197267, 0.11117405425749785, 0.06436392614907771, 0.017553798040657556, 0.005851266013552518, 0.07606645817618274, 0.17553798040657556, 0.005851266013552518, 0.4973576111519641, 0.23648484182206567, 0.12129838805187464, 0.05641785490784867, 0.08697752631626669, 0.057828301280544885, 0.19793264096836907, 0.10296258520682382, 0.052656664580658756, 0.057828301280544885, 0.029149225035721812, 0.902024834075265, 0.15788187159408953, 0.18843965319294556, 0.21560212572526205, 0.06451087226425163, 0.2020208894591038, 0.07978976306367966, 0.010185927199618678, 0.0594179086644423, 0.0169765453326978, 0.00339530906653956, 0.9320280929639408, 0.9682905701424255, 0.9039135488725359, 0.9735849001167741, 0.1572858477417583, 0.01143897074485515, 0.0028597426862137874, 0.008579228058641362, 0.0028597426862137874, 0.0028597426862137874, 0.0028597426862137874, 0.26023658444545467, 0.5319121396357644, 0.0228779414897103, 0.24176226384410238, 0.17071808981973896, 0.1261829359537201, 0.11027752385871337, 0.03181082419001347, 0.05195767951035534, 0.08164778208770125, 0.060440565961025594, 0.11982077111571741, 0.005301804031668912, 0.04565795069751106, 0.015219316899170353, 0.8522817463535397, 0.07609658449585176, 0.015219316899170353, 0.2733451624551917, 0.13824353043710844, 0.05184132391391567, 0.08326030810416758, 0.13824353043710844, 0.06912176521855422, 0.05812512075196605, 0.147669225694184, 0.007854746047562979, 0.03298993339976451, 0.9428144193537136, 0.11596120208171386, 0.05696339751382436, 0.13020205146016994, 0.13935688320346315, 0.04373975166240084, 0.033567716392075064, 0.4211222601914872, 0.02339568112174929, 0.012206442324390932, 0.02339568112174929, 0.9107912155903127, 0.5415198624241399, 0.11687479045125321, 0.015583305393500427, 0.07791652696750213, 0.02337495809025064, 0.03506243713537596, 0.031166610787000854, 0.15972888028337937, 0.13713006066928982, 0.822780364015739, 0.9613552705692986, 0.8904609447906723, 0.0824500874806178, 0.5234322520031371, 0.08364123614483118, 0.06475450540244995, 0.05396208783537496, 0.018886730742381237, 0.043169670268299966, 0.056660192227143705, 0.09443365371190618, 0.05126398344360621, 0.005396208783537496, 0.12018148547253295, 0.8412703983077305, 0.21465843900277473, 0.16370416307787367, 0.1571993618959714, 0.057459077106803334, 0.08022588124346126, 0.1571993618959714, 0.08673068242536353, 0.04119707415204767, 0.026019204727609057, 0.01626200295475566, 0.10360685303008825, 0.03790494623052009, 0.43843387806634904, 0.0884448745378802, 0.06191141217651615, 0.07454639425335617, 0.07707339066872418, 0.045485935476624106, 0.05306692472272812, 0.02021597132294405, 0.1650141727941054, 0.21829999942553527, 0.07219370059742111, 0.06188031479778953, 0.06188031479778953, 0.10829055089613167, 0.08594488166359657, 0.03265905503216669, 0.03265905503216669, 0.1598574798942896, 0.0035217283561401014, 0.02817382684912081, 0.8874755457473056, 0.007043456712280203, 0.007043456712280203, 0.05282592534210152, 0.0035217283561401014, 0.0035217283561401014, 0.0035217283561401014, 0.007043456712280203, 0.01437264579584354, 0.8192408103630818, 0.04311793738753062, 0.10060852057090479, 0.9829365969912601, 0.9387078503410348, 0.9326827360341765, 0.8258079615802395, 0.04930196785553669, 0.04930196785553669, 0.012325491963884173, 0.012325491963884173, 0.024650983927768346, 0.03697647589165252, 0.9354648106155488, 0.9114871246449574, 0.31384201999792694, 0.14403377729373457, 0.10385593415390336, 0.05003278579677096, 0.06519423603821671, 0.1008236441056142, 0.07883954125551787, 0.06064580096578298, 0.011371087681084309, 0.07201688864686728, 0.3861220492508931, 0.2022544067504678, 0.07496142348094262, 0.05233155978858258, 0.015558031288497523, 0.07920452292326012, 0.036773528500085056, 0.07496142348094262, 0.05798902571167259, 0.01980113073081503, 0.029128975270531196, 0.08738692581159359, 0.029128975270531196, 0.8447402828454047, 0.07182871158861165, 0.06156746707595284, 0.010261244512658807, 0.010261244512658807, 0.8311608055253633, 0.24361383732128458, 0.11278418394503915, 0.018045469431206267, 0.5052731440737754, 0.013534102073404698, 0.009022734715603133, 0.0947387145138329, 0.965526271503611, 0.9446977852437151, 0.9760173090263257, 0.08898927865763258, 0.252136289529959, 0.06427003458606798, 0.014831546442938763, 0.024719244071564606, 0.375732509887782, 0.024719244071564606, 0.03460694170019045, 0.12359622035782303, 0.009600120157204831, 0.009600120157204831, 0.9696121358776878, 0.0173572398645484, 0.052071719593645205, 0.19092963851003242, 0.7290040743110329, 0.9658091382719138, 0.9390632474590364, 0.9615766483160285, 0.022360348754389855, 0.007453449584796617, 0.007453449584796617, 0.022360348754389855, 0.09689484460235603, 0.04472069750877971, 0.7900656559884415, 0.007453449584796617, 0.019110249841405684, 0.8599612428632558, 0.09555124920702843, 0.9376069571870744, 0.9321944112820818, 0.2851027691574835, 0.09948266838686658, 0.19653893022771202, 0.06915258656160238, 0.010918829457095113, 0.14194478294223647, 0.09099024547579261, 0.07643180619966579, 0.026690472006232497, 0.002426406546021136, 0.9129023989552637, 0.8779988761011622, 0.9857799352969321, 0.9653684395618696, 0.1665068893496652, 0.21312881836757147, 0.013320551147973217, 0.0066602755739866085, 0.0865835824618259, 0.06660275573986608, 0.026641102295946434, 0.013320551147973217, 0.0066602755739866085, 0.4062768100131831, 0.03304764108606197, 0.9583815914957972, 0.25714169938273634, 0.05954860406758104, 0.3031565297985944, 0.02706754730344593, 0.07714250981482089, 0.09338303819688845, 0.05142833987654726, 0.07037562298895941, 0.036541188859652005, 0.024360792573101336, 0.2002084524634931, 0.059402507873783664, 0.0660027865264263, 0.01100046442107105, 0.057202414989569454, 0.3894164405059151, 0.07040297229485472, 0.00880037153685684, 0.12540529440020995, 0.01100046442107105, 0.18445244613853812, 0.08384202097206278, 0.016768404194412556, 0.6707361677765022, 0.016768404194412556, 0.03353680838882511, 0.9415526855745077, 0.9159201169086849, 0.9845894645236748, 0.028449671309310944, 0.028449671309310944, 0.028449671309310944, 0.08534901392793283, 0.7681411253513956, 0.08534901392793283, 0.9187224143938274, 0.9610042733228251, 0.816443658107195, 0.01383802810351178, 0.0019768611576445397, 0.06128269588698074, 0.02767605620702356, 0.0197686115764454, 0.02767605620702356, 0.02174547273408994, 0.007907444630578159, 0.0019768611576445397, 0.9096007917681187, 0.06497148512629419, 0.9533449893270153, 0.19689124078117642, 0.13337793730337758, 0.03810798208667931, 0.08891862486891838, 0.07621596417335862, 0.025405321391119538, 0.025405321391119538, 0.34932316912789363, 0.025405321391119538, 0.031756651738899425, 0.11205886201911512, 0.18261444180892833, 0.17846411358599815, 0.008300656445860378, 0.10790853379618492, 0.0747059080127434, 0.30297396027390383, 0.029052297560511326, 0.957902960057204, 0.0469502842837057, 0.8920554013904083, 0.6676380476669042, 0.020734100859220627, 0.07464276309319424, 0.033174561374753, 0.0165872806873765, 0.012440460515532376, 0.049761842062129504, 0.012440460515532376, 0.08708322360872663, 0.024880921031064752, 0.9682241039407945, 0.1228150518430756, 0.05629023209474299, 0.670365491310121, 0.03326240987416631, 0.0307037629607689, 0.043496997527755946, 0.020469175307179267, 0.01791052839378186, 0.005117293826794817, 0.24179853924269795, 0.14562866568026125, 0.12089926962134898, 0.043963370771399626, 0.02472939605891229, 0.18684432577844842, 0.035720238751762196, 0.18134890443202345, 0.008243132019637429, 0.010990842692849907, 0.9545274794118781, 0.9503030900243107, 0.01552372086013429, 0.04657116258040287, 0.03104744172026858, 0.20180837118174577, 0.6830437178459088, 0.9675353113237725, 0.7390126932019616, 0.004506174958548547, 0.02703704975129128, 0.004506174958548547, 0.01351852487564564, 0.10364202404661657, 0.07209879933677675, 0.036049399668388375, 0.906200866623212, 0.18113722214276215, 0.11130118469013096, 0.029462078300328785, 0.20950811235789357, 0.039282771067105045, 0.17022534129078853, 0.019641385533552522, 0.23133187406184083, 0.0021823761703947246, 0.005455940425986812, 0.021641706412781393, 0.021641706412781393, 0.06492511923834418, 0.021641706412781393, 0.8007431372729115, 0.043283412825562785, 0.0035136192988190172, 0.0070272385976380344, 0.797591580831917, 0.17568096494095087, 0.0035136192988190172, 0.0035136192988190172, 0.0035136192988190172, 0.0035136192988190172, 0.1090002300332026, 0.15862635102392897, 0.07443918148608958, 0.08595953100179392, 0.1497645437041564, 0.05671556684654444, 0.13292710979658853, 0.1887564959111557, 0.03101632561920399, 0.012406530247681596, 0.9207153096264789, 0.22867641857594925, 0.04932236479089102, 0.08519317554790266, 0.42148202639488686, 0.06725777016939684, 0.07622547285864975, 0.013451554033879369, 0.031386959412385194, 0.022419256723132282, 0.07556530858875446, 0.8690010487706764, 0.03232236712595447, 0.04525131397633625, 0.006464473425190893, 0.181005255905345, 0.6141249753931348, 0.03232236712595447, 0.04525131397633625, 0.03878684055114536, 0.006464473425190893, 0.8803093047472588, 0.9540395124530852, 0.011273320794201245, 0.12964318913331432, 0.6143959832839678, 0.11273320794201244, 0.0507299435739056, 0.016909981191301868, 0.011273320794201245, 0.0507299435739056, 0.30781737131816816, 0.016200914279903587, 0.6318356569162399, 0.016200914279903587, 0.016200914279903587, 0.03240182855980717, 0.9667013429743073, 0.02301669864224541, 0.9535144931755501, 0.9639197314693463, 0.896059504599734, 0.6256745718479926, 0.01822353121887357, 0.04859608325032952, 0.07896863528178547, 0.01214902081258238, 0.01214902081258238, 0.1883098225950269, 0.01214902081258238, 0.00607451040629119, 0.9385105753123597, 0.9435894480086172, 0.024194601230990185, 0.9750984124302372, 0.008528049903920577, 0.0056853666026137175, 0.02558414971176173, 0.9210293896234223, 0.02274146641045487, 0.011370733205227435, 0.0028426833013068587, 0.0028426833013068587, 0.9403920830960588, 0.8694976206058487, 0.9527416696621267, 0.03542989342972545, 0.7440277620242344, 0.017714946714862723, 0.1417195737189018, 0.0708597868594509, 0.01629565181206604, 0.01629565181206604, 0.08147825906033021, 0.8473738942274343, 0.01629565181206604, 0.7499905712807431, 0.2419324423486268, 0.09704343297091948, 0.1541278053067545, 0.020930936523139498, 0.041861873046278995, 0.03805624822389, 0.57084372335835, 0.043764685457473494, 0.017125311700750497, 0.017125311700750497, 0.0019028124111944997, 0.02250894187731985, 0.15193535767190897, 0.03376341281597977, 0.05064511922396966, 0.1631898286105689, 0.3882792473837674, 0.15193535767190897, 0.02813617734664981, 0.0056272354693299624, 0.6004824009890809, 0.11952730256654692, 0.02276710525077084, 0.11668141441020057, 0.06545542759596618, 0.008537664469039065, 0.02276710525077084, 0.039842434188848974, 0.00569177631269271, 0.0692677530676755, 0.05541420245414041, 0.0692677530676755, 0.7896523849715008, 0.30928886021313307, 0.08345889878767083, 0.004909346987510049, 0.024546734937550246, 0.12273367468775123, 0.03927477590008039, 0.009818693975020098, 0.029456081925060294, 0.3780197180382738, 0.9501460437128555, 0.9712513407522292, 0.09251049962856571, 0.4835776116947753, 0.021025113551946754, 0.05046027252467221, 0.07148538607661896, 0.11774063589090182, 0.03784520439350415, 0.08410045420778701, 0.033640181683114806, 0.004205022710389351, 0.8801627804242526, 0.09372630950512259, 0.05355789114578433, 0.18745261901024518, 0.18745261901024518, 0.4686315475256129, 0.8863571546751149, 0.021618467187197923, 0.021618467187197923, 0.021618467187197923, 0.043236934374395845, 0.9170770073585637, 0.9249092114012146, 0.9636744530523874, 0.9626249839780611, 0.9554441045014859, 0.9681608581470713, 0.12088724657225546, 0.8462107260057882, 0.9619054194310523, 0.9684165379331491, 0.2974471701634623, 0.07797158829527652, 0.05631281376881082, 0.08374726150233404, 0.08519117980409842, 0.12706481055526544, 0.11695738244291477, 0.09674252621821346, 0.05198105886351768, 0.0072195915088219, 0.9236258879243466, 0.08817231640458838, 0.09698954804504721, 0.005878154426972558, 0.1969181733035807, 0.002939077213486279, 0.5848763654837695, 0.014695386067431395, 0.005878154426972558, 0.03436262896658771, 0.8934283531312804, 0.03436262896658771, 0.07927410842511702, 0.03170964337004681, 0.007927410842511702, 0.015854821685023404, 0.13476598432269893, 0.16647562769274574, 0.13476598432269893, 0.04756446505507021, 0.37258830959805, 0.007927410842511702, 0.9073234147198309, 0.9106102145401855, 0.9718554260680066, 0.21248679737346643, 0.03237894055214727, 0.07487630002684055, 0.11332629193251544, 0.27319731090874255, 0.016189470276073634, 0.06273419731978533, 0.03035525676763806, 0.0951131378719326, 0.09106577030291418, 0.3461597912659569, 0.10667159730854262, 0.10562579733492945, 0.06588539833762927, 0.04706099881259233, 0.05333579865427131, 0.16732799577810606, 0.018824399525036933, 0.07738919804737406, 0.011503799709744793, 0.760199226309766, 0.05663375324943816, 0.006534663836473633, 0.07188130220120997, 0.0021782212788245443, 0.007623774475885906, 0.0392079830188418, 0.04900997877355225, 0.007623774475885906, 0.0010891106394122722, 0.891631488404113, 0.03302338845941159, 0.04953508268911739, 0.9544779745008323, 0.9204671583871233, 0.24505467004602607, 0.2072006966242822, 0.08832593798406901, 0.1055926627027592, 0.05777711732792484, 0.14344663612450306, 0.049807859765452454, 0.036525763827998464, 0.04847965017170705, 0.017930829515562883, 0.9325719714762014, 0.03215765418883453, 0.9050563309266151, 0.28368167033134006, 0.04052595290447715, 0.09793771951915312, 0.04728027838855668, 0.16885813710198813, 0.020262976452238575, 0.020262976452238575, 0.2971903212994991, 0.016885813710198812, 0.010131488226119287, 0.020943338428306285, 0.1026223582987008, 0.004188667685661257, 0.29530107183911863, 0.4816967838510446, 0.05445267991359634, 0.012566003056983771, 0.018849004585475657, 0.0062830015284918855, 0.0020943338428306285, 0.0821085946447968, 0.23606220960379082, 0.09921455186246281, 0.1300052748542616, 0.0410542973223984, 0.017105957217666, 0.0786874032012636, 0.2702741240391228, 0.0376331058788652, 0.0034211914435332003, 0.972098625446566, 0.9538841103149361, 0.04557986876056494, 0.04557986876056494, 0.8888074408310163, 0.09435050826404211, 0.8868947776819958, 0.1841308783793186, 0.29256350675825066, 0.05046550000025769, 0.08183594594636383, 0.10502279729783358, 0.08319987837880322, 0.09956706756807598, 0.03819010810830312, 0.06137695945977287, 0.003409831081098493, 0.9640192719641293, 0.6539457860605806, 0.013345832368583279, 0.13345832368583277, 0.20018748552874918, 0.9062964571385578, 0.019106019216486705, 0.8406648455254151, 0.11463611529892023, 0.026917396497918085, 0.1884217754854266, 0.7806044984396245, 0.9505400574103909, 0.921094911378249, 0.12422769407689316, 0.10056527615748494, 0.12422769407689316, 0.11239648511718905, 0.40226110462993975, 0.029578022399260277, 0.02366241791940822, 0.053240440318668494, 0.02366241791940822, 0.005915604479852055, 0.9569764472681078, 0.125711765028452, 0.26426998779703775, 0.09910124542388915, 0.1245647598730829, 0.14911067019798135, 0.07294952788147396, 0.07317892891254778, 0.04656840930798495, 0.03165734228818681, 0.013075858771207597, 0.24466996959936893, 0.10647674602935499, 0.02718555217770766, 0.1835024771995267, 0.07249480580722042, 0.07929119385164733, 0.020389164133280742, 0.08608758189607425, 0.08608758189607425, 0.0951494326219768, 0.8269413474225358, 0.04430042932620727, 0.10336766842781697, 0.920260554329011, 0.03985245071219231, 0.9564588170926155, 0.9443428834092867, 0.9497471228950016, 0.1622462857070237, 0.05408209523567457, 0.009013682539279094, 0.018027365078558188, 0.07210946031423275, 0.5227935872781875, 0.1442189206284655, 0.009013682539279094, 0.02361039131869632, 0.6256753699454525, 0.01180519565934816, 0.04722078263739264, 0.01180519565934816, 0.16527273923087424, 0.01180519565934816, 0.10624676093413343, 0.9413712139803064, 0.9643990381222913, 0.9389003748985116, 0.14892383297974718, 0.19057202355882902, 0.2044547537518563, 0.036599925054344645, 0.1400893683114571, 0.0643653854403992, 0.05174472162855622, 0.07319985010868929, 0.05426885439092482, 0.03533785867316035, 0.9611578369402273, 0.9564637994285731, 0.6229909535909417, 0.06201719900000324, 0.08456890772727715, 0.05731892634848785, 0.1005430347424295, 0.005637927181818477, 0.03570687215151702, 0.014094817954546191, 0.01691378154545543, 0.0009396545303030795, 0.04304973545525495, 0.030134814818678465, 0.11192931218366287, 0.4132774603704475, 0.28412825400468267, 0.04304973545525495, 0.00860994709105099, 0.00860994709105099, 0.012914920636576484, 0.04735470900078045, 0.18727040414651575, 0.014981632331721262, 0.11236224248790945, 0.08239897782446694, 0.5543203962736867, 0.04494489699516378, 0.30789622515626014, 0.09947416505048404, 0.09355308379747904, 0.05921081253005002, 0.13263222006731204, 0.061579245031252026, 0.03197383876622701, 0.07697405628906503, 0.12197427381190305, 0.014210595007212005, 0.9206902267711695, 0.1108278662972552, 0.21875827203771941, 0.07968016531175211, 0.14269993242195605, 0.11155223143645294, 0.08330199100774084, 0.09489183323490478, 0.05505175057902873, 0.08185326072934535, 0.0202822238975369, 0.8672821136532668, 0.053183192353908185, 0.05983109139814671, 0.7578604910431916, 0.0698029399645045, 0.02326764665483483, 0.009971848566357785, 0.009971848566357785, 0.013295798088477046, 0.044097377158316964, 0.9260449203246561, 0.9237965398333806, 0.044830321249240454, 0.9414367462340496, 0.7422451579914201, 0.21133369081700157, 0.010308960527658612, 0.005154480263829306, 0.020617921055317224, 0.9484977538620752, 0.8877809439218528, 0.10323034231649451, 0.12325720496967985, 0.5575921177199803, 0.011738781425683796, 0.029346953564209487, 0.005869390712841898, 0.005869390712841898, 0.15847354924673124, 0.011738781425683796, 0.09391025140547037, 0.9849064657306303, 0.944442153489266, 0.9251117674296124, 0.2779616089503532, 0.2299775675918941, 0.08775459816006485, 0.12406684567457445, 0.08602544351651678, 0.061817278506843716, 0.04366115474958892, 0.03285393822741344, 0.041067422784266804, 0.015130103131045665, 0.6457222425520558, 0.09166404074082811, 0.06314633917701491, 0.004073957366259027, 0.03666561629633124, 0.038702594979460755, 0.08147914732518054, 0.00611093604938854, 0.020369786831295134, 0.010184893415647567, 0.9362147142332767, 0.3267731767753238, 0.1750934155930084, 0.0953512592667352, 0.09501193094194255, 0.0430946972486668, 0.04546999552221536, 0.06684767998415243, 0.054631860291616964, 0.04071939897511823, 0.05700715856516553, 0.03313043813283856, 0.03313043813283856, 0.03313043813283856, 0.9276522677194796, 0.9731928704445089, 0.12053851813195496, 0.005479023551452498, 0.8218535327178748, 0.005479023551452498, 0.005479023551452498, 0.005479023551452498, 0.02191609420580999, 0.010958047102904996, 0.005479023551452498, 0.9353675546781348, 0.0326586274456105, 0.14836347896720198, 0.7026270419012773, 0.008397932771728414, 0.027993109239094715, 0.01026414005433473, 0.0027993109239094717, 0.04945449298906733, 0.016795865543456828, 0.0009331036413031572, 0.9182759916903831, 0.1596363582783237, 0.3407164064746312, 0.08577475967193512, 0.17631478377008888, 0.06194843754084204, 0.07386159860638858, 0.02859158655731171, 0.04050474762285826, 0.03335685098353033, 0.0023826322131093093, 0.09955622875997143, 0.022123606391104764, 0.7964498300797714, 0.033185409586657146, 0.011061803195552382, 0.011061803195552382, 0.011061803195552382, 0.011061803195552382, 0.9412152224718588, 0.9254554663533773, 0.9569205688639119], \"Term\": [\"15j\", \"4x\", \"accessory\", \"accord\", \"accurate\", \"accurate\", \"achieve\", \"acrylic\", \"acrylic\", \"acrylic\", \"acrylic\", \"acrylic\", \"action\", \"acto\", \"addi\", \"additional\", \"additionally\", \"address\", \"adhere\", \"adhere\", \"adhere\", \"adhere\", \"adhesive\", \"adhesive\", \"adhesive\", \"adhesive\", \"adhesive\", \"adhesive\", \"adhesive\", \"adhesive\", \"adhesive\", \"allergy\", \"allowed\", \"alright\", \"also\", \"also\", \"also\", \"also\", \"also\", \"also\", \"also\", \"also\", \"also\", \"also\", \"animal\", \"ann\", \"answer\", \"answer\", \"apparent\", \"appeal\", \"application\", \"application\", \"application\", \"applicator\", \"approx\", \"arp\", \"arp\", \"arp\", \"arrival\", \"arrival\", \"arrive\", \"arrive\", \"arrive\", \"arrive\", \"arrive\", \"arrive\", \"arrive\", \"arrive\", \"arrive\", \"arrive\", \"assembly\", \"attached\", \"attached\", \"automatic\", \"back\", \"back\", \"back\", \"back\", \"back\", \"back\", \"back\", \"back\", \"back\", \"back\", \"bad\", \"bad\", \"bad\", \"bad\", \"bad\", \"bad\", \"bad\", \"bad\", \"bad\", \"bad\", \"bag\", \"bag\", \"bag\", \"bag\", \"bag\", \"bag\", \"bag\", \"bag\", \"bag\", \"bag\", \"bake\", \"ball\", \"ball\", \"ball\", \"ball\", \"ball\", \"ball\", \"ball\", \"ball\", \"band\", \"band\", \"band\", \"bath\", \"bath\", \"bead\", \"bead\", \"bead\", \"bead\", \"bead\", \"bead\", \"bead\", \"bead\", \"bead\", \"bead\", \"beware\", \"beware\", \"beware\", \"beware\", \"beware\", \"beware\", \"beware\", \"beware\", \"big\", \"big\", \"big\", \"big\", \"big\", \"big\", \"big\", \"big\", \"big\", \"big\", \"binder\", \"bird\", \"black\", \"black\", \"black\", \"black\", \"black\", \"black\", \"black\", \"black\", \"black\", \"blade\", \"blade\", \"blade\", \"blade\", \"blade\", \"blade\", \"blade\", \"blade\", \"blade\", \"bleeds\", \"bleeds\", \"blender\", \"blender\", \"blender\", \"blending\", \"block\", \"block\", \"block\", \"block\", \"block\", \"block\", \"block\", \"block\", \"block\", \"blue\", \"blue\", \"blue\", \"blue\", \"blue\", \"blue\", \"blue\", \"bobbin\", \"bobbin\", \"bobbin\", \"bobbin\", \"bobbin\", \"bobbin\", \"bobbin\", \"bobbin\", \"bobbin\", \"bobbins\", \"bomb\", \"boo\", \"book\", \"book\", \"book\", \"book\", \"book\", \"book\", \"book\", \"bottle\", \"bottle\", \"bottle\", \"bottle\", \"bottle\", \"bottle\", \"bottle\", \"bottle\", \"bottle\", \"bottle\", \"box\", \"box\", \"box\", \"box\", \"box\", \"box\", \"box\", \"box\", \"box\", \"boye\", \"boye\", \"boye\", \"boye\", \"brand\", \"brand\", \"brand\", \"brand\", \"brand\", \"brand\", \"brand\", \"brand\", \"brand\", \"brand\", \"brass\", \"break\", \"break\", \"break\", \"break\", \"break\", \"break\", \"break\", \"break\", \"break\", \"break\", \"bright\", \"bright\", \"bright\", \"bright\", \"bright\", \"bright\", \"bright\", \"bright\", \"brighter\", \"bristle\", \"bristle\", \"bristle\", \"bristle\", \"bristle\", \"brother\", \"brother\", \"brother\", \"brother\", \"brother\", \"brother\", \"brother\", \"brother\", \"brother\", \"brush\", \"brush\", \"brush\", \"brush\", \"brush\", \"brush\", \"brush\", \"brush\", \"brush\", \"brush\", \"budget\", \"bum\", \"bump\", \"burlap\", \"burn\", \"burn\", \"burn\", \"burn\", \"burn\", \"burn\", \"burner\", \"buy\", \"buy\", \"buy\", \"buy\", \"buy\", \"buy\", \"buy\", \"buy\", \"buy\", \"buy\", \"buyer\", \"buyer\", \"buyer\", \"buyer\", \"buyer\", \"buyer\", \"buyer\", \"cable\", \"cable\", \"cable\", \"cable\", \"camper\", \"candle\", \"candle\", \"candle\", \"candy\", \"canvas\", \"canvas\", \"canvas\", \"canvas\", \"canvas\", \"canvas\", \"canvas\", \"cap\", \"cap\", \"cap\", \"cap\", \"cap\", \"cap\", \"cap\", \"cap\", \"cap\", \"card\", \"card\", \"card\", \"card\", \"card\", \"card\", \"card\", \"card\", \"card\", \"cardstock\", \"cardstock\", \"cardstock\", \"cardstock\", \"cardstock\", \"cardstock\", \"cardstock\", \"cardstock\", \"cartridge\", \"cartridge\", \"cartridge\", \"cartridge\", \"cartridge\", \"case\", \"case\", \"case\", \"case\", \"case\", \"case\", \"case\", \"case\", \"case\", \"ceramic\", \"chain\", \"chain\", \"chain\", \"chair\", \"chalkboard\", \"charcoal\", \"charm\", \"charm\", \"charm\", \"charm\", \"chase\", \"cheap\", \"cheap\", \"cheap\", \"cheap\", \"cheap\", \"cheap\", \"cheap\", \"cheap\", \"cheap\", \"cheap\", \"cheaply\", \"cheaply\", \"cheaply\", \"cheaply\", \"cheaply\", \"cheaply\", \"cheaply\", \"chipboard\", \"chipboard\", \"chunky\", \"circle\", \"circle\", \"circle\", \"circle\", \"circle\", \"circle\", \"circle\", \"circle\", \"class\", \"class\", \"class\", \"class\", \"class\", \"class\", \"class\", \"class\", \"class\", \"clay\", \"clay\", \"clay\", \"clay\", \"clay\", \"clay\", \"cleanly\", \"cleanly\", \"cleanly\", \"close\", \"close\", \"close\", \"close\", \"close\", \"close\", \"close\", \"close\", \"close\", \"close\", \"cloth\", \"cloth\", \"cloth\", \"cloth\", \"cloth\", \"cloth\", \"clothing\", \"clover\", \"clover\", \"clover\", \"clover\", \"clumsy\", \"clunky\", \"cm\", \"cm\", \"cm\", \"cm\", \"color\", \"color\", \"color\", \"color\", \"color\", \"color\", \"color\", \"color\", \"color\", \"color\", \"come\", \"come\", \"come\", \"come\", \"come\", \"come\", \"come\", \"come\", \"come\", \"come\", \"comment\", \"comment\", \"comment\", \"complain\", \"complain\", \"concept\", \"connector\", \"constant\", \"continuous\", \"copic\", \"copper\", \"core\", \"core\", \"core\", \"core\", \"could\", \"could\", \"could\", \"could\", \"could\", \"could\", \"could\", \"could\", \"could\", \"could\", \"counter\", \"coupon\", \"coupon\", \"cr\", \"cr\", \"cr\", \"crackle\", \"crap\", \"crap\", \"crap\", \"crap\", \"crap\", \"crap\", \"crap\", \"crap\", \"crap\", \"crayon\", \"crayon\", \"crayon\", \"crayon\", \"creative\", \"crewel\", \"crimp\", \"crimp\", \"crinkle\", \"crochet\", \"crochet\", \"crochet\", \"crochet\", \"crochet\", \"crochet\", \"crochet\", \"crochet\", \"cup\", \"cup\", \"curl\", \"customer\", \"customer\", \"customer\", \"customer\", \"customer\", \"customer\", \"customer\", \"customer\", \"customer\", \"customer\", \"cut\", \"cut\", \"cut\", \"cut\", \"cut\", \"cut\", \"cut\", \"cut\", \"cut\", \"cut\", \"cute\", \"cute\", \"cute\", \"cute\", \"cute\", \"cutter\", \"cutter\", \"cutter\", \"cutter\", \"cutter\", \"cutter\", \"cutter\", \"cutter\", \"cutter\", \"cuttlebug\", \"cuttlebug\", \"damage\", \"damage\", \"damage\", \"damage\", \"damage\", \"damage\", \"damage\", \"damage\", \"darker\", \"darker\", \"data\", \"data\", \"data\", \"de\", \"december\", \"deeply\", \"delicate\", \"delicate\", \"delicate\", \"delivery\", \"delivery\", \"delivery\", \"dent\", \"describe\", \"describe\", \"describe\", \"describe\", \"describe\", \"describe\", \"describe\", \"description\", \"description\", \"description\", \"description\", \"description\", \"description\", \"description\", \"description\", \"description\", \"deserve\", \"design\", \"design\", \"design\", \"design\", \"design\", \"design\", \"design\", \"design\", \"design\", \"design\", \"diameter\", \"diameter\", \"diameter\", \"dickblick\", \"die\", \"die\", \"die\", \"die\", \"die\", \"die\", \"die\", \"die\", \"die\", \"discard\", \"discolored\", \"disconnect\", \"disconnect\", \"dispenser\", \"display\", \"dissatisfy\", \"dissatisfy\", \"dissolve\", \"distress\", \"distress\", \"dmc\", \"dp\", \"dp\", \"dp\", \"dp\", \"dremel\", \"dress\", \"dress\", \"dress\", \"dried\", \"dried\", \"dried\", \"drip\", \"dry\", \"dry\", \"dry\", \"dry\", \"dry\", \"dry\", \"dry\", \"dry\", \"dry\", \"dull\", \"dull\", \"dull\", \"dull\", \"dull\", \"dull\", \"dull\", \"dull\", \"dull\", \"dull\", \"dump\", \"dy\", \"dy\", \"dy\", \"dy\", \"dy\", \"dy\", \"dye\", \"dye\", \"dye\", \"dye\", \"dye\", \"dye\", \"dyed\", \"easily\", \"easily\", \"easily\", \"easily\", \"easily\", \"easily\", \"easily\", \"easily\", \"easily\", \"easily\", \"eat\", \"eat\", \"ek\", \"ek\", \"elastic\", \"elastic\", \"email\", \"email\", \"email\", \"emboss\", \"emboss\", \"emboss\", \"emboss\", \"emboss\", \"emboss\", \"empty\", \"empty\", \"empty\", \"empty\", \"empty\", \"empty\", \"empty\", \"endocrine\", \"english\", \"enough\", \"enough\", \"enough\", \"enough\", \"enough\", \"enough\", \"enough\", \"enough\", \"enough\", \"enough\", \"envelope\", \"envelope\", \"envelope\", \"envelope\", \"epoxy\", \"even\", \"even\", \"even\", \"even\", \"even\", \"even\", \"even\", \"even\", \"even\", \"even\", \"exist\", \"expect\", \"expect\", \"expect\", \"expect\", \"expect\", \"expect\", \"expect\", \"expect\", \"expect\", \"expect\", \"expected\", \"explain\", \"explore\", \"expose\", \"extension\", \"fabric\", \"fabric\", \"fabric\", \"fabric\", \"fabric\", \"fabric\", \"fabric\", \"fabric\", \"fabric\", \"fabric\", \"fabulous\", \"fade\", \"fade\", \"fasten\", \"fastener\", \"feedback\", \"feedback\", \"feeling\", \"fiddle\", \"field\", \"find\", \"find\", \"find\", \"find\", \"find\", \"find\", \"find\", \"find\", \"find\", \"find\", \"fine\", \"fine\", \"fine\", \"fine\", \"fine\", \"fine\", \"fine\", \"fine\", \"fine\", \"finer\", \"finger\", \"finger\", \"finger\", \"finger\", \"finger\", \"finger\", \"finger\", \"finger\", \"finger\", \"finger\", \"finished\", \"fire\", \"first\", \"first\", \"first\", \"first\", \"first\", \"first\", \"first\", \"first\", \"first\", \"first\", \"fish\", \"fiskars\", \"fiskars\", \"fiskars\", \"fiskars\", \"fiskars\", \"fiskars\", \"fit\", \"fit\", \"fit\", \"fit\", \"fit\", \"fit\", \"fit\", \"fit\", \"fit\", \"fit\", \"flake\", \"flake\", \"flammable\", \"flop\", \"floss\", \"floss\", \"flower\", \"flower\", \"flower\", \"flower\", \"flower\", \"flower\", \"fluid\", \"foam\", \"foam\", \"foam\", \"foam\", \"foam\", \"foam\", \"fold\", \"fold\", \"fold\", \"fold\", \"fold\", \"fold\", \"fold\", \"fold\", \"folded\", \"folder\", \"folder\", \"folder\", \"fool\", \"fool\", \"foot\", \"foot\", \"foot\", \"foot\", \"foot\", \"foot\", \"foot\", \"fraction\", \"fray\", \"fray\", \"fray\", \"fray\", \"fray\", \"fray\", \"frayed\", \"frequently\", \"frequently\", \"friends\", \"garage\", \"garden\", \"genuine\", \"gesso\", \"get\", \"get\", \"get\", \"get\", \"get\", \"get\", \"get\", \"get\", \"get\", \"get\", \"gingher\", \"gingher\", \"gingher\", \"give\", \"give\", \"give\", \"give\", \"give\", \"give\", \"give\", \"give\", \"give\", \"give\", \"glob\", \"gloppy\", \"glow\", \"glow\", \"glow\", \"glow\", \"glue\", \"glue\", \"glue\", \"glue\", \"glue\", \"glue\", \"glue\", \"glue\", \"glue\", \"go\", \"go\", \"go\", \"go\", \"go\", \"go\", \"go\", \"go\", \"go\", \"go\", \"good\", \"good\", \"good\", \"good\", \"good\", \"good\", \"good\", \"good\", \"good\", \"good\", \"gotten\", \"gouge\", \"grand\", \"graphite\", \"gray\", \"gray\", \"gray\", \"gray\", \"great\", \"great\", \"great\", \"great\", \"great\", \"great\", \"great\", \"great\", \"great\", \"great\", \"green\", \"green\", \"green\", \"green\", \"green\", \"green\", \"green\", \"grey\", \"grommet\", \"guillotine\", \"gun\", \"gun\", \"gun\", \"gun\", \"hair\", \"hair\", \"hair\", \"hair\", \"hair\", \"hair\", \"hair\", \"hair\", \"hammer\", \"hammer\", \"hammer\", \"hand\", \"hand\", \"hand\", \"hand\", \"hand\", \"hand\", \"hand\", \"hand\", \"hand\", \"hand\", \"hang\", \"hang\", \"hang\", \"hang\", \"hang\", \"hang\", \"happy\", \"happy\", \"happy\", \"happy\", \"happy\", \"happy\", \"happy\", \"happy\", \"happy\", \"happy\", \"head\", \"head\", \"head\", \"head\", \"head\", \"heal\", \"health\", \"heart\", \"heart\", \"heart\", \"hell\", \"hem\", \"hem\", \"hinge\", \"hinge\", \"hold\", \"hold\", \"hold\", \"hold\", \"hold\", \"hold\", \"hold\", \"hold\", \"hold\", \"hold\", \"hole\", \"hole\", \"hole\", \"hole\", \"hole\", \"hole\", \"hole\", \"hole\", \"hole\", \"hook\", \"hook\", \"hook\", \"hook\", \"hook\", \"hook\", \"hook\", \"hook\", \"hook\", \"hot\", \"hot\", \"hot\", \"hot\", \"hot\", \"hot\", \"hot\", \"hot\", \"href\", \"href\", \"href\", \"ie\", \"ie\", \"ie\", \"ie\", \"ie\", \"ie\", \"ie\", \"impression\", \"impression\", \"inch\", \"inch\", \"inch\", \"inch\", \"inch\", \"inch\", \"inch\", \"inch\", \"inch\", \"inch\", \"initially\", \"ink\", \"ink\", \"ink\", \"ink\", \"ink\", \"ink\", \"ink\", \"ink\", \"ink\", \"inner\", \"inner\", \"inner\", \"instal\", \"instructed\", \"interchangeable\", \"iron\", \"iron\", \"iron\", \"iron\", \"iron\", \"iron\", \"jag\", \"james\", \"janome\", \"jean\", \"jean\", \"jewelry\", \"jewelry\", \"jewelry\", \"jewelry\", \"jewelry\", \"jewelry\", \"jewelry\", \"jewelry\", \"joanns\", \"john\", \"juki\", \"jumbo\", \"keep\", \"keep\", \"keep\", \"keep\", \"keep\", \"keep\", \"keep\", \"keep\", \"keep\", \"keep\", \"keeper\", \"keywords\", \"king\", \"kit\", \"kit\", \"kit\", \"kit\", \"kit\", \"kit\", \"kit\", \"kit\", \"kit\", \"kit\", \"knit\", \"knit\", \"knit\", \"knit\", \"knit\", \"knit\", \"knit\", \"knock\", \"knock\", \"knock\", \"knock\", \"knot\", \"knot\", \"knot\", \"knot\", \"knot\", \"knot\", \"knot\", \"knot\", \"knot\", \"l\", \"label\", \"label\", \"label\", \"label\", \"label\", \"label\", \"label\", \"label\", \"labor\", \"large\", \"large\", \"large\", \"large\", \"large\", \"large\", \"large\", \"large\", \"large\", \"large\", \"laser\", \"late\", \"late\", \"late\", \"late\", \"laugh\", \"lead\", \"lead\", \"lead\", \"lead\", \"lead\", \"lead\", \"lead\", \"lead\", \"lead\", \"leaf\", \"leaf\", \"leaf\", \"leather\", \"leather\", \"leather\", \"leather\", \"leather\", \"leather\", \"leather\", \"leather\", \"light\", \"light\", \"light\", \"light\", \"light\", \"light\", \"light\", \"light\", \"light\", \"light\", \"lightly\", \"like\", \"like\", \"like\", \"like\", \"like\", \"like\", \"like\", \"like\", \"like\", \"like\", \"line\", \"line\", \"line\", \"line\", \"line\", \"line\", \"line\", \"line\", \"line\", \"line\", \"liner\", \"link\", \"link\", \"link\", \"link\", \"link\", \"link\", \"link\", \"link\", \"lion\", \"lion\", \"listen\", \"load\", \"load\", \"load\", \"load\", \"look\", \"look\", \"look\", \"look\", \"look\", \"look\", \"look\", \"look\", \"look\", \"look\", \"loss\", \"lower\", \"lumpy\", \"machine\", \"machine\", \"machine\", \"machine\", \"machine\", \"machine\", \"machine\", \"machine\", \"machine\", \"machine\", \"magnet\", \"magnet\", \"magnet\", \"magnet\", \"magnet\", \"magnifier\", \"make\", \"make\", \"make\", \"make\", \"make\", \"make\", \"make\", \"make\", \"make\", \"make\", \"making\", \"making\", \"making\", \"making\", \"making\", \"making\", \"manner\", \"mar\", \"marker\", \"marker\", \"marker\", \"marker\", \"marker\", \"marker\", \"marker\", \"marker\", \"marker\", \"mart\", \"martha\", \"martha\", \"master\", \"master\", \"mat\", \"mat\", \"mat\", \"mat\", \"mat\", \"mat\", \"mat\", \"matte\", \"matte\", \"matte\", \"measure\", \"measure\", \"measure\", \"measure\", \"measure\", \"measure\", \"measure\", \"medium\", \"medium\", \"medium\", \"medium\", \"medium\", \"medium\", \"medium\", \"medium\", \"metal\", \"metal\", \"metal\", \"metal\", \"metal\", \"metal\", \"metal\", \"metal\", \"metal\", \"mi\", \"million\", \"million\", \"million\", \"miniature\", \"minus\", \"mirror\", \"miss\", \"miss\", \"miss\", \"miss\", \"miss\", \"miss\", \"miss\", \"miss\", \"miss\", \"misshapen\", \"mm\", \"mm\", \"mm\", \"mm\", \"mm\", \"mold\", \"mold\", \"mold\", \"mold\", \"mold\", \"mold\", \"mom\", \"mom\", \"money\", \"money\", \"money\", \"money\", \"money\", \"money\", \"money\", \"money\", \"money\", \"money\", \"mother\", \"much\", \"much\", \"much\", \"much\", \"much\", \"much\", \"much\", \"much\", \"much\", \"much\", \"nature\", \"nbsp\", \"nbsp\", \"nbsp\", \"nbsp\", \"nbsp\", \"nbsp\", \"neck\", \"need\", \"need\", \"need\", \"need\", \"need\", \"need\", \"need\", \"need\", \"need\", \"need\", \"needed\", \"needle\", \"needle\", \"needle\", \"needle\", \"needle\", \"needle\", \"needle\", \"needle\", \"needle\", \"neon\", \"never\", \"never\", \"never\", \"never\", \"never\", \"never\", \"never\", \"never\", \"never\", \"never\", \"newton\", \"newton\", \"nice\", \"nice\", \"nice\", \"nice\", \"nice\", \"nice\", \"nice\", \"nice\", \"nice\", \"nice\", \"nick\", \"nickel\", \"nickel\", \"nickel\", \"notch\", \"notch\", \"nothing\", \"nothing\", \"nothing\", \"nothing\", \"nothing\", \"nothing\", \"nothing\", \"nothing\", \"nothing\", \"nothing\", \"november\", \"ok\", \"ok\", \"ok\", \"ok\", \"ok\", \"ok\", \"ok\", \"ok\", \"old\", \"old\", \"old\", \"old\", \"old\", \"old\", \"old\", \"old\", \"old\", \"old\", \"olfa\", \"olfa\", \"one\", \"one\", \"one\", \"one\", \"one\", \"one\", \"one\", \"one\", \"one\", \"one\", \"opaque\", \"opaque\", \"opaque\", \"open\", \"open\", \"open\", \"open\", \"open\", \"open\", \"open\", \"open\", \"open\", \"open\", \"opened\", \"oppose\", \"orange\", \"orange\", \"order\", \"order\", \"order\", \"order\", \"order\", \"order\", \"order\", \"order\", \"order\", \"order\", \"ounce\", \"out\", \"outfit\", \"outline\", \"package\", \"package\", \"package\", \"package\", \"package\", \"package\", \"package\", \"package\", \"package\", \"package\", \"pad\", \"pad\", \"pad\", \"pad\", \"pad\", \"pad\", \"pad\", \"pad\", \"pad\", \"paint\", \"paint\", \"paint\", \"paint\", \"paint\", \"paint\", \"paint\", \"paint\", \"paint\", \"paper\", \"paper\", \"paper\", \"paper\", \"paper\", \"paper\", \"paper\", \"paper\", \"paper\", \"paper\", \"part\", \"part\", \"part\", \"part\", \"part\", \"part\", \"part\", \"part\", \"part\", \"part\", \"pastel\", \"pastel\", \"pastel\", \"pastel\", \"patch\", \"patch\", \"patch\", \"pattern\", \"pattern\", \"pattern\", \"pattern\", \"pattern\", \"pattern\", \"pattern\", \"pattern\", \"pay\", \"pay\", \"pay\", \"pay\", \"pay\", \"pay\", \"pay\", \"pay\", \"pay\", \"pay\", \"peel\", \"peel\", \"peel\", \"peel\", \"peel\", \"pen\", \"pen\", \"pen\", \"pen\", \"pen\", \"pen\", \"pen\", \"pen\", \"pencil\", \"pencil\", \"pencil\", \"pencil\", \"pencil\", \"pencil\", \"pencil\", \"pencil\", \"pencil\", \"permanent\", \"petal\", \"photo\", \"photo\", \"photo\", \"photo\", \"photo\", \"photo\", \"photo\", \"photo\", \"photo\", \"photo\", \"picture\", \"picture\", \"picture\", \"picture\", \"picture\", \"picture\", \"picture\", \"picture\", \"picture\", \"picture\", \"piece\", \"piece\", \"piece\", \"piece\", \"piece\", \"piece\", \"piece\", \"piece\", \"piece\", \"piece\", \"pill\", \"pin\", \"pin\", \"pin\", \"pin\", \"pin\", \"pin\", \"pin\", \"pink\", \"pink\", \"pink\", \"pink\", \"pink\", \"pink\", \"plaid\", \"plastic\", \"plastic\", \"plastic\", \"plastic\", \"plastic\", \"plastic\", \"plastic\", \"plastic\", \"plastic\", \"plastic\", \"plate\", \"plate\", \"plate\", \"plate\", \"plate\", \"plate\", \"plate\", \"plate\", \"plier\", \"plier\", \"plier\", \"plier\", \"plier\", \"podge\", \"point\", \"point\", \"point\", \"point\", \"point\", \"point\", \"point\", \"point\", \"point\", \"point\", \"polish\", \"polymer\", \"polymer\", \"poor\", \"poor\", \"poor\", \"poor\", \"poor\", \"poor\", \"poor\", \"poor\", \"poor\", \"poor\", \"postage\", \"power\", \"power\", \"power\", \"power\", \"power\", \"practically\", \"precisely\", \"premier\", \"presentation\", \"presentation\", \"price\", \"price\", \"price\", \"price\", \"price\", \"price\", \"price\", \"price\", \"price\", \"price\", \"pride\", \"pride\", \"primary\", \"print\", \"print\", \"print\", \"print\", \"print\", \"print\", \"print\", \"print\", \"print\", \"product\", \"product\", \"product\", \"product\", \"product\", \"product\", \"product\", \"product\", \"product\", \"product\", \"profile\", \"project\", \"project\", \"project\", \"project\", \"project\", \"project\", \"project\", \"project\", \"project\", \"project\", \"promptly\", \"proof\", \"publish\", \"pumpkin\", \"punch\", \"punch\", \"punch\", \"punch\", \"punch\", \"punch\", \"punch\", \"punch\", \"punch\", \"punch\", \"purchase\", \"purchase\", \"purchase\", \"purchase\", \"purchase\", \"purchase\", \"purchase\", \"purchase\", \"purchase\", \"purchase\", \"purple\", \"purple\", \"purple\", \"purple\", \"purple\", \"put\", \"put\", \"put\", \"put\", \"put\", \"put\", \"put\", \"put\", \"put\", \"put\", \"qid\", \"quality\", \"quality\", \"quality\", \"quality\", \"quality\", \"quality\", \"quality\", \"quality\", \"quality\", \"quality\", \"queen\", \"quilt\", \"quilt\", \"quilt\", \"quilt\", \"quilt\", \"quilt\", \"quilt\", \"quilt\", \"rag\", \"rag\", \"rainbow\", \"ranger\", \"ranger\", \"read\", \"read\", \"read\", \"read\", \"read\", \"read\", \"read\", \"read\", \"read\", \"read\", \"reality\", \"reality\", \"really\", \"really\", \"really\", \"really\", \"really\", \"really\", \"really\", \"really\", \"really\", \"really\", \"receive\", \"receive\", \"receive\", \"receive\", \"receive\", \"receive\", \"receive\", \"receive\", \"receive\", \"receive\", \"recommend\", \"recommend\", \"recommend\", \"recommend\", \"recommend\", \"recommend\", \"recommend\", \"recommend\", \"recommend\", \"recommend\", \"red\", \"red\", \"red\", \"red\", \"red\", \"red\", \"red\", \"red\", \"red\", \"red\", \"ref\", \"ref\", \"ref\", \"ref\", \"refuse\", \"relatively\", \"removable\", \"repair\", \"repair\", \"repair\", \"repair\", \"repair\", \"repair\", \"repair\", \"resistant\", \"resort\", \"return\", \"return\", \"return\", \"return\", \"return\", \"return\", \"return\", \"return\", \"return\", \"return\", \"review\", \"review\", \"review\", \"review\", \"review\", \"review\", \"review\", \"review\", \"review\", \"review\", \"rhinestone\", \"rhinestone\", \"rhinestone\", \"rhinestone\", \"ribbon\", \"ribbon\", \"ribbon\", \"ribbon\", \"ribbon\", \"ring\", \"ring\", \"ring\", \"ring\", \"ring\", \"ring\", \"ring\", \"ripper\", \"rit\", \"rod\", \"roll\", \"roll\", \"roll\", \"roll\", \"roll\", \"roll\", \"roll\", \"roll\", \"roll\", \"rotary\", \"rotary\", \"rotary\", \"row\", \"row\", \"row\", \"row\", \"rubbish\", \"ruby\", \"rug\", \"ruler\", \"ruler\", \"ruler\", \"ruler\", \"ruler\", \"ruler\", \"ruler\", \"ruler\", \"rvw\", \"rvw\", \"rvw\", \"sable\", \"satin\", \"say\", \"say\", \"say\", \"say\", \"say\", \"say\", \"say\", \"say\", \"say\", \"say\", \"scallop\", \"scan\", \"scotch\", \"scream\", \"screw\", \"screw\", \"screw\", \"screw\", \"screw\", \"screw\", \"screw\", \"screw\", \"screw\", \"screw\", \"sculpey\", \"sculpey\", \"see\", \"see\", \"see\", \"see\", \"see\", \"see\", \"see\", \"see\", \"see\", \"see\", \"send\", \"send\", \"send\", \"send\", \"send\", \"send\", \"send\", \"send\", \"send\", \"send\", \"sent\", \"sent\", \"sent\", \"sent\", \"sent\", \"sent\", \"sequin\", \"serger\", \"series\", \"serious\", \"serious\", \"serious\", \"serious\", \"serious\", \"serious\", \"serve\", \"settle\", \"sew\", \"sew\", \"sew\", \"sew\", \"sew\", \"sew\", \"sew\", \"sew\", \"sew\", \"sew\", \"shaft\", \"shaft\", \"shank\", \"shape\", \"shape\", \"shape\", \"shape\", \"shape\", \"shape\", \"shape\", \"shape\", \"shape\", \"shape\", \"sharp\", \"sharp\", \"sharp\", \"sharp\", \"sharp\", \"sharp\", \"sharp\", \"sharp\", \"shim\", \"shine\", \"shine\", \"ship\", \"ship\", \"ship\", \"ship\", \"ship\", \"ship\", \"ship\", \"ship\", \"ship\", \"ship\", \"shock\", \"show\", \"show\", \"show\", \"show\", \"show\", \"show\", \"show\", \"show\", \"show\", \"side\", \"side\", \"side\", \"side\", \"side\", \"side\", \"side\", \"side\", \"side\", \"side\", \"sign\", \"significant\", \"silhouette\", \"silhouette\", \"silhouette\", \"silhouette\", \"silhouette\", \"silly\", \"singer\", \"singer\", \"singer\", \"singer\", \"singer\", \"singer\", \"singer\", \"singer\", \"sits\", \"size\", \"size\", \"size\", \"size\", \"size\", \"size\", \"size\", \"size\", \"size\", \"size\", \"sizzix\", \"sizzix\", \"sizzix\", \"sizzix\", \"sizzix\", \"sizzix\", \"skein\", \"skein\", \"skein\", \"skein\", \"skein\", \"skein\", \"skein\", \"skein\", \"small\", \"small\", \"small\", \"small\", \"small\", \"small\", \"small\", \"small\", \"small\", \"small\", \"smash\", \"smell\", \"smell\", \"smell\", \"smell\", \"smell\", \"smell\", \"smell\", \"smell\", \"smell\", \"smudge\", \"smudge\", \"snap\", \"snap\", \"snap\", \"snap\", \"snap\", \"snap\", \"snap\", \"snap\", \"snap\", \"snazaroo\", \"snip\", \"soft\", \"soft\", \"soft\", \"soft\", \"soft\", \"soft\", \"soft\", \"soft\", \"software\", \"software\", \"software\", \"software\", \"software\", \"software\", \"soy\", \"soy\", \"spellbinder\", \"spindle\", \"spiral\", \"spool\", \"spool\", \"spool\", \"spool\", \"spool\", \"spool\", \"spool\", \"spool\", \"spool\", \"sr\", \"stabilizer\", \"stabilizer\", \"stage\", \"stamp\", \"stamp\", \"stamp\", \"stamp\", \"stamp\", \"stamp\", \"stamp\", \"stamp\", \"starch\", \"stated\", \"steal\", \"steel\", \"steel\", \"steel\", \"steel\", \"steel\", \"stencil\", \"stencil\", \"stencil\", \"stencil\", \"stencil\", \"stewart\", \"stewart\", \"stick\", \"stick\", \"stick\", \"stick\", \"stick\", \"stick\", \"stick\", \"stick\", \"stick\", \"stick\", \"sticky\", \"sticky\", \"sticky\", \"sticky\", \"sticky\", \"sticky\", \"sticky\", \"sticky\", \"sticky\", \"stitch\", \"stitch\", \"stitch\", \"stitch\", \"stitch\", \"stitch\", \"stitch\", \"stitch\", \"stitch\", \"stock\", \"stock\", \"stock\", \"stock\", \"straight\", \"straight\", \"straight\", \"straight\", \"straight\", \"straight\", \"straight\", \"straight\", \"straight\", \"streaky\", \"stress\", \"stuff\", \"stuff\", \"stuff\", \"stuff\", \"stuff\", \"stuff\", \"stuff\", \"stuff\", \"stuff\", \"stuff\", \"substantial\", \"suck\", \"suck\", \"suck\", \"suck\", \"suck\", \"suggestion\", \"suggestion\", \"suggestion\", \"suggestion\", \"suggestion\", \"sulky\", \"swallow\", \"swarovski\", \"sweater\", \"symbol\", \"tab\", \"tablet\", \"tablet\", \"tacky\", \"tag\", \"take\", \"take\", \"take\", \"take\", \"take\", \"take\", \"take\", \"take\", \"take\", \"take\", \"tandy\", \"tape\", \"tape\", \"tape\", \"tape\", \"tape\", \"tape\", \"tape\", \"tape\", \"tarnish\", \"tarnish\", \"tarnish\", \"tear\", \"tear\", \"tear\", \"tear\", \"tear\", \"tear\", \"tear\", \"tear\", \"tear\", \"tear\", \"teeth\", \"temperature\", \"template\", \"thin\", \"thin\", \"thin\", \"thin\", \"thin\", \"thin\", \"thin\", \"thin\", \"thin\", \"thin\", \"think\", \"think\", \"think\", \"think\", \"think\", \"think\", \"think\", \"think\", \"think\", \"think\", \"thread\", \"thread\", \"thread\", \"thread\", \"thread\", \"thread\", \"thread\", \"thread\", \"thread\", \"thread\", \"threader\", \"threader\", \"threader\", \"throat\", \"till\", \"time\", \"time\", \"time\", \"time\", \"time\", \"time\", \"time\", \"time\", \"time\", \"time\", \"tin\", \"tin\", \"tint\", \"tiny\", \"tiny\", \"tiny\", \"tiny\", \"tiny\", \"tiny\", \"tiny\", \"tiny\", \"tiny\", \"tiny\", \"tip\", \"tip\", \"tip\", \"tip\", \"tip\", \"tip\", \"tip\", \"tip\", \"tip\", \"tip\", \"tool\", \"tool\", \"tool\", \"tool\", \"tool\", \"tool\", \"tool\", \"tool\", \"tool\", \"tool\", \"torn\", \"towel\", \"toxic\", \"toxic\", \"toxic\", \"tray\", \"tray\", \"try\", \"try\", \"try\", \"try\", \"try\", \"try\", \"try\", \"try\", \"try\", \"try\", \"turquoise\", \"tweezer\", \"tweezer\", \"tweezer\", \"tweezer\", \"twelve\", \"txt\", \"txt\", \"txt\", \"ugh\", \"ugh\", \"ugh\", \"underneath\", \"unevenly\", \"unfortunately\", \"unfortunately\", \"unfortunately\", \"unfortunately\", \"unfortunately\", \"unfortunately\", \"unfortunately\", \"unfortunately\", \"unfortunately\", \"unfortunately\", \"usage\", \"use\", \"use\", \"use\", \"use\", \"use\", \"use\", \"use\", \"use\", \"use\", \"use\", \"useless\", \"useless\", \"useless\", \"useless\", \"useless\", \"useless\", \"useless\", \"useless\", \"useless\", \"useless\", \"utf8\", \"utf8\", \"utf8\", \"v\", \"velcro\", \"velcro\", \"versafine\", \"versamark\", \"video\", \"video\", \"video\", \"video\", \"video\", \"video\", \"video\", \"video\", \"vinyl\", \"vinyl\", \"vinyl\", \"vinyl\", \"vinyl\", \"vinyl\", \"vinyl\", \"vinyl\", \"visible\", \"waited\", \"wal\", \"want\", \"want\", \"want\", \"want\", \"want\", \"want\", \"want\", \"want\", \"want\", \"want\", \"warning\", \"washer\", \"waste\", \"waste\", \"waste\", \"waste\", \"waste\", \"waste\", \"waste\", \"waste\", \"waste\", \"waste\", \"water\", \"water\", \"water\", \"water\", \"water\", \"water\", \"water\", \"water\", \"water\", \"water\", \"watercolor\", \"watercolor\", \"watercolor\", \"watercolor\", \"watercolor\", \"watercolor\", \"way\", \"way\", \"way\", \"way\", \"way\", \"way\", \"way\", \"way\", \"way\", \"way\", \"weld\", \"well\", \"well\", \"well\", \"well\", \"well\", \"well\", \"well\", \"well\", \"well\", \"well\", \"whenever\", \"white\", \"white\", \"white\", \"white\", \"white\", \"white\", \"white\", \"white\", \"wick\", \"wick\", \"wider\", \"wife\", \"wife\", \"wind\", \"wind\", \"wind\", \"wind\", \"wind\", \"wing\", \"winsor\", \"winsor\", \"wire\", \"wire\", \"wire\", \"wire\", \"wire\", \"wire\", \"wire\", \"wire\", \"wire\", \"wobbly\", \"woman\", \"wonderfully\", \"work\", \"work\", \"work\", \"work\", \"work\", \"work\", \"work\", \"work\", \"work\", \"work\", \"worth\", \"worth\", \"worth\", \"worth\", \"worth\", \"worth\", \"worth\", \"worth\", \"worth\", \"worth\", \"worthy\", \"would\", \"would\", \"would\", \"would\", \"would\", \"would\", \"would\", \"would\", \"would\", \"would\", \"wrist\", \"wrist\", \"wrist\", \"wrist\", \"www\", \"yard\", \"yard\", \"yard\", \"yard\", \"yard\", \"yard\", \"yard\", \"yard\", \"yard\", \"yardage\", \"yarn\", \"yarn\", \"yarn\", \"yarn\", \"yarn\", \"yarn\", \"yarn\", \"yarn\", \"yarn\", \"yarn\", \"yarnspirations\", \"year\", \"year\", \"year\", \"year\", \"year\", \"year\", \"year\", \"year\", \"year\", \"year\", \"yellow\", \"yellow\", \"yellow\", \"yellow\", \"yellow\", \"yellow\", \"yellow\", \"yellow\", \"yr\", \"zig\", \"zip\"]}, \"R\": 30, \"lambda.step\": 0.01, \"plot.opts\": {\"xlab\": \"PC1\", \"ylab\": \"PC2\"}, \"topic.order\": [7, 5, 10, 4, 8, 1, 9, 2, 6, 3]};\n",
       "\n",
       "function LDAvis_load_lib(url, callback){\n",
       "  var s = document.createElement('script');\n",
       "  s.src = url;\n",
       "  s.async = true;\n",
       "  s.onreadystatechange = s.onload = callback;\n",
       "  s.onerror = function(){console.warn(\"failed to load library \" + url);};\n",
       "  document.getElementsByTagName(\"head\")[0].appendChild(s);\n",
       "}\n",
       "\n",
       "if(typeof(LDAvis) !== \"undefined\"){\n",
       "   // already loaded: just create the visualization\n",
       "   !function(LDAvis){\n",
       "       new LDAvis(\"#\" + \"ldavis_el767621051310329763062401544\", ldavis_el767621051310329763062401544_data);\n",
       "   }(LDAvis);\n",
       "}else if(typeof define === \"function\" && define.amd){\n",
       "   // require.js is available: use it to load d3/LDAvis\n",
       "   require.config({paths: {d3: \"https://d3js.org/d3.v5\"}});\n",
       "   require([\"d3\"], function(d3){\n",
       "      window.d3 = d3;\n",
       "      LDAvis_load_lib(\"https://cdn.jsdelivr.net/gh/bmabey/pyLDAvis@3.4.0/pyLDAvis/js/ldavis.v3.0.0.js\", function(){\n",
       "        new LDAvis(\"#\" + \"ldavis_el767621051310329763062401544\", ldavis_el767621051310329763062401544_data);\n",
       "      });\n",
       "    });\n",
       "}else{\n",
       "    // require.js not available: dynamically load d3 & LDAvis\n",
       "    LDAvis_load_lib(\"https://d3js.org/d3.v5.js\", function(){\n",
       "         LDAvis_load_lib(\"https://cdn.jsdelivr.net/gh/bmabey/pyLDAvis@3.4.0/pyLDAvis/js/ldavis.v3.0.0.js\", function(){\n",
       "                 new LDAvis(\"#\" + \"ldavis_el767621051310329763062401544\", ldavis_el767621051310329763062401544_data);\n",
       "            })\n",
       "         });\n",
       "}\n",
       "</script>"
      ],
      "text/plain": [
       "<IPython.core.display.HTML object>"
      ]
     },
     "metadata": {},
     "output_type": "display_data"
    },
    {
     "name": "stdout",
     "output_type": "stream",
     "text": [
      "Visualizing LDA model for 5-star reviews\n"
     ]
    },
    {
     "data": {
      "text/html": [
       "\n",
       "<link rel=\"stylesheet\" type=\"text/css\" href=\"https://cdn.jsdelivr.net/gh/bmabey/pyLDAvis@3.4.0/pyLDAvis/js/ldavis.v1.0.0.css\">\n",
       "\n",
       "\n",
       "<div id=\"ldavis_el767621023920948966686026919\" style=\"background-color:white;\"></div>\n",
       "<script type=\"text/javascript\">\n",
       "\n",
       "var ldavis_el767621023920948966686026919_data = {\"mdsDat\": {\"x\": [-0.11718415435797287, -0.1385943788891974, -0.12067018997230898, -0.14629977924508236, 0.19649558387011432, -0.04454574493418125, -0.12394735064311194, 0.11458080826212634, 0.0061536230387989575, 0.3740115828708155], \"y\": [-0.10809882942934497, -0.01169560288721971, -0.03993300666478988, -0.0446164235881073, 0.21279292590158938, 0.09362428031244045, -0.04630360605262549, 0.27777151101348213, -0.06498426390787976, -0.26855698469754474], \"topics\": [1, 2, 3, 4, 5, 6, 7, 8, 9, 10], \"cluster\": [1, 1, 1, 1, 1, 1, 1, 1, 1, 1], \"Freq\": [23.267587235102003, 16.015742575287945, 10.762621993861949, 9.88688060480553, 9.11796497177938, 8.538728673423481, 8.213914189367182, 6.1156505633482325, 4.7469628767280625, 3.333946316296236]}, \"tinfo\": {\"Term\": [\"great\", \"perfect\", \"love\", \"good\", \"color\", \"work\", \"product\", \"need\", \"price\", \"quality\", \"machine\", \"cut\", \"use\", \"size\", \"sew\", \"thread\", \"paint\", \"make\", \"yarn\", \"card\", \"beautiful\", \"paper\", \"stamp\", \"nice\", \"needle\", \"brush\", \"fabric\", \"quilt\", \"bead\", \"excellent\", \"organize\", \"shirt\", \"pocket\", \"house\", \"sock\", \"screw\", \"purse\", \"resin\", \"compartment\", \"drawer\", \"mistake\", \"velcro\", \"cat\", \"winder\", \"pillow\", \"walk\", \"dot\", \"cushion\", \"handmade\", \"bow\", \"securely\", \"chip\", \"burn\", \"safe\", \"martha\", \"ruin\", \"assemble\", \"rug\", \"floor\", \"tacky\", \"bag\", \"box\", \"inside\", \"open\", \"sit\", \"curve\", \"slot\", \"place\", \"container\", \"put\", \"storage\", \"husband\", \"elastic\", \"bottom\", \"around\", \"fix\", \"attach\", \"together\", \"close\", \"could\", \"store\", \"back\", \"carry\", \"case\", \"something\", \"thought\", \"one\", \"keep\", \"plastic\", \"take\", \"ago\", \"get\", \"couple\", \"thing\", \"hold\", \"think\", \"find\", \"small\", \"little\", \"two\", \"still\", \"go\", \"come\", \"would\", \"need\", \"enough\", \"like\", \"buy\", \"want\", \"use\", \"time\", \"well\", \"make\", \"work\", \"look\", \"size\", \"paint\", \"brush\", \"pencil\", \"pen\", \"water\", \"marker\", \"watercolor\", \"artist\", \"painting\", \"oil\", \"canvas\", \"pigment\", \"mixed\", \"pastel\", \"palette\", \"wet\", \"chalk\", \"eraser\", \"flow\", \"honest\", \"bristle\", \"gel\", \"adult\", \"journal\", \"serger\", \"repair\", \"yellow\", \"pan\", \"sharpener\", \"alcohol\", \"mix\", \"bleed\", \"draw\", \"medium\", \"blend\", \"acrylic\", \"dry\", \"ink\", \"sketch\", \"art\", \"set\", \"tip\", \"color\", \"write\", \"use\", \"well\", \"paper\", \"like\", \"smooth\", \"go\", \"get\", \"also\", \"really\", \"work\", \"would\", \"good\", \"one\", \"nice\", \"try\", \"love\", \"knit\", \"crochet\", \"bead\", \"wire\", \"heart\", \"clay\", \"bracelet\", \"ring\", \"necklace\", \"earring\", \"clover\", \"scarf\", \"cable\", \"loom\", \"bamboo\", \"gun\", \"circular\", \"polymer\", \"knitting\", \"plier\", \"strand\", \"alot\", \"crystal\", \"jump\", \"tangle\", \"snip\", \"pour\", \"knot\", \"chart\", \"join\", \"cord\", \"hat\", \"skein\", \"gauge\", \"sweater\", \"jewelry\", \"chain\", \"hook\", \"yarn\", \"wool\", \"needle\", \"comfortable\", \"soft\", \"red\", \"make\", \"metal\", \"hand\", \"smooth\", \"feel\", \"use\", \"size\", \"project\", \"nice\", \"like\", \"easy\", \"love\", \"set\", \"work\", \"recommend\", \"well\", \"really\", \"one\", \"blade\", \"dy\", \"mold\", \"cricut\", \"vinyl\", \"die\", \"soap\", \"rotary\", \"mat\", \"cartridge\", \"described\", \"transfer\", \"sizzix\", \"knitter\", \"spellbinder\", \"fiskars\", \"shot\", \"cuttlebug\", \"measurement\", \"dress\", \"shine\", \"crayon\", \"spring\", \"forever\", \"intricate\", \"precise\", \"n\", \"chipboard\", \"plate\", \"sewer\", \"cut\", \"cutter\", \"powder\", \"emboss\", \"adjust\", \"circle\", \"tool\", \"trace\", \"folder\", \"use\", \"easy\", \"pattern\", \"time\", \"edge\", \"square\", \"make\", \"piece\", \"clean\", \"work\", \"love\", \"well\", \"much\", \"one\", \"paper\", \"like\", \"shape\", \"get\", \"yet\", \"long\", \"set\", \"big\", \"fast\", \"ship\", \"delivery\", \"seller\", \"price\", \"shipping\", \"service\", \"candle\", \"reasonable\", \"deliver\", \"satisfied\", \"advertised\", \"sketchbook\", \"promise\", \"clasp\", \"timely\", \"thumb\", \"wick\", \"pendant\", \"bargain\", \"door\", \"vendor\", \"locally\", \"manner\", \"olfa\", \"tissue\", \"functional\", \"action\", \"durability\", \"joy\", \"excellent\", \"expect\", \"reasonably\", \"quality\", \"product\", \"arrive\", \"good\", \"condition\", \"arrived\", \"pleased\", \"describe\", \"value\", \"deal\", \"customer\", \"happy\", \"great\", \"order\", \"purchase\", \"item\", \"quickly\", \"high\", \"exactly\", \"recommend\", \"buy\", \"receive\", \"would\", \"nice\", \"time\", \"cute\", \"making\", \"glitter\", \"scrapbook\", \"scrapbooking\", \"sticker\", \"birthday\", \"tag\", \"decorate\", \"stone\", \"sticky\", \"sparkle\", \"party\", \"cameo\", \"album\", \"glue\", \"counter\", \"sister\", \"tree\", \"cone\", \"son\", \"wed\", \"embellishment\", \"scrap\", \"journaling\", \"creation\", \"ranger\", \"washi\", \"theme\", \"na\", \"card\", \"tape\", \"adhesive\", \"gift\", \"envelope\", \"mini\", \"christmas\", \"fun\", \"pad\", \"silhouette\", \"adorable\", \"girl\", \"paper\", \"craft\", \"page\", \"flower\", \"stock\", \"stuff\", \"nice\", \"make\", \"book\", \"add\", \"use\", \"love\", \"design\", \"project\", \"many\", \"great\", \"lot\", \"really\", \"easy\", \"kid\", \"create\", \"look\", \"beautiful\", \"little\", \"sew\", \"thread\", \"quilt\", \"scissors\", \"embroidery\", \"bobbin\", \"brother\", \"foot\", \"seam\", \"sewing\", \"singer\", \"ruler\", \"stabilizer\", \"wind\", \"embroider\", \"towel\", \"threader\", \"switch\", \"grid\", \"janome\", \"applique\", \"bobbins\", \"hem\", \"software\", \"manual\", \"arthritis\", \"ripper\", \"jean\", \"gadget\", \"shear\", \"machine\", \"spool\", \"fabric\", \"stitch\", \"pair\", \"pin\", \"iron\", \"guide\", \"sharp\", \"button\", \"snap\", \"use\", \"hand\", \"needle\", \"easy\", \"best\", \"love\", \"ever\", \"problem\", \"work\", \"great\", \"make\", \"new\", \"recommend\", \"much\", \"well\", \"buy\", \"thank\", \"prompt\", \"crack\", \"cutting\", \"promptly\", \"wedding\", \"rit\", \"chair\", \"bill\", \"addi\", \"yesterday\", \"attempt\", \"se400\", \"grandchild\", \"12x12\", \"rainbow\", \"fluid\", \"rove\", \"thanks\", \"electric\", \"member\", \"dish\", \"sugar\", \"array\", \"coverage\", \"direct\", \"weather\", \"welcome\", \"spin\", \"estimate\", \"beautiful\", \"wife\", \"lovely\", \"great\", \"love\", \"ok\", \"work\", \"color\", \"pretty\", \"forward\", \"look\", \"awesome\", \"selection\", \"bright\", \"well\", \"assortment\", \"picture\", \"exactly\", \"wonderful\", \"nice\", \"project\", \"daughter\", \"want\", \"item\", \"yarn\", \"fine\", \"easy\", \"make\", \"soft\", \"really\", \"video\", \"green\", \"face\", \"tim\", \"holtz\", \"stamp\", \"pom\", \"com\", \"match\", \"template\", \"cross\", \"holiday\", \"wheel\", \"aluminum\", \"http\", \"magnet\", \"penny\", \"niece\", \"floss\", \"hidden\", \"greet\", \"pant\", \"costume\", \"gesso\", \"trick\", \"polish\", \"adjustable\", \"rinse\", \"shelf\", \"cleanly\", \"block\", \"dye\", \"cloth\", \"band\", \"image\", \"youtube\", \"combination\", \"pink\", \"blue\", \"w\", \"uniform\", \"otherwise\", \"thickness\", \"rubber\", \"purple\", \"black\", \"name\", \"brown\", \"dark\", \"clear\", \"white\", \"collection\", \"show\", \"color\", \"finish\", \"leather\", \"amazon\", \"red\", \"look\", \"addition\", \"set\", \"see\", \"light\", \"like\", \"perfect\", \"link\", \"hoop\", \"normal\", \"patch\", \"nbsp\", \"cm\", \"ref\", \"ie\", \"dp\", \"cr\", \"utf8\", \"data\", \"txt\", \"href\", \"arp\", \"rvw\", \"border\", \"butterfly\", \"ornament\", \"grand\", \"transaction\", \"reorder\", \"setting\", \"bird\", \"clearly\", \"teacher\", \"recommended\", \"font\", \"sparkly\", \"punch\", \"fantastic\", \"expectation\", \"class\", \"need\", \"size\", \"perfectly\", \"exactly\", \"fit\", \"kit\", \"project\", \"handy\", \"product\", \"small\", \"right\"], \"Freq\": [83578.0, 26515.0, 64188.0, 38649.0, 46502.0, 52125.0, 32884.0, 26434.0, 22150.0, 23103.0, 18610.0, 19612.0, 94553.0, 21066.0, 13456.0, 12061.0, 16410.0, 53049.0, 15982.0, 11967.0, 12044.0, 18871.0, 8672.0, 29996.0, 14765.0, 12459.0, 10574.0, 8125.0, 9092.0, 8513.0, 1571.524057211912, 1307.1108198708916, 1212.903280961026, 1017.6330255542215, 865.7386951090721, 825.658762456246, 816.1713908188827, 688.3203567231825, 665.3351193741229, 656.5902712527236, 606.492721424112, 585.2222037182983, 553.929997752198, 548.7389420438603, 541.7001955556598, 520.5530792943248, 755.3319937431614, 501.1842867626573, 498.4145746502042, 489.0044478759016, 477.05602635096403, 460.50611617312285, 444.26751178152455, 611.5561988610156, 431.9605968999939, 422.47843307851804, 419.12370083617736, 417.5828217882384, 414.9262012309439, 413.60537223095724, 4185.684789299865, 5954.932432606973, 1807.680372873928, 2806.5745665695604, 934.9285738218879, 711.6572934761294, 526.6373415163833, 5121.836697578629, 1745.4441708446143, 6934.144783234194, 2159.9220240681975, 950.1353962130562, 731.9280162740196, 1450.2193798647247, 4368.850177220202, 1027.241102203472, 1528.2775081434186, 3667.924896942907, 1838.9154250433353, 6551.3207223001, 5828.214904752995, 4868.696451834005, 1649.3682685050182, 4992.273851757184, 3444.668314798333, 1342.6343630276865, 21737.3833318182, 7362.1737434953475, 3887.656448622061, 6665.819498044041, 1734.3091731514276, 19072.900188572, 2029.0012336452126, 6248.398197855153, 7132.428381368772, 5279.7926613605605, 8441.036091426502, 8823.05228000771, 9262.538223736205, 4257.966947482788, 4269.44550241086, 8236.007393600054, 7891.101730933771, 9765.223471770203, 10308.38439359324, 4449.790527583006, 9810.296827483782, 8830.646280124838, 6274.687886909407, 13557.247713392027, 6807.4061068893025, 7620.332526133685, 8660.266423871013, 7489.885250422247, 5725.355835437885, 5027.855341779081, 16409.313954709956, 12458.675483514877, 8823.063316176671, 7101.765037425774, 6173.354014812459, 6151.142779029878, 5391.778214076959, 2930.673718746484, 2047.1881157887026, 1996.042443773819, 2581.2495503563778, 1530.46608958235, 1441.4741196586033, 1400.8111668725796, 1334.4964057668055, 1325.2671991301845, 1210.1194537987383, 1086.4967056096036, 1080.8355917785066, 1024.75899048283, 983.0297295167868, 971.0756505705823, 963.2453092521728, 947.9469530399366, 935.6175918427982, 913.214275016731, 849.4757581452093, 844.1606667774442, 831.2611036497751, 749.236820808971, 2547.1477774051455, 1146.6374331747518, 3026.695025106653, 3643.2639657238115, 2575.4671758134778, 2527.9067739918646, 4372.285403078142, 5068.634284370172, 1906.015463452811, 5152.300972950372, 12101.977419269586, 3772.8763816774635, 21738.546679722815, 2089.6354789051948, 17180.890768924066, 7264.581635035368, 4972.120074324332, 6067.64553518982, 2351.3871336642096, 3670.7920397271487, 4520.304700141796, 3332.5154137001205, 3751.3979507246736, 4351.080354618468, 3515.9780668122175, 3480.66223103213, 3316.5686838859992, 3241.212357269071, 2886.932228705709, 2971.193429587233, 6014.048075213234, 5822.585850209451, 9090.554851547742, 2897.1084221670976, 2589.9853689132633, 2451.4978602944, 2143.4335429904568, 1884.7618170468133, 1616.6421360809697, 1549.7810847925853, 1511.8437023563968, 1463.9404838045473, 1274.8695703477308, 1162.7666067310704, 1103.7720851235779, 959.8120974472201, 937.4950809425802, 809.3554117771125, 743.9403971951004, 708.828812304483, 695.6073392921619, 677.1120191755516, 644.8540138914312, 636.0179000666336, 620.7262722186845, 617.9134852861528, 616.3154787500313, 604.6073454649178, 522.7096939089868, 480.60461103724873, 2183.186346154345, 1931.1292941392294, 1550.9103668747366, 735.0605070595127, 654.3204576795295, 3944.8112214855546, 969.4368207232707, 8066.196613691559, 13785.898448952226, 887.0140001740938, 11368.404461693171, 1721.5647086622864, 3807.9517025072987, 2328.6391304846907, 13683.638552132697, 2096.555619440602, 3636.225305770139, 2432.5755377272885, 2272.650060489286, 11848.44795335904, 5062.289840709842, 4357.988770655128, 5218.72632152182, 5175.293960471753, 4628.85329967564, 5726.989735045861, 3826.978892571991, 4389.565626325768, 2361.3071168157876, 2535.2730998305615, 2389.9605953430614, 2225.182452913859, 4404.073049105154, 2995.378026122459, 2177.4843325678885, 2093.1797326170085, 2081.517859293398, 6167.017019783446, 1824.6706978883865, 1445.9680495094806, 4487.417179138927, 1213.8832727478507, 1212.4125531872812, 1188.9257926525568, 959.6271694566052, 956.8654589876196, 814.258322107468, 867.3528618832974, 803.6129940404356, 769.0273601849703, 758.0329092111305, 734.6337663943307, 673.5643068651608, 665.268661332053, 751.8632739043423, 654.5102390106532, 641.7855852346977, 624.2654564941544, 582.6753477426496, 567.4216422379208, 1262.9278969403865, 510.5414329296261, 19571.055525139727, 3102.2804486945133, 1019.5621817333843, 3162.88890423091, 759.4793654036591, 1034.2310052718437, 6858.057152276395, 860.4869577780679, 1651.2447701089218, 23648.428614079974, 10426.509151950502, 2425.531799434829, 6194.515503562881, 1829.7090311941963, 1214.215680890008, 9127.05518076168, 2842.4420633317163, 2249.41856884837, 5938.640134980063, 5818.661194863299, 4408.843406990603, 3204.5640246348835, 4129.358523203639, 2965.024732432222, 3213.1050896425068, 1665.8437690660196, 2947.690083660701, 1781.4080342999441, 1943.3020325713048, 2177.73990671125, 1832.595293619124, 6701.165154995517, 3426.1030061082884, 2781.3213198076965, 2469.3928404696617, 22141.4003726073, 2304.1312173285946, 2212.655770923599, 1264.884801019212, 1195.9994646059968, 945.5855440260792, 746.4350679393748, 707.2958888563637, 643.3722647913223, 561.8848030659587, 555.6080229196435, 551.2610392954874, 526.9597582448388, 475.2752649774601, 448.5262572178309, 723.1806282608098, 423.5570828356206, 420.03508297732014, 414.09340975322476, 343.1382794471667, 399.3519787562187, 325.5908925656402, 297.5712382543912, 295.36146770972954, 294.3768243703221, 267.63639422079547, 8457.947883491835, 7227.467420779015, 388.71731686276684, 22049.35159377052, 29953.074148516152, 4380.5491799325955, 33692.300863845565, 1215.9353222426553, 932.2084502881419, 2685.07721943843, 3623.504064111368, 3291.0481621037065, 2708.1555487646474, 1281.1804369539823, 5934.292004132319, 28357.7891712728, 6321.07442763214, 6672.099736693163, 4913.049867115047, 2741.8288426390113, 2317.9024667539506, 3632.3521797151466, 4519.8701211124435, 6566.728561921999, 2433.572906432237, 5224.792539671923, 5255.213800498702, 3589.7515412973125, 4193.184417220468, 2304.4133146760046, 2113.6319343196624, 1378.0761945571712, 1362.5525150232077, 1197.4795028213816, 1099.328900794859, 1031.2651485976255, 941.6054606583627, 933.6329856236318, 917.5813209288367, 844.1275100193055, 668.7104745599743, 676.6123239153935, 588.4194382026689, 7134.667591682303, 565.6897662810969, 553.4017517978807, 673.6983549533787, 551.9632774537039, 925.4034641604613, 528.940547768307, 507.93274543047926, 881.3552369120906, 489.8494671012447, 488.5717243854793, 484.0604121061549, 478.9906524911309, 452.404896089782, 434.0323629179163, 11905.942286284844, 4844.418683850741, 1793.6893803106216, 5691.976506397403, 684.6152999303106, 1395.3844530692568, 3084.8486468261917, 5861.172040394475, 3187.997218628878, 1019.8682594439211, 708.7543034020138, 863.5809265271852, 10933.973992373421, 6423.132033506871, 2617.179678781894, 1855.0734954577097, 1369.871663718988, 3204.12967599638, 10958.634306491209, 13691.234040493408, 2508.333089260857, 3256.7825945252753, 17496.238924566696, 12257.929496042201, 3015.9415774515955, 5178.733330767784, 3321.5735061768273, 7703.701949542624, 2888.20502464444, 3179.4805378102647, 3320.0961100983923, 1626.6331059009617, 1728.4435151072844, 2184.8136162319115, 1958.2079421245332, 1972.8676600517972, 13455.224047248792, 12060.74167407776, 8124.507950856757, 5138.046274459913, 4569.246658608034, 4219.728970982162, 2896.1349681231695, 3964.1857969824914, 2208.461692768896, 1572.8001789396578, 1550.7792604877523, 2649.725193951719, 1210.5206972953727, 967.9133458502747, 896.2290432242088, 834.3752997874328, 665.7903254715752, 615.0932222447931, 612.2203328901485, 581.8189810628052, 911.9820973583473, 550.2710268080341, 651.8828995838516, 519.4456157420016, 509.8553070157577, 499.2846599333117, 496.2031752418893, 453.39282727156035, 451.0300781947263, 445.9613384301648, 18387.90978047564, 1820.8457168293621, 8998.747880071962, 4401.91557072066, 1682.508932804198, 2690.0827922444673, 1400.4151709635814, 857.0841199691416, 2751.720101221215, 1417.0326190881326, 1133.0650828157163, 9448.695039383381, 2710.8085382187705, 3396.3901861731993, 4727.439568534922, 2547.2969698122665, 4701.413082077002, 1591.1090858866992, 1679.1827554798876, 3605.251007925051, 4185.0800462153165, 2936.0697017102952, 1728.740050186059, 1830.2074217899603, 1848.1539372678824, 1885.5834363808083, 1821.2760473666517, 6679.040027716574, 486.6900756795926, 455.3206529689144, 444.88928538011356, 438.815662951072, 358.44364036130355, 338.1846876447527, 324.6570866861316, 303.3517148175571, 289.43820336953763, 277.9084430878292, 275.74389797336437, 270.51208014662006, 271.819951223294, 250.05282084763533, 249.1915609091783, 232.6667125517842, 231.07530774391847, 4572.408223852096, 224.3196090224516, 219.65972249213067, 208.63655137068608, 196.2464761239912, 189.00670084553107, 599.3654327023845, 167.48049701487417, 167.34239192147695, 154.49903513559605, 149.99772349164618, 147.84797832933154, 9941.152039449038, 1052.3823793166168, 2020.8991413292495, 41040.41928629246, 32489.05062507094, 1132.7448132049922, 26110.176417495746, 20454.39502025136, 3225.4510433130313, 775.8614630103673, 6160.495952489237, 2321.18725215506, 1011.5043834045345, 1319.1354939638015, 7404.261140649919, 774.4354980432033, 1481.0788216509034, 2086.3938073243044, 1809.0702194347764, 4453.17569591668, 2825.700583637346, 1074.645509591001, 2098.309366922062, 1803.6178336826547, 2195.777043535484, 1375.7499663220767, 2295.367908777363, 2697.500146292406, 1242.312041309569, 1790.690263084539, 2401.192538109573, 1617.8560625351151, 1118.3685961206277, 1080.7151385192722, 994.3345449658733, 8664.766934021975, 910.590192216152, 919.4426974641667, 1772.2652167712195, 802.9952382156941, 838.4376189557526, 724.1980437401078, 671.47516925144, 607.7350086662648, 640.565914596448, 1044.4251912596155, 562.0863634072228, 544.7057270251385, 533.9952976323257, 503.322614308374, 491.0755283489006, 487.25556796340834, 480.87677129145305, 476.04748879269687, 464.639124355035, 449.90223623816377, 449.2944338780753, 442.4989730908809, 435.8892141108718, 421.1738560130028, 2739.467191697935, 2680.2856135329193, 1190.8431273004549, 837.5619210285605, 3333.0122782811786, 1037.4070954061858, 696.3263339103153, 1519.3567865023042, 2321.202692761724, 598.9249162612944, 514.6274706987688, 655.6711860845434, 929.827242621461, 1248.6169269885088, 987.4772986331656, 2717.042145212395, 1484.7939868591977, 721.3030112450972, 1306.6150013033632, 2573.556606388923, 2497.7536809688786, 1486.4880843864578, 1675.4733273355137, 4265.884961506351, 1583.2401066126283, 1096.9358289477384, 1584.4677060127303, 1288.232248245236, 1799.486581958887, 1055.9473325712431, 1287.97975591818, 1158.1312189502478, 1095.7631116802434, 1151.1415996750575, 26514.443801019526, 3306.703525677516, 2570.5110366783447, 1714.6783894171842, 1445.1689419965182, 1315.283073211636, 1129.680524663198, 1129.5490093377123, 1103.9897028001642, 1076.7689395193588, 1069.2588689788522, 1054.9061227200737, 1040.0037999767305, 1033.2571243854493, 1033.2571243854493, 1033.2571243854493, 1033.2571243854493, 726.0424149664243, 676.778713435945, 603.0187976832848, 530.0119132297771, 500.7255108528738, 483.62209428879623, 482.53106254253106, 445.52886208025393, 402.52938095740166, 340.4043593834515, 440.95100753974344, 301.94449032627955, 299.19012304639307, 4829.103115290563, 2697.8484172435597, 748.1357169190838, 2362.8775498961063, 11602.698499757505, 8057.44241609446, 2336.2539995265165, 2208.3910425084846, 1959.349137314139, 1286.754914261992, 2442.488079448662, 1129.323069644896, 1902.8962141524257, 1271.0022873635496, 1093.9340531347473], \"Total\": [83578.0, 26515.0, 64188.0, 38649.0, 46502.0, 52125.0, 32884.0, 26434.0, 22150.0, 23103.0, 18610.0, 19612.0, 94553.0, 21066.0, 13456.0, 12061.0, 16410.0, 53049.0, 15982.0, 11967.0, 12044.0, 18871.0, 8672.0, 29996.0, 14765.0, 12459.0, 10574.0, 8125.0, 9092.0, 8513.0, 1572.456537511224, 1308.0332048130774, 1213.8271445960568, 1018.5561021647811, 866.6627797421849, 826.5811074651538, 817.1067473694083, 689.2449686015991, 666.2573782974108, 657.5125343889016, 607.4196156501736, 586.1446490035647, 554.8523163148645, 549.6612650274702, 542.623521198716, 521.4754772657321, 756.7238623297621, 502.1093575608712, 499.3370493929828, 489.92677042549667, 477.9870924155218, 461.42857460400523, 445.1897895215206, 612.826529140249, 432.8830007038712, 423.40078719839903, 420.0461153640364, 418.50525149057484, 415.8484539698684, 414.5277331971998, 4196.18101644419, 6034.974557014531, 1815.0255576201225, 2848.0356482438915, 938.4702838482765, 713.3655818773972, 528.1883196170756, 5269.046195862085, 1791.4628384638702, 7390.764216913796, 2242.4029308517365, 966.0508053369263, 740.2452131048449, 1507.9656565018051, 4843.42325523355, 1061.5584222651837, 1619.0377885793162, 4152.469459180961, 1985.198371563218, 7893.615113385358, 7151.932212722496, 5907.834039552624, 1803.349197298623, 6138.234214197062, 4075.9144650138505, 1440.2160492042499, 33447.76543532838, 10211.602675819568, 4915.985487754758, 9253.421779458053, 1938.9784234228075, 31975.041409801517, 2342.2365956158596, 9341.20933085042, 11078.223537875318, 7751.614986191062, 14092.455103240252, 15191.529782165982, 16814.527514358604, 6215.777193363771, 6267.149885475583, 16398.366879316847, 16046.14440828234, 23580.796134718672, 26434.714034002005, 7317.476800450548, 29916.676452502226, 26508.45916009483, 13928.420115049525, 94553.9981886397, 21095.423662453457, 34949.47074450426, 53049.98157751667, 52125.576785956575, 18709.332748247034, 21066.072400467034, 16410.237488598195, 12459.597424249363, 8823.98526241036, 7102.769741456142, 6174.276211460856, 6152.076849524373, 5392.704224571907, 2931.5962076403057, 2048.110115285191, 1996.9644142555046, 2582.497509600347, 1531.3880824363325, 1442.3961493973525, 1401.7332085061814, 1335.4183469254665, 1326.1894482210553, 1211.0415408094073, 1087.4186568540702, 1081.757885305148, 1025.6810514751323, 983.9516446709491, 971.9977806660779, 964.1738604045506, 948.8689445106929, 936.5398792022961, 914.1364729826222, 850.3978111219037, 845.0826597270114, 832.1830176211222, 750.1587755443842, 2563.8212683349684, 1148.4016433526558, 3081.5225586569795, 3746.1140056730883, 2750.561642670127, 2776.5759205771515, 5217.478229892157, 6517.982343051853, 2113.858106270545, 6817.65006692495, 20372.010623857917, 5111.584474899995, 46502.53518212617, 2476.258905050977, 94553.9981886397, 34949.47074450426, 18871.88026102049, 29916.676452502226, 4822.297150946788, 16398.366879316847, 31975.041409801517, 13362.639866245141, 19957.065298099016, 52125.576785956575, 23580.796134718672, 38649.409579301544, 33447.76543532838, 29996.261915399897, 10320.368964616426, 64188.83099239865, 6014.969271865324, 5823.506863564992, 9092.665147370533, 2898.0608797519258, 2590.906776646439, 2452.418752583694, 2144.354407069384, 1885.6828261878147, 1617.5641714370477, 1550.7019389595844, 1512.7657375169558, 1464.861496449407, 1275.7903919540774, 1163.687468207483, 1104.6929077294249, 960.7331137220857, 938.4159340053407, 810.2762871112833, 744.8612262453578, 709.7499291328909, 696.5283565242033, 678.033089818175, 645.7751672383089, 636.9389527055083, 621.647349476728, 618.834477509785, 617.2367413867837, 605.5282248224835, 523.6310309212153, 481.5257445088018, 2194.7147379096796, 1943.6463422806903, 1559.2391135927178, 736.5482049090987, 655.6658430173798, 4063.0336904881515, 979.0255074014963, 8976.096783915138, 15982.507323828977, 905.153438331821, 14765.614809261193, 2147.267030052441, 6006.3192511549705, 3685.964746583522, 53049.98157751667, 3620.37959686713, 9233.393475940084, 4822.297150946788, 4565.123929156261, 94553.9981886397, 21066.072400467034, 19816.20044394239, 29996.261915399897, 29916.676452502226, 30326.302237491116, 64188.83099239865, 20372.010623857917, 52125.576785956575, 13577.619046250398, 34949.47074450426, 19957.065298099016, 33447.76543532838, 4405.02620279631, 2996.2988007137005, 2178.406641378946, 2094.101865122194, 2082.4388609352454, 6170.015893494134, 1825.59150462028, 1446.8978299909802, 4490.765891134826, 1214.8040877714272, 1213.3333227647756, 1189.8466471853599, 960.5479351236245, 957.7864378640642, 815.1790943917694, 868.3387582647908, 804.5337799821768, 769.9481211374477, 758.953806527942, 735.5547225827268, 674.4853843028853, 666.1897500350127, 752.9064396505199, 655.4386611159322, 642.7064503747614, 625.1862907653305, 583.5962572795015, 568.3424619677285, 1265.1823140446463, 511.4623770257727, 19612.481751464096, 3130.6558452311056, 1036.7373799037246, 3398.274876233955, 767.7010186058461, 1089.2758729460086, 9598.23603694032, 898.826390612205, 1944.7012527137201, 94553.9981886397, 30326.302237491116, 4149.446068670632, 21095.423662453457, 3259.2661049026483, 1622.4130270130997, 53049.98157751667, 7617.227418652129, 5133.70809692553, 52125.576785956575, 64188.83099239865, 34949.47074450426, 17191.354208620793, 33447.76543532838, 18871.88026102049, 29916.676452502226, 3518.7370905710254, 31975.041409801517, 4868.578751270364, 8253.712389451412, 20372.010623857917, 6857.522512281513, 6702.508266313132, 3427.130983739, 2782.247436237448, 2470.351769639658, 22150.231217650842, 2305.057329670145, 2213.5925545518485, 1265.8113522461697, 1196.9257089006765, 946.5117573302931, 747.367413138204, 708.2220007237514, 644.2986561939576, 562.8109842434625, 556.5342210847656, 552.1871320108033, 527.8863263502271, 476.20147854770875, 449.4524946131897, 724.7508366917465, 424.48338213702243, 420.96132716406055, 415.01981909106627, 344.0649085453846, 400.4550261498319, 326.517348702172, 298.49762801664974, 296.2881471986935, 295.303315573418, 268.5629025728067, 8513.150161814481, 7407.924879028824, 390.58241320119197, 23103.180690533372, 32884.285393347855, 4710.454625784591, 38649.409579301544, 1301.4036111507733, 997.1428395422951, 3164.8685434664935, 4471.233744194875, 4125.624046744817, 3397.618273994015, 1564.6925678743764, 10385.74475072512, 83578.77799657895, 12672.595239382796, 15469.662256671194, 10306.423860906572, 4618.4441553901315, 3842.6113310142227, 7940.5265025480185, 13577.619046250398, 26508.45916009483, 4748.155154779236, 23580.796134718672, 29996.261915399897, 21095.423662453457, 4194.10621476469, 2305.347570421792, 2114.554399635797, 1378.9979493103208, 1363.4742663854279, 1198.401305744557, 1100.2507041513502, 1032.186984305784, 942.5349248744585, 934.5549224309905, 918.5032516925361, 845.1474219859048, 669.63344633162, 677.6252896793104, 589.3411610215743, 7146.289439820644, 566.6118023176515, 554.3236466627693, 674.823416245823, 552.8853004627181, 926.9931254405309, 529.8625817168764, 508.8544854095783, 882.9723670372587, 490.7712766124684, 489.4972386786169, 484.9822809202893, 479.9123783734757, 453.3285568824584, 434.95426928622595, 11967.24271941513, 4892.444815032167, 1797.925488807789, 5781.986037087337, 689.1690126779388, 1427.4444393689205, 3214.5515197873256, 6429.271219881859, 3612.713738774922, 1090.6688876000355, 732.6041828217254, 920.0943057945015, 18871.88026102049, 10600.463105766014, 3581.0749795411193, 2390.581568948151, 1638.8661365728767, 5219.164593891894, 29996.261915399897, 53049.98157751667, 4342.612759940179, 6561.256413777525, 94553.9981886397, 64188.83099239865, 7487.264851234012, 19816.20044394239, 10255.00033307155, 83578.77799657895, 12807.597999994532, 19957.065298099016, 30326.302237491116, 2708.6148159685345, 3604.560286657075, 18709.332748247034, 12044.778730158792, 16814.527514358604, 13456.148902739316, 12061.720736670843, 8125.445212009006, 5138.985089923544, 4570.168324840633, 4220.651325000493, 2897.056528303798, 3965.516759737383, 2209.3888909629472, 1573.7217442335193, 1551.7007960987385, 2651.463620824966, 1211.442249444961, 968.8350213982247, 897.1531577520212, 835.2970670089958, 666.7118533296556, 616.0151419483219, 613.1419696938885, 582.740500817846, 913.4932861991391, 551.1926104717675, 653.0066993812925, 520.367303616106, 510.77756938500727, 500.20636531607045, 497.12471250045854, 454.3145607243635, 451.9517265240589, 446.8839584113394, 18610.39343890024, 1904.7913268475836, 10574.741521970413, 6191.5141797768465, 2279.204362001228, 4250.167272608246, 1848.5966596989767, 989.5406438802263, 4727.84417416985, 1995.5303780438833, 1704.9688864796076, 94553.9981886397, 9233.393475940084, 14765.614809261193, 30326.302237491116, 9919.100058621389, 64188.83099239865, 4070.2717986091825, 5135.192238986914, 52125.576785956575, 83578.77799657895, 53049.98157751667, 7152.375491263151, 13577.619046250398, 17191.354208620793, 34949.47074450426, 26508.45916009483, 6679.968171154702, 487.62065310036087, 456.2484632215308, 445.81690343912067, 439.7432421198875, 359.3711798139338, 339.1126123711238, 325.58891506733175, 304.2793402774954, 290.36575920095606, 278.8364552451758, 276.6721705550885, 271.44018225001497, 272.7962799823651, 250.9808132446546, 250.1192089310366, 233.59432605663986, 232.00286398041482, 4590.957052704298, 225.2480521193902, 220.5877268276032, 209.5641965957976, 197.17413672236276, 189.93427651763284, 602.466200900224, 168.40869179952008, 168.27000200169465, 155.4273385818515, 150.92548103254381, 148.77599497477254, 12044.778730158792, 1210.6326381420151, 2585.536299291368, 83578.77799657895, 64188.83099239865, 1445.923652010638, 52125.576785956575, 46502.53518212617, 7513.181244203613, 1166.7262256864, 18709.332748247034, 5221.246822413856, 1767.0888766998926, 2720.6187089011273, 34949.47074450426, 1395.3475346923194, 4269.565441392134, 7940.5265025480185, 6389.208473472029, 29996.261915399897, 19816.20044394239, 3472.7294634734467, 13928.420115049525, 10306.423860906572, 15982.507323828977, 5867.577178107712, 30326.302237491116, 53049.98157751667, 6006.3192511549705, 19957.065298099016, 2402.10653649146, 1618.782455756155, 1119.2822729314125, 1081.6284647097466, 995.2478706325643, 8672.842206374182, 911.5035106348159, 920.416587789534, 1774.1469730405972, 803.9086048344901, 839.4118223198528, 725.1115905361132, 672.3888937678303, 608.6485384377182, 641.5310363713512, 1046.0759937914636, 562.9997681081808, 545.6197596559402, 534.9086811792184, 504.23606353874317, 491.9889809287953, 488.16906472639783, 481.79024278299863, 476.9608919730552, 465.55264033334845, 450.815674039522, 450.21231994855196, 443.4124576111524, 436.8337208281255, 422.0873038400593, 2746.8904797032696, 2707.410657880816, 1193.5984586595353, 840.0545419494173, 3391.932052278075, 1045.2391221831806, 699.2584343209837, 1538.4526498978307, 2373.4617870853735, 601.7740283597834, 515.959595530913, 669.3789040242393, 979.3747324466194, 1365.3616178700497, 1070.8903839912243, 3497.505407609038, 1761.6464482054064, 748.8955886553099, 1611.2806235218454, 4080.200247839783, 4207.724070045822, 2044.0204445265829, 3280.1303900317844, 46502.53518212617, 4518.238455441196, 1813.049236735554, 5709.662003562327, 3685.964746583522, 18709.332748247034, 1970.0027172670884, 20372.010623857917, 8104.980542338561, 4968.336998201273, 29916.676452502226, 26515.83982509017, 3307.6160027888723, 2571.4235759547537, 1715.6058500043405, 1446.0870846079376, 1316.1956574986023, 1130.5929950598306, 1130.4614695766693, 1104.9021724282688, 1077.681399697752, 1070.1713263957945, 1055.8185812319398, 1040.9162568518861, 1034.1695809963196, 1034.16958101333, 1034.1695810182591, 1034.1695810182591, 726.9550746005481, 677.6912492913452, 603.9313675518513, 530.9245286360574, 501.63801053824983, 484.53464591667415, 483.44383460865737, 446.45760683711404, 403.44218975541577, 341.31701346576176, 442.1845083558164, 302.8571127651369, 300.1026944025475, 4878.182651157372, 3000.8214203204025, 856.2782155829474, 3577.754223140628, 26434.714034002005, 21066.072400467034, 5554.883774695592, 7940.5265025480185, 7328.041416319097, 4134.420927093721, 19816.20044394239, 3944.0003242457487, 32884.285393347855, 15191.529782165982, 8022.605788833778], \"Category\": [\"Default\", \"Default\", \"Default\", \"Default\", \"Default\", \"Default\", \"Default\", \"Default\", \"Default\", \"Default\", \"Default\", \"Default\", \"Default\", \"Default\", \"Default\", \"Default\", \"Default\", \"Default\", \"Default\", \"Default\", \"Default\", \"Default\", \"Default\", \"Default\", \"Default\", \"Default\", \"Default\", \"Default\", \"Default\", \"Default\", \"Topic1\", \"Topic1\", \"Topic1\", \"Topic1\", \"Topic1\", \"Topic1\", \"Topic1\", \"Topic1\", \"Topic1\", \"Topic1\", \"Topic1\", \"Topic1\", \"Topic1\", \"Topic1\", \"Topic1\", \"Topic1\", \"Topic1\", \"Topic1\", \"Topic1\", \"Topic1\", \"Topic1\", \"Topic1\", \"Topic1\", \"Topic1\", \"Topic1\", \"Topic1\", \"Topic1\", \"Topic1\", \"Topic1\", \"Topic1\", \"Topic1\", \"Topic1\", \"Topic1\", \"Topic1\", \"Topic1\", \"Topic1\", \"Topic1\", \"Topic1\", \"Topic1\", \"Topic1\", \"Topic1\", \"Topic1\", \"Topic1\", \"Topic1\", \"Topic1\", \"Topic1\", \"Topic1\", \"Topic1\", \"Topic1\", \"Topic1\", \"Topic1\", \"Topic1\", \"Topic1\", \"Topic1\", \"Topic1\", \"Topic1\", \"Topic1\", \"Topic1\", \"Topic1\", \"Topic1\", \"Topic1\", \"Topic1\", \"Topic1\", \"Topic1\", \"Topic1\", \"Topic1\", \"Topic1\", \"Topic1\", \"Topic1\", \"Topic1\", \"Topic1\", \"Topic1\", \"Topic1\", \"Topic1\", \"Topic1\", \"Topic1\", \"Topic1\", \"Topic1\", \"Topic1\", \"Topic1\", \"Topic1\", \"Topic1\", \"Topic1\", \"Topic1\", \"Topic1\", \"Topic1\", \"Topic2\", \"Topic2\", \"Topic2\", \"Topic2\", \"Topic2\", \"Topic2\", \"Topic2\", \"Topic2\", \"Topic2\", \"Topic2\", \"Topic2\", \"Topic2\", \"Topic2\", \"Topic2\", \"Topic2\", \"Topic2\", \"Topic2\", \"Topic2\", \"Topic2\", \"Topic2\", \"Topic2\", \"Topic2\", \"Topic2\", \"Topic2\", \"Topic2\", \"Topic2\", \"Topic2\", \"Topic2\", \"Topic2\", \"Topic2\", \"Topic2\", \"Topic2\", \"Topic2\", \"Topic2\", \"Topic2\", \"Topic2\", \"Topic2\", \"Topic2\", \"Topic2\", \"Topic2\", \"Topic2\", \"Topic2\", \"Topic2\", \"Topic2\", \"Topic2\", \"Topic2\", \"Topic2\", \"Topic2\", \"Topic2\", \"Topic2\", \"Topic2\", \"Topic2\", \"Topic2\", \"Topic2\", \"Topic2\", \"Topic2\", \"Topic2\", \"Topic2\", \"Topic2\", \"Topic2\", \"Topic3\", \"Topic3\", \"Topic3\", \"Topic3\", \"Topic3\", \"Topic3\", \"Topic3\", \"Topic3\", \"Topic3\", \"Topic3\", \"Topic3\", \"Topic3\", \"Topic3\", \"Topic3\", \"Topic3\", \"Topic3\", \"Topic3\", \"Topic3\", \"Topic3\", \"Topic3\", \"Topic3\", \"Topic3\", \"Topic3\", \"Topic3\", \"Topic3\", \"Topic3\", \"Topic3\", \"Topic3\", \"Topic3\", \"Topic3\", \"Topic3\", \"Topic3\", \"Topic3\", \"Topic3\", \"Topic3\", \"Topic3\", \"Topic3\", \"Topic3\", \"Topic3\", \"Topic3\", \"Topic3\", \"Topic3\", \"Topic3\", \"Topic3\", \"Topic3\", \"Topic3\", \"Topic3\", \"Topic3\", \"Topic3\", \"Topic3\", \"Topic3\", \"Topic3\", \"Topic3\", \"Topic3\", \"Topic3\", \"Topic3\", \"Topic3\", \"Topic3\", \"Topic3\", \"Topic3\", \"Topic3\", \"Topic3\", \"Topic4\", \"Topic4\", \"Topic4\", \"Topic4\", \"Topic4\", \"Topic4\", \"Topic4\", \"Topic4\", \"Topic4\", \"Topic4\", \"Topic4\", \"Topic4\", \"Topic4\", \"Topic4\", \"Topic4\", \"Topic4\", \"Topic4\", \"Topic4\", \"Topic4\", \"Topic4\", \"Topic4\", \"Topic4\", \"Topic4\", \"Topic4\", \"Topic4\", \"Topic4\", \"Topic4\", \"Topic4\", \"Topic4\", \"Topic4\", \"Topic4\", \"Topic4\", \"Topic4\", \"Topic4\", \"Topic4\", \"Topic4\", \"Topic4\", \"Topic4\", \"Topic4\", \"Topic4\", \"Topic4\", \"Topic4\", \"Topic4\", \"Topic4\", \"Topic4\", \"Topic4\", \"Topic4\", \"Topic4\", \"Topic4\", \"Topic4\", \"Topic4\", \"Topic4\", \"Topic4\", \"Topic4\", \"Topic4\", \"Topic4\", \"Topic4\", \"Topic4\", \"Topic4\", \"Topic4\", \"Topic4\", \"Topic5\", \"Topic5\", \"Topic5\", \"Topic5\", \"Topic5\", \"Topic5\", \"Topic5\", \"Topic5\", \"Topic5\", \"Topic5\", \"Topic5\", \"Topic5\", \"Topic5\", \"Topic5\", \"Topic5\", \"Topic5\", \"Topic5\", \"Topic5\", \"Topic5\", \"Topic5\", \"Topic5\", \"Topic5\", \"Topic5\", \"Topic5\", \"Topic5\", \"Topic5\", \"Topic5\", \"Topic5\", \"Topic5\", \"Topic5\", \"Topic5\", \"Topic5\", \"Topic5\", \"Topic5\", \"Topic5\", \"Topic5\", \"Topic5\", \"Topic5\", \"Topic5\", \"Topic5\", \"Topic5\", \"Topic5\", \"Topic5\", \"Topic5\", \"Topic5\", \"Topic5\", \"Topic5\", \"Topic5\", \"Topic5\", \"Topic5\", \"Topic5\", \"Topic5\", \"Topic5\", \"Topic5\", \"Topic5\", \"Topic5\", \"Topic5\", \"Topic5\", \"Topic6\", \"Topic6\", \"Topic6\", \"Topic6\", \"Topic6\", \"Topic6\", \"Topic6\", \"Topic6\", \"Topic6\", \"Topic6\", \"Topic6\", \"Topic6\", \"Topic6\", \"Topic6\", \"Topic6\", \"Topic6\", \"Topic6\", \"Topic6\", \"Topic6\", \"Topic6\", \"Topic6\", \"Topic6\", \"Topic6\", \"Topic6\", \"Topic6\", \"Topic6\", \"Topic6\", \"Topic6\", \"Topic6\", \"Topic6\", \"Topic6\", \"Topic6\", \"Topic6\", \"Topic6\", \"Topic6\", \"Topic6\", \"Topic6\", \"Topic6\", \"Topic6\", \"Topic6\", \"Topic6\", \"Topic6\", \"Topic6\", \"Topic6\", \"Topic6\", \"Topic6\", \"Topic6\", \"Topic6\", \"Topic6\", \"Topic6\", \"Topic6\", \"Topic6\", \"Topic6\", \"Topic6\", \"Topic6\", \"Topic6\", \"Topic6\", \"Topic6\", \"Topic6\", \"Topic6\", \"Topic6\", \"Topic6\", \"Topic6\", \"Topic6\", \"Topic6\", \"Topic6\", \"Topic7\", \"Topic7\", \"Topic7\", \"Topic7\", \"Topic7\", \"Topic7\", \"Topic7\", \"Topic7\", \"Topic7\", \"Topic7\", \"Topic7\", \"Topic7\", \"Topic7\", \"Topic7\", \"Topic7\", \"Topic7\", \"Topic7\", \"Topic7\", \"Topic7\", \"Topic7\", \"Topic7\", \"Topic7\", \"Topic7\", \"Topic7\", \"Topic7\", \"Topic7\", \"Topic7\", \"Topic7\", \"Topic7\", \"Topic7\", \"Topic7\", \"Topic7\", \"Topic7\", \"Topic7\", \"Topic7\", \"Topic7\", \"Topic7\", \"Topic7\", \"Topic7\", \"Topic7\", \"Topic7\", \"Topic7\", \"Topic7\", \"Topic7\", \"Topic7\", \"Topic7\", \"Topic7\", \"Topic7\", \"Topic7\", \"Topic7\", \"Topic7\", \"Topic7\", \"Topic7\", \"Topic7\", \"Topic7\", \"Topic7\", \"Topic7\", \"Topic8\", \"Topic8\", \"Topic8\", \"Topic8\", \"Topic8\", \"Topic8\", \"Topic8\", \"Topic8\", \"Topic8\", \"Topic8\", \"Topic8\", \"Topic8\", \"Topic8\", \"Topic8\", \"Topic8\", \"Topic8\", \"Topic8\", \"Topic8\", \"Topic8\", \"Topic8\", \"Topic8\", \"Topic8\", \"Topic8\", \"Topic8\", \"Topic8\", \"Topic8\", \"Topic8\", \"Topic8\", \"Topic8\", \"Topic8\", \"Topic8\", \"Topic8\", \"Topic8\", \"Topic8\", \"Topic8\", \"Topic8\", \"Topic8\", \"Topic8\", \"Topic8\", \"Topic8\", \"Topic8\", \"Topic8\", \"Topic8\", \"Topic8\", \"Topic8\", \"Topic8\", \"Topic8\", \"Topic8\", \"Topic8\", \"Topic8\", \"Topic8\", \"Topic8\", \"Topic8\", \"Topic8\", \"Topic8\", \"Topic8\", \"Topic8\", \"Topic8\", \"Topic8\", \"Topic8\", \"Topic9\", \"Topic9\", \"Topic9\", \"Topic9\", \"Topic9\", \"Topic9\", \"Topic9\", \"Topic9\", \"Topic9\", \"Topic9\", \"Topic9\", \"Topic9\", \"Topic9\", \"Topic9\", \"Topic9\", \"Topic9\", \"Topic9\", \"Topic9\", \"Topic9\", \"Topic9\", \"Topic9\", \"Topic9\", \"Topic9\", \"Topic9\", \"Topic9\", \"Topic9\", \"Topic9\", \"Topic9\", \"Topic9\", \"Topic9\", \"Topic9\", \"Topic9\", \"Topic9\", \"Topic9\", \"Topic9\", \"Topic9\", \"Topic9\", \"Topic9\", \"Topic9\", \"Topic9\", \"Topic9\", \"Topic9\", \"Topic9\", \"Topic9\", \"Topic9\", \"Topic9\", \"Topic9\", \"Topic9\", \"Topic9\", \"Topic9\", \"Topic9\", \"Topic9\", \"Topic9\", \"Topic9\", \"Topic9\", \"Topic9\", \"Topic9\", \"Topic9\", \"Topic9\", \"Topic9\", \"Topic9\", \"Topic9\", \"Topic9\", \"Topic9\", \"Topic10\", \"Topic10\", \"Topic10\", \"Topic10\", \"Topic10\", \"Topic10\", \"Topic10\", \"Topic10\", \"Topic10\", \"Topic10\", \"Topic10\", \"Topic10\", \"Topic10\", \"Topic10\", \"Topic10\", \"Topic10\", \"Topic10\", \"Topic10\", \"Topic10\", \"Topic10\", \"Topic10\", \"Topic10\", \"Topic10\", \"Topic10\", \"Topic10\", \"Topic10\", \"Topic10\", \"Topic10\", \"Topic10\", \"Topic10\", \"Topic10\", \"Topic10\", \"Topic10\", \"Topic10\", \"Topic10\", \"Topic10\", \"Topic10\", \"Topic10\", \"Topic10\", \"Topic10\", \"Topic10\", \"Topic10\", \"Topic10\", \"Topic10\", \"Topic10\"], \"logprob\": [30.0, 29.0, 28.0, 27.0, 26.0, 25.0, 24.0, 23.0, 22.0, 21.0, 20.0, 19.0, 18.0, 17.0, 16.0, 15.0, 14.0, 13.0, 12.0, 11.0, 10.0, 9.0, 8.0, 7.0, 6.0, 5.0, 4.0, 3.0, 2.0, 1.0, -6.3596, -6.5438, -6.6186, -6.7941, -6.9558, -7.0032, -7.0147, -7.1851, -7.2191, -7.2323, -7.3117, -7.3474, -7.4023, -7.4117, -7.4246, -7.4645, -7.0922, -7.5024, -7.5079, -7.527, -7.5517, -7.587, -7.6229, -7.3033, -7.651, -7.6732, -7.6812, -7.6849, -7.6913, -7.6944, -5.3799, -5.0274, -6.2196, -5.7796, -6.8789, -7.1518, -7.4528, -5.1781, -6.2546, -4.8751, -6.0415, -6.8627, -7.1237, -6.4399, -5.3371, -6.7847, -6.3875, -5.512, -6.2024, -4.9319, -5.0489, -5.2288, -6.3112, -5.2037, -5.5748, -6.517, -3.7326, -4.8152, -5.4538, -4.9146, -6.261, -3.8633, -6.1041, -4.9793, -4.8469, -5.1477, -4.6785, -4.6342, -4.5856, -5.3628, -5.3601, -4.7031, -4.7459, -4.5328, -4.4786, -5.3187, -4.5282, -4.6334, -4.9751, -4.2047, -4.8936, -4.7808, -4.6529, -4.798, -5.0667, -5.1966, -3.6403, -3.9157, -4.2607, -4.4778, -4.6179, -4.6215, -4.7532, -5.3629, -5.7216, -5.7469, -5.4898, -6.0125, -6.0724, -6.1011, -6.1496, -6.1565, -6.2474, -6.3551, -6.3604, -6.4137, -6.4552, -6.4675, -6.4756, -6.4916, -6.5047, -6.5289, -6.6012, -6.6075, -6.6229, -6.7268, -5.5031, -6.3013, -5.3306, -5.1452, -5.4921, -5.5107, -4.9628, -4.815, -5.7931, -4.7987, -3.9447, -5.1103, -3.359, -5.7011, -3.5943, -4.4551, -4.8343, -4.6351, -5.5831, -5.1377, -4.9295, -5.2344, -5.116, -4.9677, -5.1808, -5.1909, -5.2392, -5.2622, -5.3779, -5.3491, -4.2465, -4.2789, -3.8334, -4.9769, -5.089, -5.1439, -5.2782, -5.4068, -5.5603, -5.6025, -5.6273, -5.6595, -5.7978, -5.8898, -5.9419, -6.0816, -6.1052, -6.2521, -6.3364, -6.3848, -6.4036, -6.4305, -6.4793, -6.4931, -6.5175, -6.522, -6.5246, -6.5438, -6.6893, -6.7733, -5.2598, -5.3825, -5.6018, -6.3484, -6.4648, -4.6682, -6.0717, -3.9529, -3.417, -6.1605, -3.6098, -5.4974, -4.7035, -5.1953, -3.4244, -5.3003, -4.7497, -5.1517, -5.2197, -3.5684, -4.4188, -4.5686, -4.3884, -4.3967, -4.5083, -4.2954, -4.6985, -4.5614, -5.1814, -5.1103, -5.1693, -5.2408, -4.4732, -4.8587, -5.1776, -5.2171, -5.2226, -4.1365, -5.3543, -5.587, -4.4545, -5.7619, -5.7631, -5.7827, -5.997, -5.9998, -6.1612, -6.0981, -6.1744, -6.2184, -6.2328, -6.2641, -6.3509, -6.3633, -6.2409, -6.3796, -6.3992, -6.4269, -6.4959, -6.5224, -5.7223, -6.628, -2.9817, -4.8236, -5.9364, -4.8043, -6.2309, -5.9221, -4.0303, -6.106, -5.4542, -2.7924, -3.6114, -5.0697, -4.1321, -5.3516, -5.7616, -3.7445, -4.9111, -5.1451, -4.1743, -4.1947, -4.4721, -4.7912, -4.5376, -4.8689, -4.7885, -5.4454, -4.8747, -5.3783, -5.2914, -5.1775, -5.35, -3.9725, -4.6434, -4.8519, -4.9708, -2.7773, -5.0401, -5.0806, -5.6398, -5.6958, -5.9307, -6.1672, -6.2211, -6.3158, -6.4512, -6.4625, -6.4703, -6.5154, -6.6186, -6.6766, -6.1989, -6.7338, -6.7422, -6.7564, -6.9444, -6.7927, -6.9969, -7.0869, -7.0943, -7.0977, -7.1929, -3.7397, -3.8969, -6.8197, -2.7815, -2.4752, -4.3976, -2.3575, -5.6793, -5.945, -4.8871, -4.5873, -4.6836, -4.8785, -5.627, -4.094, -2.5299, -4.0309, -3.9768, -4.2829, -4.8662, -5.0341, -4.5849, -4.3663, -3.9928, -4.9854, -4.2214, -4.2156, -4.5967, -4.3757, -4.9743, -5.0607, -5.4885, -5.4998, -5.6289, -5.7144, -5.7784, -5.8693, -5.8778, -5.8952, -5.9786, -6.2116, -6.1998, -6.3395, -3.8442, -6.3789, -6.4008, -6.2041, -6.4034, -5.8867, -6.446, -6.4866, -5.9354, -6.5228, -6.5254, -6.5347, -6.5452, -6.6023, -6.6438, -3.3321, -4.2313, -5.2249, -4.0701, -6.188, -5.476, -4.6826, -4.0408, -4.6498, -5.7895, -6.1534, -5.9558, -3.4173, -3.9492, -4.8471, -5.1912, -5.4944, -4.6447, -3.415, -3.1924, -4.8895, -4.6284, -2.9472, -3.303, -4.7052, -4.1646, -4.6087, -3.7674, -4.7485, -4.6524, -4.6092, -5.3226, -5.2619, -5.0276, -5.1371, -5.1297, -3.171, -3.2804, -3.6755, -4.1337, -4.251, -4.3306, -4.707, -4.3931, -4.9781, -5.3175, -5.3316, -4.7959, -5.5793, -5.803, -5.8799, -5.9514, -6.1771, -6.2563, -6.261, -6.312, -5.8625, -6.3677, -6.1983, -6.4254, -6.444, -6.4649, -6.4711, -6.5614, -6.5666, -6.5779, -2.8587, -5.1711, -3.5733, -4.2883, -5.2501, -4.7808, -5.4336, -5.9246, -4.7581, -5.4218, -5.6454, -3.5245, -4.7731, -4.5477, -4.217, -4.8353, -4.2225, -5.3059, -5.2521, -4.488, -4.3388, -4.6933, -5.223, -5.1659, -5.1562, -5.1361, -5.1708, -3.5764, -6.1955, -6.2621, -6.2853, -6.2991, -6.5014, -6.5596, -6.6004, -6.6682, -6.7152, -6.7559, -6.7637, -6.7828, -6.778, -6.8615, -6.8649, -6.9335, -6.9404, -3.9553, -6.9701, -6.9911, -7.0425, -7.1038, -7.1414, -5.9873, -7.2623, -7.2631, -7.343, -7.3725, -7.387, -3.1787, -5.4243, -4.7718, -1.7608, -1.9945, -5.3507, -2.2131, -2.4572, -4.3043, -5.7292, -3.6572, -4.6333, -5.4639, -5.1984, -3.4733, -5.731, -5.0826, -4.74, -4.8826, -3.9818, -4.4366, -5.4034, -4.7343, -4.8856, -4.6889, -5.1564, -4.6445, -4.4831, -5.2584, -4.8928, -4.3461, -4.7409, -5.1102, -5.1444, -5.2277, -3.0628, -5.3157, -5.306, -4.6498, -5.4414, -5.3983, -5.5447, -5.6203, -5.7201, -5.6674, -5.1786, -5.7981, -5.8296, -5.8494, -5.9086, -5.9332, -5.941, -5.9542, -5.9643, -5.9885, -6.0208, -6.0221, -6.0374, -6.0524, -6.0868, -4.2143, -4.2361, -5.0474, -5.3993, -4.0182, -5.1853, -5.584, -4.8038, -4.38, -5.7347, -5.8864, -5.6441, -5.2948, -5.0, -5.2346, -4.2225, -4.8268, -5.5487, -4.9546, -4.2768, -4.3066, -4.8256, -4.7059, -3.7714, -4.7626, -5.1295, -4.7618, -4.9688, -4.6345, -5.1676, -4.969, -5.0752, -5.1306, -5.0813, -1.591, -3.6727, -3.9246, -4.3295, -4.5005, -4.5946, -4.7468, -4.7469, -4.7698, -4.7947, -4.8017, -4.8152, -4.8295, -4.836, -4.836, -4.836, -4.836, -5.1888, -5.2591, -5.3745, -5.5035, -5.5604, -5.5951, -5.5974, -5.6772, -5.7787, -5.9463, -5.6875, -6.0662, -6.0754, -3.294, -3.8762, -5.1589, -4.0088, -2.4175, -2.7821, -4.0201, -4.0764, -4.1961, -4.6166, -3.9757, -4.7471, -4.2253, -4.6289, -4.7789], \"loglift\": [30.0, 29.0, 28.0, 27.0, 26.0, 25.0, 24.0, 23.0, 22.0, 21.0, 20.0, 19.0, 18.0, 17.0, 16.0, 15.0, 14.0, 13.0, 12.0, 11.0, 10.0, 9.0, 8.0, 7.0, 6.0, 5.0, 4.0, 3.0, 2.0, 1.0, 1.4575, 1.4574, 1.4573, 1.4572, 1.457, 1.457, 1.457, 1.4568, 1.4567, 1.4567, 1.4566, 1.4565, 1.4564, 1.4564, 1.4564, 1.4563, 1.4563, 1.4563, 1.4563, 1.4562, 1.4562, 1.4561, 1.456, 1.456, 1.456, 1.4559, 1.4559, 1.4559, 1.4559, 1.4559, 1.4556, 1.4448, 1.4541, 1.4434, 1.4543, 1.4557, 1.4552, 1.4298, 1.4321, 1.3943, 1.4206, 1.4415, 1.4468, 1.4191, 1.355, 1.4252, 1.4004, 1.334, 1.3816, 1.2717, 1.2534, 1.2647, 1.3689, 1.2515, 1.2898, 1.3879, 1.0272, 1.1309, 1.2234, 1.1301, 1.3466, 0.9414, 1.3145, 1.056, 1.0178, 1.0741, 0.9456, 0.9147, 0.8618, 1.0798, 1.0743, 0.7694, 0.7484, 0.5765, 0.5164, 0.9607, 0.3431, 0.3589, 0.6607, -0.4841, 0.3271, -0.065, -0.3544, -0.482, 0.274, 0.0254, 1.8315, 1.8315, 1.8315, 1.8315, 1.8314, 1.8314, 1.8314, 1.8313, 1.8311, 1.8311, 1.8311, 1.831, 1.831, 1.8309, 1.8309, 1.8309, 1.8308, 1.8307, 1.8307, 1.8307, 1.8307, 1.8306, 1.8306, 1.8306, 1.8306, 1.8306, 1.8305, 1.8305, 1.8305, 1.8304, 1.8251, 1.8301, 1.8136, 1.8038, 1.7658, 1.7378, 1.6549, 1.5801, 1.7281, 1.5515, 1.3108, 1.5279, 1.0712, 1.6618, 0.1262, 0.2607, 0.4978, 0.2362, 1.1134, 0.3348, -0.1248, 0.4429, 0.1601, -0.6516, -0.0715, -0.5757, -0.4795, -0.3935, 0.5577, -1.2413, 2.2289, 2.2289, 2.2289, 2.2288, 2.2287, 2.2287, 2.2287, 2.2286, 2.2285, 2.2285, 2.2285, 2.2285, 2.2284, 2.2283, 2.2283, 2.2281, 2.2281, 2.228, 2.2279, 2.2278, 2.2278, 2.2277, 2.2277, 2.2276, 2.2276, 2.2276, 2.2276, 2.2276, 2.2273, 2.2272, 2.2238, 2.2226, 2.2237, 2.2271, 2.227, 2.1996, 2.2192, 2.1222, 2.0812, 2.2088, 1.9676, 2.0081, 1.7734, 1.7698, 0.8741, 1.6828, 1.2972, 1.5448, 1.5316, 0.1521, 0.8032, 0.7146, 0.4803, 0.4746, 0.3494, -0.1875, 0.557, -0.2453, 0.4799, -0.3945, 0.1068, -0.4811, 2.3137, 2.3137, 2.3135, 2.3135, 2.3135, 2.3135, 2.3135, 2.3133, 2.3132, 2.3132, 2.3132, 2.3132, 2.313, 2.313, 2.3128, 2.3128, 2.3128, 2.3128, 2.3127, 2.3127, 2.3126, 2.3126, 2.3126, 2.3125, 2.3125, 2.3125, 2.3124, 2.3123, 2.3122, 2.3122, 2.3118, 2.3049, 2.2973, 2.2422, 2.3032, 2.2621, 1.9778, 2.2704, 2.1504, 0.9281, 1.2463, 1.777, 1.0886, 1.7366, 2.0241, 0.554, 1.3282, 1.4888, 0.1418, -0.0868, 0.2437, 0.6341, 0.2221, 0.4632, 0.0828, 1.5662, -0.07, 1.3086, 0.8677, 0.0781, 0.9943, 2.3947, 2.3946, 2.3946, 2.3945, 2.3945, 2.3945, 2.3945, 2.3942, 2.3941, 2.3939, 2.3937, 2.3936, 2.3935, 2.3933, 2.3933, 2.3932, 2.3932, 2.393, 2.3929, 2.3928, 2.3927, 2.3927, 2.3927, 2.3922, 2.3922, 2.3921, 2.3918, 2.3918, 2.3918, 2.3915, 2.3884, 2.3703, 2.3901, 2.3482, 2.3016, 2.3223, 2.2577, 2.327, 2.3276, 2.2305, 2.1847, 2.1689, 2.1681, 2.195, 1.8352, 1.314, 1.6994, 1.554, 1.6541, 1.8735, 1.8894, 1.6128, 1.295, 0.9995, 1.7265, 0.8879, 0.6531, 0.624, 2.4603, 2.4602, 2.4601, 2.4599, 2.4599, 2.4598, 2.4597, 2.4597, 2.4596, 2.4596, 2.4596, 2.4594, 2.4592, 2.4591, 2.459, 2.4589, 2.4589, 2.4589, 2.4589, 2.4589, 2.4588, 2.4588, 2.4587, 2.4587, 2.4587, 2.4587, 2.4587, 2.4586, 2.4585, 2.4584, 2.4554, 2.4507, 2.4582, 2.4449, 2.4539, 2.4378, 2.4194, 2.368, 2.3355, 2.3934, 2.4275, 2.3972, 1.9148, 1.9596, 2.147, 2.2069, 2.2813, 1.9727, 1.4536, 1.1061, 1.9117, 1.7601, 0.7734, 0.8049, 1.5513, 1.1186, 1.3332, 0.0765, 0.9712, 0.6237, 0.2485, 1.9506, 1.7256, 0.3131, 0.644, 0.3178, 2.4993, 2.4993, 2.4992, 2.4992, 2.4991, 2.4991, 2.499, 2.499, 2.4989, 2.4988, 2.4987, 2.4987, 2.4986, 2.4984, 2.4983, 2.4982, 2.498, 2.4978, 2.4978, 2.4978, 2.4977, 2.4977, 2.4976, 2.4976, 2.4975, 2.4975, 2.4975, 2.4973, 2.4973, 2.4973, 2.4873, 2.4543, 2.338, 2.1582, 2.1958, 2.042, 2.2217, 2.3556, 1.9581, 2.157, 2.0907, 0.196, 1.2738, 1.0298, 0.6407, 1.1399, -0.1146, 1.5601, 1.3815, -0.1719, -0.4949, -0.3948, 1.0793, 0.4953, 0.2691, -0.4203, -0.1786, 2.7942, 2.7924, 2.7923, 2.7922, 2.7922, 2.7917, 2.7916, 2.7915, 2.7913, 2.7911, 2.791, 2.791, 2.7909, 2.7907, 2.7906, 2.7906, 2.7903, 2.7903, 2.7903, 2.7902, 2.7901, 2.7899, 2.7896, 2.7894, 2.7892, 2.7888, 2.7888, 2.7883, 2.7882, 2.7881, 2.6024, 2.6542, 2.5479, 2.0831, 2.1134, 2.5502, 2.103, 1.973, 1.9487, 2.3863, 1.6835, 1.9837, 2.2364, 2.0704, 1.2425, 2.2056, 1.7356, 1.4578, 1.5325, 0.8869, 0.8466, 1.6214, 0.9015, 1.0513, 0.8094, 1.3439, 0.2132, -0.1846, 1.2185, 0.3833, 3.0473, 3.0471, 3.0468, 3.0468, 3.0467, 3.0467, 3.0467, 3.0466, 3.0466, 3.0465, 3.0465, 3.0464, 3.0463, 3.0462, 3.0462, 3.0461, 3.046, 3.046, 3.046, 3.0459, 3.0458, 3.0458, 3.0458, 3.0457, 3.0457, 3.0456, 3.0456, 3.0456, 3.0455, 3.0455, 3.045, 3.0376, 3.0454, 3.0447, 3.0301, 3.0401, 3.0435, 3.0352, 3.0254, 3.0429, 3.0451, 3.027, 2.9957, 2.9583, 2.9666, 2.7952, 2.8767, 3.0101, 2.8381, 2.5868, 2.5261, 2.7292, 2.3759, 0.6588, 1.999, 2.5452, 1.7658, 1.9964, 0.7061, 2.4241, 0.2866, 1.102, 1.536, -0.21, 3.401, 3.4007, 3.4007, 3.4005, 3.4004, 3.4003, 3.4002, 3.4002, 3.4002, 3.4002, 3.4002, 3.4001, 3.4001, 3.4001, 3.4001, 3.4001, 3.4001, 3.3998, 3.3997, 3.3995, 3.3993, 3.3992, 3.3991, 3.3991, 3.3989, 3.3987, 3.3983, 3.3982, 3.398, 3.398, 3.3909, 3.2946, 3.266, 2.9862, 2.5776, 2.4399, 2.5349, 2.1213, 2.0819, 2.2338, 1.3075, 2.1504, 0.5514, 0.9201, 1.4085]}, \"token.table\": {\"Topic\": [8, 2, 3, 9, 5, 1, 2, 3, 4, 6, 8, 9, 8, 2, 6, 9, 6, 10, 2, 3, 4, 9, 6, 9, 10, 2, 5, 1, 2, 4, 7, 6, 2, 3, 1, 2, 3, 4, 5, 6, 7, 9, 10, 9, 1, 2, 3, 4, 5, 6, 7, 9, 4, 7, 1, 2, 3, 4, 6, 7, 10, 8, 1, 5, 8, 5, 8, 2, 6, 10, 7, 2, 1, 2, 5, 6, 8, 1, 2, 4, 7, 9, 8, 1, 2, 3, 4, 5, 6, 7, 8, 9, 10, 1, 2, 3, 4, 6, 7, 9, 1, 3, 3, 3, 9, 3, 5, 3, 8, 2, 3, 4, 6, 8, 9, 1, 2, 3, 4, 5, 6, 7, 9, 1, 2, 3, 4, 5, 6, 7, 9, 8, 10, 6, 2, 9, 4, 2, 6, 2, 8, 7, 9, 2, 3, 9, 7, 7, 2, 6, 10, 1, 4, 7, 9, 1, 1, 2, 4, 6, 9, 10, 3, 2, 3, 8, 9, 2, 7, 2, 9, 2, 1, 10, 1, 7, 1, 2, 3, 4, 5, 6, 7, 8, 9, 10, 3, 6, 5, 2, 4, 6, 1, 2, 4, 1, 2, 3, 7, 9, 10, 1, 1, 3, 5, 8, 2, 3, 1, 4, 1, 3, 4, 6, 8, 4, 10, 3, 5, 1, 2, 6, 7, 9, 10, 3, 1, 2, 3, 4, 6, 7, 9, 9, 1, 2, 4, 6, 7, 9, 10, 1, 2, 3, 7, 9, 4, 9, 3, 10, 2, 4, 8, 9, 10, 1, 2, 3, 5, 6, 8, 9, 9, 4, 9, 1, 2, 3, 4, 5, 6, 7, 8, 9, 10, 2, 3, 7, 1, 1, 2, 5, 8, 6, 1, 2, 10, 1, 3, 9, 1, 2, 3, 4, 5, 6, 7, 9, 6, 1, 2, 4, 9, 6, 8, 10, 8, 1, 2, 3, 4, 5, 6, 7, 8, 9, 10, 4, 1, 2, 3, 4, 6, 7, 9, 6, 4, 3, 9, 3, 1, 8, 1, 2, 3, 4, 5, 7, 10, 4, 7, 6, 4, 7, 8, 4, 2, 9, 10, 1, 2, 3, 4, 5, 6, 7, 8, 10, 1, 2, 4, 5, 7, 6, 5, 5, 5, 8, 4, 1, 2, 3, 4, 6, 7, 9, 10, 4, 6, 8, 8, 5, 1, 8, 10, 1, 2, 6, 1, 4, 1, 2, 6, 5, 4, 8, 9, 3, 1, 2, 3, 4, 5, 6, 7, 8, 9, 10, 1, 2, 3, 4, 6, 7, 9, 1, 3, 8, 6, 4, 6, 7, 7, 1, 2, 3, 4, 6, 7, 9, 10, 4, 6, 2, 8, 1, 2, 3, 4, 6, 7, 1, 4, 5, 8, 9, 10, 2, 5, 7, 2, 4, 5, 8, 2, 10, 1, 4, 7, 9, 9, 2, 3, 10, 5, 1, 2, 3, 4, 5, 6, 7, 8, 9, 1, 2, 3, 4, 5, 6, 7, 9, 1, 2, 3, 4, 7, 8, 9, 1, 2, 3, 4, 5, 6, 9, 4, 1, 2, 3, 7, 10, 1, 3, 9, 1, 9, 2, 3, 4, 6, 9, 8, 4, 6, 10, 1, 7, 4, 1, 2, 3, 7, 8, 1, 2, 6, 8, 9, 5, 7, 1, 3, 2, 9, 1, 2, 3, 4, 5, 6, 7, 8, 9, 1, 2, 3, 5, 6, 1, 3, 6, 6, 3, 6, 1, 2, 3, 4, 5, 6, 7, 8, 9, 10, 1, 2, 3, 4, 5, 7, 9, 10, 8, 1, 2, 3, 4, 5, 6, 7, 8, 9, 10, 9, 9, 7, 1, 2, 7, 3, 1, 2, 3, 4, 7, 9, 10, 1, 1, 3, 7, 10, 1, 2, 3, 4, 5, 6, 7, 8, 9, 10, 3, 8, 3, 7, 9, 1, 2, 3, 4, 5, 7, 9, 10, 1, 2, 3, 4, 6, 7, 10, 9, 9, 2, 3, 10, 10, 1, 10, 9, 1, 4, 6, 7, 10, 6, 9, 2, 6, 9, 1, 2, 6, 9, 4, 1, 4, 6, 7, 1, 3, 4, 5, 6, 7, 8, 10, 7, 7, 1, 3, 5, 6, 8, 3, 2, 6, 5, 3, 1, 2, 3, 4, 7, 9, 1, 2, 3, 6, 7, 1, 2, 3, 4, 5, 6, 9, 10, 3, 4, 3, 3, 4, 7, 9, 10, 1, 2, 3, 4, 6, 7, 8, 9, 10, 1, 2, 3, 4, 5, 6, 7, 8, 9, 10, 1, 2, 3, 4, 5, 6, 7, 8, 9, 10, 5, 1, 2, 3, 4, 5, 7, 1, 2, 3, 4, 5, 6, 7, 8, 9, 10, 3, 1, 2, 3, 4, 5, 6, 7, 8, 9, 1, 2, 3, 4, 5, 6, 7, 8, 9, 10, 6, 8, 9, 4, 7, 2, 9, 1, 2, 3, 4, 5, 6, 7, 8, 9, 10, 6, 5, 7, 1, 2, 3, 4, 5, 6, 7, 8, 9, 2, 1, 4, 10, 1, 9, 4, 2, 4, 6, 8, 1, 2, 3, 4, 7, 9, 2, 6, 9, 10, 1, 2, 3, 8, 2, 4, 1, 2, 3, 4, 5, 6, 7, 8, 9, 10, 4, 6, 1, 2, 4, 5, 6, 9, 10, 3, 1, 2, 3, 4, 5, 6, 7, 8, 9, 10, 3, 7, 1, 2, 3, 4, 5, 6, 7, 8, 9, 1, 2, 3, 4, 5, 6, 7, 8, 9, 10, 9, 10, 2, 1, 4, 8, 5, 1, 2, 3, 4, 5, 6, 7, 9, 10, 1, 2, 3, 9, 1, 2, 3, 4, 5, 6, 7, 8, 9, 1, 10, 3, 4, 5, 9, 1, 2, 4, 6, 2, 6, 2, 2, 3, 7, 2, 2, 9, 2, 4, 6, 6, 2, 10, 1, 3, 4, 6, 8, 9, 2, 2, 5, 9, 10, 1, 2, 3, 4, 7, 10, 1, 2, 3, 5, 6, 8, 9, 1, 2, 3, 4, 6, 7, 9, 10, 2, 1, 1, 7, 1, 2, 3, 8, 9, 1, 2, 3, 4, 6, 7, 9, 1, 2, 3, 4, 7, 9, 4, 7, 1, 2, 3, 4, 5, 7, 9, 10, 3, 1, 9, 3, 9, 3, 4, 8, 4, 1, 2, 3, 4, 5, 6, 8, 9, 1, 2, 3, 5, 1, 2, 3, 4, 5, 6, 7, 9, 10, 1, 2, 3, 4, 5, 6, 7, 8, 9, 10, 1, 2, 3, 4, 5, 6, 7, 8, 9, 10, 5, 8, 8, 4, 6, 10, 1, 2, 3, 4, 5, 6, 7, 8, 9, 10, 2, 8, 9, 1, 1, 2, 3, 4, 6, 7, 9, 2, 5, 8, 1, 2, 3, 4, 5, 6, 8, 7, 8, 6, 1, 2, 3, 4, 5, 6, 7, 8, 9, 5, 3, 5, 1, 2, 3, 4, 5, 6, 8, 9, 1, 2, 3, 4, 5, 6, 7, 9, 10, 10, 2, 3, 8, 9, 10, 10, 2, 1, 1, 2, 3, 4, 5, 6, 7, 9, 10, 3, 9, 7, 8, 4, 8, 3, 9, 1, 1, 4, 7, 10, 1, 5, 3, 7, 6, 6, 6, 1, 8, 7, 1, 1, 2, 3, 4, 6, 7, 9, 10, 2, 5, 8, 9, 5, 2, 5, 1, 2, 3, 4, 5, 6, 7, 9, 10, 10, 7, 4, 7, 1, 2, 3, 4, 5, 6, 9, 10, 2, 3, 4, 7, 2, 7, 9, 4, 5, 5, 1, 4, 1, 2, 3, 4, 5, 6, 8, 9, 10, 6, 8, 9, 7, 6, 1, 2, 1, 2, 3, 4, 5, 6, 7, 9, 10, 4, 1, 3, 8, 2, 6, 5, 1, 2, 1, 2, 3, 4, 5, 6, 7, 9, 10, 2, 3, 4, 5, 7, 8, 2, 3, 5, 7, 9, 3, 4, 1, 2, 3, 8, 9, 7, 1, 2, 3, 4, 6, 9, 3, 6, 6, 10, 4, 8, 1, 7, 4, 1, 4, 7, 10, 7, 6, 9, 6, 6, 1, 2, 3, 4, 6, 7, 9, 1, 3, 7, 9, 1, 2, 4, 6, 6, 1, 9, 10, 1, 2, 3, 4, 5, 9, 3, 1, 2, 3, 6, 8, 3, 7, 1, 6, 1, 2, 3, 4, 7, 9, 3, 1, 6, 7, 9, 10, 9, 8, 5, 8, 6, 4, 7, 9, 1, 2, 3, 4, 6, 7, 9, 1, 2, 3, 4, 5, 6, 7, 9, 1, 2, 3, 4, 5, 7, 7, 5, 9, 1, 2, 3, 4, 5, 6, 7, 8, 9, 5, 1, 2, 3, 4, 7, 9, 5, 1, 2, 3, 4, 6, 7, 9, 1, 2, 3, 4, 5, 6, 7, 9, 10, 7, 4, 6, 10, 4, 6, 9, 1, 2, 3, 4, 5, 6, 7, 9, 1, 2, 3, 4, 5, 7, 9, 10, 1, 9, 1, 2, 3, 4, 5, 6, 7, 8, 9, 10, 10, 2, 5, 6, 9, 1, 5, 9, 4, 3, 9, 1, 1, 2, 3, 4, 5, 6, 7, 8, 9, 10, 6, 2, 2, 8, 6, 8, 8, 1, 2, 3, 4, 5, 6, 7, 8, 9, 10, 2, 9, 1, 2, 3, 6, 8, 9, 5, 4, 8, 7, 1, 3, 1, 2, 3, 4, 5, 6, 7, 8, 9, 10, 3, 8, 1, 2, 3, 4, 5, 6, 7, 8, 9, 10, 1, 2, 3, 4, 5, 6, 7, 9, 10, 2, 6, 9, 3, 8, 2, 8, 1, 2, 3, 4, 5, 6, 7, 8, 9, 1, 2, 9], \"Freq\": [0.9960920787849289, 0.9104739334750547, 0.00612264907795725, 0.08319599629459558, 0.9956523836310278, 0.09738988384270555, 0.25178104555265973, 0.10760134271197203, 0.02956750777071186, 0.496398828913446, 0.00045722950160894624, 0.016612671891791716, 0.9952964178534189, 0.07309634587700764, 0.39035479152374225, 0.5360398697647227, 0.9978166565676801, 0.0016685897267018062, 0.002605180860163535, 0.007815542580490603, 0.9886661364320615, 0.9973072261801043, 0.9677804421880166, 0.023204890715368524, 0.008189961428953596, 0.998782522060847, 0.9982745513094727, 0.8942853510143931, 0.014956329399894695, 0.0005157354965480929, 0.08973797639936817, 0.9977243045110755, 0.9984552929564234, 0.9984763430668966, 0.3413247715761142, 0.24942676247822596, 0.11345063663876105, 0.08231906352416699, 0.009055096987658369, 0.07693090663894878, 0.08134620186433592, 0.04609867557353351, 7.483551229469726e-05, 0.9989344615212863, 0.3658710443274309, 0.004028259463633753, 0.015587612707104523, 0.005779676621735385, 0.32979185087053725, 0.00035028343162032635, 0.001050850294860979, 0.2774244778432985, 0.0010946987953910398, 0.9983653013966284, 0.9020479462081055, 0.046041815519434086, 0.00598750067293089, 0.03179569322866748, 0.007845690536943924, 0.006400431753822675, 0.9988690626375729, 0.995081053642542, 0.008704043082289723, 0.930058847402714, 0.061140595309742446, 0.9346705036038802, 0.06418338222172568, 0.7556856027261268, 0.24392569047623233, 0.00029335621223840327, 0.9975882647648673, 0.9997966269574399, 0.9975095225838959, 0.16411681986487728, 0.2716169202130502, 0.009316675363508317, 0.5547005177965721, 0.9437704362297803, 0.02594133398013794, 0.0012353016181018066, 0.00370590485430542, 0.024706032362036133, 0.9975705162042865, 0.01781183750991584, 0.11261677909495175, 0.00019152513451522408, 0.09595409239212727, 0.15877433651312076, 0.08005750622736367, 0.07909988055478755, 0.4445298372098351, 0.005745754035456722, 0.0049796534973958265, 0.8241599150217005, 0.04959516432560243, 0.03182215321915788, 0.01574180983713661, 0.011171606981193722, 0.05907410358237286, 0.008294071849674126, 0.9975737423137151, 0.0023831193079639633, 0.9993727598642331, 0.00238079779362758, 0.997554275529956, 0.0013797845402492767, 0.997584222600227, 0.999816869163931, 0.00010997875582047421, 0.005230482137646496, 0.00282279988380922, 0.002656752831820442, 0.1625600638970133, 0.8253368719102192, 0.001328376415910221, 0.038713189475918085, 0.2813763328835609, 0.17410853704403784, 0.06835297516841787, 0.07379701743846885, 0.10686453344914888, 0.2567773270707379, 0.00010081559759353668, 0.5808220086578829, 0.05672602595227629, 0.08472447577962089, 0.26729770069543046, 0.00014582525951741977, 0.00043747577855225933, 0.00656213667828389, 0.003353980968900655, 0.9957955072587948, 0.9989750273483838, 0.9988632553047854, 0.22301609550139997, 0.7768393993298766, 0.9997670382083861, 0.9987794833273106, 0.0008707754867718488, 0.9361724384043618, 0.06325980748829474, 0.002548336037320341, 0.9971274866029162, 0.02106627554404418, 0.0004213255108808836, 0.9778965107545309, 0.9998456814007273, 0.9978363090340657, 0.4220961207752842, 0.5775324991295214, 0.9986861985920205, 0.9615603603093491, 0.0019894352282262395, 0.03183096365161983, 0.003978870456452479, 0.9981083490810437, 0.9867481534082733, 0.008947842197153107, 0.00016570078142876126, 0.0034797164100039864, 0.00016570078142876126, 0.0004971023442862838, 0.9993683846919527, 0.38998482092646625, 0.0025729441531435098, 0.48481619114232705, 0.12203106554909218, 0.9990328339038781, 0.9996353097381856, 0.03605308992202803, 0.9627510308808225, 0.9999520510792588, 0.9973274555043157, 0.9989799937773018, 0.2896473069814071, 0.7100869100218925, 0.3331389405421937, 0.10932359298961354, 0.08080439481841001, 0.05349235847455901, 0.2477322412570021, 0.06711065283937974, 0.06869505273777994, 0.03617713101347115, 0.00264066649733366, 0.0009053713705143979, 0.9993804687987445, 0.9990772338505749, 0.9993590259364241, 0.9994201312509383, 0.0050136862272090995, 0.9948824703525255, 0.9144097008334078, 0.08484213719072856, 0.9993380926360708, 0.8132632000998026, 0.11517970402054496, 0.05539052244269489, 0.0006516532052081752, 0.0014662197117183942, 0.013847630610673723, 0.9984638861733058, 0.008171390775336783, 0.9897597076626679, 0.001021423846917098, 0.9981912312118797, 0.9991399627722835, 0.9987948939540403, 0.9990712005549872, 0.9976379347707357, 0.010576903120298858, 0.0006221707717822858, 0.0003110853858911429, 0.9596984154741758, 0.02893094088787629, 0.9492544778426866, 0.0495742183786316, 0.9984911445404628, 0.9990400930175968, 0.0008385148372116342, 0.06652217708545631, 0.008944158263590764, 0.05086990012417247, 0.21214425381454344, 0.6604701867770305, 0.9994214884459681, 0.035257166278775585, 0.4400328100759892, 0.00019479097391588722, 0.43808490033683034, 0.002727073634822421, 0.00038958194783177445, 0.08317574586208384, 0.9974239835451878, 0.14729669219499528, 0.0009803440412312497, 0.009558354402004686, 0.2102837968441031, 0.0009803440412312497, 0.6308513905323092, 0.9989039575764651, 0.9263557870803127, 0.026193855860889757, 0.006044735967897636, 0.03878705579400983, 0.002518639986624015, 0.0016756053809302753, 0.997823004343979, 0.9994938161950887, 0.9994755008544881, 0.17367732350750623, 0.07338478458063644, 0.024950826757416385, 0.7269985992455049, 0.0004892318972042429, 2.1504203933904285e-05, 0.46747988931914525, 0.000838663953422267, 4.300840786780857e-05, 4.300840786780857e-05, 0.4398469872640782, 0.09173693398203568, 0.9984609275752667, 0.002860172865761861, 0.9953401572851276, 0.4917692250062887, 0.11984187298024246, 0.06848997316967574, 0.08681213159723232, 0.12015347431404444, 0.012588693885600091, 0.03845160459116464, 0.01994248536332688, 0.03496166965258243, 0.007042190143924804, 0.00512279089933745, 0.801949629878099, 0.1928032211205186, 0.9981127739243594, 0.0038420056292749354, 0.03380964953761943, 0.9343757690396644, 0.026894039404924547, 0.9983987628863036, 0.9740643023866961, 0.0251191367377658, 0.0005582030386170177, 0.005012040886223224, 0.994662295875027, 0.998359778358246, 0.8299112518029085, 0.04978707402817021, 0.020269546678135453, 0.03179785135132499, 0.016722376009461748, 0.0013935313341218124, 0.04345284069125288, 0.006587602670394022, 0.9989202443098626, 0.8662660312787495, 0.1071625302370459, 0.0247626563894369, 0.0017077694061680621, 0.003319688302865019, 0.9942466467080732, 0.9989054776866996, 0.9972636330373246, 0.11084421390617083, 0.00018867100239348226, 0.009339214618477372, 0.07160064540832652, 0.10405205782000547, 0.6059169241866683, 0.00047167750598370566, 0.0027357295347054927, 0.004622439558640315, 0.09018473914408452, 0.9982140973574718, 0.004161395234676802, 0.25190312487243577, 0.03273630917945751, 0.1301129576708947, 0.47939273103476765, 0.001109705395913814, 0.10042833833020016, 0.9989841849160188, 0.9994738244874589, 0.9999129624851714, 0.9983180814442772, 0.9987996329409445, 0.998085719423408, 0.0014018057857070336, 0.9977906056834706, 0.0031955159132585798, 0.051128254612137276, 0.07733148510085762, 0.8186911769768481, 0.0038346190959102954, 0.04473722278562011, 0.9978849310357676, 0.0020905054505373495, 0.9997362454100958, 0.9908466958210189, 0.008943812857185212, 0.9981676256938243, 0.998768590881101, 0.18866980435446068, 0.8111560338528951, 0.9991197593025809, 0.07688476825169815, 0.09761773946563922, 0.02591621401742634, 0.0002879579335269594, 0.0002879579335269594, 0.40371702280479704, 0.04924080663311005, 0.30955477854148133, 0.03657065755792384, 0.1924877803389022, 0.0032375620546298534, 0.0008829714694445055, 0.7970289130852403, 0.006180800286111538, 0.9994324614819661, 0.9994593227962254, 0.9995516443932339, 0.8105145486310436, 0.18943317403159324, 0.9989011076018769, 0.0332564701459654, 0.007880047143019915, 0.006410885811270439, 0.2441479013125492, 0.40281732514149254, 0.1612070661292379, 0.12394379235122849, 0.020434698523424524, 0.999511201665248, 0.00032414827360637195, 0.9916352785330282, 0.997307762466287, 0.9988612460290226, 0.9977219400423626, 0.0013214860133011425, 0.9993677169356888, 0.00032451490487735716, 0.9823066170637602, 0.017199289958499932, 0.9992204948771388, 0.9992458445773021, 0.002299961680960964, 0.8379527057634445, 0.15965567335337358, 0.99558651899696, 0.9995665316445105, 0.00960327164418829, 0.9898756925547928, 0.999547341147935, 0.10640928045657334, 0.05328707691906493, 0.15263977664501954, 0.34382694989795176, 6.594935262260511e-05, 0.10947592535352449, 0.1558712949235272, 0.07567688213443936, 0.002604999428592902, 0.00013189870524521022, 0.2098631955737258, 0.0064431682851582486, 0.000920452612165464, 0.5614760934209331, 0.11382930637112905, 0.08406800524444571, 0.023318132841525088, 0.9888615110791982, 0.009456325925620748, 0.9944592101567712, 0.998320766674798, 0.9307663785883348, 0.06915273441930404, 0.998714647836819, 0.9997443584661241, 0.6081331203846122, 0.12804960310120936, 0.1754703205783915, 0.034711418556784605, 0.015715799740276495, 0.03252487250596353, 0.00519304687070006, 0.0002733182563526347, 0.005804091487597503, 0.9939506672510724, 0.998695390367704, 0.9947841385641271, 0.23634785282120882, 0.1921247618567415, 0.13266927289340205, 0.002456838386914853, 0.04520582631923329, 0.3908829873581531, 0.0002518724670660345, 0.0012593623353301725, 0.4574004001919187, 0.262702983149874, 0.00012593623353301725, 0.2780672036409021, 0.005990731871353475, 0.9935217679981899, 0.00035239599243255733, 0.006344556777708805, 0.01768376463574156, 0.9755768475000326, 0.0002699811394769704, 0.12495938592476658, 0.8735478567450973, 0.0011347795097467325, 0.14752133626707523, 0.8509900673509038, 0.00037825983658224416, 0.9988543793085776, 0.09963938472822395, 0.00099972626817616, 0.8990871571797598, 0.9997749698690097, 0.183346610735866, 0.25629096124368367, 0.4979054315443529, 0.0032857815544062004, 0.0015333647253895602, 0.00021905210362708005, 0.05322966118138045, 0.0008762084145083202, 0.003504833658033281, 0.5989729921551552, 0.10516265541688662, 0.1358173565910398, 0.05016868919010718, 0.05307804740339486, 0.0010643993463247633, 0.027603423048022196, 0.028100142742973754, 0.23331606188459222, 0.42658152147343636, 0.049765003703652985, 0.0008521404743776196, 0.05470741845504318, 0.2345090585487209, 0.00017042809487552392, 0.2547452976090452, 0.11176922266947682, 0.2461136150662539, 0.03563335613818964, 0.00044265038680980917, 0.0008853007736196183, 0.35035778115996397, 0.998458253473027, 0.521558187633689, 0.0002729242216816792, 0.02128808929117098, 0.1894094098470854, 0.26732927513720484, 0.9674455766726037, 0.006594078906239752, 0.025434304352639044, 0.99795970392154, 0.998301240545928, 0.9992993947024161, 0.00041830825310010115, 0.2204484493837533, 0.7759618095006876, 0.002928157771700708, 0.9974557341923804, 0.848973587946284, 0.15066581542596075, 0.997169910399953, 0.00025217394367190246, 0.9996175127154214, 0.9993307365861127, 0.315412469436436, 0.0008570991017294457, 0.0008570991017294457, 0.01799908113631836, 0.6651089029420498, 0.0003110772483536246, 0.08165777769282645, 0.9116118763002968, 0.0003110772483536246, 0.005910467718718867, 0.998332891219417, 0.9978941854445859, 0.0013576843896095237, 0.9978980263629998, 0.9989734743371593, 0.9979853862460709, 0.5964964909835403, 0.14136025477091188, 0.06079741930855148, 0.09219690952757705, 0.026551959358518624, 0.024988239726097036, 0.04190768614889866, 3.1274392648431834e-05, 0.01566847071686435, 0.009166400551651736, 0.00017295095380474976, 0.0022483623994617465, 0.0036319700298997446, 0.9844368290566355, 0.05977648122983165, 0.0010868451132696663, 0.9390341778649918, 0.999737817274461, 0.001539260352191399, 0.9984202375350575, 0.5022451357877602, 0.2238637558859723, 0.07970305882401683, 0.07732477321258863, 0.000914725235164692, 0.04305306773508484, 0.060432847203213985, 0.000304908411721564, 0.012135354786518247, 6.0981682344312805e-05, 0.032005663565491255, 0.0900660589098424, 0.0033894437567335116, 0.00018111531524530214, 0.8717338858921029, 0.00025873616463614594, 0.002354499098188928, 0.9982586439574895, 0.997081045304516, 0.002668141427111172, 0.006987419701492935, 0.0007896741443468043, 0.01688227602535365, 0.3392966573543436, 0.09217650921284516, 0.05007251960744509, 0.4910337406665583, 9.571807810264295e-05, 1.1964759762830368e-05, 0.9995166393400344, 0.9979898311402661, 0.9981375117830237, 0.11015212025307505, 0.023243107943309416, 0.8660584133659204, 0.9992369226046082, 0.09714738165738933, 0.08610052220470961, 0.393788048724936, 0.12725548879312426, 0.29360819584524245, 0.00194944578576701, 0.00010830254365372278, 0.997322350915863, 0.49188636929714397, 0.0005070993497908701, 0.22109531650881936, 0.28625758295694614, 0.18727592933229006, 0.08511666916696371, 0.054305205215121645, 0.07471780008321702, 0.5713600846569713, 0.010784012383144723, 0.012035728106188307, 0.002118288146689142, 0.0016368590224416098, 0.0004814291242475323, 0.9934934962160601, 0.0061739626901049826, 0.9996500157185845, 0.9984583628586868, 0.9975486411462353, 0.03929619391408626, 0.3213960230721625, 0.013011984739763663, 0.0018216778635669127, 0.6032356125354433, 0.016134861077306942, 0.004163835116724372, 0.001040958779181093, 0.6437855289357918, 0.1542666109017482, 0.13639370922910563, 0.003881488747089042, 0.021573856059401885, 0.03971755927253903, 0.0002708015404945843, 0.9984670076294169, 0.99874617100987, 0.9993360007244427, 0.89860884905497, 0.10126896154115643, 0.9998352756975885, 0.9994540289301697, 0.9988690626423339, 0.9991722358837776, 0.9833851333198482, 0.006210853473599042, 0.0010351422455998403, 0.008281137964798723, 0.9991834820758058, 0.017099399134792893, 0.9826258157976675, 0.7776946504624298, 0.18778817363701206, 0.034519884859744866, 0.9961292238609937, 0.0005509564291266558, 0.0005509564291266558, 0.002203825716506623, 0.9989008195353424, 0.002704754427509457, 0.2385593405063341, 0.0010819017710037826, 0.7573312397026479, 0.31262056009761147, 0.0003881074613254022, 0.029011032734073815, 0.47669298937292526, 0.0033959402865972694, 0.00174648357596431, 0.17503646505775639, 0.0011643223839762067, 0.9987292786123381, 0.9971064966038783, 0.00024612151317895064, 0.9709493694909602, 0.0007383645395368519, 0.0024612151317895065, 0.025350515857431914, 0.9989081694700704, 0.9990842312674265, 0.9984284397860607, 0.9979040196266343, 0.9985258356369634, 0.7209446189512203, 0.07736297867039718, 0.07099767029878222, 0.002644051169747752, 0.127795806537808, 0.00019585564220353716, 0.17647396639122306, 0.22077705418818283, 0.0018459619915399902, 0.6006760320471128, 0.00036919239830799803, 0.4602821129143491, 0.07812460455666567, 0.010400489151506575, 0.00024187184073271104, 0.007256155221981331, 0.08392952873425073, 0.04837436814654221, 0.31128905902299914, 0.9998388567220355, 0.9991789006056319, 0.9988437762431279, 0.9991276627565324, 0.0060671270129463275, 0.28570652660965434, 0.605058030291102, 0.10258960221891063, 0.33129797769271985, 0.16625281262101252, 0.17510889464925047, 0.036631975662256996, 0.0002012745915508626, 0.06642061521178466, 0.0028178442817120767, 0.2205969523397454, 0.0008050983662034505, 0.3279107562491118, 0.2028300172191244, 0.17298044481031127, 0.10739829356048891, 0.019019492385906688, 0.0526796485064832, 0.04586070923280136, 0.032824501797821384, 0.03847352501964604, 0.9998137623024097, 0.5508926725469955, 0.11097546442542303, 0.0859375916906411, 0.05049205214211369, 0.00023788952717132482, 0.11733900927725598, 0.07154527529677594, 0.00041630667254981843, 0.002378895271713248, 0.00987241537760998, 0.9975427219516895, 0.4721511746617835, 0.16562244181746422, 0.09474524469733506, 0.23540922052036062, 0.00024231520382950143, 0.031743291701664685, 0.3059970164107751, 0.06253563479486583, 0.046981899986912025, 0.017103763362698348, 0.023891819447269255, 0.11678663421092465, 0.00037414482355902634, 0.3292474447319432, 0.09615521965466978, 0.000801738907626485, 0.9994092329544959, 0.25117902669972725, 0.1357006989133124, 0.12211501329138123, 0.11750837276440458, 0.021549708227890808, 0.22549114986285743, 0.11118400187143662, 0.001093101141994461, 0.014132236192928391, 0.0018850631508514155, 0.0462853109188393, 0.08922112946219882, 0.09065440061821807, 0.00034273875470025735, 0.19096780250526157, 0.07323704026572318, 0.5061472455207574, 0.0002492645488729145, 0.0010126372297962149, 0.0011603008632376296, 0.7816560148677497, 0.21697626142543672, 0.011928818201982024, 0.9880500409821867, 0.0009559534928007832, 0.9980154464840176, 0.16324228100524413, 0.023487284310916186, 0.2579454241657922, 0.17204530008485716, 0.001074458431558766, 0.2580773752012468, 0.055344034299237496, 0.05085769909378159, 0.01688973253818692, 0.0010367581357145989, 0.9994154588925844, 0.9969049196272682, 0.998477675153309, 0.19736713157119684, 0.12988785536207223, 0.11535835802802662, 0.11214041566545276, 0.007898585799044932, 0.32393953116576873, 0.09956118642993675, 0.0025353485280884967, 0.011311554971471755, 0.999824961626665, 0.9979601862340739, 0.9991614145056502, 0.0006680374957693226, 0.0005636511603580192, 0.99878985615441, 0.9987432614215278, 0.9724744080086903, 0.01788520047669016, 0.009343015174390382, 0.9973356322400361, 0.15053670075690734, 0.04585154555164517, 0.5792210302518067, 0.13810706491459387, 0.006905353245729695, 0.07927345526097689, 0.0014011053213981545, 0.9772709616752129, 0.004903868624893541, 0.015412158535379701, 0.997662874866736, 0.9934389855709822, 0.005070556267146749, 0.0011701283693415574, 0.9990320624483532, 0.9993542797050712, 0.2630391966289889, 0.1413501211429551, 0.12337596993588797, 0.1864309210959552, 0.052177390397214286, 0.05927398084142849, 0.10749589459760536, 0.057354411295042686, 0.009481510183663243, 5.816877413290333e-05, 0.9989783051689176, 0.9978060468568525, 0.036897301422890875, 0.116936062971008, 0.000567650791121398, 0.001135301582242796, 0.001135301582242796, 0.8429614248152761, 0.9990915807298175, 0.9996512216040576, 0.3899418010250157, 0.04978302387940635, 0.021713872117613407, 0.047097161648830474, 0.0036315883681025908, 0.00026480331850748057, 0.045167880328275976, 7.565809100213732e-05, 0.003404614095096179, 0.4389304149488996, 0.7698968276532473, 0.22999380952765902, 0.23390830110130845, 0.19504009565829364, 0.09661125885296122, 0.17658468875729383, 0.019573916410151333, 0.015239692062189253, 0.24173786766536898, 0.0036351559047423905, 0.017756338457780137, 0.010868020852712771, 0.10804679626884077, 0.1739883461052391, 0.0001000124618347801, 0.17518849564725647, 0.3653455230824517, 0.011301408187330152, 0.14845183085009192, 0.006700834942930267, 3.3337487278260035e-05, 0.998864118014474, 0.9996468594436543, 0.9995170598691594, 0.21577902786647585, 0.0006915994482899867, 0.7835821749125549, 0.9963665678919772, 0.6498789894358931, 0.0991695545824565, 0.06652163368886516, 0.12344621370846033, 0.00014948681727834867, 0.004275322974160772, 0.0445470715489479, 0.011988842745723564, 2.9897363455669734e-05, 0.9855915959938233, 0.012289172019873108, 0.0017555960028390154, 0.0003511192005678031, 0.3423923764656849, 0.007023028694502409, 0.0781213304219931, 0.012546759128380708, 0.49879285817921043, 0.00031564173907875997, 0.0007101939129272099, 0.05223870781753477, 0.007891043476969, 0.9997096660541431, 0.9984578255048636, 0.001493922192629764, 0.00746961096314882, 0.010457455348408348, 0.9800129583651253, 0.0334928280370842, 0.0019376016219800776, 0.08193286858658615, 0.8824391386960697, 0.2689136657293334, 0.7307861507930068, 0.9999245904515973, 0.9994579806637806, 0.26149476103875535, 0.738415575215143, 0.9989379006745475, 0.998718871207982, 0.9976052052232087, 0.2634607644406038, 0.1571120608540608, 0.5793805306503543, 0.9990540401840885, 0.9994769272057392, 0.999248257854241, 0.020002669904947316, 0.15568343082645744, 0.5846563516795444, 0.13784972512807067, 0.009880836940998072, 0.0920604807673479, 0.9998916279868051, 0.9998883426953853, 0.9989932315014091, 0.9982242122202994, 0.9999306141120814, 0.26337184706986466, 0.000900108841660508, 0.0016201959149889143, 0.2012643369952896, 0.1123335834392314, 0.4205308508237893, 0.3131466230821041, 0.09626272407385549, 0.00023421587365901578, 0.021547860376629452, 0.07401221607624899, 0.3468737088890024, 0.14755600040517994, 0.38531080125205835, 0.029144462650070514, 0.08257597750853311, 0.373101634466218, 0.09202823566531275, 0.036233656267655234, 0.0013128136328860592, 0.00013128136328860592, 0.9990935789221214, 0.9988509138023751, 0.3668090924438538, 0.6329162659871499, 0.0006500037554398638, 0.0006500037554398638, 0.009750056331597957, 0.0013000075108797276, 0.9873557045131531, 0.9720924451226933, 0.0015183013590358348, 0.0018978766987947937, 0.009679171163853447, 0.0066425684457817775, 0.007401719125299695, 0.0007591506795179174, 0.7908892346579603, 0.0358015702931587, 0.15988655824103826, 0.004882032312703458, 0.0016273441042344862, 0.007119630456025877, 0.9982750991533625, 0.0007903999201530978, 0.0022117822285069922, 0.07867625355689159, 0.043603706790566424, 0.005371471126374124, 0.8483764690773249, 0.0006319377795734264, 0.001579844448933566, 0.01959007116677622, 0.9989433896332937, 0.9993185647563253, 0.9981906706299425, 0.9984248741675097, 0.9994476042835367, 0.997996325714498, 0.9838557186919614, 0.015433030881442532, 0.9981025003541293, 0.18846876628890566, 0.054304559778159255, 0.10727812544410872, 0.02874947282373137, 0.0009316958785468499, 0.12005566892132266, 0.42924560118765587, 0.07094198618078157, 9.0292511186351e-05, 0.0002257312779658775, 4.51462555931755e-05, 0.9995832450884988, 0.3378646639219656, 0.06757293278439312, 0.11002509228582742, 0.08198329885368734, 0.07477811581904023, 0.00019473467661208394, 0.32695952203168893, 0.00019473467661208394, 0.00019473467661208394, 0.0023719536266942442, 0.014627047364614506, 3.0409661880695437e-05, 0.0029801468643081527, 0.9108606023124705, 0.010704200982004794, 0.00018245797128417263, 0.00012163864752278175, 0.00030409661880695436, 0.05786958655896342, 0.13504102401315918, 0.000756956412629816, 0.21992106974938255, 0.03522370506770744, 0.006156578822722504, 0.2613518174006545, 0.06449268635606033, 0.14261058813945734, 0.011202954906921277, 0.12323250397613406, 0.9985590468804503, 0.9987271804497725, 0.9983098270793099, 0.00020499437423950195, 0.009839729963496094, 0.9899178332025549, 0.19728937512413008, 0.10155360692005516, 0.07408047965014845, 0.09172792375528853, 0.4312957768113355, 0.03936737531146633, 0.05824302981220223, 0.000129285304799561, 0.004137129753585952, 0.0021332075291927567, 0.0009338023900009123, 0.07657179598007481, 0.9216629589309004, 0.9986455290291368, 0.9381979720218256, 0.006629896254552849, 0.0002706080103899122, 0.002300168088314254, 0.04884474587537915, 0.00040591201558486833, 0.003382600129873903, 0.04553485574525509, 0.9543707550638113, 4.328408340803716e-05, 0.12948083377863978, 0.12406775544341236, 0.04027330281409197, 0.04850118188363764, 0.593706431807743, 0.01862098947318231, 0.045253334882501196, 0.9999452076781776, 0.9955252979736346, 0.9979746045186942, 0.2436731015989219, 0.18795348634537445, 0.11975708674098773, 0.08828953424168216, 0.04204024927853084, 0.15929195763581588, 0.05541896984750311, 0.08974265370422972, 0.013779581110364697, 0.9992265945214539, 0.0025602791272757394, 0.9959485805102626, 0.19902466730658835, 0.17838507217849772, 0.033697298168311254, 0.01495317606218812, 0.512620148385435, 0.03243364948699958, 0.026536622307545114, 0.002527297362623344, 0.008617122015388315, 0.19068144357128503, 0.17388910323360524, 0.09552484832443285, 0.33290078213295027, 0.06164556518700871, 0.13478062639453517, 0.0003682530775806972, 0.0015466629258389284, 0.9973212350649263, 0.01709186178690232, 0.6318562873285002, 0.00135649696721447, 0.34943361875444745, 0.9995917865499281, 0.9988965785601096, 0.9987567797410882, 0.9981937211611062, 0.38379051408527265, 0.06880557446413463, 0.10582596507255487, 0.09909498496193302, 0.06855627890448196, 0.030788001617103718, 0.09884568940228035, 0.007728162349232512, 0.13636467113000594, 0.9996378891623067, 0.9968145739098945, 0.9977375646951819, 0.996719047506537, 0.9993794793437586, 0.9956773637910803, 0.084959177467548, 0.9147759711807538, 0.9987927236545413, 0.9966915810249954, 0.00037715018684241424, 0.9994479951323977, 0.9988690626375729, 0.9986512836815198, 0.9981703602349181, 0.9994118922154107, 0.9998083104141563, 0.9977662188411662, 0.999276322846731, 0.9996521633028798, 0.9992969746587412, 0.9983783452900516, 0.9993713687216279, 0.9979348973409857, 0.5659483050006799, 0.1446024446175707, 0.019617567145216504, 0.07254798415966858, 0.0013571901798577458, 0.05280703608901047, 0.14287511166138814, 0.00024676185088322647, 0.19919767740113545, 0.22749280203197855, 0.5726933225282644, 0.0005659024926168621, 0.9994528027723537, 0.9994235384800101, 0.999732310921163, 0.0018653043482854718, 0.594050347972389, 0.18785578265496053, 0.10691139133067783, 0.01124091304624666, 0.03283917392113107, 0.000981739130676564, 0.06322400001557073, 0.0010308260872103922, 0.9990819313912305, 0.9999146187555131, 0.9990959706001026, 0.9995413774791103, 0.06706951782001468, 0.16966314465486765, 0.24241651991725646, 0.4734653249497647, 0.0025577358490683566, 0.024724779874327446, 0.00028419287211870625, 0.01989350104830944, 0.0002115128932259252, 0.07149135791036272, 0.3462466062108396, 0.5820834821577462, 0.9985784165308925, 0.9980219509008964, 0.9980914458102159, 0.9992803634975915, 0.9996699910962358, 0.9995413000550852, 0.9992101081155466, 0.9993365350275427, 0.2899274988854284, 0.13475074080689733, 0.003963257082555804, 0.005487586729692651, 0.001219463717709478, 0.0003048659294273695, 0.052741805790934924, 0.5106504317908439, 0.0009145977882821085, 0.93520591959349, 0.0009168685486210686, 0.0641807984034748, 0.9995483690538147, 0.9976121410826723, 0.9963021910144599, 0.003196691521971529, 0.23867761889437583, 0.030285664450002345, 0.2402915884732161, 0.07258116135431597, 0.010443332568966325, 0.0192726955590924, 0.0007595150959248237, 0.00512672689749256, 0.38246332049164405, 0.9994295598339359, 0.0038480307142726247, 0.9947159396394735, 0.0006413384523787708, 0.9016688463364901, 0.09792521048880035, 0.9979843878588399, 0.9977501970927014, 0.0018932641311056953, 0.5807841689753797, 0.08294095578703144, 0.1124968995555847, 0.09340731449349016, 6.582615538653288e-05, 0.024355677493017168, 0.006911746315585953, 0.015403320360448695, 0.0836650434962833, 0.48752698691295193, 0.5045313309907324, 0.003940030944851589, 0.00041474009945806204, 0.0033179207956644963, 0.00020737004972903102, 0.08856466601674026, 0.17302368526449258, 0.0011730419339965599, 0.6645282556090512, 0.07272859990778671, 0.998651533584323, 0.9996759928939289, 0.9992352507137989, 0.15899920734589001, 0.6339989335844494, 0.20678221520795328, 0.000166491316592555, 0.9973724259641134, 0.8452091008215732, 0.09028648740271086, 0.0184007786826177, 0.009568404914961205, 0.03287605791294363, 0.0034348120207553044, 0.0010787566515391086, 0.9978499026736755, 0.9986423410211575, 0.9963256097891997, 0.9985535762633252, 0.9938679603588989, 0.043574326925020404, 0.9560102328971344, 0.9987960792964652, 0.0936876106572169, 0.7482681535385612, 0.10848039128730377, 0.04930926876695626, 0.9996349397215067, 0.0008071171864346026, 0.999095774350833, 0.9988306874017578, 0.999452095905367, 0.6811708795881218, 0.17743312675146206, 0.043720033030486154, 0.06877129283262604, 0.00031912432868967997, 0.026806443609933117, 0.0017551838077932399, 0.00048453414025906755, 0.26019483331911925, 0.7109730951401384, 0.02826449151511227, 0.08725544863538104, 0.005491601662366639, 0.07078064364828111, 0.8359438086046994, 0.9994062174221425, 0.9632523978103983, 0.0004459501841714807, 0.03567601473371845, 0.814884681042227, 0.00027964470866239776, 0.0004194670629935966, 0.0009787564803183922, 0.15702050391393632, 0.026286602614265388, 0.999241442908599, 0.3843526993472609, 0.0005748046351155447, 0.0009580077251925745, 0.6138913503034017, 0.9940451788359239, 0.9974593109659129, 0.9983520827992779, 0.9987269049693505, 0.9988500297680246, 0.7203821633634006, 0.18025764303782663, 0.0071324966669643625, 0.06538121944717332, 0.026476692172822253, 0.00032420439395292554, 0.9989586548108459, 0.008789061834255412, 0.9900980354682144, 0.00020439678684314912, 0.0008175871473725965, 0.9961413776231407, 0.9988697660044612, 0.999855063507805, 0.0039207511186359545, 0.9958707841335324, 0.9970693289397101, 0.047989802516741696, 0.0020421192560315616, 0.9495854540546761, 0.6688641458194561, 0.04025174757172143, 0.023337449389987424, 0.07932591742192974, 0.14334332446418882, 0.04442679585708616, 0.000428210080550228, 0.681148381260671, 0.1520973374065021, 0.055988332853623334, 0.043990832956418334, 0.0010320430019101076, 0.013029542899115107, 0.0307032793068257, 0.02205991916582855, 0.9324989821784282, 0.052075520225898814, 0.0013886805393573019, 0.012498124854215717, 0.0020830208090359525, 0.9999402459494314, 0.9989322923747336, 0.9983209901336996, 0.9994189643391872, 0.32267661976921524, 0.08281416993342428, 0.05550966971496269, 0.2936655882870998, 0.1701790899032588, 0.014221093863782073, 0.048446526429284265, 0.01151908602966348, 0.000995476570464745, 0.9978501273536013, 0.005086485438648389, 0.7381272907700144, 0.22654423607518595, 0.0005869021659978911, 0.029345108299894555, 0.0003912681106652607, 0.9984155552400865, 0.883329795933883, 0.014449233303171478, 0.006020513876321449, 0.04190277657919728, 0.042143597134250144, 0.011559386642537183, 0.00048164111010571593, 0.10574859756455385, 0.0003125574312252823, 0.07230495242344864, 0.7145062877809953, 0.001666972966534839, 0.03031807082885238, 0.04104920930092041, 0.00010418581040842744, 0.033860388382738915, 0.9984471787819867, 0.9568032369568502, 0.04227735233065152, 0.9987281455454995, 0.9992884400797677, 0.9987798048704299, 0.9988129369582079, 0.421205871117958, 0.2797380607125707, 0.10736050269121175, 0.11220529071879351, 0.0001937915211032703, 0.0039727261826170415, 0.07228423737151983, 0.0029068728165490545, 0.6850309892938283, 0.11245576832230765, 0.09347181887734013, 0.053573348857408366, 0.0006435237099988993, 0.015122807184974133, 0.039576708164932306, 0.9988690626587635, 0.0019381362584622896, 0.9981401731080791, 0.14337838970017053, 0.18170569546644758, 0.12530406145663645, 0.25010047647928246, 0.00020094338012120969, 0.18503712518950974, 0.09993231572449002, 0.0072233857169887485, 0.007075322173741541, 2.115193474960102e-05, 0.9992246951829692, 0.008483565056688952, 0.7976975029018099, 0.0002423875730482558, 0.1936676708655564, 0.9980471560978836, 0.9977163527810575, 0.9995393474541409, 0.999789256268946, 0.003323506674841503, 0.99539024911503, 0.9990882078132893, 0.4505177147277402, 0.16900696421818334, 0.03532346066072481, 0.0534877605533333, 0.04235943453217, 0.023764360729064862, 0.03137469981450557, 0.15062727737032652, 0.008256499951185678, 0.03532346066072481, 0.9980988646790734, 0.9997933018515617, 0.9998694116082433, 0.9924525941249953, 0.9983720652360817, 0.9961845025673909, 0.9908166826063239, 0.21802905273460346, 0.20787153124893623, 0.07253328722863776, 0.12615355557832897, 0.06369195162562039, 0.03945696374291577, 0.053963621188643326, 0.2118487016334651, 0.0060086746816623, 0.0004578037852695086, 0.9991031083661156, 0.9979343891894951, 0.000475316338882036, 0.40473186255805366, 0.000237658169441018, 0.000712974508323054, 0.000237658169441018, 0.593670107263663, 0.9974769533446789, 0.1296842618095539, 0.8689671555646541, 0.9991381180698654, 0.9987969590190475, 0.9996339346218232, 0.0007825695500092041, 0.17044364799200465, 0.08764778960103087, 0.058536202340688466, 0.14508839457170644, 0.13679315734160888, 0.11707240468137693, 0.28313366319333005, 0.00031302782000368167, 0.00015651391000184083, 0.9799443524566648, 0.018781346101198762, 0.14369145555465432, 0.08347149841365833, 0.08421969157342223, 0.11393638912404433, 0.0006906398397820502, 0.002263763919285609, 0.06915990617817475, 0.5009057282419258, 0.00040287323987286256, 0.0012661730396004251, 0.414108155815092, 0.14910438052697017, 0.09232088635017464, 0.051779422247847144, 0.22157860871826482, 0.009244810851785978, 0.05635942028451176, 0.005216108875090253, 0.0002120369461418802, 0.8440151374062297, 0.003634514945768453, 0.15224579272830074, 0.8625680389613141, 0.13740021859560755, 0.9983562856070154, 0.9970001940942754, 0.30522254561708717, 0.10495876232189202, 0.09900219851106058, 0.3658151774858898, 0.00041079750419527214, 0.024647850251716327, 0.0427229404363083, 0.05627925807475228, 0.0008215950083905443, 0.005740313266755515, 0.0009567188777925858, 0.9921174762709115], \"Term\": [\"12x12\", \"acrylic\", \"acrylic\", \"acrylic\", \"action\", \"add\", \"add\", \"add\", \"add\", \"add\", \"add\", \"add\", \"addi\", \"addition\", \"addition\", \"addition\", \"adhesive\", \"adhesive\", \"adjust\", \"adjust\", \"adjust\", \"adjustable\", \"adorable\", \"adorable\", \"adorable\", \"adult\", \"advertised\", \"ago\", \"ago\", \"ago\", \"ago\", \"album\", \"alcohol\", \"alot\", \"also\", \"also\", \"also\", \"also\", \"also\", \"also\", \"also\", \"also\", \"also\", \"aluminum\", \"amazon\", \"amazon\", \"amazon\", \"amazon\", \"amazon\", \"amazon\", \"amazon\", \"amazon\", \"applique\", \"applique\", \"around\", \"around\", \"around\", \"around\", \"around\", \"around\", \"arp\", \"array\", \"arrive\", \"arrive\", \"arrive\", \"arrived\", \"arrived\", \"art\", \"art\", \"art\", \"arthritis\", \"artist\", \"assemble\", \"assortment\", \"assortment\", \"assortment\", \"assortment\", \"attach\", \"attach\", \"attach\", \"attach\", \"attach\", \"attempt\", \"awesome\", \"awesome\", \"awesome\", \"awesome\", \"awesome\", \"awesome\", \"awesome\", \"awesome\", \"awesome\", \"awesome\", \"back\", \"back\", \"back\", \"back\", \"back\", \"back\", \"back\", \"bag\", \"bag\", \"bamboo\", \"band\", \"band\", \"bargain\", \"bargain\", \"bead\", \"bead\", \"beautiful\", \"beautiful\", \"beautiful\", \"beautiful\", \"beautiful\", \"beautiful\", \"best\", \"best\", \"best\", \"best\", \"best\", \"best\", \"best\", \"best\", \"big\", \"big\", \"big\", \"big\", \"big\", \"big\", \"big\", \"big\", \"bill\", \"bird\", \"birthday\", \"black\", \"black\", \"blade\", \"bleed\", \"bleed\", \"blend\", \"blend\", \"block\", \"block\", \"blue\", \"blue\", \"blue\", \"bobbin\", \"bobbins\", \"book\", \"book\", \"border\", \"bottom\", \"bottom\", \"bottom\", \"bottom\", \"bow\", \"box\", \"box\", \"box\", \"box\", \"box\", \"box\", \"bracelet\", \"bright\", \"bright\", \"bright\", \"bright\", \"bristle\", \"brother\", \"brown\", \"brown\", \"brush\", \"burn\", \"butterfly\", \"button\", \"button\", \"buy\", \"buy\", \"buy\", \"buy\", \"buy\", \"buy\", \"buy\", \"buy\", \"buy\", \"buy\", \"cable\", \"cameo\", \"candle\", \"canvas\", \"card\", \"card\", \"carry\", \"carry\", \"cartridge\", \"case\", \"case\", \"case\", \"case\", \"case\", \"case\", \"cat\", \"chain\", \"chain\", \"chain\", \"chair\", \"chalk\", \"chart\", \"chip\", \"chipboard\", \"christmas\", \"christmas\", \"christmas\", \"christmas\", \"christmas\", \"circle\", \"circle\", \"circular\", \"clasp\", \"class\", \"class\", \"class\", \"class\", \"class\", \"class\", \"clay\", \"clean\", \"clean\", \"clean\", \"clean\", \"clean\", \"clean\", \"clean\", \"cleanly\", \"clear\", \"clear\", \"clear\", \"clear\", \"clear\", \"clear\", \"clearly\", \"close\", \"close\", \"close\", \"close\", \"close\", \"cloth\", \"cloth\", \"clover\", \"cm\", \"collection\", \"collection\", \"collection\", \"collection\", \"collection\", \"color\", \"color\", \"color\", \"color\", \"color\", \"color\", \"color\", \"com\", \"combination\", \"combination\", \"come\", \"come\", \"come\", \"come\", \"come\", \"come\", \"come\", \"come\", \"come\", \"come\", \"comfortable\", \"comfortable\", \"comfortable\", \"compartment\", \"condition\", \"condition\", \"condition\", \"condition\", \"cone\", \"container\", \"container\", \"container\", \"cord\", \"cord\", \"costume\", \"could\", \"could\", \"could\", \"could\", \"could\", \"could\", \"could\", \"could\", \"counter\", \"couple\", \"couple\", \"couple\", \"couple\", \"coverage\", \"coverage\", \"cr\", \"crack\", \"craft\", \"craft\", \"craft\", \"craft\", \"craft\", \"craft\", \"craft\", \"craft\", \"craft\", \"craft\", \"crayon\", \"create\", \"create\", \"create\", \"create\", \"create\", \"create\", \"create\", \"creation\", \"cricut\", \"crochet\", \"cross\", \"crystal\", \"curve\", \"curve\", \"cushion\", \"customer\", \"customer\", \"customer\", \"customer\", \"customer\", \"customer\", \"cut\", \"cut\", \"cute\", \"cutter\", \"cutter\", \"cutting\", \"cuttlebug\", \"dark\", \"dark\", \"data\", \"daughter\", \"daughter\", \"daughter\", \"daughter\", \"daughter\", \"daughter\", \"daughter\", \"daughter\", \"daughter\", \"deal\", \"deal\", \"deal\", \"deal\", \"deal\", \"decorate\", \"deliver\", \"delivery\", \"describe\", \"describe\", \"described\", \"design\", \"design\", \"design\", \"design\", \"design\", \"design\", \"design\", \"design\", \"die\", \"die\", \"direct\", \"dish\", \"door\", \"dot\", \"dot\", \"dp\", \"draw\", \"draw\", \"draw\", \"drawer\", \"dress\", \"dry\", \"dry\", \"dry\", \"durability\", \"dy\", \"dye\", \"dye\", \"earring\", \"easy\", \"easy\", \"easy\", \"easy\", \"easy\", \"easy\", \"easy\", \"easy\", \"easy\", \"easy\", \"edge\", \"edge\", \"edge\", \"edge\", \"edge\", \"edge\", \"edge\", \"elastic\", \"elastic\", \"electric\", \"embellishment\", \"emboss\", \"emboss\", \"embroider\", \"embroidery\", \"enough\", \"enough\", \"enough\", \"enough\", \"enough\", \"enough\", \"enough\", \"enough\", \"envelope\", \"envelope\", \"eraser\", \"estimate\", \"ever\", \"ever\", \"ever\", \"ever\", \"ever\", \"ever\", \"exactly\", \"exactly\", \"exactly\", \"exactly\", \"exactly\", \"exactly\", \"excellent\", \"excellent\", \"excellent\", \"expect\", \"expect\", \"expect\", \"expect\", \"expectation\", \"expectation\", \"fabric\", \"fabric\", \"fabric\", \"fabric\", \"face\", \"fantastic\", \"fantastic\", \"fantastic\", \"fast\", \"feel\", \"feel\", \"feel\", \"feel\", \"feel\", \"feel\", \"feel\", \"feel\", \"feel\", \"find\", \"find\", \"find\", \"find\", \"find\", \"find\", \"find\", \"find\", \"fine\", \"fine\", \"fine\", \"fine\", \"fine\", \"fine\", \"fine\", \"finish\", \"finish\", \"finish\", \"finish\", \"finish\", \"finish\", \"finish\", \"fiskars\", \"fit\", \"fit\", \"fit\", \"fit\", \"fit\", \"fix\", \"fix\", \"fix\", \"floor\", \"floss\", \"flow\", \"flower\", \"flower\", \"flower\", \"flower\", \"fluid\", \"folder\", \"folder\", \"font\", \"foot\", \"foot\", \"forever\", \"forward\", \"forward\", \"forward\", \"forward\", \"forward\", \"fun\", \"fun\", \"fun\", \"fun\", \"fun\", \"functional\", \"gadget\", \"gauge\", \"gauge\", \"gel\", \"gesso\", \"get\", \"get\", \"get\", \"get\", \"get\", \"get\", \"get\", \"get\", \"get\", \"gift\", \"gift\", \"gift\", \"gift\", \"gift\", \"girl\", \"girl\", \"girl\", \"glitter\", \"glue\", \"glue\", \"go\", \"go\", \"go\", \"go\", \"go\", \"go\", \"go\", \"go\", \"go\", \"go\", \"good\", \"good\", \"good\", \"good\", \"good\", \"good\", \"good\", \"grand\", \"grandchild\", \"great\", \"great\", \"great\", \"great\", \"great\", \"great\", \"great\", \"great\", \"great\", \"great\", \"green\", \"greet\", \"grid\", \"guide\", \"guide\", \"guide\", \"gun\", \"hand\", \"hand\", \"hand\", \"hand\", \"hand\", \"hand\", \"hand\", \"handmade\", \"handy\", \"handy\", \"handy\", \"handy\", \"happy\", \"happy\", \"happy\", \"happy\", \"happy\", \"happy\", \"happy\", \"happy\", \"happy\", \"happy\", \"hat\", \"hat\", \"heart\", \"hem\", \"hidden\", \"high\", \"high\", \"high\", \"high\", \"high\", \"high\", \"high\", \"high\", \"hold\", \"hold\", \"hold\", \"hold\", \"hold\", \"hold\", \"hold\", \"holiday\", \"holtz\", \"honest\", \"hook\", \"hook\", \"hoop\", \"house\", \"href\", \"http\", \"husband\", \"husband\", \"husband\", \"husband\", \"ie\", \"image\", \"image\", \"ink\", \"ink\", \"ink\", \"inside\", \"inside\", \"inside\", \"inside\", \"intricate\", \"iron\", \"iron\", \"iron\", \"iron\", \"item\", \"item\", \"item\", \"item\", \"item\", \"item\", \"item\", \"item\", \"janome\", \"jean\", \"jewelry\", \"jewelry\", \"jewelry\", \"jewelry\", \"jewelry\", \"join\", \"journal\", \"journaling\", \"joy\", \"jump\", \"keep\", \"keep\", \"keep\", \"keep\", \"keep\", \"keep\", \"kid\", \"kid\", \"kid\", \"kid\", \"kid\", \"kit\", \"kit\", \"kit\", \"kit\", \"kit\", \"kit\", \"kit\", \"kit\", \"knit\", \"knitter\", \"knitting\", \"knot\", \"leather\", \"leather\", \"leather\", \"leather\", \"light\", \"light\", \"light\", \"light\", \"light\", \"light\", \"light\", \"light\", \"light\", \"like\", \"like\", \"like\", \"like\", \"like\", \"like\", \"like\", \"like\", \"like\", \"link\", \"little\", \"little\", \"little\", \"little\", \"little\", \"little\", \"little\", \"little\", \"little\", \"little\", \"locally\", \"long\", \"long\", \"long\", \"long\", \"long\", \"long\", \"look\", \"look\", \"look\", \"look\", \"look\", \"look\", \"look\", \"look\", \"look\", \"look\", \"loom\", \"lot\", \"lot\", \"lot\", \"lot\", \"lot\", \"lot\", \"lot\", \"lot\", \"lot\", \"love\", \"love\", \"love\", \"love\", \"love\", \"love\", \"love\", \"love\", \"love\", \"love\", \"lovely\", \"lovely\", \"lovely\", \"machine\", \"machine\", \"magnet\", \"magnet\", \"make\", \"make\", \"make\", \"make\", \"make\", \"make\", \"make\", \"make\", \"make\", \"make\", \"making\", \"manner\", \"manual\", \"many\", \"many\", \"many\", \"many\", \"many\", \"many\", \"many\", \"many\", \"many\", \"marker\", \"martha\", \"mat\", \"mat\", \"match\", \"match\", \"measurement\", \"medium\", \"medium\", \"medium\", \"member\", \"metal\", \"metal\", \"metal\", \"metal\", \"metal\", \"metal\", \"mini\", \"mini\", \"mini\", \"mini\", \"mistake\", \"mix\", \"mix\", \"mix\", \"mixed\", \"mold\", \"much\", \"much\", \"much\", \"much\", \"much\", \"much\", \"much\", \"much\", \"much\", \"much\", \"n\", \"na\", \"name\", \"name\", \"name\", \"name\", \"name\", \"name\", \"nbsp\", \"necklace\", \"need\", \"need\", \"need\", \"need\", \"need\", \"need\", \"need\", \"need\", \"need\", \"need\", \"needle\", \"needle\", \"new\", \"new\", \"new\", \"new\", \"new\", \"new\", \"new\", \"new\", \"new\", \"nice\", \"nice\", \"nice\", \"nice\", \"nice\", \"nice\", \"nice\", \"nice\", \"nice\", \"nice\", \"niece\", \"normal\", \"oil\", \"ok\", \"ok\", \"ok\", \"olfa\", \"one\", \"one\", \"one\", \"one\", \"one\", \"one\", \"one\", \"one\", \"one\", \"open\", \"open\", \"open\", \"open\", \"order\", \"order\", \"order\", \"order\", \"order\", \"order\", \"order\", \"order\", \"order\", \"organize\", \"ornament\", \"otherwise\", \"otherwise\", \"otherwise\", \"otherwise\", \"pad\", \"pad\", \"pad\", \"pad\", \"page\", \"page\", \"paint\", \"painting\", \"pair\", \"pair\", \"palette\", \"pan\", \"pant\", \"paper\", \"paper\", \"paper\", \"party\", \"pastel\", \"patch\", \"pattern\", \"pattern\", \"pattern\", \"pattern\", \"pattern\", \"pattern\", \"pen\", \"pencil\", \"pendant\", \"penny\", \"perfect\", \"perfectly\", \"perfectly\", \"perfectly\", \"perfectly\", \"perfectly\", \"perfectly\", \"picture\", \"picture\", \"picture\", \"picture\", \"picture\", \"picture\", \"picture\", \"piece\", \"piece\", \"piece\", \"piece\", \"piece\", \"piece\", \"piece\", \"piece\", \"pigment\", \"pillow\", \"pin\", \"pin\", \"pink\", \"pink\", \"pink\", \"pink\", \"pink\", \"place\", \"place\", \"place\", \"place\", \"place\", \"place\", \"place\", \"plastic\", \"plastic\", \"plastic\", \"plastic\", \"plastic\", \"plastic\", \"plate\", \"plate\", \"pleased\", \"pleased\", \"pleased\", \"pleased\", \"pleased\", \"pleased\", \"pleased\", \"pleased\", \"plier\", \"pocket\", \"polish\", \"polymer\", \"pom\", \"pour\", \"powder\", \"powder\", \"precise\", \"pretty\", \"pretty\", \"pretty\", \"pretty\", \"pretty\", \"pretty\", \"pretty\", \"pretty\", \"price\", \"price\", \"price\", \"price\", \"problem\", \"problem\", \"problem\", \"problem\", \"problem\", \"problem\", \"problem\", \"problem\", \"problem\", \"product\", \"product\", \"product\", \"product\", \"product\", \"product\", \"product\", \"product\", \"product\", \"product\", \"project\", \"project\", \"project\", \"project\", \"project\", \"project\", \"project\", \"project\", \"project\", \"project\", \"promise\", \"prompt\", \"promptly\", \"punch\", \"punch\", \"punch\", \"purchase\", \"purchase\", \"purchase\", \"purchase\", \"purchase\", \"purchase\", \"purchase\", \"purchase\", \"purchase\", \"purchase\", \"purple\", \"purple\", \"purple\", \"purse\", \"put\", \"put\", \"put\", \"put\", \"put\", \"put\", \"put\", \"quality\", \"quality\", \"quality\", \"quickly\", \"quickly\", \"quickly\", \"quickly\", \"quickly\", \"quickly\", \"quickly\", \"quilt\", \"rainbow\", \"ranger\", \"really\", \"really\", \"really\", \"really\", \"really\", \"really\", \"really\", \"really\", \"really\", \"reasonable\", \"reasonably\", \"reasonably\", \"receive\", \"receive\", \"receive\", \"receive\", \"receive\", \"receive\", \"receive\", \"receive\", \"recommend\", \"recommend\", \"recommend\", \"recommend\", \"recommend\", \"recommend\", \"recommend\", \"recommend\", \"recommend\", \"recommended\", \"red\", \"red\", \"red\", \"red\", \"ref\", \"reorder\", \"repair\", \"resin\", \"right\", \"right\", \"right\", \"right\", \"right\", \"right\", \"right\", \"right\", \"right\", \"ring\", \"rinse\", \"ripper\", \"rit\", \"rotary\", \"rove\", \"rubber\", \"rubber\", \"rug\", \"ruin\", \"ruler\", \"ruler\", \"rvw\", \"safe\", \"satisfied\", \"scarf\", \"scissors\", \"scrap\", \"scrapbook\", \"scrapbooking\", \"screw\", \"se400\", \"seam\", \"securely\", \"see\", \"see\", \"see\", \"see\", \"see\", \"see\", \"see\", \"see\", \"selection\", \"selection\", \"selection\", \"selection\", \"seller\", \"serger\", \"service\", \"set\", \"set\", \"set\", \"set\", \"set\", \"set\", \"set\", \"set\", \"set\", \"setting\", \"sew\", \"sewer\", \"sewing\", \"shape\", \"shape\", \"shape\", \"shape\", \"shape\", \"shape\", \"shape\", \"shape\", \"sharp\", \"sharp\", \"sharp\", \"sharp\", \"sharpener\", \"shear\", \"shelf\", \"shine\", \"ship\", \"shipping\", \"shirt\", \"shot\", \"show\", \"show\", \"show\", \"show\", \"show\", \"show\", \"show\", \"show\", \"show\", \"silhouette\", \"silhouette\", \"silhouette\", \"singer\", \"sister\", \"sit\", \"sit\", \"size\", \"size\", \"size\", \"size\", \"size\", \"size\", \"size\", \"size\", \"size\", \"sizzix\", \"skein\", \"skein\", \"skein\", \"sketch\", \"sketch\", \"sketchbook\", \"slot\", \"slot\", \"small\", \"small\", \"small\", \"small\", \"small\", \"small\", \"small\", \"small\", \"small\", \"smooth\", \"smooth\", \"smooth\", \"smooth\", \"smooth\", \"smooth\", \"snap\", \"snap\", \"snap\", \"snap\", \"snap\", \"snip\", \"soap\", \"sock\", \"soft\", \"soft\", \"soft\", \"soft\", \"software\", \"something\", \"something\", \"something\", \"something\", \"something\", \"something\", \"son\", \"son\", \"sparkle\", \"sparkly\", \"spellbinder\", \"spin\", \"spool\", \"spool\", \"spring\", \"square\", \"square\", \"square\", \"square\", \"stabilizer\", \"stamp\", \"stamp\", \"sticker\", \"sticky\", \"still\", \"still\", \"still\", \"still\", \"still\", \"still\", \"still\", \"stitch\", \"stitch\", \"stitch\", \"stitch\", \"stock\", \"stock\", \"stock\", \"stock\", \"stone\", \"storage\", \"storage\", \"storage\", \"store\", \"store\", \"store\", \"store\", \"store\", \"store\", \"strand\", \"stuff\", \"stuff\", \"stuff\", \"stuff\", \"sugar\", \"sweater\", \"switch\", \"tacky\", \"tag\", \"take\", \"take\", \"take\", \"take\", \"take\", \"take\", \"tangle\", \"tape\", \"tape\", \"tape\", \"tape\", \"teacher\", \"template\", \"thank\", \"thanks\", \"thanks\", \"theme\", \"thickness\", \"thickness\", \"thickness\", \"thing\", \"thing\", \"thing\", \"thing\", \"thing\", \"thing\", \"thing\", \"think\", \"think\", \"think\", \"think\", \"think\", \"think\", \"think\", \"think\", \"thought\", \"thought\", \"thought\", \"thought\", \"thought\", \"thread\", \"threader\", \"thumb\", \"tim\", \"time\", \"time\", \"time\", \"time\", \"time\", \"time\", \"time\", \"time\", \"time\", \"timely\", \"tip\", \"tip\", \"tip\", \"tip\", \"tip\", \"tip\", \"tissue\", \"together\", \"together\", \"together\", \"together\", \"together\", \"together\", \"together\", \"tool\", \"tool\", \"tool\", \"tool\", \"tool\", \"tool\", \"tool\", \"tool\", \"tool\", \"towel\", \"trace\", \"trace\", \"transaction\", \"transfer\", \"tree\", \"trick\", \"try\", \"try\", \"try\", \"try\", \"try\", \"try\", \"try\", \"try\", \"two\", \"two\", \"two\", \"two\", \"two\", \"two\", \"two\", \"txt\", \"uniform\", \"uniform\", \"use\", \"use\", \"use\", \"use\", \"use\", \"use\", \"use\", \"use\", \"use\", \"use\", \"utf8\", \"value\", \"value\", \"value\", \"value\", \"velcro\", \"vendor\", \"video\", \"vinyl\", \"w\", \"w\", \"walk\", \"want\", \"want\", \"want\", \"want\", \"want\", \"want\", \"want\", \"want\", \"want\", \"want\", \"washi\", \"water\", \"watercolor\", \"weather\", \"wed\", \"wedding\", \"welcome\", \"well\", \"well\", \"well\", \"well\", \"well\", \"well\", \"well\", \"well\", \"well\", \"well\", \"wet\", \"wheel\", \"white\", \"white\", \"white\", \"white\", \"white\", \"white\", \"wick\", \"wife\", \"wife\", \"wind\", \"winder\", \"wire\", \"wonderful\", \"wonderful\", \"wonderful\", \"wonderful\", \"wonderful\", \"wonderful\", \"wonderful\", \"wonderful\", \"wonderful\", \"wonderful\", \"wool\", \"wool\", \"work\", \"work\", \"work\", \"work\", \"work\", \"work\", \"work\", \"work\", \"work\", \"work\", \"would\", \"would\", \"would\", \"would\", \"would\", \"would\", \"would\", \"would\", \"would\", \"write\", \"write\", \"write\", \"yarn\", \"yarn\", \"yellow\", \"yesterday\", \"yet\", \"yet\", \"yet\", \"yet\", \"yet\", \"yet\", \"yet\", \"yet\", \"yet\", \"youtube\", \"youtube\", \"youtube\"]}, \"R\": 30, \"lambda.step\": 0.01, \"plot.opts\": {\"xlab\": \"PC1\", \"ylab\": \"PC2\"}, \"topic.order\": [2, 10, 1, 3, 4, 6, 7, 8, 5, 9]};\n",
       "\n",
       "function LDAvis_load_lib(url, callback){\n",
       "  var s = document.createElement('script');\n",
       "  s.src = url;\n",
       "  s.async = true;\n",
       "  s.onreadystatechange = s.onload = callback;\n",
       "  s.onerror = function(){console.warn(\"failed to load library \" + url);};\n",
       "  document.getElementsByTagName(\"head\")[0].appendChild(s);\n",
       "}\n",
       "\n",
       "if(typeof(LDAvis) !== \"undefined\"){\n",
       "   // already loaded: just create the visualization\n",
       "   !function(LDAvis){\n",
       "       new LDAvis(\"#\" + \"ldavis_el767621023920948966686026919\", ldavis_el767621023920948966686026919_data);\n",
       "   }(LDAvis);\n",
       "}else if(typeof define === \"function\" && define.amd){\n",
       "   // require.js is available: use it to load d3/LDAvis\n",
       "   require.config({paths: {d3: \"https://d3js.org/d3.v5\"}});\n",
       "   require([\"d3\"], function(d3){\n",
       "      window.d3 = d3;\n",
       "      LDAvis_load_lib(\"https://cdn.jsdelivr.net/gh/bmabey/pyLDAvis@3.4.0/pyLDAvis/js/ldavis.v3.0.0.js\", function(){\n",
       "        new LDAvis(\"#\" + \"ldavis_el767621023920948966686026919\", ldavis_el767621023920948966686026919_data);\n",
       "      });\n",
       "    });\n",
       "}else{\n",
       "    // require.js not available: dynamically load d3 & LDAvis\n",
       "    LDAvis_load_lib(\"https://d3js.org/d3.v5.js\", function(){\n",
       "         LDAvis_load_lib(\"https://cdn.jsdelivr.net/gh/bmabey/pyLDAvis@3.4.0/pyLDAvis/js/ldavis.v3.0.0.js\", function(){\n",
       "                 new LDAvis(\"#\" + \"ldavis_el767621023920948966686026919\", ldavis_el767621023920948966686026919_data);\n",
       "            })\n",
       "         });\n",
       "}\n",
       "</script>"
      ],
      "text/plain": [
       "<IPython.core.display.HTML object>"
      ]
     },
     "metadata": {},
     "output_type": "display_data"
    }
   ],
   "source": [
    "display_topic_modelling()"
   ]
  },
  {
   "cell_type": "markdown",
   "metadata": {},
   "source": [
    "We can conclude the aspects of the product that most influence the comments by looking at the topic sizes—quality ranks first, followed by ease of use and aesthetics. We can also see some products being more apparent in the 5-star reviews, with gifting cards, painting equipment, jewellery, sewing machines and stationery being the most prominent products.\n",
    " \n",
    "For the particular cases of sewing machines and stationaries, it appears that they have multiple sellers, and the quality differs greatly depending on the seller.\n",
    " \n",
    "Looking at both topics, we can conclude that users care most about the quality of the products, followed by ease of use and feel. Aesthetics are also a very influential factor for users."
   ]
  }
 ],
 "metadata": {
  "kernelspec": {
   "display_name": "Python 3",
   "language": "python",
   "name": "python3"
  },
  "language_info": {
   "codemirror_mode": {
    "name": "ipython",
    "version": 3
   },
   "file_extension": ".py",
   "mimetype": "text/x-python",
   "name": "python",
   "nbconvert_exporter": "python",
   "pygments_lexer": "ipython3",
   "version": "3.1.undefined"
  }
 },
 "nbformat": 4,
 "nbformat_minor": 2
}
